{
 "cells": [
  {
   "cell_type": "markdown",
   "metadata": {},
   "source": [
    "# Dataset level analysis"
   ]
  },
  {
   "cell_type": "markdown",
   "metadata": {},
   "source": [
    "This notebook analyses dataset-level data from `rpackage_stats.csv`"
   ]
  },
  {
   "cell_type": "code",
   "execution_count": 2,
   "metadata": {},
   "outputs": [],
   "source": [
    "import numpy as np\n",
    "import matplotlib.pyplot as plt\n",
    "import seaborn as sns\n",
    "from matplotlib import rc\n",
    "import pandas as pd\n",
    "\n",
    "# plot style\n",
    "sns.set_style('whitegrid')\n",
    "sns.set_style({'font.family': 'Times New Roman'})"
   ]
  },
  {
   "cell_type": "code",
   "execution_count": 3,
   "metadata": {},
   "outputs": [],
   "source": [
    "df = pd.read_csv(\"data/one-hour-run-data/rpackage_stats.csv\", delimiter='\\t', \\\n",
    "                 names=[\"doi\", \"list_of_all\", \"comments_no\", \"dependen_no\", \"list_of_libs\", \"total_size\"])\n",
    "# doi, list_of_all_files, total_number_of_comments, total_numebr_of_libraries, list_of_libraries, total_size"
   ]
  },
  {
   "cell_type": "code",
   "execution_count": 4,
   "metadata": {},
   "outputs": [
    {
     "data": {
      "text/plain": [
       "2091"
      ]
     },
     "execution_count": 4,
     "metadata": {},
     "output_type": "execute_result"
    }
   ],
   "source": [
    "len(df)"
   ]
  },
  {
   "cell_type": "code",
   "execution_count": 5,
   "metadata": {},
   "outputs": [
    {
     "data": {
      "text/html": [
       "<div>\n",
       "<style scoped>\n",
       "    .dataframe tbody tr th:only-of-type {\n",
       "        vertical-align: middle;\n",
       "    }\n",
       "\n",
       "    .dataframe tbody tr th {\n",
       "        vertical-align: top;\n",
       "    }\n",
       "\n",
       "    .dataframe thead th {\n",
       "        text-align: right;\n",
       "    }\n",
       "</style>\n",
       "<table border=\"1\" class=\"dataframe\">\n",
       "  <thead>\n",
       "    <tr style=\"text-align: right;\">\n",
       "      <th></th>\n",
       "      <th>doi</th>\n",
       "      <th>list_of_all</th>\n",
       "      <th>comments_no</th>\n",
       "      <th>dependen_no</th>\n",
       "      <th>list_of_libs</th>\n",
       "      <th>total_size</th>\n",
       "    </tr>\n",
       "  </thead>\n",
       "  <tbody>\n",
       "    <tr>\n",
       "      <th>0</th>\n",
       "      <td>doi:10.7910/DVN/XFQZI2</td>\n",
       "      <td>FigureA2data.dta;Readme.rtf;Condemnation.dta;C...</td>\n",
       "      <td>71</td>\n",
       "      <td>10</td>\n",
       "      <td>rms;xtable;readstata13;Matching;foreign</td>\n",
       "      <td>411332</td>\n",
       "    </tr>\n",
       "    <tr>\n",
       "      <th>1</th>\n",
       "      <td>doi:10.7910/DVN/WGPDBS</td>\n",
       "      <td>campaign_effects_replication.do;replication_da...</td>\n",
       "      <td>17</td>\n",
       "      <td>1</td>\n",
       "      <td>ggplot2</td>\n",
       "      <td>12105318</td>\n",
       "    </tr>\n",
       "    <tr>\n",
       "      <th>2</th>\n",
       "      <td>doi:10.7910/DVN/BPON3K</td>\n",
       "      <td>fig_10_effect_of_winning_on_gov.R;tab_8_campai...</td>\n",
       "      <td>194</td>\n",
       "      <td>111</td>\n",
       "      <td>ggplot2;lm_2008;lm_2004;character.only=TRUE;li...</td>\n",
       "      <td>2959665</td>\n",
       "    </tr>\n",
       "    <tr>\n",
       "      <th>3</th>\n",
       "      <td>doi:10.7910/DVN/ZWAGXZ</td>\n",
       "      <td>sponsorship_1_v3_November+6%2C+2017_12.32.csv;...</td>\n",
       "      <td>168</td>\n",
       "      <td>21</td>\n",
       "      <td>sylcount;sandwich;tidyverse;RCurl;acs;RJSONIO;...</td>\n",
       "      <td>5350420</td>\n",
       "    </tr>\n",
       "    <tr>\n",
       "      <th>4</th>\n",
       "      <td>doi:10.7910/DVN/JXXNDO</td>\n",
       "      <td>wgi_CoC_2013.csv;DB14-Distance-to-Frontier-dat...</td>\n",
       "      <td>140</td>\n",
       "      <td>0</td>\n",
       "      <td>NaN</td>\n",
       "      <td>1402185</td>\n",
       "    </tr>\n",
       "  </tbody>\n",
       "</table>\n",
       "</div>"
      ],
      "text/plain": [
       "                      doi                                        list_of_all  \\\n",
       "0  doi:10.7910/DVN/XFQZI2  FigureA2data.dta;Readme.rtf;Condemnation.dta;C...   \n",
       "1  doi:10.7910/DVN/WGPDBS  campaign_effects_replication.do;replication_da...   \n",
       "2  doi:10.7910/DVN/BPON3K  fig_10_effect_of_winning_on_gov.R;tab_8_campai...   \n",
       "3  doi:10.7910/DVN/ZWAGXZ  sponsorship_1_v3_November+6%2C+2017_12.32.csv;...   \n",
       "4  doi:10.7910/DVN/JXXNDO  wgi_CoC_2013.csv;DB14-Distance-to-Frontier-dat...   \n",
       "\n",
       "   comments_no  dependen_no  \\\n",
       "0           71           10   \n",
       "1           17            1   \n",
       "2          194          111   \n",
       "3          168           21   \n",
       "4          140            0   \n",
       "\n",
       "                                        list_of_libs  total_size  \n",
       "0            rms;xtable;readstata13;Matching;foreign      411332  \n",
       "1                                            ggplot2    12105318  \n",
       "2  ggplot2;lm_2008;lm_2004;character.only=TRUE;li...     2959665  \n",
       "3  sylcount;sandwich;tidyverse;RCurl;acs;RJSONIO;...     5350420  \n",
       "4                                                NaN     1402185  "
      ]
     },
     "execution_count": 5,
     "metadata": {},
     "output_type": "execute_result"
    }
   ],
   "source": [
    "df.head()"
   ]
  },
  {
   "cell_type": "markdown",
   "metadata": {},
   "source": [
    "# Convert file size to MB"
   ]
  },
  {
   "cell_type": "code",
   "execution_count": 6,
   "metadata": {},
   "outputs": [],
   "source": [
    "df['sizeMB']=df['total_size']/1000000\n",
    "df['sizeMB']=df['sizeMB'].round(2)"
   ]
  },
  {
   "cell_type": "markdown",
   "metadata": {},
   "source": [
    "# Find number of files per dataset"
   ]
  },
  {
   "cell_type": "code",
   "execution_count": 7,
   "metadata": {},
   "outputs": [],
   "source": [
    "def count_files_no(el):\n",
    "    temp = el.split(\";\")\n",
    "    return len(temp)\n",
    "\n",
    "df['files_count']=df[\"list_of_all\"].apply(count_files_no)"
   ]
  },
  {
   "cell_type": "markdown",
   "metadata": {},
   "source": [
    "# Check if files contain readme or instructions"
   ]
  },
  {
   "cell_type": "code",
   "execution_count": 8,
   "metadata": {},
   "outputs": [],
   "source": [
    "def contain_docs(el):\n",
    "    temp = el.lower()\n",
    "    if \"read\" in temp: # README\n",
    "        return 1\n",
    "    if \"instruction\" in temp:\n",
    "        return 1\n",
    "    if \"docum\" in temp: \n",
    "        return 1\n",
    "    if \"docs\" in temp: \n",
    "        return 1\n",
    "    if \"replication\" in temp:\n",
    "        return 1\n",
    "    if \"codebook\" in temp:\n",
    "        return 1\n",
    "    if \"code book\" in temp:\n",
    "        return 1\n",
    "    return 0\n",
    "\n",
    "df['docs']=df[\"list_of_all\"].apply(contain_docs)"
   ]
  },
  {
   "cell_type": "markdown",
   "metadata": {},
   "source": [
    "# Check if there is a testing script"
   ]
  },
  {
   "cell_type": "code",
   "execution_count": 9,
   "metadata": {},
   "outputs": [],
   "source": [
    "def contain_testing(el):\n",
    "    temp = el.lower()\n",
    "    if \"test\" in temp:\n",
    "        return 1\n",
    "    return 0\n",
    "\n",
    "df['test']=df[\"list_of_all\"].apply(contain_testing)"
   ]
  },
  {
   "cell_type": "markdown",
   "metadata": {},
   "source": [
    "# Environment"
   ]
  },
  {
   "cell_type": "code",
   "execution_count": 10,
   "metadata": {},
   "outputs": [
    {
     "data": {
      "text/plain": [
       "9"
      ]
     },
     "execution_count": 10,
     "metadata": {},
     "output_type": "execute_result"
    }
   ],
   "source": [
    "def dockerfile(el):\n",
    "    temp = el.lower()\n",
    "    if \"dockerfile\" in temp:\n",
    "        return 1\n",
    "    return 0\n",
    "\n",
    "df['dockerfile']=df[\"list_of_all\"].apply(dockerfile)\n",
    "df['dockerfile'].sum()"
   ]
  },
  {
   "cell_type": "markdown",
   "metadata": {},
   "source": [
    "# Check if file names contain space"
   ]
  },
  {
   "cell_type": "code",
   "execution_count": 11,
   "metadata": {},
   "outputs": [],
   "source": [
    "def contain_space(el):\n",
    "    if \" \" in el:\n",
    "        return 1\n",
    "    return 0\n",
    "\n",
    "df['space']=df[\"list_of_all\"].apply(contain_space)"
   ]
  },
  {
   "cell_type": "markdown",
   "metadata": {},
   "source": [
    "# Contain other code"
   ]
  },
  {
   "cell_type": "code",
   "execution_count": 12,
   "metadata": {},
   "outputs": [],
   "source": [
    "def contain_code(el):\n",
    "    \"checks if dataset contains other code\"\n",
    "    temp = el.lower()\n",
    "    if \".do;\" in temp or temp.endswith('.do'):\n",
    "        return 1\n",
    "    if \".py;\" in temp or temp.endswith('.py'):\n",
    "        return 1\n",
    "    if \".java;\" in temp or temp.endswith('.java'):\n",
    "        return 1\n",
    "    if \".cpp;\" in temp or temp.endswith('.cpp'):\n",
    "        return 1\n",
    "    if \".m;\" in temp or temp.endswith('.m'):\n",
    "        return 1\n",
    "    if \".sas;\" in temp or temp.endswith('.sas'):\n",
    "        return 1\n",
    "    if \".rb;\" in temp or temp.endswith('.rb'):\n",
    "        return 1\n",
    "    return 0\n",
    "\n",
    "df['other_code']=df[\"list_of_all\"].apply(contain_code)"
   ]
  },
  {
   "cell_type": "markdown",
   "metadata": {},
   "source": [
    "# Contain R markdown"
   ]
  },
  {
   "cell_type": "code",
   "execution_count": 13,
   "metadata": {},
   "outputs": [],
   "source": [
    "def contain_rmd(el):\n",
    "    \"checks if dataset contains .rmd\"\n",
    "    temp = el.lower()\n",
    "    if \".rmd;\" in temp or temp.endswith('.rmd'):\n",
    "        return 1\n",
    "    return 0\n",
    "\n",
    "df['rmd']=df[\"list_of_all\"].apply(contain_rmd)"
   ]
  },
  {
   "cell_type": "markdown",
   "metadata": {},
   "source": [
    "# Contain RNW"
   ]
  },
  {
   "cell_type": "code",
   "execution_count": 14,
   "metadata": {},
   "outputs": [],
   "source": [
    "def contain_rnw(el):\n",
    "    \"checks if dataset contains .Rnw\"\n",
    "    temp = el.lower()\n",
    "    if \".rnw;\" in temp or temp.endswith('.rnw'):\n",
    "        return 1\n",
    "    return 0\n",
    "\n",
    "df['rnw']=df[\"list_of_all\"].apply(contain_rnw)"
   ]
  },
  {
   "cell_type": "markdown",
   "metadata": {},
   "source": [
    "# Comments per number of files"
   ]
  },
  {
   "cell_type": "code",
   "execution_count": 15,
   "metadata": {},
   "outputs": [],
   "source": [
    "df['comments_no_files']=df[\"comments_no\"]/df[\"files_count\"]"
   ]
  },
  {
   "cell_type": "markdown",
   "metadata": {},
   "source": [
    "# Average length of file name"
   ]
  },
  {
   "cell_type": "code",
   "execution_count": 16,
   "metadata": {},
   "outputs": [],
   "source": [
    "def file_name_len_old(el):\n",
    "    \"length of file name including extension\"\n",
    "    a = len(el) # full length\n",
    "    b = el.count(\";\")\n",
    "    return (a-b)/(b+1)\n",
    "\n",
    "def file_name_len(el):\n",
    "    l = el.split(';')\n",
    "    names = [el1.split(\".\")[0] for el1 in l]\n",
    "    total_avg = sum( map(len, names) )*1. / len(names)\n",
    "    return round(total_avg, 2)\n",
    "\n",
    "df['avg_file_len']=df[\"list_of_all\"].apply(file_name_len)"
   ]
  },
  {
   "cell_type": "markdown",
   "metadata": {},
   "source": [
    "# Number of unique dependencies per dataset"
   ]
  },
  {
   "cell_type": "code",
   "execution_count": 17,
   "metadata": {},
   "outputs": [],
   "source": [
    "df['list_of_libs']=df['list_of_libs'].fillna(\"\")"
   ]
  },
  {
   "cell_type": "code",
   "execution_count": 18,
   "metadata": {},
   "outputs": [
    {
     "data": {
      "text/plain": [
       "0"
      ]
     },
     "execution_count": 18,
     "metadata": {},
     "output_type": "execute_result"
    }
   ],
   "source": [
    "df['list_of_libs'].isnull().sum()"
   ]
  },
  {
   "cell_type": "code",
   "execution_count": 19,
   "metadata": {},
   "outputs": [],
   "source": [
    "import math\n",
    "def unique_libs_no(el):\n",
    "    if el is None:\n",
    "        return 0\n",
    "    if el:\n",
    "        el=str(el)\n",
    "        temp = el.split(\";\")\n",
    "        return len(temp)\n",
    "    else:\n",
    "        return 0\n",
    "\n",
    "df['unique_libs_no']=df[\"list_of_libs\"].apply(unique_libs_no)"
   ]
  },
  {
   "cell_type": "code",
   "execution_count": 20,
   "metadata": {},
   "outputs": [
    {
     "data": {
      "text/html": [
       "<div>\n",
       "<style scoped>\n",
       "    .dataframe tbody tr th:only-of-type {\n",
       "        vertical-align: middle;\n",
       "    }\n",
       "\n",
       "    .dataframe tbody tr th {\n",
       "        vertical-align: top;\n",
       "    }\n",
       "\n",
       "    .dataframe thead th {\n",
       "        text-align: right;\n",
       "    }\n",
       "</style>\n",
       "<table border=\"1\" class=\"dataframe\">\n",
       "  <thead>\n",
       "    <tr style=\"text-align: right;\">\n",
       "      <th></th>\n",
       "      <th>doi</th>\n",
       "      <th>list_of_all</th>\n",
       "      <th>comments_no</th>\n",
       "      <th>dependen_no</th>\n",
       "      <th>list_of_libs</th>\n",
       "      <th>total_size</th>\n",
       "      <th>sizeMB</th>\n",
       "      <th>files_count</th>\n",
       "      <th>docs</th>\n",
       "      <th>test</th>\n",
       "      <th>dockerfile</th>\n",
       "      <th>space</th>\n",
       "      <th>other_code</th>\n",
       "      <th>rmd</th>\n",
       "      <th>rnw</th>\n",
       "      <th>comments_no_files</th>\n",
       "      <th>avg_file_len</th>\n",
       "      <th>unique_libs_no</th>\n",
       "    </tr>\n",
       "  </thead>\n",
       "  <tbody>\n",
       "    <tr>\n",
       "      <th>0</th>\n",
       "      <td>doi:10.7910/DVN/XFQZI2</td>\n",
       "      <td>FigureA2data.dta;Readme.rtf;Condemnation.dta;C...</td>\n",
       "      <td>71</td>\n",
       "      <td>10</td>\n",
       "      <td>rms;xtable;readstata13;Matching;foreign</td>\n",
       "      <td>411332</td>\n",
       "      <td>0.41</td>\n",
       "      <td>7</td>\n",
       "      <td>1</td>\n",
       "      <td>0</td>\n",
       "      <td>0</td>\n",
       "      <td>0</td>\n",
       "      <td>1</td>\n",
       "      <td>0</td>\n",
       "      <td>0</td>\n",
       "      <td>10.142857</td>\n",
       "      <td>10.43</td>\n",
       "      <td>5</td>\n",
       "    </tr>\n",
       "    <tr>\n",
       "      <th>1</th>\n",
       "      <td>doi:10.7910/DVN/WGPDBS</td>\n",
       "      <td>campaign_effects_replication.do;replication_da...</td>\n",
       "      <td>17</td>\n",
       "      <td>1</td>\n",
       "      <td>ggplot2</td>\n",
       "      <td>12105318</td>\n",
       "      <td>12.11</td>\n",
       "      <td>3</td>\n",
       "      <td>1</td>\n",
       "      <td>0</td>\n",
       "      <td>0</td>\n",
       "      <td>0</td>\n",
       "      <td>1</td>\n",
       "      <td>0</td>\n",
       "      <td>0</td>\n",
       "      <td>5.666667</td>\n",
       "      <td>28.00</td>\n",
       "      <td>1</td>\n",
       "    </tr>\n",
       "    <tr>\n",
       "      <th>2</th>\n",
       "      <td>doi:10.7910/DVN/BPON3K</td>\n",
       "      <td>fig_10_effect_of_winning_on_gov.R;tab_8_campai...</td>\n",
       "      <td>194</td>\n",
       "      <td>111</td>\n",
       "      <td>ggplot2;lm_2008;lm_2004;character.only=TRUE;li...</td>\n",
       "      <td>2959665</td>\n",
       "      <td>2.96</td>\n",
       "      <td>34</td>\n",
       "      <td>1</td>\n",
       "      <td>1</td>\n",
       "      <td>0</td>\n",
       "      <td>0</td>\n",
       "      <td>0</td>\n",
       "      <td>0</td>\n",
       "      <td>0</td>\n",
       "      <td>5.705882</td>\n",
       "      <td>24.03</td>\n",
       "      <td>22</td>\n",
       "    </tr>\n",
       "    <tr>\n",
       "      <th>3</th>\n",
       "      <td>doi:10.7910/DVN/ZWAGXZ</td>\n",
       "      <td>sponsorship_1_v3_November+6%2C+2017_12.32.csv;...</td>\n",
       "      <td>168</td>\n",
       "      <td>21</td>\n",
       "      <td>sylcount;sandwich;tidyverse;RCurl;acs;RJSONIO;...</td>\n",
       "      <td>5350420</td>\n",
       "      <td>5.35</td>\n",
       "      <td>13</td>\n",
       "      <td>1</td>\n",
       "      <td>1</td>\n",
       "      <td>0</td>\n",
       "      <td>1</td>\n",
       "      <td>0</td>\n",
       "      <td>0</td>\n",
       "      <td>0</td>\n",
       "      <td>12.923077</td>\n",
       "      <td>28.62</td>\n",
       "      <td>9</td>\n",
       "    </tr>\n",
       "    <tr>\n",
       "      <th>4</th>\n",
       "      <td>doi:10.7910/DVN/JXXNDO</td>\n",
       "      <td>wgi_CoC_2013.csv;DB14-Distance-to-Frontier-dat...</td>\n",
       "      <td>140</td>\n",
       "      <td>0</td>\n",
       "      <td></td>\n",
       "      <td>1402185</td>\n",
       "      <td>1.40</td>\n",
       "      <td>11</td>\n",
       "      <td>1</td>\n",
       "      <td>0</td>\n",
       "      <td>0</td>\n",
       "      <td>0</td>\n",
       "      <td>0</td>\n",
       "      <td>0</td>\n",
       "      <td>0</td>\n",
       "      <td>12.727273</td>\n",
       "      <td>12.73</td>\n",
       "      <td>0</td>\n",
       "    </tr>\n",
       "  </tbody>\n",
       "</table>\n",
       "</div>"
      ],
      "text/plain": [
       "                      doi                                        list_of_all  \\\n",
       "0  doi:10.7910/DVN/XFQZI2  FigureA2data.dta;Readme.rtf;Condemnation.dta;C...   \n",
       "1  doi:10.7910/DVN/WGPDBS  campaign_effects_replication.do;replication_da...   \n",
       "2  doi:10.7910/DVN/BPON3K  fig_10_effect_of_winning_on_gov.R;tab_8_campai...   \n",
       "3  doi:10.7910/DVN/ZWAGXZ  sponsorship_1_v3_November+6%2C+2017_12.32.csv;...   \n",
       "4  doi:10.7910/DVN/JXXNDO  wgi_CoC_2013.csv;DB14-Distance-to-Frontier-dat...   \n",
       "\n",
       "   comments_no  dependen_no  \\\n",
       "0           71           10   \n",
       "1           17            1   \n",
       "2          194          111   \n",
       "3          168           21   \n",
       "4          140            0   \n",
       "\n",
       "                                        list_of_libs  total_size  sizeMB  \\\n",
       "0            rms;xtable;readstata13;Matching;foreign      411332    0.41   \n",
       "1                                            ggplot2    12105318   12.11   \n",
       "2  ggplot2;lm_2008;lm_2004;character.only=TRUE;li...     2959665    2.96   \n",
       "3  sylcount;sandwich;tidyverse;RCurl;acs;RJSONIO;...     5350420    5.35   \n",
       "4                                                        1402185    1.40   \n",
       "\n",
       "   files_count  docs  test  dockerfile  space  other_code  rmd  rnw  \\\n",
       "0            7     1     0           0      0           1    0    0   \n",
       "1            3     1     0           0      0           1    0    0   \n",
       "2           34     1     1           0      0           0    0    0   \n",
       "3           13     1     1           0      1           0    0    0   \n",
       "4           11     1     0           0      0           0    0    0   \n",
       "\n",
       "   comments_no_files  avg_file_len  unique_libs_no  \n",
       "0          10.142857         10.43               5  \n",
       "1           5.666667         28.00               1  \n",
       "2           5.705882         24.03              22  \n",
       "3          12.923077         28.62               9  \n",
       "4          12.727273         12.73               0  "
      ]
     },
     "execution_count": 20,
     "metadata": {},
     "output_type": "execute_result"
    }
   ],
   "source": [
    "df.head()"
   ]
  },
  {
   "cell_type": "code",
   "execution_count": 21,
   "metadata": {},
   "outputs": [
    {
     "data": {
      "text/plain": [
       "'fig_10_effect_of_winning_on_gov.R;tab_8_campaign_donations.R;tab_9_LATE_nominations_overall.R;codebook.pdf;fig_14_effect_on_individual_parties.R;fig_3_effect_of_winning_on_federal_congress.R;tab_4_LATE_change.R;tab_3_balance_test_after_court_decision.R;fig_2_fig_4_party_switching.R;tab_5_LATE_change_attrition.R;fig_13_plot_loyalty_df_pct.R;career.RData;fig_5_tab_7_rd_robust_estimations.R;campaign_contributions.RData;fig_7_party_switching_by_party_VEREADORES.R;tab_10_LATE_re_nominations.R;mayor_vereadores.RData;tab_6_LATE_df.R;disloyalty_scatterplot.RData;tab_15_incumbency_party_switching.R;tab_11_LATE_nominations_diff_party.R;fig_6_nominations.R;fig_8_losing_council.R;fig_11_rd_placebo.R;tab_2_balance_test_before_court_decision.R;tab_13_LATE_gov.R;fig_12_historical_trend.R;complete_dataset.RData;tab_1_summary_stats.R;tab_12_LATE_de.R;README.txt;tab_14_LATE_placebo.R;vereadores_figure.RData;fig_9_effect_of_winning_on_state_congress.R'"
      ]
     },
     "execution_count": 21,
     "metadata": {},
     "output_type": "execute_result"
    }
   ],
   "source": [
    "# check if test is there\n",
    "df.iloc[2]['list_of_all']"
   ]
  },
  {
   "cell_type": "markdown",
   "metadata": {},
   "source": [
    "# Histograms"
   ]
  },
  {
   "cell_type": "code",
   "execution_count": 22,
   "metadata": {},
   "outputs": [
    {
     "data": {
      "image/png": "[encoded data removed]",
      "text/plain": [
       "<Figure size 432x288 with 2 Axes>"
      ]
     },
     "metadata": {
      "needs_background": "light"
     },
     "output_type": "display_data"
    }
   ],
   "source": [
    "# Cut the window in 2 parts\n",
    "f, (ax_box, ax_hist) = plt.subplots(2, sharex=True, gridspec_kw={\"height_ratios\": (.15, .85)})\n",
    "\n",
    "# Add a graph in each part\n",
    "sns.boxplot(df[\"comments_no\"], ax=ax_box, palette=\"Reds\")\n",
    "sns.distplot(df[\"comments_no\"], ax=ax_hist, bins=500, kde=False, color=\"r\")\n",
    " \n",
    "# Remove x axis name for the boxplot\n",
    "ax_box.set(xlabel='')\n",
    "ax_box.set_title('Distribution of number of comments per dataset', fontsize=18)\n",
    "ax_hist.set_xlabel(\"Number of comments\", fontsize=12)\n",
    "#plt.xscale('log')\n",
    "plt.xlim(0, 1200)\n",
    "plt.show()\n",
    "\n",
    "f.tight_layout()\n",
    "f.savefig(\"plots/no_of_comments.png\", dpi=100)"
   ]
  },
  {
   "cell_type": "code",
   "execution_count": 23,
   "metadata": {},
   "outputs": [
    {
     "data": {
      "image/png": "[encoded data removed]",
      "text/plain": [
       "<Figure size 432x288 with 2 Axes>"
      ]
     },
     "metadata": {
      "needs_background": "light"
     },
     "output_type": "display_data"
    }
   ],
   "source": [
    "# Cut the window in 2 parts\n",
    "f, (ax_box, ax_hist) = plt.subplots(2, sharex=True, gridspec_kw={\"height_ratios\": (.15, .85)})\n",
    "\n",
    "# Add a graph in each part\n",
    "sns.boxplot(df[\"comments_no_files\"], ax=ax_box, palette=\"Reds\")\n",
    "sns.distplot(df[\"comments_no_files\"], ax=ax_hist, bins=500, kde=False, color=\"r\")\n",
    " \n",
    "# Remove x axis name for the boxplot\n",
    "ax_box.set(xlabel='')\n",
    "ax_box.set_title('Distribution of number of comments per file in dataset', fontsize=18)\n",
    "ax_hist.set_xlabel(\"Number of comments\", fontsize=12)\n",
    "#plt.xscale('log')\n",
    "plt.xlim(0, 100)\n",
    "plt.show()\n",
    "\n",
    "f.tight_layout()\n",
    "f.savefig(\"plots/no_of_comments_file.png\", dpi=100)"
   ]
  },
  {
   "cell_type": "code",
   "execution_count": 24,
   "metadata": {},
   "outputs": [
    {
     "data": {
      "image/png": "[encoded data removed]",
      "text/plain": [
       "<Figure size 432x288 with 2 Axes>"
      ]
     },
     "metadata": {
      "needs_background": "light"
     },
     "output_type": "display_data"
    }
   ],
   "source": [
    "# Cut the window in 2 parts\n",
    "f, (ax_box, ax_hist) = plt.subplots(2, sharex=True, gridspec_kw={\"height_ratios\": (.15, .85)})\n",
    " \n",
    "# Add a graph in each part\n",
    "sns.boxplot(df[\"dependen_no\"], ax=ax_box)\n",
    "sns.distplot(df[\"dependen_no\"], ax=ax_hist, kde=False)\n",
    " \n",
    "# Remove x axis name for the boxplot\n",
    "ax_box.set(xlabel='')\n",
    "ax_box.set_title('Distribution of dependencies count per dataset', fontsize=20)\n",
    "ax_hist.set(xlabel=\"Number of dependencies\")\n",
    "#plt.xscale('log')\n",
    "plt.xlim(0, 200)\n",
    "plt.show()"
   ]
  },
  {
   "cell_type": "code",
   "execution_count": 25,
   "metadata": {},
   "outputs": [
    {
     "data": {
      "image/png": "[encoded data removed]",
      "text/plain": [
       "<Figure size 432x288 with 2 Axes>"
      ]
     },
     "metadata": {
      "needs_background": "light"
     },
     "output_type": "display_data"
    }
   ],
   "source": [
    "# Cut the window in 2 parts\n",
    "f, (ax_box, ax_hist) = plt.subplots(2, sharex=True, gridspec_kw={\"height_ratios\": (.15, .85)})\n",
    " \n",
    "# Add a graph in each part\n",
    "sns.boxplot(df[\"unique_libs_no\"], ax=ax_box)\n",
    "sns.distplot(df[\"unique_libs_no\"], ax=ax_hist, bins=90, kde=False)\n",
    " \n",
    "# Remove x axis name for the boxplot\n",
    "ax_box.set(xlabel='')\n",
    "ax_box.set_title('Distribution of unique dependencies per dataset', fontsize=18)\n",
    "ax_hist.set_xlabel(\"Number of dependencies\", fontsize=12)\n",
    "#plt.xscale('log')\n",
    "plt.xlim(0, 50)\n",
    "plt.show()\n",
    "\n",
    "f.tight_layout()\n",
    "f.savefig(\"plots/unique_deps.png\", dpi=100)"
   ]
  },
  {
   "cell_type": "code",
   "execution_count": 26,
   "metadata": {},
   "outputs": [
    {
     "data": {
      "image/png": "[encoded data removed]",
      "text/plain": [
       "<Figure size 432x288 with 2 Axes>"
      ]
     },
     "metadata": {
      "needs_background": "light"
     },
     "output_type": "display_data"
    }
   ],
   "source": [
    "# Cut the window in 2 parts\n",
    "f, (ax_box, ax_hist) = plt.subplots(2, sharex=True, gridspec_kw={\"height_ratios\": (.15, .85)})\n",
    " \n",
    "# Add a graph in each part\n",
    "sns.boxplot(df[\"sizeMB\"], ax=ax_box, color=\"g\")\n",
    "sns.distplot(df[\"sizeMB\"], ax=ax_hist, bins=800, kde=False, color=\"g\")\n",
    " \n",
    "# Remove x axis name for the boxplot\n",
    "ax_box.set(xlabel='')\n",
    "ax_box.set_title('Distribution of dataset sizes',fontsize=18)\n",
    "ax_hist.set_xlabel(\"Size [MB]\",fontsize=12)\n",
    "#plt.xscale('log')\n",
    "plt.xlim(0, 80)\n",
    "plt.show()\n",
    "\n",
    "f.tight_layout()\n",
    "f.savefig(\"plots/ds_size.png\", dpi=100)"
   ]
  },
  {
   "cell_type": "code",
   "execution_count": 27,
   "metadata": {},
   "outputs": [
    {
     "data": {
      "text/plain": [
       "3.24"
      ]
     },
     "execution_count": 27,
     "metadata": {},
     "output_type": "execute_result"
    }
   ],
   "source": [
    "df[\"sizeMB\"].median()"
   ]
  },
  {
   "cell_type": "code",
   "execution_count": 28,
   "metadata": {},
   "outputs": [
    {
     "data": {
      "text/plain": [
       "92.30558584409373"
      ]
     },
     "execution_count": 28,
     "metadata": {},
     "output_type": "execute_result"
    }
   ],
   "source": [
    "df[\"sizeMB\"].mean()"
   ]
  },
  {
   "cell_type": "code",
   "execution_count": 29,
   "metadata": {},
   "outputs": [
    {
     "data": {
      "image/png": "[encoded data removed]",
      "text/plain": [
       "<Figure size 432x288 with 2 Axes>"
      ]
     },
     "metadata": {
      "needs_background": "light"
     },
     "output_type": "display_data"
    }
   ],
   "source": [
    "# Cut the window in 2 parts\n",
    "f, (ax_box, ax_hist) = plt.subplots(2, sharex=True, gridspec_kw={\"height_ratios\": (.15, .85)})\n",
    " \n",
    "# Add a graph in each part\n",
    "sns.boxplot(df[\"files_count\"], ax=ax_box)\n",
    "sns.distplot(df[\"files_count\"], ax=ax_hist, bins=230, kde=False)\n",
    " \n",
    "# Remove x axis name for the boxplot\n",
    "ax_box.set(xlabel='')\n",
    "ax_box.set_title('Distribution of number of files per dataset',fontsize=20)\n",
    "ax_hist.set_xlabel(\"Number of files per replication dataset\",fontsize=16)\n",
    "plt.xlim(0, 100)\n",
    "plt.show()\n",
    "\n",
    "f.tight_layout()\n",
    "f.savefig(\"plots/files_no.png\", dpi=100)"
   ]
  },
  {
   "cell_type": "code",
   "execution_count": 30,
   "metadata": {},
   "outputs": [
    {
     "data": {
      "text/plain": [
       "17.529890004782402"
      ]
     },
     "execution_count": 30,
     "metadata": {},
     "output_type": "execute_result"
    }
   ],
   "source": [
    "df[\"files_count\"].mean()"
   ]
  },
  {
   "cell_type": "code",
   "execution_count": 31,
   "metadata": {},
   "outputs": [
    {
     "data": {
      "text/plain": [
       "8.0"
      ]
     },
     "execution_count": 31,
     "metadata": {},
     "output_type": "execute_result"
    }
   ],
   "source": [
    "df[\"files_count\"].median()"
   ]
  },
  {
   "cell_type": "code",
   "execution_count": 32,
   "metadata": {},
   "outputs": [
    {
     "data": {
      "image/png": "[encoded data removed]",
      "text/plain": [
       "<Figure size 432x288 with 2 Axes>"
      ]
     },
     "metadata": {
      "needs_background": "light"
     },
     "output_type": "display_data"
    }
   ],
   "source": [
    "# Cut the window in 2 parts\n",
    "f, (ax_box, ax_hist) = plt.subplots(2, sharex=True, gridspec_kw={\"height_ratios\": (.15, .85)})\n",
    "\n",
    "# Add a graph in each part\n",
    "sns.boxplot(df[\"avg_file_len\"], ax=ax_box, color=\"g\")\n",
    "sns.distplot(df[\"avg_file_len\"], ax=ax_hist, color=\"g\", bins=35, kde=False)\n",
    " \n",
    "# Remove x axis name for the boxplot\n",
    "ax_box.set(xlabel='')\n",
    "ax_box.set_title('Distribution of average file name lengths',fontsize=20)\n",
    "ax_hist.set_xlabel(\"Average file name length [in characters]\",fontsize=16)\n",
    "plt.show()\n",
    "f.tight_layout()\n",
    "f.savefig(\"plots/filename_len.png\", dpi=100)"
   ]
  },
  {
   "cell_type": "code",
   "execution_count": 33,
   "metadata": {},
   "outputs": [
    {
     "data": {
      "text/plain": [
       "17.419215686274512"
      ]
     },
     "execution_count": 33,
     "metadata": {},
     "output_type": "execute_result"
    }
   ],
   "source": [
    "df[\"avg_file_len\"].mean()"
   ]
  },
  {
   "cell_type": "markdown",
   "metadata": {},
   "source": [
    "# Pies and Bars"
   ]
  },
  {
   "cell_type": "code",
   "execution_count": 34,
   "metadata": {},
   "outputs": [],
   "source": [
    "def make_autopct(values):\n",
    "    def my_autopct(pct):\n",
    "        total = sum(values)\n",
    "        val = int(round(pct*total/100.0))\n",
    "        return '{p:.2f}%  ({v:d})'.format(p=pct,v=val)\n",
    "    return my_autopct"
   ]
  },
  {
   "cell_type": "code",
   "execution_count": 35,
   "metadata": {},
   "outputs": [
    {
     "data": {
      "image/png": "[encoded data removed]",
      "text/plain": [
       "<Figure size 432x288 with 1 Axes>"
      ]
     },
     "metadata": {},
     "output_type": "display_data"
    }
   ],
   "source": [
    "# Pie chart\n",
    "labels = ['No spaces', 'Contain space']\n",
    "sizes = [(df['space'] == 0).sum(), (df['space'] == 1).sum()]\n",
    "#colors = ['#99ff99', '#ff9999']\n",
    " \n",
    "fig1, ax1 = plt.subplots()\n",
    "plt.rcParams['font.size'] = 15\n",
    "ax1.pie(sizes, labels=labels, autopct=make_autopct(sizes), startangle=100,  textprops={'fontsize': 14}, wedgeprops={'alpha':0.7})\n",
    "\n",
    "#draw circle\n",
    "centre_circle = plt.Circle((0,0),0.70,fc='white')\n",
    "\n",
    "fig = plt.gcf()\n",
    "fig.gca().add_artist(centre_circle)\n",
    "\n",
    "# Equal aspect ratio ensures that pie is drawn as a circle\n",
    "ax1.axis('equal')  \n",
    "plt.title(\"Dataset contains a file that has space in file name\", size=18)\n",
    "plt.tight_layout()\n",
    "\n",
    "plt.show()\n",
    "fig.savefig(\"plots/space.png\", dpi=100)"
   ]
  },
  {
   "cell_type": "markdown",
   "metadata": {},
   "source": [
    "# Testing script"
   ]
  },
  {
   "cell_type": "code",
   "execution_count": 36,
   "metadata": {},
   "outputs": [
    {
     "data": {
      "image/png": "[encoded data removed]",
      "text/plain": [
       "<Figure size 432x288 with 1 Axes>"
      ]
     },
     "metadata": {},
     "output_type": "display_data"
    }
   ],
   "source": [
    "# Pie chart\n",
    "labels = ['No test files', 'Contains files \\nnamed test']\n",
    "sizes = [(df['test'] == 0).sum(), (df['test'] == 1).sum()]\n",
    "#colors = ['#99ff99', '#ff9999']\n",
    " \n",
    "fig1, ax1 = plt.subplots()\n",
    "plt.rcParams['font.size'] = 15\n",
    "ax1.pie(sizes, labels=labels, autopct=make_autopct(sizes), startangle=60,  textprops={'fontsize': 14}, wedgeprops={'alpha':0.5})\n",
    "\n",
    "#draw circle\n",
    "centre_circle = plt.Circle((0,0),0.70,fc='white')\n",
    "\n",
    "fig = plt.gcf()\n",
    "fig.gca().add_artist(centre_circle)\n",
    "\n",
    "# Equal aspect ratio ensures that pie is drawn as a circle\n",
    "ax1.axis('equal')  \n",
    "plt.title(\"Dataset contains a test script\", size=18)\n",
    "plt.tight_layout()\n",
    "\n",
    "plt.show()\n",
    "fig.savefig(\"plots/test_script.png\", dpi=100)"
   ]
  },
  {
   "cell_type": "code",
   "execution_count": 37,
   "metadata": {},
   "outputs": [
    {
     "data": {
      "image/png": "[encoded data removed]",
      "text/plain": [
       "<Figure size 432x288 with 1 Axes>"
      ]
     },
     "metadata": {},
     "output_type": "display_data"
    }
   ],
   "source": [
    "# Pie chart\n",
    "labels = ['Yes',  'No']\n",
    "sizes = [(df['docs'] == 1).sum(), (df['docs'] == 0).sum()]\n",
    " \n",
    "fig1, ax1 = plt.subplots()\n",
    "plt.rcParams['font.size'] = 15\n",
    "ax1.pie(sizes, labels=labels, autopct=make_autopct(sizes), startangle=100,  textprops={'fontsize': 14},wedgeprops={'alpha':0.6})\n",
    "\n",
    "#draw circle\n",
    "centre_circle = plt.Circle((0,0),0.70,fc='white')\n",
    "\n",
    "fig = plt.gcf()\n",
    "fig.gca().add_artist(centre_circle)\n",
    "\n",
    "# Equal aspect ratio ensures that pie is drawn as a circle\n",
    "ax1.axis('equal')  \n",
    "plt.title(\"Replication package contains documentation\\n (readme, code book or instructions)?\", size=18)\n",
    "plt.tight_layout()\n",
    "\n",
    "plt.show()\n",
    "fig.savefig(\"plots/docs.png\", dpi=100)"
   ]
  },
  {
   "cell_type": "code",
   "execution_count": 38,
   "metadata": {},
   "outputs": [
    {
     "data": {
      "image/png": "[encoded data removed]",
      "text/plain": [
       "<Figure size 432x288 with 1 Axes>"
      ]
     },
     "metadata": {},
     "output_type": "display_data"
    }
   ],
   "source": [
    "# Pie chart\n",
    "labels = ['Other Code',  'Only R']\n",
    "sizes = [(df['other_code'] == 1).sum(), (df['other_code'] == 0).sum()]\n",
    "#colors = ['#ff9999','#99ff99']\n",
    " \n",
    "fig1, ax1 = plt.subplots()\n",
    "plt.rcParams['font.size'] = 15\n",
    "ax1.pie(sizes, labels=labels, autopct=make_autopct(sizes), startangle=100,  textprops={'fontsize': 14}, wedgeprops={'alpha':0.7})\n",
    "\n",
    "#draw circle\n",
    "centre_circle = plt.Circle((0,0),0.70,fc='white')\n",
    "\n",
    "fig = plt.gcf()\n",
    "fig.gca().add_artist(centre_circle)\n",
    "\n",
    "# Equal aspect ratio ensures that pie is drawn as a circle\n",
    "ax1.axis('equal')  \n",
    "plt.title(\"Packages contain other code?\", size=18)\n",
    "plt.tight_layout()\n",
    "\n",
    "plt.show()\n",
    "fig1.savefig(\"plots/other_code.png\", dpi=100)"
   ]
  },
  {
   "cell_type": "code",
   "execution_count": 39,
   "metadata": {},
   "outputs": [
    {
     "data": {
      "image/png": "[encoded data removed]",
      "text/plain": [
       "<Figure size 432x288 with 1 Axes>"
      ]
     },
     "metadata": {},
     "output_type": "display_data"
    }
   ],
   "source": [
    "# Pie chart\n",
    "labels = ['No R markdown',  'Contains R markdown']\n",
    "sizes = [(df['rmd'] == 0).sum(), (df['rmd'] == 1).sum()]\n",
    "#colors = ['#ff9999','#99ff99']\n",
    " \n",
    "fig1, ax1 = plt.subplots()\n",
    "plt.rcParams['font.size'] = 15\n",
    "ax1.pie(sizes, labels=labels, autopct=make_autopct(sizes), startangle=30,  textprops={'fontsize': 14}, wedgeprops={'alpha':0.7})\n",
    "\n",
    "#draw circle\n",
    "centre_circle = plt.Circle((0,0),0.70,fc='white')\n",
    "\n",
    "fig = plt.gcf()\n",
    "fig.gca().add_artist(centre_circle)\n",
    "\n",
    "# Equal aspect ratio ensures that pie is drawn as a circle\n",
    "ax1.axis('equal')  \n",
    "plt.title(\"Packages contain R markdown?\", size=18)\n",
    "plt.tight_layout()\n",
    "\n",
    "plt.show()\n",
    "fig1.savefig(\"plots/rmd.png\", dpi=100)"
   ]
  },
  {
   "cell_type": "code",
   "execution_count": 40,
   "metadata": {},
   "outputs": [
    {
     "data": {
      "image/png": "[encoded data removed]",
      "text/plain": [
       "<Figure size 432x288 with 1 Axes>"
      ]
     },
     "metadata": {},
     "output_type": "display_data"
    }
   ],
   "source": [
    "# Pie chart\n",
    "labels = ['No Rnw',  'Contains Rnw']\n",
    "sizes = [(df['rnw'] == 0).sum(), (df['rnw'] == 1).sum()]\n",
    "#colors = ['#ff9999','#99ff99']\n",
    " \n",
    "fig1, ax1 = plt.subplots()\n",
    "plt.rcParams['font.size'] = 15\n",
    "ax1.pie(sizes, labels=labels, autopct=make_autopct(sizes), startangle=30,  textprops={'fontsize': 14}, wedgeprops={'alpha':0.7})\n",
    "\n",
    "#draw circle\n",
    "centre_circle = plt.Circle((0,0),0.70,fc='white')\n",
    "\n",
    "fig = plt.gcf()\n",
    "fig.gca().add_artist(centre_circle)\n",
    "\n",
    "# Equal aspect ratio ensures that pie is drawn as a circle\n",
    "ax1.axis('equal')  \n",
    "plt.title(\"Packages contain Rnw?\", size=18)\n",
    "plt.tight_layout()\n",
    "\n",
    "plt.show()\n",
    "fig1.savefig(\"plots/rnw.png\", dpi=100)"
   ]
  },
  {
   "cell_type": "markdown",
   "metadata": {},
   "source": [
    "# Success rate in dataset level"
   ]
  },
  {
   "cell_type": "code",
   "execution_count": 115,
   "metadata": {},
   "outputs": [
    {
     "data": {
      "text/plain": [
       "2091"
      ]
     },
     "execution_count": 115,
     "metadata": {},
     "output_type": "execute_result"
    }
   ],
   "source": [
    "len(df.doi.unique())"
   ]
  },
  {
   "cell_type": "code",
   "execution_count": 116,
   "metadata": {},
   "outputs": [
    {
     "data": {
      "text/plain": [
       "7414"
      ]
     },
     "execution_count": 116,
     "metadata": {},
     "output_type": "execute_result"
    }
   ],
   "source": [
    "df1 = pd.read_csv(\"aggregate_results_env.csv\", index_col=0)\n",
    "len(df1)"
   ]
  },
  {
   "cell_type": "code",
   "execution_count": 117,
   "metadata": {},
   "outputs": [
    {
     "data": {
      "text/plain": [
       "0.3983761840324763"
      ]
     },
     "execution_count": 117,
     "metadata": {},
     "output_type": "execute_result"
    }
   ],
   "source": [
    "success = len(df1[df1.result == 'success'])\n",
    "total = len(df1[df1.result.notna()])\n",
    "success*1./total"
   ]
  },
  {
   "cell_type": "markdown",
   "metadata": {},
   "source": [
    "## aggregate result per dataset"
   ]
  },
  {
   "cell_type": "code",
   "execution_count": 118,
   "metadata": {},
   "outputs": [],
   "source": [
    "df1 = df1[df1['result'].notna()]"
   ]
  },
  {
   "cell_type": "code",
   "execution_count": 119,
   "metadata": {},
   "outputs": [
    {
     "data": {
      "text/html": [
       "<div>\n",
       "<style scoped>\n",
       "    .dataframe tbody tr th:only-of-type {\n",
       "        vertical-align: middle;\n",
       "    }\n",
       "\n",
       "    .dataframe tbody tr th {\n",
       "        vertical-align: top;\n",
       "    }\n",
       "\n",
       "    .dataframe thead th {\n",
       "        text-align: right;\n",
       "    }\n",
       "</style>\n",
       "<table border=\"1\" class=\"dataframe\">\n",
       "  <thead>\n",
       "    <tr style=\"text-align: right;\">\n",
       "      <th></th>\n",
       "      <th>doi</th>\n",
       "      <th>success</th>\n",
       "    </tr>\n",
       "  </thead>\n",
       "  <tbody>\n",
       "    <tr>\n",
       "      <th>0</th>\n",
       "      <td>doi:10.7910/DVN/WGPDBS</td>\n",
       "      <td>1.0</td>\n",
       "    </tr>\n",
       "    <tr>\n",
       "      <th>1</th>\n",
       "      <td>doi:10.7910/DVN/BPON3K</td>\n",
       "      <td>1.0</td>\n",
       "    </tr>\n",
       "    <tr>\n",
       "      <th>2</th>\n",
       "      <td>doi:10.7910/DVN/ZWAGXZ</td>\n",
       "      <td>0.0</td>\n",
       "    </tr>\n",
       "    <tr>\n",
       "      <th>3</th>\n",
       "      <td>doi:10.7910/DVN/NVRBC9</td>\n",
       "      <td>1.0</td>\n",
       "    </tr>\n",
       "    <tr>\n",
       "      <th>4</th>\n",
       "      <td>doi:10.7910/DVN/WCTILJ</td>\n",
       "      <td>0.0</td>\n",
       "    </tr>\n",
       "  </tbody>\n",
       "</table>\n",
       "</div>"
      ],
      "text/plain": [
       "                      doi  success\n",
       "0  doi:10.7910/DVN/WGPDBS      1.0\n",
       "1  doi:10.7910/DVN/BPON3K      1.0\n",
       "2  doi:10.7910/DVN/ZWAGXZ      0.0\n",
       "3  doi:10.7910/DVN/NVRBC9      1.0\n",
       "4  doi:10.7910/DVN/WCTILJ      0.0"
      ]
     },
     "execution_count": 119,
     "metadata": {},
     "output_type": "execute_result"
    }
   ],
   "source": [
    "ndf = df1.groupby(['doi'], sort=False)['success'].max().reset_index()\n",
    "ndf.head()"
   ]
  },
  {
   "cell_type": "code",
   "execution_count": 120,
   "metadata": {},
   "outputs": [
    {
     "data": {
      "text/html": [
       "<div>\n",
       "<style scoped>\n",
       "    .dataframe tbody tr th:only-of-type {\n",
       "        vertical-align: middle;\n",
       "    }\n",
       "\n",
       "    .dataframe tbody tr th {\n",
       "        vertical-align: top;\n",
       "    }\n",
       "\n",
       "    .dataframe thead th {\n",
       "        text-align: right;\n",
       "    }\n",
       "</style>\n",
       "<table border=\"1\" class=\"dataframe\">\n",
       "  <thead>\n",
       "    <tr style=\"text-align: right;\">\n",
       "      <th></th>\n",
       "      <th>doi</th>\n",
       "      <th>success</th>\n",
       "      <th>list_of_all</th>\n",
       "      <th>comments_no</th>\n",
       "      <th>dependen_no</th>\n",
       "      <th>list_of_libs</th>\n",
       "      <th>total_size</th>\n",
       "      <th>sizeMB</th>\n",
       "      <th>files_count</th>\n",
       "      <th>docs</th>\n",
       "      <th>test</th>\n",
       "      <th>dockerfile</th>\n",
       "      <th>space</th>\n",
       "      <th>other_code</th>\n",
       "      <th>rmd</th>\n",
       "      <th>rnw</th>\n",
       "      <th>comments_no_files</th>\n",
       "      <th>avg_file_len</th>\n",
       "      <th>unique_libs_no</th>\n",
       "    </tr>\n",
       "  </thead>\n",
       "  <tbody>\n",
       "    <tr>\n",
       "      <th>0</th>\n",
       "      <td>doi:10.7910/DVN/WGPDBS</td>\n",
       "      <td>1.0</td>\n",
       "      <td>campaign_effects_replication.do;replication_da...</td>\n",
       "      <td>17</td>\n",
       "      <td>1</td>\n",
       "      <td>ggplot2</td>\n",
       "      <td>12105318</td>\n",
       "      <td>12.11</td>\n",
       "      <td>3</td>\n",
       "      <td>1</td>\n",
       "      <td>0</td>\n",
       "      <td>0</td>\n",
       "      <td>0</td>\n",
       "      <td>1</td>\n",
       "      <td>0</td>\n",
       "      <td>0</td>\n",
       "      <td>5.666667</td>\n",
       "      <td>28.00</td>\n",
       "      <td>1</td>\n",
       "    </tr>\n",
       "    <tr>\n",
       "      <th>1</th>\n",
       "      <td>doi:10.7910/DVN/BPON3K</td>\n",
       "      <td>1.0</td>\n",
       "      <td>fig_10_effect_of_winning_on_gov.R;tab_8_campai...</td>\n",
       "      <td>194</td>\n",
       "      <td>111</td>\n",
       "      <td>ggplot2;lm_2008;lm_2004;character.only=TRUE;li...</td>\n",
       "      <td>2959665</td>\n",
       "      <td>2.96</td>\n",
       "      <td>34</td>\n",
       "      <td>1</td>\n",
       "      <td>1</td>\n",
       "      <td>0</td>\n",
       "      <td>0</td>\n",
       "      <td>0</td>\n",
       "      <td>0</td>\n",
       "      <td>0</td>\n",
       "      <td>5.705882</td>\n",
       "      <td>24.03</td>\n",
       "      <td>22</td>\n",
       "    </tr>\n",
       "    <tr>\n",
       "      <th>2</th>\n",
       "      <td>doi:10.7910/DVN/ZWAGXZ</td>\n",
       "      <td>0.0</td>\n",
       "      <td>sponsorship_1_v3_November+6%2C+2017_12.32.csv;...</td>\n",
       "      <td>168</td>\n",
       "      <td>21</td>\n",
       "      <td>sylcount;sandwich;tidyverse;RCurl;acs;RJSONIO;...</td>\n",
       "      <td>5350420</td>\n",
       "      <td>5.35</td>\n",
       "      <td>13</td>\n",
       "      <td>1</td>\n",
       "      <td>1</td>\n",
       "      <td>0</td>\n",
       "      <td>1</td>\n",
       "      <td>0</td>\n",
       "      <td>0</td>\n",
       "      <td>0</td>\n",
       "      <td>12.923077</td>\n",
       "      <td>28.62</td>\n",
       "      <td>9</td>\n",
       "    </tr>\n",
       "    <tr>\n",
       "      <th>3</th>\n",
       "      <td>doi:10.7910/DVN/NVRBC9</td>\n",
       "      <td>1.0</td>\n",
       "      <td>Lueders_et al_2017_driverslicenses_replication...</td>\n",
       "      <td>225</td>\n",
       "      <td>20</td>\n",
       "      <td>mapproj;maptools;dplyr;rgdal;ggrepel;ggalt;alb...</td>\n",
       "      <td>451339</td>\n",
       "      <td>0.45</td>\n",
       "      <td>3</td>\n",
       "      <td>1</td>\n",
       "      <td>0</td>\n",
       "      <td>0</td>\n",
       "      <td>1</td>\n",
       "      <td>0</td>\n",
       "      <td>0</td>\n",
       "      <td>0</td>\n",
       "      <td>75.000000</td>\n",
       "      <td>37.67</td>\n",
       "      <td>19</td>\n",
       "    </tr>\n",
       "    <tr>\n",
       "      <th>4</th>\n",
       "      <td>doi:10.7910/DVN/WCTILJ</td>\n",
       "      <td>0.0</td>\n",
       "      <td>Script.R;Dataset.tab</td>\n",
       "      <td>21</td>\n",
       "      <td>4</td>\n",
       "      <td>readxl;plspm</td>\n",
       "      <td>28411</td>\n",
       "      <td>0.03</td>\n",
       "      <td>2</td>\n",
       "      <td>0</td>\n",
       "      <td>0</td>\n",
       "      <td>0</td>\n",
       "      <td>0</td>\n",
       "      <td>0</td>\n",
       "      <td>0</td>\n",
       "      <td>0</td>\n",
       "      <td>10.500000</td>\n",
       "      <td>6.50</td>\n",
       "      <td>2</td>\n",
       "    </tr>\n",
       "  </tbody>\n",
       "</table>\n",
       "</div>"
      ],
      "text/plain": [
       "                      doi  success  \\\n",
       "0  doi:10.7910/DVN/WGPDBS      1.0   \n",
       "1  doi:10.7910/DVN/BPON3K      1.0   \n",
       "2  doi:10.7910/DVN/ZWAGXZ      0.0   \n",
       "3  doi:10.7910/DVN/NVRBC9      1.0   \n",
       "4  doi:10.7910/DVN/WCTILJ      0.0   \n",
       "\n",
       "                                         list_of_all  comments_no  \\\n",
       "0  campaign_effects_replication.do;replication_da...           17   \n",
       "1  fig_10_effect_of_winning_on_gov.R;tab_8_campai...          194   \n",
       "2  sponsorship_1_v3_November+6%2C+2017_12.32.csv;...          168   \n",
       "3  Lueders_et al_2017_driverslicenses_replication...          225   \n",
       "4                               Script.R;Dataset.tab           21   \n",
       "\n",
       "   dependen_no                                       list_of_libs  total_size  \\\n",
       "0            1                                            ggplot2    12105318   \n",
       "1          111  ggplot2;lm_2008;lm_2004;character.only=TRUE;li...     2959665   \n",
       "2           21  sylcount;sandwich;tidyverse;RCurl;acs;RJSONIO;...     5350420   \n",
       "3           20  mapproj;maptools;dplyr;rgdal;ggrepel;ggalt;alb...      451339   \n",
       "4            4                                       readxl;plspm       28411   \n",
       "\n",
       "   sizeMB  files_count  docs  test  dockerfile  space  other_code  rmd  rnw  \\\n",
       "0   12.11            3     1     0           0      0           1    0    0   \n",
       "1    2.96           34     1     1           0      0           0    0    0   \n",
       "2    5.35           13     1     1           0      1           0    0    0   \n",
       "3    0.45            3     1     0           0      1           0    0    0   \n",
       "4    0.03            2     0     0           0      0           0    0    0   \n",
       "\n",
       "   comments_no_files  avg_file_len  unique_libs_no  \n",
       "0           5.666667         28.00               1  \n",
       "1           5.705882         24.03              22  \n",
       "2          12.923077         28.62               9  \n",
       "3          75.000000         37.67              19  \n",
       "4          10.500000          6.50               2  "
      ]
     },
     "execution_count": 120,
     "metadata": {},
     "output_type": "execute_result"
    }
   ],
   "source": [
    "ndf = ndf.merge(df, on = 'doi')\n",
    "ndf.head()"
   ]
  },
  {
   "cell_type": "markdown",
   "metadata": {},
   "source": [
    "## aggregated no other code"
   ]
  },
  {
   "cell_type": "code",
   "execution_count": 122,
   "metadata": {},
   "outputs": [
    {
     "name": "stdout",
     "output_type": "stream",
     "text": [
      "0.453663793103 out of 928\n"
     ]
    }
   ],
   "source": [
    "mdf = ndf[ndf.other_code == 0]\n",
    "\n",
    "total = len(mdf)\n",
    "success = len(mdf[mdf.success == 1])\n",
    "print(str(success*1./total) +\" out of \"+str(total))"
   ]
  },
  {
   "cell_type": "code",
   "execution_count": 99,
   "metadata": {},
   "outputs": [
    {
     "data": {
      "text/plain": [
       "<matplotlib.axes._subplots.AxesSubplot at 0x12ccc7410>"
      ]
     },
     "execution_count": 99,
     "metadata": {},
     "output_type": "execute_result"
    },
    {
     "data": {
      "image/png": "[encoded data removed]",
      "text/plain": [
       "<Figure size 432x288 with 1 Axes>"
      ]
     },
     "metadata": {
      "needs_background": "light"
     },
     "output_type": "display_data"
    }
   ],
   "source": [
    "sns.barplot(x=\"success\", y=\"files_count\", data=ndf)"
   ]
  },
  {
   "cell_type": "code",
   "execution_count": 102,
   "metadata": {},
   "outputs": [
    {
     "data": {
      "text/plain": [
       "<matplotlib.axes._subplots.AxesSubplot at 0x12d1b0790>"
      ]
     },
     "execution_count": 102,
     "metadata": {},
     "output_type": "execute_result"
    },
    {
     "data": {
      "image/png": "[encoded data removed]",
      "text/plain": [
       "<Figure size 432x288 with 1 Axes>"
      ]
     },
     "metadata": {
      "needs_background": "light"
     },
     "output_type": "display_data"
    }
   ],
   "source": [
    "sns.barplot(x=\"success\", y=\"docs\", data=ndf)"
   ]
  },
  {
   "cell_type": "code",
   "execution_count": 104,
   "metadata": {},
   "outputs": [
    {
     "data": {
      "text/plain": [
       "<matplotlib.axes._subplots.AxesSubplot at 0x12d280fd0>"
      ]
     },
     "execution_count": 104,
     "metadata": {},
     "output_type": "execute_result"
    },
    {
     "data": {
      "image/png": "[encoded data removed]",
      "text/plain": [
       "<Figure size 432x288 with 1 Axes>"
      ]
     },
     "metadata": {
      "needs_background": "light"
     },
     "output_type": "display_data"
    }
   ],
   "source": [
    "sns.barplot(x=\"success\", y=\"docs\", hue='other_code', data=ndf)"
   ]
  },
  {
   "cell_type": "code",
   "execution_count": 105,
   "metadata": {},
   "outputs": [
    {
     "data": {
      "text/plain": [
       "<matplotlib.axes._subplots.AxesSubplot at 0x12d202350>"
      ]
     },
     "execution_count": 105,
     "metadata": {},
     "output_type": "execute_result"
    },
    {
     "data": {
      "image/png": "[encoded data removed]",
      "text/plain": [
       "<Figure size 432x288 with 1 Axes>"
      ]
     },
     "metadata": {
      "needs_background": "light"
     },
     "output_type": "display_data"
    }
   ],
   "source": [
    "sns.barplot(x=\"success\", y=\"unique_libs_no\", data=ndf)"
   ]
  },
  {
   "cell_type": "code",
   "execution_count": 106,
   "metadata": {},
   "outputs": [
    {
     "data": {
      "text/plain": [
       "<matplotlib.axes._subplots.AxesSubplot at 0x12d33dd90>"
      ]
     },
     "execution_count": 106,
     "metadata": {},
     "output_type": "execute_result"
    },
    {
     "data": {
      "image/png": "[encoded data removed]",
      "text/plain": [
       "<Figure size 432x288 with 1 Axes>"
      ]
     },
     "metadata": {
      "needs_background": "light"
     },
     "output_type": "display_data"
    }
   ],
   "source": [
    "sns.barplot(x=\"success\", y=\"comments_no\", data=ndf)"
   ]
  },
  {
   "cell_type": "code",
   "execution_count": 107,
   "metadata": {},
   "outputs": [
    {
     "data": {
      "text/plain": [
       "<matplotlib.axes._subplots.AxesSubplot at 0x12d3bc850>"
      ]
     },
     "execution_count": 107,
     "metadata": {},
     "output_type": "execute_result"
    },
    {
     "data": {
      "image/png": "[encoded data removed]",
      "text/plain": [
       "<Figure size 432x288 with 1 Axes>"
      ]
     },
     "metadata": {
      "needs_background": "light"
     },
     "output_type": "display_data"
    }
   ],
   "source": [
    "sns.barplot(x=\"success\", y=\"dependen_no\", data=ndf)"
   ]
  },
  {
   "cell_type": "code",
   "execution_count": 110,
   "metadata": {},
   "outputs": [
    {
     "name": "stdout",
     "output_type": "stream",
     "text": [
      "0.43931866572 out of 1409\n"
     ]
    }
   ],
   "source": [
    "total = len(ndf)\n",
    "success = len(ndf[ndf.success > 0])\n",
    "print(str(success*1./total) +\" out of \"+str(total))"
   ]
  },
  {
   "cell_type": "markdown",
   "metadata": {},
   "source": [
    "## success rate when excluding datasets with other code"
   ]
  },
  {
   "cell_type": "code",
   "execution_count": 111,
   "metadata": {},
   "outputs": [
    {
     "data": {
      "text/plain": [
       "1447"
      ]
     },
     "execution_count": 111,
     "metadata": {},
     "output_type": "execute_result"
    }
   ],
   "source": [
    "len(df1.doi.unique())"
   ]
  },
  {
   "cell_type": "code",
   "execution_count": 112,
   "metadata": {},
   "outputs": [],
   "source": [
    "merged = df1.merge(df, on = 'doi')"
   ]
  },
  {
   "cell_type": "code",
   "execution_count": 113,
   "metadata": {},
   "outputs": [
    {
     "data": {
      "text/plain": [
       "1409"
      ]
     },
     "execution_count": 113,
     "metadata": {},
     "output_type": "execute_result"
    }
   ],
   "source": [
    "len(merged.doi.unique())"
   ]
  },
  {
   "cell_type": "code",
   "execution_count": 114,
   "metadata": {},
   "outputs": [
    {
     "name": "stdout",
     "output_type": "stream",
     "text": [
      "0.379782521144 out of 2483\n"
     ]
    }
   ],
   "source": [
    "mdf = merged[merged['result'].notna()]\n",
    "mdf = mdf[mdf.other_code == 0]\n",
    "\n",
    "total = len(mdf)\n",
    "success = len(mdf[mdf.result == 'success'])\n",
    "print(str(success*1./total) +\" out of \"+str(total))"
   ]
  },
  {
   "cell_type": "markdown",
   "metadata": {},
   "source": [
    "## Conclusion: success rate when excluding datasets with other code (38%) is similar to the general one (39%)"
   ]
  },
  {
   "cell_type": "markdown",
   "metadata": {},
   "source": [
    "# Verify"
   ]
  },
  {
   "cell_type": "code",
   "execution_count": 41,
   "metadata": {},
   "outputs": [],
   "source": [
    "# df.to_csv('overview.csv')"
   ]
  },
  {
   "cell_type": "code",
   "execution_count": null,
   "metadata": {},
   "outputs": [],
   "source": []
  }
 ],
 "metadata": {
  "kernelspec": {
   "display_name": "Python 2",
   "language": "python",
   "name": "python2"
  },
  "language_info": {
   "codemirror_mode": {
    "name": "ipython",
    "version": 2
   },
   "file_extension": ".py",
   "mimetype": "text/x-python",
   "name": "python",
   "nbconvert_exporter": "python",
   "pygments_lexer": "ipython2",
   "version": "2.7.16"
  }
 },
 "nbformat": 4,
 "nbformat_minor": 2
}
