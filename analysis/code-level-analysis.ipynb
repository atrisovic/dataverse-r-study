{
 "cells": [
  {
   "cell_type": "markdown",
   "metadata": {},
   "source": [
    "# R-file level analysis\n",
    "\n",
    "This notebook analyzes R files"
   ]
  },
  {
   "cell_type": "code",
   "execution_count": 1,
   "metadata": {},
   "outputs": [],
   "source": [
    "import numpy as np\n",
    "import matplotlib.pyplot as plt\n",
    "import seaborn as sns\n",
    "from matplotlib import rc\n",
    "import pandas as pd\n",
    "\n",
    "# plot style\n",
    "sns.set_style('whitegrid')\n",
    "sns.set_style({'font.family': 'Times New Roman'})"
   ]
  },
  {
   "cell_type": "code",
   "execution_count": 69,
   "metadata": {},
   "outputs": [],
   "source": [
    "df = pd.read_csv(\"data/one-hour-run-data/rfile_stats.csv\", delimiter='\\t', \\\n",
    "                 names=['doi', 'filename', 'comments_no', 'dep_no', 'func_no', \\\n",
    "                        'test_no', 'class_no','encoding', 'total_lines'])\n",
    "\n",
    "# Items[*].[doi.S,filename.S,comments_no.S,dep_no.S,func_no.S,test_no.S,class_no.S,encoding.S,total_lines.S]"
   ]
  },
  {
   "cell_type": "code",
   "execution_count": 70,
   "metadata": {},
   "outputs": [
    {
     "data": {
      "text/plain": [
       "8178"
      ]
     },
     "execution_count": 70,
     "metadata": {},
     "output_type": "execute_result"
    }
   ],
   "source": [
    "len(df)"
   ]
  },
  {
   "cell_type": "code",
   "execution_count": 71,
   "metadata": {},
   "outputs": [
    {
     "data": {
      "text/html": [
       "<div>\n",
       "<style scoped>\n",
       "    .dataframe tbody tr th:only-of-type {\n",
       "        vertical-align: middle;\n",
       "    }\n",
       "\n",
       "    .dataframe tbody tr th {\n",
       "        vertical-align: top;\n",
       "    }\n",
       "\n",
       "    .dataframe thead th {\n",
       "        text-align: right;\n",
       "    }\n",
       "</style>\n",
       "<table border=\"1\" class=\"dataframe\">\n",
       "  <thead>\n",
       "    <tr style=\"text-align: right;\">\n",
       "      <th></th>\n",
       "      <th>doi</th>\n",
       "      <th>filename</th>\n",
       "      <th>comments_no</th>\n",
       "      <th>dep_no</th>\n",
       "      <th>func_no</th>\n",
       "      <th>test_no</th>\n",
       "      <th>class_no</th>\n",
       "      <th>encoding</th>\n",
       "      <th>total_lines</th>\n",
       "    </tr>\n",
       "  </thead>\n",
       "  <tbody>\n",
       "    <tr>\n",
       "      <th>0</th>\n",
       "      <td>doi:10.7910/DVN/XFQZI2</td>\n",
       "      <td>Condemnation.R</td>\n",
       "      <td>71</td>\n",
       "      <td>10</td>\n",
       "      <td>1</td>\n",
       "      <td>0</td>\n",
       "      <td>0</td>\n",
       "      <td>ascii</td>\n",
       "      <td>335</td>\n",
       "    </tr>\n",
       "    <tr>\n",
       "      <th>1</th>\n",
       "      <td>doi:10.7910/DVN/WGPDBS</td>\n",
       "      <td>Replication_of_Figures.R</td>\n",
       "      <td>17</td>\n",
       "      <td>1</td>\n",
       "      <td>0</td>\n",
       "      <td>0</td>\n",
       "      <td>0</td>\n",
       "      <td>ascii</td>\n",
       "      <td>238</td>\n",
       "    </tr>\n",
       "    <tr>\n",
       "      <th>2</th>\n",
       "      <td>doi:10.7910/DVN/BPON3K</td>\n",
       "      <td>fig_10_effect_of_winning_on_gov.R</td>\n",
       "      <td>13</td>\n",
       "      <td>4</td>\n",
       "      <td>0</td>\n",
       "      <td>2</td>\n",
       "      <td>0</td>\n",
       "      <td>Windows-1252</td>\n",
       "      <td>188</td>\n",
       "    </tr>\n",
       "    <tr>\n",
       "      <th>3</th>\n",
       "      <td>doi:10.7910/DVN/BPON3K</td>\n",
       "      <td>fig_11_rd_placebo.R</td>\n",
       "      <td>8</td>\n",
       "      <td>4</td>\n",
       "      <td>0</td>\n",
       "      <td>2</td>\n",
       "      <td>0</td>\n",
       "      <td>Windows-1252</td>\n",
       "      <td>153</td>\n",
       "    </tr>\n",
       "    <tr>\n",
       "      <th>4</th>\n",
       "      <td>doi:10.7910/DVN/BPON3K</td>\n",
       "      <td>fig_12_historical_trend.R</td>\n",
       "      <td>4</td>\n",
       "      <td>3</td>\n",
       "      <td>0</td>\n",
       "      <td>0</td>\n",
       "      <td>0</td>\n",
       "      <td>Windows-1252</td>\n",
       "      <td>37</td>\n",
       "    </tr>\n",
       "  </tbody>\n",
       "</table>\n",
       "</div>"
      ],
      "text/plain": [
       "                      doi                           filename comments_no  \\\n",
       "0  doi:10.7910/DVN/XFQZI2                     Condemnation.R          71   \n",
       "1  doi:10.7910/DVN/WGPDBS           Replication_of_Figures.R          17   \n",
       "2  doi:10.7910/DVN/BPON3K  fig_10_effect_of_winning_on_gov.R          13   \n",
       "3  doi:10.7910/DVN/BPON3K                fig_11_rd_placebo.R           8   \n",
       "4  doi:10.7910/DVN/BPON3K          fig_12_historical_trend.R           4   \n",
       "\n",
       "  dep_no func_no test_no  class_no      encoding total_lines  \n",
       "0     10       1       0         0         ascii         335  \n",
       "1      1       0       0         0         ascii         238  \n",
       "2      4       0       2         0  Windows-1252         188  \n",
       "3      4       0       2         0  Windows-1252         153  \n",
       "4      3       0       0         0  Windows-1252          37  "
      ]
     },
     "execution_count": 71,
     "metadata": {},
     "output_type": "execute_result"
    }
   ],
   "source": [
    "df.head()"
   ]
  },
  {
   "cell_type": "markdown",
   "metadata": {},
   "source": [
    "# Convert to numbers ..."
   ]
  },
  {
   "cell_type": "code",
   "execution_count": 72,
   "metadata": {},
   "outputs": [
    {
     "name": "stdout",
     "output_type": "stream",
     "text": [
      "simple slopes\n",
      "13 state south.R\n",
      "OA3\n",
      "2 and 3.R\n"
     ]
    }
   ],
   "source": [
    "def column_to_int(el):\n",
    "    el = el.strip()\n",
    "    \n",
    "    if el.isdigit():\n",
    "        return float(el.split()[0])\n",
    "    else:\n",
    "        print(el)  \n",
    "        return np.nan\n",
    "    \n",
    "df['total_lines']=df[\"total_lines\"].apply(column_to_int)"
   ]
  },
  {
   "cell_type": "code",
   "execution_count": 73,
   "metadata": {},
   "outputs": [
    {
     "name": "stdout",
     "output_type": "stream",
     "text": [
      "and main effects.R\n",
      "OA4\n",
      "4 (Point Estimates).R\n"
     ]
    }
   ],
   "source": [
    "df['comments_no']=df[\"comments_no\"].apply(column_to_int)"
   ]
  },
  {
   "cell_type": "code",
   "execution_count": 74,
   "metadata": {},
   "outputs": [
    {
     "name": "stdout",
     "output_type": "stream",
     "text": [
      "OA5\n"
     ]
    }
   ],
   "source": [
    "df['dep_no']=df[\"dep_no\"].apply(column_to_int)"
   ]
  },
  {
   "cell_type": "code",
   "execution_count": 75,
   "metadata": {},
   "outputs": [
    {
     "name": "stdout",
     "output_type": "stream",
     "text": [
      "OA6\n"
     ]
    }
   ],
   "source": [
    "df['func_no']=df[\"func_no\"].apply(column_to_int)"
   ]
  },
  {
   "cell_type": "code",
   "execution_count": 76,
   "metadata": {},
   "outputs": [
    {
     "name": "stdout",
     "output_type": "stream",
     "text": [
      "OA8.R\n"
     ]
    }
   ],
   "source": [
    "df['test_no']=df[\"test_no\"].apply(column_to_int)"
   ]
  },
  {
   "cell_type": "markdown",
   "metadata": {},
   "source": [
    "# Relative no of comments"
   ]
  },
  {
   "cell_type": "code",
   "execution_count": 77,
   "metadata": {},
   "outputs": [],
   "source": [
    "# ( total lines - no of comments ) / no of comments\n",
    "df['comm_rel']=(df['total_lines']-df['comments_no'])/df['comments_no']\n",
    "df['comm_rel']=df['comm_rel'].round(2)\n",
    "df=df.replace([np.inf, -np.inf], np.nan)"
   ]
  },
  {
   "cell_type": "code",
   "execution_count": 78,
   "metadata": {},
   "outputs": [
    {
     "data": {
      "text/plain": [
       "312.94237827257155"
      ]
     },
     "execution_count": 78,
     "metadata": {},
     "output_type": "execute_result"
    }
   ],
   "source": [
    "df[\"total_lines\"].mean()"
   ]
  },
  {
   "cell_type": "code",
   "execution_count": 79,
   "metadata": {},
   "outputs": [
    {
     "data": {
      "text/plain": [
       "160.0"
      ]
     },
     "execution_count": 79,
     "metadata": {},
     "output_type": "execute_result"
    }
   ],
   "source": [
    "df[\"total_lines\"].median()"
   ]
  },
  {
   "cell_type": "code",
   "execution_count": 80,
   "metadata": {},
   "outputs": [
    {
     "data": {
      "image/png": "[encoded data removed]",
      "text/plain": [
       "<Figure size 432x288 with 2 Axes>"
      ]
     },
     "metadata": {
      "needs_background": "light"
     },
     "output_type": "display_data"
    }
   ],
   "source": [
    "# Cut the window in 2 parts\n",
    "f, (ax_box, ax_hist) = plt.subplots(2, sharex=True, gridspec_kw={\"height_ratios\": (.15, .85)})\n",
    " \n",
    "# Add a graph in each part\n",
    "sns.boxplot(df[\"total_lines\"], color='c', ax=ax_box)\n",
    "sns.distplot(df[\"total_lines\"].dropna(), color='c', ax=ax_hist, kde=False, bins=700)\n",
    " \n",
    "# Remove x axis name for the boxplot\n",
    "ax_box.set(xlabel='')\n",
    "ax_box.set(title='Distribution of number of lines of code per R file')\n",
    "ax_hist.set(xlabel=\"lines of code\")\n",
    "#plt.xscale('log')\n",
    "plt.xlim(0, 1000)\n",
    "plt.show()\n",
    "\n",
    "f.tight_layout()\n",
    "f.savefig(\"plots/line_of_code.png\", dpi=100)"
   ]
  },
  {
   "cell_type": "code",
   "execution_count": 81,
   "metadata": {},
   "outputs": [
    {
     "data": {
      "image/png": "[encoded data removed]",
      "text/plain": [
       "<Figure size 432x288 with 2 Axes>"
      ]
     },
     "metadata": {
      "needs_background": "light"
     },
     "output_type": "display_data"
    }
   ],
   "source": [
    "# Cut the window in 2 parts\n",
    "f, (ax_box, ax_hist) = plt.subplots(2, sharex=True, gridspec_kw={\"height_ratios\": (.15, .85)})\n",
    " \n",
    "# Add a graph in each part\n",
    "sns.boxplot(df[\"comm_rel\"], ax=ax_box)\n",
    "sns.distplot(df[\"comm_rel\"].dropna(), ax=ax_hist, kde=False, bins=350)\n",
    " \n",
    "# Remove x axis name for the boxplot\n",
    "ax_box.set(xlabel='')\n",
    "ax_box.set_title('Number of lines of code per number of comments in an R file', fontsize=16)\n",
    "ax_hist.set_xlabel(\"lines of code / lines of comments\", fontsize=13)\n",
    "#plt.xscale('log')\n",
    "plt.xlim(0, 30)\n",
    "plt.show()\n",
    "\n",
    "f.tight_layout()\n",
    "f.savefig(\"plots/rel_comments.png\", dpi=100)"
   ]
  },
  {
   "cell_type": "code",
   "execution_count": 82,
   "metadata": {},
   "outputs": [
    {
     "data": {
      "text/plain": [
       "4.5"
      ]
     },
     "execution_count": 82,
     "metadata": {},
     "output_type": "execute_result"
    }
   ],
   "source": [
    "df[\"comm_rel\"].median()"
   ]
  },
  {
   "cell_type": "code",
   "execution_count": 83,
   "metadata": {},
   "outputs": [
    {
     "data": {
      "text/plain": [
       "7.368942052771114"
      ]
     },
     "execution_count": 83,
     "metadata": {},
     "output_type": "execute_result"
    }
   ],
   "source": [
    "df[\"comm_rel\"].mean()"
   ]
  },
  {
   "cell_type": "markdown",
   "metadata": {},
   "source": [
    "# Relative no of dependencies"
   ]
  },
  {
   "cell_type": "code",
   "execution_count": 84,
   "metadata": {},
   "outputs": [],
   "source": [
    "# ( total lines - no of comments ) / no of comments\n",
    "df['dep_rel']=(df['total_lines']-df['dep_no'])/df['dep_no']\n",
    "df['dep_rel']=df['dep_rel'].round(2)\n",
    "df=df.replace([np.inf, -np.inf], np.nan)"
   ]
  },
  {
   "cell_type": "code",
   "execution_count": 128,
   "metadata": {},
   "outputs": [
    {
     "data": {
      "text/plain": [
       "50.6"
      ]
     },
     "execution_count": 128,
     "metadata": {},
     "output_type": "execute_result"
    }
   ],
   "source": [
    "df['dep_rel'].median()"
   ]
  },
  {
   "cell_type": "code",
   "execution_count": 110,
   "metadata": {
    "scrolled": true
   },
   "outputs": [
    {
     "data": {
      "image/png": "[encoded data removed]",
      "text/plain": [
       "<Figure size 432x288 with 2 Axes>"
      ]
     },
     "metadata": {
      "needs_background": "light"
     },
     "output_type": "display_data"
    }
   ],
   "source": [
    "# Cut the window in 2 parts\n",
    "f, (ax_box, ax_hist) = plt.subplots(2, sharex=True, gridspec_kw={\"height_ratios\": (.15, .85)})\n",
    " \n",
    "# Add a graph in each part\n",
    "sns.boxplot(df[\"dep_rel\"], color='g', ax=ax_box)\n",
    "sns.distplot(df[\"dep_rel\"].dropna(), color='g', ax=ax_hist, kde=False, bins=800)\n",
    " \n",
    "# Remove x axis name for the boxplot\"\n",
    "ax_box.set(xlabel='')\n",
    "ax_box.set(title='Number of lines of code per \\nnumber of dependencies in an R file')\n",
    "ax_hist.set(xlabel=\"lines of code / number of dependencies\")\n",
    "#plt.xscale('log')\n",
    "plt.xlim(0, 250)\n",
    "plt.show()\n",
    "\n",
    "f.tight_layout()\n",
    "f.savefig(\"plots/rel_dep.png\", dpi=100)"
   ]
  },
  {
   "cell_type": "markdown",
   "metadata": {},
   "source": [
    "## exclude where 0 dependencies"
   ]
  },
  {
   "cell_type": "code",
   "execution_count": 86,
   "metadata": {},
   "outputs": [
    {
     "data": {
      "image/png": "[encoded data removed]",
      "text/plain": [
       "<Figure size 432x288 with 2 Axes>"
      ]
     },
     "metadata": {
      "needs_background": "light"
     },
     "output_type": "display_data"
    }
   ],
   "source": [
    "rslt_df = df[df['dep_rel'] != 0] \n",
    "\n",
    "# Cut the window in 2 parts\n",
    "f, (ax_box, ax_hist) = plt.subplots(2, sharex=True, gridspec_kw={\"height_ratios\": (.15, .85)})\n",
    " \n",
    "# Add a graph in each part\n",
    "sns.boxplot(rslt_df[\"dep_rel\"], color='g', ax=ax_box)\n",
    "sns.distplot(rslt_df[\"dep_rel\"].dropna(), color='g', ax=ax_hist, kde=False, bins=900)\n",
    " \n",
    "# Remove x axis name for the boxplot\n",
    "ax_box.set(xlabel='')\n",
    "ax_box.set(title='Number of lines of code per number of dependencies in an R file')\n",
    "ax_hist.set(xlabel=\"lines of code / number of dependencies\")\n",
    "#plt.xscale('log')\n",
    "plt.xlim(0, 30)\n",
    "plt.show()\n"
   ]
  },
  {
   "cell_type": "markdown",
   "metadata": {},
   "source": [
    "# Relative no of either func or class"
   ]
  },
  {
   "cell_type": "code",
   "execution_count": 15,
   "metadata": {},
   "outputs": [],
   "source": [
    "df['module']=df['func_no']+df['class_no']"
   ]
  },
  {
   "cell_type": "markdown",
   "metadata": {},
   "source": [
    "# Contain functions"
   ]
  },
  {
   "cell_type": "code",
   "execution_count": 51,
   "metadata": {},
   "outputs": [
    {
     "data": {
      "text/plain": [
       "2851"
      ]
     },
     "execution_count": 51,
     "metadata": {},
     "output_type": "execute_result"
    }
   ],
   "source": [
    "(df['func_no'] != 0).sum()"
   ]
  },
  {
   "cell_type": "markdown",
   "metadata": {},
   "source": [
    "# Contain classes"
   ]
  },
  {
   "cell_type": "code",
   "execution_count": 52,
   "metadata": {},
   "outputs": [
    {
     "data": {
      "text/plain": [
       "373"
      ]
     },
     "execution_count": 52,
     "metadata": {},
     "output_type": "execute_result"
    }
   ],
   "source": [
    "(df['class_no'] != 0).sum()"
   ]
  },
  {
   "cell_type": "code",
   "execution_count": 16,
   "metadata": {},
   "outputs": [],
   "source": [
    "# ( total lines - no of comments ) / no of comments\n",
    "df['module_rel']=df['total_lines']/df['module']\n",
    "df['module_rel']=df['module_rel'].round(2)\n",
    "df=df.replace([np.inf, -np.inf], np.nan)"
   ]
  },
  {
   "cell_type": "code",
   "execution_count": 17,
   "metadata": {},
   "outputs": [
    {
     "data": {
      "image/png": "[encoded data removed]",
      "text/plain": [
       "<Figure size 432x288 with 2 Axes>"
      ]
     },
     "metadata": {
      "needs_background": "light"
     },
     "output_type": "display_data"
    }
   ],
   "source": [
    "# Cut the window in 2 parts\n",
    "f, (ax_box, ax_hist) = plt.subplots(2, sharex=True, gridspec_kw={\"height_ratios\": (.15, .85)})\n",
    " \n",
    "# Add a graph in each part\n",
    "sns.boxplot(df[\"module_rel\"], color='g', ax=ax_box)\n",
    "sns.distplot(df[\"module_rel\"].dropna(), color='g', ax=ax_hist, kde=False, bins=700)\n",
    " \n",
    "# Remove x axis name for the boxplot\n",
    "ax_box.set(xlabel='')\n",
    "ax_box.set(title='Number of lines of code per number of modules in an R file')\n",
    "ax_hist.set(xlabel=\"lines of code / number of modules (function or class)\")\n",
    "#plt.xscale('log')\n",
    "plt.xlim(0, 600)\n",
    "#plt.ylim(0, 600)\n",
    "plt.show()\n",
    "\n",
    "f.tight_layout()\n",
    "f.savefig(\"plots/rel_module.png\", dpi=100)"
   ]
  },
  {
   "cell_type": "markdown",
   "metadata": {},
   "source": [
    "## Average in code that have modules"
   ]
  },
  {
   "cell_type": "code",
   "execution_count": 54,
   "metadata": {},
   "outputs": [
    {
     "data": {
      "text/plain": [
       "103.0"
      ]
     },
     "execution_count": 54,
     "metadata": {},
     "output_type": "execute_result"
    }
   ],
   "source": [
    "rslt_df = df[df['module_rel'] > 0]\n",
    "rslt_df['module_rel'].median()"
   ]
  },
  {
   "cell_type": "code",
   "execution_count": 53,
   "metadata": {},
   "outputs": [
    {
     "data": {
      "text/plain": [
       "103.0"
      ]
     },
     "execution_count": 53,
     "metadata": {},
     "output_type": "execute_result"
    }
   ],
   "source": [
    "df['module_rel'].median()"
   ]
  },
  {
   "cell_type": "markdown",
   "metadata": {},
   "source": [
    "# Relative no of funcs"
   ]
  },
  {
   "cell_type": "code",
   "execution_count": 160,
   "metadata": {},
   "outputs": [
    {
     "data": {
      "text/plain": [
       "2851"
      ]
     },
     "execution_count": 160,
     "metadata": {},
     "output_type": "execute_result"
    }
   ],
   "source": [
    "df2 = df.loc[df['func_no'] != 0].copy()\n",
    "len(df2)"
   ]
  },
  {
   "cell_type": "code",
   "execution_count": 139,
   "metadata": {},
   "outputs": [],
   "source": [
    "df3 = pd.read_csv(\"data/one-hour-run-data/readability_metrics.csv\", delimiter='\\t', \\\n",
    "                 names=['doi', 'filename', 'line_no', 'avg_line_len', 'max_line_len', \\\n",
    "                        'avg_indentation', 'max_indentation', 'avg_numbers', 'avg_comments', \\\n",
    "                        'max_numbers', 'avg_periods', 'avg_commas', 'avg_spaces', \\\n",
    "                        'avg_parentheses', 'avg_arithmetic_operators', 'avg_comparison_operators', \\\n",
    "                        'avg_assignments', 'avg_branches', 'avg_loops', 'avg_keywords', \\\n",
    "                        'max_keywords', 'avg_blank_lines', 'max_occurrence_of_character', \\\n",
    "                        'avg_vars_len', 'max_vars_len', 'avg_vars_count', 'max_vars_count', \\\n",
    "                        'max_occurence_of_var', 'vars'])"
   ]
  },
  {
   "cell_type": "code",
   "execution_count": 142,
   "metadata": {},
   "outputs": [
    {
     "data": {
      "text/plain": [
       "4124"
      ]
     },
     "execution_count": 142,
     "metadata": {},
     "output_type": "execute_result"
    }
   ],
   "source": [
    "len(df3)"
   ]
  },
  {
   "cell_type": "code",
   "execution_count": 153,
   "metadata": {},
   "outputs": [
    {
     "data": {
      "text/html": [
       "<div>\n",
       "<style scoped>\n",
       "    .dataframe tbody tr th:only-of-type {\n",
       "        vertical-align: middle;\n",
       "    }\n",
       "\n",
       "    .dataframe tbody tr th {\n",
       "        vertical-align: top;\n",
       "    }\n",
       "\n",
       "    .dataframe thead th {\n",
       "        text-align: right;\n",
       "    }\n",
       "</style>\n",
       "<table border=\"1\" class=\"dataframe\">\n",
       "  <thead>\n",
       "    <tr style=\"text-align: right;\">\n",
       "      <th></th>\n",
       "      <th>doi</th>\n",
       "      <th>filename</th>\n",
       "      <th>line_no</th>\n",
       "      <th>avg_line_len</th>\n",
       "      <th>max_line_len</th>\n",
       "      <th>avg_indentation</th>\n",
       "      <th>max_indentation</th>\n",
       "      <th>avg_numbers</th>\n",
       "      <th>avg_comments</th>\n",
       "      <th>max_numbers</th>\n",
       "      <th>...</th>\n",
       "      <th>avg_keywords</th>\n",
       "      <th>max_keywords</th>\n",
       "      <th>avg_blank_lines</th>\n",
       "      <th>max_occurrence_of_character</th>\n",
       "      <th>avg_vars_len</th>\n",
       "      <th>max_vars_len</th>\n",
       "      <th>avg_vars_count</th>\n",
       "      <th>max_vars_count</th>\n",
       "      <th>max_occurence_of_var</th>\n",
       "      <th>vars</th>\n",
       "    </tr>\n",
       "  </thead>\n",
       "  <tbody>\n",
       "    <tr>\n",
       "      <th>0</th>\n",
       "      <td>doi:10.7910/DVN/WGPDBS</td>\n",
       "      <td>Replication_of_Figures.R</td>\n",
       "      <td>239</td>\n",
       "      <td>38.673640</td>\n",
       "      <td>189</td>\n",
       "      <td>2.297071</td>\n",
       "      <td>41</td>\n",
       "      <td>5.556485</td>\n",
       "      <td>0.071130</td>\n",
       "      <td>21</td>\n",
       "      <td>...</td>\n",
       "      <td>0.292887</td>\n",
       "      <td>4</td>\n",
       "      <td>0.217573</td>\n",
       "      <td>43</td>\n",
       "      <td>12.77551</td>\n",
       "      <td>19</td>\n",
       "      <td>1.058577</td>\n",
       "      <td>8</td>\n",
       "      <td>60</td>\n",
       "      <td>close_lo;soph_lo;sophsq;pid_lo;general_means;x...</td>\n",
       "    </tr>\n",
       "    <tr>\n",
       "      <th>1</th>\n",
       "      <td>doi:10.7910/DVN/WCTILJ</td>\n",
       "      <td>Script.R</td>\n",
       "      <td>83</td>\n",
       "      <td>34.891566</td>\n",
       "      <td>170</td>\n",
       "      <td>0.072289</td>\n",
       "      <td>2</td>\n",
       "      <td>2.445783</td>\n",
       "      <td>0.253012</td>\n",
       "      <td>19</td>\n",
       "      <td>...</td>\n",
       "      <td>0.349398</td>\n",
       "      <td>4</td>\n",
       "      <td>0.156627</td>\n",
       "      <td>17</td>\n",
       "      <td>0.00000</td>\n",
       "      <td>0</td>\n",
       "      <td>8.614458</td>\n",
       "      <td>42</td>\n",
       "      <td>715</td>\n",
       "      <td>NaN</td>\n",
       "    </tr>\n",
       "    <tr>\n",
       "      <th>2</th>\n",
       "      <td>doi:10.7910/DVN/O3ETO9</td>\n",
       "      <td>jose-galdino-script-tf-ad-ufpe-2018.R</td>\n",
       "      <td>106</td>\n",
       "      <td>26.698113</td>\n",
       "      <td>182</td>\n",
       "      <td>1.886792</td>\n",
       "      <td>40</td>\n",
       "      <td>0.509434</td>\n",
       "      <td>0.160377</td>\n",
       "      <td>9</td>\n",
       "      <td>...</td>\n",
       "      <td>0.179245</td>\n",
       "      <td>1</td>\n",
       "      <td>0.339623</td>\n",
       "      <td>48</td>\n",
       "      <td>0.00000</td>\n",
       "      <td>0</td>\n",
       "      <td>9.537736</td>\n",
       "      <td>69</td>\n",
       "      <td>1011</td>\n",
       "      <td>NaN</td>\n",
       "    </tr>\n",
       "    <tr>\n",
       "      <th>3</th>\n",
       "      <td>doi:10.7910/DVN/TKTN5J</td>\n",
       "      <td>0_Run It All.R</td>\n",
       "      <td>78</td>\n",
       "      <td>28.179487</td>\n",
       "      <td>68</td>\n",
       "      <td>0.512821</td>\n",
       "      <td>10</td>\n",
       "      <td>0.576923</td>\n",
       "      <td>0.320513</td>\n",
       "      <td>8</td>\n",
       "      <td>...</td>\n",
       "      <td>0.333333</td>\n",
       "      <td>2</td>\n",
       "      <td>0.230769</td>\n",
       "      <td>57</td>\n",
       "      <td>0.00000</td>\n",
       "      <td>0</td>\n",
       "      <td>8.538462</td>\n",
       "      <td>58</td>\n",
       "      <td>666</td>\n",
       "      <td>NaN</td>\n",
       "    </tr>\n",
       "    <tr>\n",
       "      <th>4</th>\n",
       "      <td>doi:10.7910/DVN/TKTN5J</td>\n",
       "      <td>1_Prep the data.R</td>\n",
       "      <td>103</td>\n",
       "      <td>37.378641</td>\n",
       "      <td>88</td>\n",
       "      <td>2.145631</td>\n",
       "      <td>33</td>\n",
       "      <td>1.058252</td>\n",
       "      <td>0.223301</td>\n",
       "      <td>9</td>\n",
       "      <td>...</td>\n",
       "      <td>0.378641</td>\n",
       "      <td>3</td>\n",
       "      <td>0.135922</td>\n",
       "      <td>57</td>\n",
       "      <td>3.00000</td>\n",
       "      <td>8</td>\n",
       "      <td>0.291262</td>\n",
       "      <td>2</td>\n",
       "      <td>18</td>\n",
       "      <td>division;dt;r;R</td>\n",
       "    </tr>\n",
       "  </tbody>\n",
       "</table>\n",
       "<p>5 rows × 29 columns</p>\n",
       "</div>"
      ],
      "text/plain": [
       "                      doi                               filename  line_no  \\\n",
       "0  doi:10.7910/DVN/WGPDBS               Replication_of_Figures.R      239   \n",
       "1  doi:10.7910/DVN/WCTILJ                               Script.R       83   \n",
       "2  doi:10.7910/DVN/O3ETO9  jose-galdino-script-tf-ad-ufpe-2018.R      106   \n",
       "3  doi:10.7910/DVN/TKTN5J                         0_Run It All.R       78   \n",
       "4  doi:10.7910/DVN/TKTN5J                      1_Prep the data.R      103   \n",
       "\n",
       "   avg_line_len  max_line_len  avg_indentation  max_indentation  avg_numbers  \\\n",
       "0     38.673640           189         2.297071               41     5.556485   \n",
       "1     34.891566           170         0.072289                2     2.445783   \n",
       "2     26.698113           182         1.886792               40     0.509434   \n",
       "3     28.179487            68         0.512821               10     0.576923   \n",
       "4     37.378641            88         2.145631               33     1.058252   \n",
       "\n",
       "   avg_comments  max_numbers  ...  avg_keywords  max_keywords  \\\n",
       "0      0.071130           21  ...      0.292887             4   \n",
       "1      0.253012           19  ...      0.349398             4   \n",
       "2      0.160377            9  ...      0.179245             1   \n",
       "3      0.320513            8  ...      0.333333             2   \n",
       "4      0.223301            9  ...      0.378641             3   \n",
       "\n",
       "   avg_blank_lines  max_occurrence_of_character  avg_vars_len  max_vars_len  \\\n",
       "0         0.217573                           43      12.77551            19   \n",
       "1         0.156627                           17       0.00000             0   \n",
       "2         0.339623                           48       0.00000             0   \n",
       "3         0.230769                           57       0.00000             0   \n",
       "4         0.135922                           57       3.00000             8   \n",
       "\n",
       "   avg_vars_count  max_vars_count  max_occurence_of_var  \\\n",
       "0        1.058577               8                    60   \n",
       "1        8.614458              42                   715   \n",
       "2        9.537736              69                  1011   \n",
       "3        8.538462              58                   666   \n",
       "4        0.291262               2                    18   \n",
       "\n",
       "                                                vars  \n",
       "0  close_lo;soph_lo;sophsq;pid_lo;general_means;x...  \n",
       "1                                                NaN  \n",
       "2                                                NaN  \n",
       "3                                                NaN  \n",
       "4                                    division;dt;r;R  \n",
       "\n",
       "[5 rows x 29 columns]"
      ]
     },
     "execution_count": 153,
     "metadata": {},
     "output_type": "execute_result"
    }
   ],
   "source": [
    "df3.head()"
   ]
  },
  {
   "cell_type": "code",
   "execution_count": 147,
   "metadata": {},
   "outputs": [],
   "source": [
    "df2 = df2.merge(df3, on=['doi','filename'])"
   ]
  },
  {
   "cell_type": "code",
   "execution_count": 151,
   "metadata": {},
   "outputs": [
    {
     "data": {
      "text/html": [
       "<div>\n",
       "<style scoped>\n",
       "    .dataframe tbody tr th:only-of-type {\n",
       "        vertical-align: middle;\n",
       "    }\n",
       "\n",
       "    .dataframe tbody tr th {\n",
       "        vertical-align: top;\n",
       "    }\n",
       "\n",
       "    .dataframe thead th {\n",
       "        text-align: right;\n",
       "    }\n",
       "</style>\n",
       "<table border=\"1\" class=\"dataframe\">\n",
       "  <thead>\n",
       "    <tr style=\"text-align: right;\">\n",
       "      <th></th>\n",
       "      <th>doi</th>\n",
       "      <th>filename</th>\n",
       "      <th>comments_no</th>\n",
       "      <th>dep_no</th>\n",
       "      <th>func_no</th>\n",
       "      <th>test_no</th>\n",
       "      <th>class_no</th>\n",
       "      <th>encoding</th>\n",
       "      <th>total_lines</th>\n",
       "      <th>comm_rel</th>\n",
       "      <th>...</th>\n",
       "      <th>avg_keywords_y</th>\n",
       "      <th>max_keywords_y</th>\n",
       "      <th>avg_blank_lines_y</th>\n",
       "      <th>max_occurrence_of_character_y</th>\n",
       "      <th>avg_vars_len_y</th>\n",
       "      <th>max_vars_len_y</th>\n",
       "      <th>avg_vars_count_y</th>\n",
       "      <th>max_vars_count_y</th>\n",
       "      <th>max_occurence_of_var_y</th>\n",
       "      <th>vars_y</th>\n",
       "    </tr>\n",
       "  </thead>\n",
       "  <tbody>\n",
       "    <tr>\n",
       "      <th>0</th>\n",
       "      <td>doi:10.7910/DVN/TKTN5J</td>\n",
       "      <td>AP - Multigrid.R</td>\n",
       "      <td>19.0</td>\n",
       "      <td>1.0</td>\n",
       "      <td>1.0</td>\n",
       "      <td>0.0</td>\n",
       "      <td>0</td>\n",
       "      <td>ascii</td>\n",
       "      <td>48.0</td>\n",
       "      <td>1.53</td>\n",
       "      <td>...</td>\n",
       "      <td>0.645833</td>\n",
       "      <td>4</td>\n",
       "      <td>0.187500</td>\n",
       "      <td>40</td>\n",
       "      <td>4.200000</td>\n",
       "      <td>9</td>\n",
       "      <td>0.187500</td>\n",
       "      <td>2</td>\n",
       "      <td>8</td>\n",
       "      <td>division;dt;r;R;multiplot</td>\n",
       "    </tr>\n",
       "    <tr>\n",
       "      <th>1</th>\n",
       "      <td>doi:10.7910/DVN/TKTN5J</td>\n",
       "      <td>x_Auxiliary Functions.R</td>\n",
       "      <td>28.0</td>\n",
       "      <td>1.0</td>\n",
       "      <td>3.0</td>\n",
       "      <td>0.0</td>\n",
       "      <td>0</td>\n",
       "      <td>utf-8</td>\n",
       "      <td>112.0</td>\n",
       "      <td>3.00</td>\n",
       "      <td>...</td>\n",
       "      <td>0.495575</td>\n",
       "      <td>4</td>\n",
       "      <td>0.159292</td>\n",
       "      <td>57</td>\n",
       "      <td>7.142857</td>\n",
       "      <td>15</td>\n",
       "      <td>0.389381</td>\n",
       "      <td>2</td>\n",
       "      <td>32</td>\n",
       "      <td>division;format_raw_data;rearrange_data;multip...</td>\n",
       "    </tr>\n",
       "    <tr>\n",
       "      <th>2</th>\n",
       "      <td>doi:10.7910/DVN/KKS1R0</td>\n",
       "      <td>data_bayes_out.R</td>\n",
       "      <td>24.0</td>\n",
       "      <td>0.0</td>\n",
       "      <td>4.0</td>\n",
       "      <td>0.0</td>\n",
       "      <td>0</td>\n",
       "      <td>ascii</td>\n",
       "      <td>77.0</td>\n",
       "      <td>2.21</td>\n",
       "      <td>...</td>\n",
       "      <td>0.410256</td>\n",
       "      <td>4</td>\n",
       "      <td>0.205128</td>\n",
       "      <td>88</td>\n",
       "      <td>7.500000</td>\n",
       "      <td>15</td>\n",
       "      <td>0.410256</td>\n",
       "      <td>3</td>\n",
       "      <td>14</td>\n",
       "      <td>division;lowerbound;upperbound;dat.a.bayes.out...</td>\n",
       "    </tr>\n",
       "    <tr>\n",
       "      <th>3</th>\n",
       "      <td>doi:10.7910/DVN/KKS1R0</td>\n",
       "      <td>ep_jags_functions.R</td>\n",
       "      <td>33.0</td>\n",
       "      <td>1.0</td>\n",
       "      <td>3.0</td>\n",
       "      <td>0.0</td>\n",
       "      <td>0</td>\n",
       "      <td>ISO-8859-1</td>\n",
       "      <td>115.0</td>\n",
       "      <td>2.48</td>\n",
       "      <td>...</td>\n",
       "      <td>0.474138</td>\n",
       "      <td>5</td>\n",
       "      <td>0.198276</td>\n",
       "      <td>70</td>\n",
       "      <td>9.500000</td>\n",
       "      <td>17</td>\n",
       "      <td>0.275862</td>\n",
       "      <td>4</td>\n",
       "      <td>27</td>\n",
       "      <td>division;lowerbound;ep.wf.negbin.b;upperbound;...</td>\n",
       "    </tr>\n",
       "    <tr>\n",
       "      <th>4</th>\n",
       "      <td>doi:10.7910/DVN/KKS1R0</td>\n",
       "      <td>prepare_data_set.R</td>\n",
       "      <td>26.0</td>\n",
       "      <td>0.0</td>\n",
       "      <td>1.0</td>\n",
       "      <td>0.0</td>\n",
       "      <td>0</td>\n",
       "      <td>ISO-8859-1</td>\n",
       "      <td>71.0</td>\n",
       "      <td>1.73</td>\n",
       "      <td>...</td>\n",
       "      <td>0.347222</td>\n",
       "      <td>3</td>\n",
       "      <td>0.083333</td>\n",
       "      <td>70</td>\n",
       "      <td>9.117647</td>\n",
       "      <td>17</td>\n",
       "      <td>0.486111</td>\n",
       "      <td>3</td>\n",
       "      <td>19</td>\n",
       "      <td>division;lowerbound;oxyellow;ep.wf.negbin.b;ox...</td>\n",
       "    </tr>\n",
       "  </tbody>\n",
       "</table>\n",
       "<p>5 rows × 66 columns</p>\n",
       "</div>"
      ],
      "text/plain": [
       "                      doi                 filename  comments_no  dep_no  \\\n",
       "0  doi:10.7910/DVN/TKTN5J         AP - Multigrid.R         19.0     1.0   \n",
       "1  doi:10.7910/DVN/TKTN5J  x_Auxiliary Functions.R         28.0     1.0   \n",
       "2  doi:10.7910/DVN/KKS1R0         data_bayes_out.R         24.0     0.0   \n",
       "3  doi:10.7910/DVN/KKS1R0      ep_jags_functions.R         33.0     1.0   \n",
       "4  doi:10.7910/DVN/KKS1R0       prepare_data_set.R         26.0     0.0   \n",
       "\n",
       "   func_no  test_no  class_no    encoding  total_lines  comm_rel  ...  \\\n",
       "0      1.0      0.0         0       ascii         48.0      1.53  ...   \n",
       "1      3.0      0.0         0       utf-8        112.0      3.00  ...   \n",
       "2      4.0      0.0         0       ascii         77.0      2.21  ...   \n",
       "3      3.0      0.0         0  ISO-8859-1        115.0      2.48  ...   \n",
       "4      1.0      0.0         0  ISO-8859-1         71.0      1.73  ...   \n",
       "\n",
       "   avg_keywords_y  max_keywords_y  avg_blank_lines_y  \\\n",
       "0        0.645833               4           0.187500   \n",
       "1        0.495575               4           0.159292   \n",
       "2        0.410256               4           0.205128   \n",
       "3        0.474138               5           0.198276   \n",
       "4        0.347222               3           0.083333   \n",
       "\n",
       "   max_occurrence_of_character_y  avg_vars_len_y  max_vars_len_y  \\\n",
       "0                             40        4.200000               9   \n",
       "1                             57        7.142857              15   \n",
       "2                             88        7.500000              15   \n",
       "3                             70        9.500000              17   \n",
       "4                             70        9.117647              17   \n",
       "\n",
       "   avg_vars_count_y  max_vars_count_y  max_occurence_of_var_y  \\\n",
       "0          0.187500                 2                       8   \n",
       "1          0.389381                 2                      32   \n",
       "2          0.410256                 3                      14   \n",
       "3          0.275862                 4                      27   \n",
       "4          0.486111                 3                      19   \n",
       "\n",
       "                                              vars_y  \n",
       "0                          division;dt;r;R;multiplot  \n",
       "1  division;format_raw_data;rearrange_data;multip...  \n",
       "2  division;lowerbound;upperbound;dat.a.bayes.out...  \n",
       "3  division;lowerbound;ep.wf.negbin.b;upperbound;...  \n",
       "4  division;lowerbound;oxyellow;ep.wf.negbin.b;ox...  \n",
       "\n",
       "[5 rows x 66 columns]"
      ]
     },
     "execution_count": 151,
     "metadata": {},
     "output_type": "execute_result"
    }
   ],
   "source": [
    "df2.head()"
   ]
  },
  {
   "cell_type": "code",
   "execution_count": null,
   "metadata": {},
   "outputs": [],
   "source": []
  },
  {
   "cell_type": "code",
   "execution_count": 155,
   "metadata": {},
   "outputs": [],
   "source": [
    "df2['blan_no'] = df2['avg_blank_lines_y'] * df2['total_lines']"
   ]
  },
  {
   "cell_type": "code",
   "execution_count": 144,
   "metadata": {},
   "outputs": [
    {
     "data": {
      "text/html": [
       "<div>\n",
       "<style scoped>\n",
       "    .dataframe tbody tr th:only-of-type {\n",
       "        vertical-align: middle;\n",
       "    }\n",
       "\n",
       "    .dataframe tbody tr th {\n",
       "        vertical-align: top;\n",
       "    }\n",
       "\n",
       "    .dataframe thead th {\n",
       "        text-align: right;\n",
       "    }\n",
       "</style>\n",
       "<table border=\"1\" class=\"dataframe\">\n",
       "  <thead>\n",
       "    <tr style=\"text-align: right;\">\n",
       "      <th></th>\n",
       "      <th>doi</th>\n",
       "      <th>filename</th>\n",
       "      <th>comments_no</th>\n",
       "      <th>dep_no</th>\n",
       "      <th>func_no</th>\n",
       "      <th>test_no</th>\n",
       "      <th>class_no</th>\n",
       "      <th>encoding</th>\n",
       "      <th>total_lines</th>\n",
       "      <th>comm_rel</th>\n",
       "      <th>...</th>\n",
       "      <th>avg_keywords</th>\n",
       "      <th>max_keywords</th>\n",
       "      <th>avg_blank_lines</th>\n",
       "      <th>max_occurrence_of_character</th>\n",
       "      <th>avg_vars_len</th>\n",
       "      <th>max_vars_len</th>\n",
       "      <th>avg_vars_count</th>\n",
       "      <th>max_vars_count</th>\n",
       "      <th>max_occurence_of_var</th>\n",
       "      <th>vars</th>\n",
       "    </tr>\n",
       "  </thead>\n",
       "  <tbody>\n",
       "    <tr>\n",
       "      <th>0</th>\n",
       "      <td>doi:10.7910/DVN/TKTN5J</td>\n",
       "      <td>AP - Multigrid.R</td>\n",
       "      <td>19.0</td>\n",
       "      <td>1.0</td>\n",
       "      <td>1.0</td>\n",
       "      <td>0.0</td>\n",
       "      <td>0</td>\n",
       "      <td>ascii</td>\n",
       "      <td>48.0</td>\n",
       "      <td>1.53</td>\n",
       "      <td>...</td>\n",
       "      <td>0.645833</td>\n",
       "      <td>4</td>\n",
       "      <td>0.187500</td>\n",
       "      <td>40</td>\n",
       "      <td>4.200000</td>\n",
       "      <td>9</td>\n",
       "      <td>0.187500</td>\n",
       "      <td>2</td>\n",
       "      <td>8</td>\n",
       "      <td>division;dt;r;R;multiplot</td>\n",
       "    </tr>\n",
       "    <tr>\n",
       "      <th>1</th>\n",
       "      <td>doi:10.7910/DVN/TKTN5J</td>\n",
       "      <td>x_Auxiliary Functions.R</td>\n",
       "      <td>28.0</td>\n",
       "      <td>1.0</td>\n",
       "      <td>3.0</td>\n",
       "      <td>0.0</td>\n",
       "      <td>0</td>\n",
       "      <td>utf-8</td>\n",
       "      <td>112.0</td>\n",
       "      <td>3.00</td>\n",
       "      <td>...</td>\n",
       "      <td>0.495575</td>\n",
       "      <td>4</td>\n",
       "      <td>0.159292</td>\n",
       "      <td>57</td>\n",
       "      <td>7.142857</td>\n",
       "      <td>15</td>\n",
       "      <td>0.389381</td>\n",
       "      <td>2</td>\n",
       "      <td>32</td>\n",
       "      <td>division;format_raw_data;rearrange_data;multip...</td>\n",
       "    </tr>\n",
       "    <tr>\n",
       "      <th>2</th>\n",
       "      <td>doi:10.7910/DVN/KKS1R0</td>\n",
       "      <td>data_bayes_out.R</td>\n",
       "      <td>24.0</td>\n",
       "      <td>0.0</td>\n",
       "      <td>4.0</td>\n",
       "      <td>0.0</td>\n",
       "      <td>0</td>\n",
       "      <td>ascii</td>\n",
       "      <td>77.0</td>\n",
       "      <td>2.21</td>\n",
       "      <td>...</td>\n",
       "      <td>0.410256</td>\n",
       "      <td>4</td>\n",
       "      <td>0.205128</td>\n",
       "      <td>88</td>\n",
       "      <td>7.500000</td>\n",
       "      <td>15</td>\n",
       "      <td>0.410256</td>\n",
       "      <td>3</td>\n",
       "      <td>14</td>\n",
       "      <td>division;lowerbound;upperbound;dat.a.bayes.out...</td>\n",
       "    </tr>\n",
       "    <tr>\n",
       "      <th>3</th>\n",
       "      <td>doi:10.7910/DVN/KKS1R0</td>\n",
       "      <td>ep_jags_functions.R</td>\n",
       "      <td>33.0</td>\n",
       "      <td>1.0</td>\n",
       "      <td>3.0</td>\n",
       "      <td>0.0</td>\n",
       "      <td>0</td>\n",
       "      <td>ISO-8859-1</td>\n",
       "      <td>115.0</td>\n",
       "      <td>2.48</td>\n",
       "      <td>...</td>\n",
       "      <td>0.474138</td>\n",
       "      <td>5</td>\n",
       "      <td>0.198276</td>\n",
       "      <td>70</td>\n",
       "      <td>9.500000</td>\n",
       "      <td>17</td>\n",
       "      <td>0.275862</td>\n",
       "      <td>4</td>\n",
       "      <td>27</td>\n",
       "      <td>division;lowerbound;ep.wf.negbin.b;upperbound;...</td>\n",
       "    </tr>\n",
       "    <tr>\n",
       "      <th>4</th>\n",
       "      <td>doi:10.7910/DVN/KKS1R0</td>\n",
       "      <td>prepare_data_set.R</td>\n",
       "      <td>26.0</td>\n",
       "      <td>0.0</td>\n",
       "      <td>1.0</td>\n",
       "      <td>0.0</td>\n",
       "      <td>0</td>\n",
       "      <td>ISO-8859-1</td>\n",
       "      <td>71.0</td>\n",
       "      <td>1.73</td>\n",
       "      <td>...</td>\n",
       "      <td>0.347222</td>\n",
       "      <td>3</td>\n",
       "      <td>0.083333</td>\n",
       "      <td>70</td>\n",
       "      <td>9.117647</td>\n",
       "      <td>17</td>\n",
       "      <td>0.486111</td>\n",
       "      <td>3</td>\n",
       "      <td>19</td>\n",
       "      <td>division;lowerbound;oxyellow;ep.wf.negbin.b;ox...</td>\n",
       "    </tr>\n",
       "  </tbody>\n",
       "</table>\n",
       "<p>5 rows × 39 columns</p>\n",
       "</div>"
      ],
      "text/plain": [
       "                      doi                 filename  comments_no  dep_no  \\\n",
       "0  doi:10.7910/DVN/TKTN5J         AP - Multigrid.R         19.0     1.0   \n",
       "1  doi:10.7910/DVN/TKTN5J  x_Auxiliary Functions.R         28.0     1.0   \n",
       "2  doi:10.7910/DVN/KKS1R0         data_bayes_out.R         24.0     0.0   \n",
       "3  doi:10.7910/DVN/KKS1R0      ep_jags_functions.R         33.0     1.0   \n",
       "4  doi:10.7910/DVN/KKS1R0       prepare_data_set.R         26.0     0.0   \n",
       "\n",
       "   func_no  test_no  class_no    encoding  total_lines  comm_rel  ...  \\\n",
       "0      1.0      0.0         0       ascii         48.0      1.53  ...   \n",
       "1      3.0      0.0         0       utf-8        112.0      3.00  ...   \n",
       "2      4.0      0.0         0       ascii         77.0      2.21  ...   \n",
       "3      3.0      0.0         0  ISO-8859-1        115.0      2.48  ...   \n",
       "4      1.0      0.0         0  ISO-8859-1         71.0      1.73  ...   \n",
       "\n",
       "   avg_keywords  max_keywords  avg_blank_lines  max_occurrence_of_character  \\\n",
       "0      0.645833             4         0.187500                           40   \n",
       "1      0.495575             4         0.159292                           57   \n",
       "2      0.410256             4         0.205128                           88   \n",
       "3      0.474138             5         0.198276                           70   \n",
       "4      0.347222             3         0.083333                           70   \n",
       "\n",
       "   avg_vars_len  max_vars_len  avg_vars_count  max_vars_count  \\\n",
       "0      4.200000             9        0.187500               2   \n",
       "1      7.142857            15        0.389381               2   \n",
       "2      7.500000            15        0.410256               3   \n",
       "3      9.500000            17        0.275862               4   \n",
       "4      9.117647            17        0.486111               3   \n",
       "\n",
       "   max_occurence_of_var                                               vars  \n",
       "0                     8                          division;dt;r;R;multiplot  \n",
       "1                    32  division;format_raw_data;rearrange_data;multip...  \n",
       "2                    14  division;lowerbound;upperbound;dat.a.bayes.out...  \n",
       "3                    27  division;lowerbound;ep.wf.negbin.b;upperbound;...  \n",
       "4                    19  division;lowerbound;oxyellow;ep.wf.negbin.b;ox...  \n",
       "\n",
       "[5 rows x 39 columns]"
      ]
     },
     "execution_count": 144,
     "metadata": {},
     "output_type": "execute_result"
    }
   ],
   "source": [
    "temp.head()"
   ]
  },
  {
   "cell_type": "code",
   "execution_count": null,
   "metadata": {},
   "outputs": [],
   "source": []
  },
  {
   "cell_type": "code",
   "execution_count": 161,
   "metadata": {},
   "outputs": [],
   "source": [
    "df2['func_rel']=(df2['total_lines']- df2['func_no'] - df2['dep_no'] - df2['comments_no'])/df2['func_no']"
   ]
  },
  {
   "cell_type": "code",
   "execution_count": 162,
   "metadata": {},
   "outputs": [
    {
     "data": {
      "text/html": [
       "<div>\n",
       "<style scoped>\n",
       "    .dataframe tbody tr th:only-of-type {\n",
       "        vertical-align: middle;\n",
       "    }\n",
       "\n",
       "    .dataframe tbody tr th {\n",
       "        vertical-align: top;\n",
       "    }\n",
       "\n",
       "    .dataframe thead th {\n",
       "        text-align: right;\n",
       "    }\n",
       "</style>\n",
       "<table border=\"1\" class=\"dataframe\">\n",
       "  <thead>\n",
       "    <tr style=\"text-align: right;\">\n",
       "      <th></th>\n",
       "      <th>doi</th>\n",
       "      <th>filename</th>\n",
       "      <th>comments_no</th>\n",
       "      <th>dep_no</th>\n",
       "      <th>func_no</th>\n",
       "      <th>test_no</th>\n",
       "      <th>class_no</th>\n",
       "      <th>encoding</th>\n",
       "      <th>total_lines</th>\n",
       "      <th>comm_rel</th>\n",
       "      <th>dep_rel</th>\n",
       "      <th>func_rel</th>\n",
       "    </tr>\n",
       "  </thead>\n",
       "  <tbody>\n",
       "    <tr>\n",
       "      <th>0</th>\n",
       "      <td>doi:10.7910/DVN/XFQZI2</td>\n",
       "      <td>Condemnation.R</td>\n",
       "      <td>71.0</td>\n",
       "      <td>10.0</td>\n",
       "      <td>1.0</td>\n",
       "      <td>0.0</td>\n",
       "      <td>0</td>\n",
       "      <td>ascii</td>\n",
       "      <td>335.0</td>\n",
       "      <td>3.72</td>\n",
       "      <td>32.50</td>\n",
       "      <td>253.0</td>\n",
       "    </tr>\n",
       "    <tr>\n",
       "      <th>21</th>\n",
       "      <td>doi:10.7910/DVN/BPON3K</td>\n",
       "      <td>tab_2_balance_test_before_court_decision.R</td>\n",
       "      <td>8.0</td>\n",
       "      <td>4.0</td>\n",
       "      <td>1.0</td>\n",
       "      <td>0.0</td>\n",
       "      <td>0</td>\n",
       "      <td>ascii</td>\n",
       "      <td>168.0</td>\n",
       "      <td>20.00</td>\n",
       "      <td>41.00</td>\n",
       "      <td>155.0</td>\n",
       "    </tr>\n",
       "    <tr>\n",
       "      <th>22</th>\n",
       "      <td>doi:10.7910/DVN/BPON3K</td>\n",
       "      <td>tab_3_balance_test_after_court_decision.R</td>\n",
       "      <td>7.0</td>\n",
       "      <td>4.0</td>\n",
       "      <td>1.0</td>\n",
       "      <td>0.0</td>\n",
       "      <td>0</td>\n",
       "      <td>ascii</td>\n",
       "      <td>161.0</td>\n",
       "      <td>22.00</td>\n",
       "      <td>39.25</td>\n",
       "      <td>149.0</td>\n",
       "    </tr>\n",
       "    <tr>\n",
       "      <th>31</th>\n",
       "      <td>doi:10.7910/DVN/ZWAGXZ</td>\n",
       "      <td>experiment 1 analysis REPLICATION.R</td>\n",
       "      <td>32.0</td>\n",
       "      <td>4.0</td>\n",
       "      <td>1.0</td>\n",
       "      <td>25.0</td>\n",
       "      <td>0</td>\n",
       "      <td>ascii</td>\n",
       "      <td>372.0</td>\n",
       "      <td>10.62</td>\n",
       "      <td>92.00</td>\n",
       "      <td>335.0</td>\n",
       "    </tr>\n",
       "    <tr>\n",
       "      <th>32</th>\n",
       "      <td>doi:10.7910/DVN/ZWAGXZ</td>\n",
       "      <td>experiment 2 analysis REPLICATION.R</td>\n",
       "      <td>49.0</td>\n",
       "      <td>8.0</td>\n",
       "      <td>1.0</td>\n",
       "      <td>7.0</td>\n",
       "      <td>0</td>\n",
       "      <td>ascii</td>\n",
       "      <td>849.0</td>\n",
       "      <td>16.33</td>\n",
       "      <td>105.12</td>\n",
       "      <td>791.0</td>\n",
       "    </tr>\n",
       "  </tbody>\n",
       "</table>\n",
       "</div>"
      ],
      "text/plain": [
       "                       doi                                    filename  \\\n",
       "0   doi:10.7910/DVN/XFQZI2                              Condemnation.R   \n",
       "21  doi:10.7910/DVN/BPON3K  tab_2_balance_test_before_court_decision.R   \n",
       "22  doi:10.7910/DVN/BPON3K   tab_3_balance_test_after_court_decision.R   \n",
       "31  doi:10.7910/DVN/ZWAGXZ         experiment 1 analysis REPLICATION.R   \n",
       "32  doi:10.7910/DVN/ZWAGXZ         experiment 2 analysis REPLICATION.R   \n",
       "\n",
       "    comments_no  dep_no  func_no  test_no  class_no encoding  total_lines  \\\n",
       "0          71.0    10.0      1.0      0.0         0    ascii        335.0   \n",
       "21          8.0     4.0      1.0      0.0         0    ascii        168.0   \n",
       "22          7.0     4.0      1.0      0.0         0    ascii        161.0   \n",
       "31         32.0     4.0      1.0     25.0         0    ascii        372.0   \n",
       "32         49.0     8.0      1.0      7.0         0    ascii        849.0   \n",
       "\n",
       "    comm_rel  dep_rel  func_rel  \n",
       "0       3.72    32.50     253.0  \n",
       "21     20.00    41.00     155.0  \n",
       "22     22.00    39.25     149.0  \n",
       "31     10.62    92.00     335.0  \n",
       "32     16.33   105.12     791.0  "
      ]
     },
     "execution_count": 162,
     "metadata": {},
     "output_type": "execute_result"
    }
   ],
   "source": [
    "df2['func_rel']=df2['func_rel'].round(2)\n",
    "#df2=df2.replace([np.inf, -np.inf], np.nan)\n",
    "df2.head()"
   ]
  },
  {
   "cell_type": "code",
   "execution_count": 163,
   "metadata": {},
   "outputs": [
    {
     "data": {
      "text/plain": [
       "82.41499999999999"
      ]
     },
     "execution_count": 163,
     "metadata": {},
     "output_type": "execute_result"
    }
   ],
   "source": [
    "df2.func_rel.median()"
   ]
  },
  {
   "cell_type": "code",
   "execution_count": 164,
   "metadata": {},
   "outputs": [
    {
     "data": {
      "image/png": "[encoded data removed]",
      "text/plain": [
       "<Figure size 432x288 with 2 Axes>"
      ]
     },
     "metadata": {
      "needs_background": "light"
     },
     "output_type": "display_data"
    }
   ],
   "source": [
    "# Cut the window in 2 parts\n",
    "f, (ax_box, ax_hist) = plt.subplots(2, sharex=True, gridspec_kw={\"height_ratios\": (.15, .85)})\n",
    " \n",
    "# Add a graph in each part\n",
    "sns.boxplot(df2[\"func_rel\"], color='g', ax=ax_box)\n",
    "g = sns.distplot(df2[\"func_rel\"].dropna(), color='g', ax=ax_hist, kde=False, bins=450)\n",
    "#g.set_yscale(\"log\")\n",
    "\n",
    "# Remove x axis name for the boxplot\n",
    "ax_box.set(xlabel='')\n",
    "ax_box.set(title='Number of lines of code per \\nnumber of functions in R files')\n",
    "ax_hist.set(xlabel=\"lines of code / number of functions\")\n",
    "#plt.xscale('log')\n",
    "plt.xlim(0, 600)\n",
    "#plt.ylim(0, 1000)\n",
    "plt.show()\n",
    "\n",
    "f.tight_layout()\n",
    "f.savefig(\"plots/func_rel.png\", dpi=100)"
   ]
  },
  {
   "cell_type": "markdown",
   "metadata": {},
   "source": [
    "# Relative no of class"
   ]
  },
  {
   "cell_type": "code",
   "execution_count": 21,
   "metadata": {},
   "outputs": [
    {
     "data": {
      "image/png": "[encoded data removed]",
      "text/plain": [
       "<Figure size 432x288 with 2 Axes>"
      ]
     },
     "metadata": {
      "needs_background": "light"
     },
     "output_type": "display_data"
    }
   ],
   "source": [
    "rslt_df = df #[df['class_no'] != 0] \n",
    "\n",
    "# ( total lines - no of comments ) / no of comments\n",
    "rslt_df['class_rel']=(rslt_df['total_lines']-rslt_df['class_no'])/rslt_df['class_no']\n",
    "rslt_df['class_rel']=rslt_df['class_no'].round(2)\n",
    "df=df.replace([np.inf, -np.inf], np.nan)\n",
    "\n",
    "# Cut the window in 2 parts\n",
    "f, (ax_box, ax_hist) = plt.subplots(2, sharex=True, gridspec_kw={\"height_ratios\": (.15, .85)})\n",
    " \n",
    "# Add a graph in each part\n",
    "sns.boxplot(rslt_df[\"class_rel\"], color='g', ax=ax_box)\n",
    "sns.distplot(rslt_df[\"class_rel\"].dropna(), color='g', ax=ax_hist, kde=False, bins=150)\n",
    "#g.set_yscale(\"log\")\n",
    "\n",
    "# Remove x axis name for the boxplot\n",
    "ax_box.set(xlabel='')\n",
    "ax_box.set(title='Number of lines of code per number of functions in an R file')\n",
    "ax_hist.set(xlabel=\"lines of code / number of classes\")\n",
    "plt.yscale('log')\n",
    "plt.xlim(0, 20)\n",
    "plt.show()\n",
    "\n",
    "f.tight_layout()\n",
    "f.savefig(\"plots/class_rel.png\", dpi=100)"
   ]
  },
  {
   "cell_type": "markdown",
   "metadata": {},
   "source": [
    "# Relative no of tests"
   ]
  },
  {
   "cell_type": "code",
   "execution_count": 114,
   "metadata": {},
   "outputs": [
    {
     "data": {
      "text/html": [
       "<div>\n",
       "<style scoped>\n",
       "    .dataframe tbody tr th:only-of-type {\n",
       "        vertical-align: middle;\n",
       "    }\n",
       "\n",
       "    .dataframe tbody tr th {\n",
       "        vertical-align: top;\n",
       "    }\n",
       "\n",
       "    .dataframe thead th {\n",
       "        text-align: right;\n",
       "    }\n",
       "</style>\n",
       "<table border=\"1\" class=\"dataframe\">\n",
       "  <thead>\n",
       "    <tr style=\"text-align: right;\">\n",
       "      <th></th>\n",
       "      <th>doi</th>\n",
       "      <th>filename</th>\n",
       "      <th>comments_no</th>\n",
       "      <th>dep_no</th>\n",
       "      <th>func_no</th>\n",
       "      <th>test_no</th>\n",
       "      <th>class_no</th>\n",
       "      <th>encoding</th>\n",
       "      <th>total_lines</th>\n",
       "      <th>comm_rel</th>\n",
       "      <th>dep_rel</th>\n",
       "    </tr>\n",
       "  </thead>\n",
       "  <tbody>\n",
       "    <tr>\n",
       "      <th>0</th>\n",
       "      <td>doi:10.7910/DVN/XFQZI2</td>\n",
       "      <td>Condemnation.R</td>\n",
       "      <td>71.0</td>\n",
       "      <td>10.0</td>\n",
       "      <td>1.0</td>\n",
       "      <td>0.0</td>\n",
       "      <td>0</td>\n",
       "      <td>ascii</td>\n",
       "      <td>335.0</td>\n",
       "      <td>3.72</td>\n",
       "      <td>32.50</td>\n",
       "    </tr>\n",
       "    <tr>\n",
       "      <th>1</th>\n",
       "      <td>doi:10.7910/DVN/WGPDBS</td>\n",
       "      <td>Replication_of_Figures.R</td>\n",
       "      <td>17.0</td>\n",
       "      <td>1.0</td>\n",
       "      <td>0.0</td>\n",
       "      <td>0.0</td>\n",
       "      <td>0</td>\n",
       "      <td>ascii</td>\n",
       "      <td>238.0</td>\n",
       "      <td>13.00</td>\n",
       "      <td>237.00</td>\n",
       "    </tr>\n",
       "    <tr>\n",
       "      <th>2</th>\n",
       "      <td>doi:10.7910/DVN/BPON3K</td>\n",
       "      <td>fig_10_effect_of_winning_on_gov.R</td>\n",
       "      <td>13.0</td>\n",
       "      <td>4.0</td>\n",
       "      <td>0.0</td>\n",
       "      <td>2.0</td>\n",
       "      <td>0</td>\n",
       "      <td>Windows-1252</td>\n",
       "      <td>188.0</td>\n",
       "      <td>13.46</td>\n",
       "      <td>46.00</td>\n",
       "    </tr>\n",
       "    <tr>\n",
       "      <th>3</th>\n",
       "      <td>doi:10.7910/DVN/BPON3K</td>\n",
       "      <td>fig_11_rd_placebo.R</td>\n",
       "      <td>8.0</td>\n",
       "      <td>4.0</td>\n",
       "      <td>0.0</td>\n",
       "      <td>2.0</td>\n",
       "      <td>0</td>\n",
       "      <td>Windows-1252</td>\n",
       "      <td>153.0</td>\n",
       "      <td>18.12</td>\n",
       "      <td>37.25</td>\n",
       "    </tr>\n",
       "    <tr>\n",
       "      <th>4</th>\n",
       "      <td>doi:10.7910/DVN/BPON3K</td>\n",
       "      <td>fig_12_historical_trend.R</td>\n",
       "      <td>4.0</td>\n",
       "      <td>3.0</td>\n",
       "      <td>0.0</td>\n",
       "      <td>0.0</td>\n",
       "      <td>0</td>\n",
       "      <td>Windows-1252</td>\n",
       "      <td>37.0</td>\n",
       "      <td>8.25</td>\n",
       "      <td>11.33</td>\n",
       "    </tr>\n",
       "  </tbody>\n",
       "</table>\n",
       "</div>"
      ],
      "text/plain": [
       "                      doi                           filename  comments_no  \\\n",
       "0  doi:10.7910/DVN/XFQZI2                     Condemnation.R         71.0   \n",
       "1  doi:10.7910/DVN/WGPDBS           Replication_of_Figures.R         17.0   \n",
       "2  doi:10.7910/DVN/BPON3K  fig_10_effect_of_winning_on_gov.R         13.0   \n",
       "3  doi:10.7910/DVN/BPON3K                fig_11_rd_placebo.R          8.0   \n",
       "4  doi:10.7910/DVN/BPON3K          fig_12_historical_trend.R          4.0   \n",
       "\n",
       "   dep_no  func_no  test_no  class_no      encoding  total_lines  comm_rel  \\\n",
       "0    10.0      1.0      0.0         0         ascii        335.0      3.72   \n",
       "1     1.0      0.0      0.0         0         ascii        238.0     13.00   \n",
       "2     4.0      0.0      2.0         0  Windows-1252        188.0     13.46   \n",
       "3     4.0      0.0      2.0         0  Windows-1252        153.0     18.12   \n",
       "4     3.0      0.0      0.0         0  Windows-1252         37.0      8.25   \n",
       "\n",
       "   dep_rel  \n",
       "0    32.50  \n",
       "1   237.00  \n",
       "2    46.00  \n",
       "3    37.25  \n",
       "4    11.33  "
      ]
     },
     "execution_count": 114,
     "metadata": {},
     "output_type": "execute_result"
    }
   ],
   "source": [
    "df.head()"
   ]
  },
  {
   "cell_type": "code",
   "execution_count": 115,
   "metadata": {},
   "outputs": [
    {
     "data": {
      "text/plain": [
       "2262"
      ]
     },
     "execution_count": 115,
     "metadata": {},
     "output_type": "execute_result"
    }
   ],
   "source": [
    "(df['test_no'] != 0).sum()"
   ]
  },
  {
   "cell_type": "code",
   "execution_count": 116,
   "metadata": {},
   "outputs": [
    {
     "data": {
      "text/plain": [
       "2262"
      ]
     },
     "execution_count": 116,
     "metadata": {},
     "output_type": "execute_result"
    }
   ],
   "source": [
    "df2 = df.loc[df['test_no'] != 0].copy()\n",
    "len(df2)"
   ]
  },
  {
   "cell_type": "code",
   "execution_count": 117,
   "metadata": {},
   "outputs": [
    {
     "data": {
      "text/html": [
       "<div>\n",
       "<style scoped>\n",
       "    .dataframe tbody tr th:only-of-type {\n",
       "        vertical-align: middle;\n",
       "    }\n",
       "\n",
       "    .dataframe tbody tr th {\n",
       "        vertical-align: top;\n",
       "    }\n",
       "\n",
       "    .dataframe thead th {\n",
       "        text-align: right;\n",
       "    }\n",
       "</style>\n",
       "<table border=\"1\" class=\"dataframe\">\n",
       "  <thead>\n",
       "    <tr style=\"text-align: right;\">\n",
       "      <th></th>\n",
       "      <th>doi</th>\n",
       "      <th>filename</th>\n",
       "      <th>comments_no</th>\n",
       "      <th>dep_no</th>\n",
       "      <th>func_no</th>\n",
       "      <th>test_no</th>\n",
       "      <th>class_no</th>\n",
       "      <th>encoding</th>\n",
       "      <th>total_lines</th>\n",
       "      <th>comm_rel</th>\n",
       "      <th>dep_rel</th>\n",
       "      <th>test_rel</th>\n",
       "    </tr>\n",
       "  </thead>\n",
       "  <tbody>\n",
       "    <tr>\n",
       "      <th>2</th>\n",
       "      <td>doi:10.7910/DVN/BPON3K</td>\n",
       "      <td>fig_10_effect_of_winning_on_gov.R</td>\n",
       "      <td>13.0</td>\n",
       "      <td>4.0</td>\n",
       "      <td>0.0</td>\n",
       "      <td>2.0</td>\n",
       "      <td>0</td>\n",
       "      <td>Windows-1252</td>\n",
       "      <td>188.0</td>\n",
       "      <td>13.46</td>\n",
       "      <td>46.00</td>\n",
       "      <td>94.0</td>\n",
       "    </tr>\n",
       "    <tr>\n",
       "      <th>3</th>\n",
       "      <td>doi:10.7910/DVN/BPON3K</td>\n",
       "      <td>fig_11_rd_placebo.R</td>\n",
       "      <td>8.0</td>\n",
       "      <td>4.0</td>\n",
       "      <td>0.0</td>\n",
       "      <td>2.0</td>\n",
       "      <td>0</td>\n",
       "      <td>Windows-1252</td>\n",
       "      <td>153.0</td>\n",
       "      <td>18.12</td>\n",
       "      <td>37.25</td>\n",
       "      <td>76.5</td>\n",
       "    </tr>\n",
       "    <tr>\n",
       "      <th>7</th>\n",
       "      <td>doi:10.7910/DVN/BPON3K</td>\n",
       "      <td>fig_2_fig_4_party_switching.R</td>\n",
       "      <td>34.0</td>\n",
       "      <td>4.0</td>\n",
       "      <td>0.0</td>\n",
       "      <td>4.0</td>\n",
       "      <td>0</td>\n",
       "      <td>ascii</td>\n",
       "      <td>302.0</td>\n",
       "      <td>7.88</td>\n",
       "      <td>74.50</td>\n",
       "      <td>75.5</td>\n",
       "    </tr>\n",
       "    <tr>\n",
       "      <th>8</th>\n",
       "      <td>doi:10.7910/DVN/BPON3K</td>\n",
       "      <td>fig_3_effect_of_winning_on_federal_congress.R</td>\n",
       "      <td>6.0</td>\n",
       "      <td>4.0</td>\n",
       "      <td>0.0</td>\n",
       "      <td>2.0</td>\n",
       "      <td>0</td>\n",
       "      <td>Windows-1252</td>\n",
       "      <td>156.0</td>\n",
       "      <td>25.00</td>\n",
       "      <td>38.00</td>\n",
       "      <td>78.0</td>\n",
       "    </tr>\n",
       "    <tr>\n",
       "      <th>9</th>\n",
       "      <td>doi:10.7910/DVN/BPON3K</td>\n",
       "      <td>fig_5_tab_7_rd_robust_estimations.R</td>\n",
       "      <td>6.0</td>\n",
       "      <td>6.0</td>\n",
       "      <td>0.0</td>\n",
       "      <td>2.0</td>\n",
       "      <td>0</td>\n",
       "      <td>ascii</td>\n",
       "      <td>107.0</td>\n",
       "      <td>16.83</td>\n",
       "      <td>16.83</td>\n",
       "      <td>53.5</td>\n",
       "    </tr>\n",
       "  </tbody>\n",
       "</table>\n",
       "</div>"
      ],
      "text/plain": [
       "                      doi                                       filename  \\\n",
       "2  doi:10.7910/DVN/BPON3K              fig_10_effect_of_winning_on_gov.R   \n",
       "3  doi:10.7910/DVN/BPON3K                            fig_11_rd_placebo.R   \n",
       "7  doi:10.7910/DVN/BPON3K                  fig_2_fig_4_party_switching.R   \n",
       "8  doi:10.7910/DVN/BPON3K  fig_3_effect_of_winning_on_federal_congress.R   \n",
       "9  doi:10.7910/DVN/BPON3K            fig_5_tab_7_rd_robust_estimations.R   \n",
       "\n",
       "   comments_no  dep_no  func_no  test_no  class_no      encoding  total_lines  \\\n",
       "2         13.0     4.0      0.0      2.0         0  Windows-1252        188.0   \n",
       "3          8.0     4.0      0.0      2.0         0  Windows-1252        153.0   \n",
       "7         34.0     4.0      0.0      4.0         0         ascii        302.0   \n",
       "8          6.0     4.0      0.0      2.0         0  Windows-1252        156.0   \n",
       "9          6.0     6.0      0.0      2.0         0         ascii        107.0   \n",
       "\n",
       "   comm_rel  dep_rel  test_rel  \n",
       "2     13.46    46.00      94.0  \n",
       "3     18.12    37.25      76.5  \n",
       "7      7.88    74.50      75.5  \n",
       "8     25.00    38.00      78.0  \n",
       "9     16.83    16.83      53.5  "
      ]
     },
     "execution_count": 117,
     "metadata": {},
     "output_type": "execute_result"
    }
   ],
   "source": [
    "df2['test_rel']=df2['total_lines']/df2['test_no']\n",
    "df2['test_rel']=df2['test_rel'].round(2)\n",
    "#df2=df2.replace([np.inf, -np.inf], np.nan)\n",
    "df2.head()"
   ]
  },
  {
   "cell_type": "code",
   "execution_count": 121,
   "metadata": {},
   "outputs": [
    {
     "data": {
      "image/png": "[encoded data removed]",
      "text/plain": [
       "<Figure size 432x288 with 2 Axes>"
      ]
     },
     "metadata": {
      "needs_background": "light"
     },
     "output_type": "display_data"
    }
   ],
   "source": [
    "# Cut the window in 2 parts\n",
    "f, (ax_box, ax_hist) = plt.subplots(2, sharex=True, gridspec_kw={\"height_ratios\": (.15, .85)})\n",
    " \n",
    "# Add a graph in each part\n",
    "sns.boxplot(df2[\"test_rel\"], color='c', ax=ax_box)\n",
    "g = sns.distplot(df2[\"test_rel\"].dropna(), color='c', ax=ax_hist, kde=False, bins=350)\n",
    "#g.set_yscale(\"log\")\n",
    "\n",
    "# Remove x axis name for the boxplot\n",
    "ax_box.set(xlabel='')\n",
    "ax_box.set(title='Relative occurence of word \"test\" in R files')\n",
    "ax_hist.set(xlabel=\"lines of code / count of word 'test'\")\n",
    "#plt.xscale('log')\n",
    "plt.xlim(0, 350)\n",
    "#plt.ylim(0, 1000)\n",
    "plt.show()\n",
    "\n",
    "f.tight_layout()\n",
    "f.savefig(\"plots/test_rel.png\", dpi=100)"
   ]
  },
  {
   "cell_type": "code",
   "execution_count": 124,
   "metadata": {},
   "outputs": [
    {
     "data": {
      "text/plain": [
       "4.0"
      ]
     },
     "execution_count": 124,
     "metadata": {},
     "output_type": "execute_result"
    }
   ],
   "source": [
    "df2['test_no'].median()"
   ]
  },
  {
   "cell_type": "code",
   "execution_count": 126,
   "metadata": {},
   "outputs": [
    {
     "data": {
      "text/plain": [
       "53.5"
      ]
     },
     "execution_count": 126,
     "metadata": {},
     "output_type": "execute_result"
    }
   ],
   "source": [
    "df2['test_rel'].median()"
   ]
  },
  {
   "cell_type": "markdown",
   "metadata": {},
   "source": [
    "# Encoding"
   ]
  },
  {
   "cell_type": "code",
   "execution_count": 22,
   "metadata": {},
   "outputs": [],
   "source": [
    "temo = df.encoding.value_counts().reset_index().head(4)"
   ]
  },
  {
   "cell_type": "code",
   "execution_count": 23,
   "metadata": {},
   "outputs": [],
   "source": [
    "labels = temo['index']\n",
    "labels = labels.append(pd.Series('other'))"
   ]
  },
  {
   "cell_type": "code",
   "execution_count": 24,
   "metadata": {},
   "outputs": [],
   "source": [
    "sizes = temo['encoding']\n",
    "sizes = sizes.append(pd.Series(64))"
   ]
  },
  {
   "cell_type": "code",
   "execution_count": 25,
   "metadata": {},
   "outputs": [
    {
     "data": {
      "text/plain": [
       "0           ascii\n",
       "1           utf-8\n",
       "2      ISO-8859-1\n",
       "3    Windows-1252\n",
       "0           other\n",
       "dtype: object"
      ]
     },
     "execution_count": 25,
     "metadata": {},
     "output_type": "execute_result"
    }
   ],
   "source": [
    "labels"
   ]
  },
  {
   "cell_type": "code",
   "execution_count": 26,
   "metadata": {},
   "outputs": [
    {
     "name": "stderr",
     "output_type": "stream",
     "text": [
      "/Users/anatrisovic/Desktop/aws-dataverse/env/lib/python2.7/site-packages/matplotlib/legend.py:1363: UserWarning: You have mixed positional and keyword arguments, some input may be discarded.\n",
      "  warnings.warn(\"You have mixed positional and keyword \"\n"
     ]
    },
    {
     "data": {
      "image/png": "[encoded data removed]",
      "text/plain": [
       "<Figure size 432x288 with 1 Axes>"
      ]
     },
     "metadata": {},
     "output_type": "display_data"
    }
   ],
   "source": [
    "# Pie chart\n",
    "#labels = ['Yes',  'No']\n",
    "#sizes = [(df['docs'] == 1).sum(), (df['docs'] == 0).sum()]\n",
    " \n",
    "fig1, ax1 = plt.subplots()\n",
    "plt.rcParams['font.size'] = 15\n",
    "pie = ax1.pie(sizes,   startangle=10, \\\n",
    "        textprops={'fontsize': 12},wedgeprops={'alpha':0.7})\n",
    "\n",
    "#draw circle\n",
    "centre_circle = plt.Circle((0,0),0.70,fc='white')\n",
    "\n",
    "fig = plt.gcf()\n",
    "fig.gca().add_artist(centre_circle)\n",
    "\n",
    "# Equal aspect ratio ensures that pie is drawn as a circle\n",
    "ax1.axis('equal')  \n",
    "plt.title(\"Code file (script) encoding\", size=18)\n",
    "plt.tight_layout()\n",
    "\n",
    "#ax2 = fig.add_subplot(212)\n",
    "#ax2.axis(\"off\") \n",
    "#ax2.legend(pie[0],labels, loc=\"center\")\n",
    "total = sizes.sum()\n",
    "plt.legend(\n",
    "    pie[0],labels=['%s, %1.1f %%' % (l, s*100.0/total) for l, s in zip(labels, sizes)], \\\n",
    "    bbox_to_anchor=(1.35,0.3), loc=\"lower right\", \\\n",
    "    bbox_transform=plt.gcf().transFigure)\n",
    "\n",
    "plt.show()\n",
    "fig.savefig(\"plots/encoding.png\", bbox_inches=\"tight\")"
   ]
  },
  {
   "cell_type": "code",
   "execution_count": null,
   "metadata": {},
   "outputs": [],
   "source": []
  }
 ],
 "metadata": {
  "kernelspec": {
   "display_name": "env",
   "language": "python",
   "name": "env"
  },
  "language_info": {
   "codemirror_mode": {
    "name": "ipython",
    "version": 2
   },
   "file_extension": ".py",
   "mimetype": "text/x-python",
   "name": "python",
   "nbconvert_exporter": "python",
   "pygments_lexer": "ipython2",
   "version": "2.7.16"
  }
 },
 "nbformat": 4,
 "nbformat_minor": 2
}
