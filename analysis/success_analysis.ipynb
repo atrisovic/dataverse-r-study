{
 "cells": [
  {
   "cell_type": "code",
   "execution_count": 1,
   "metadata": {},
   "outputs": [],
   "source": [
    "import pandas"
   ]
  },
  {
   "cell_type": "code",
   "execution_count": 2,
   "metadata": {},
   "outputs": [],
   "source": [
    "df = pandas.read_csv(\"run_log.csv\", sep=\"\\t\", names=[\"doi\", \"file\", \"result\"])"
   ]
  },
  {
   "cell_type": "code",
   "execution_count": 3,
   "metadata": {},
   "outputs": [
    {
     "data": {
      "text/html": [
       "<div>\n",
       "<style scoped>\n",
       "    .dataframe tbody tr th:only-of-type {\n",
       "        vertical-align: middle;\n",
       "    }\n",
       "\n",
       "    .dataframe tbody tr th {\n",
       "        vertical-align: top;\n",
       "    }\n",
       "\n",
       "    .dataframe thead th {\n",
       "        text-align: right;\n",
       "    }\n",
       "</style>\n",
       "<table border=\"1\" class=\"dataframe\">\n",
       "  <thead>\n",
       "    <tr style=\"text-align: right;\">\n",
       "      <th></th>\n",
       "      <th>doi</th>\n",
       "      <th>file</th>\n",
       "      <th>result</th>\n",
       "    </tr>\n",
       "  </thead>\n",
       "  <tbody>\n",
       "    <tr>\n",
       "      <th>0</th>\n",
       "      <td>doi:10.7910/DVN/BPON3K</td>\n",
       "      <td>fig_10_effect_of_winning_on_gov.R</td>\n",
       "      <td>success</td>\n",
       "    </tr>\n",
       "    <tr>\n",
       "      <th>1</th>\n",
       "      <td>doi:10.7910/DVN/BPON3K</td>\n",
       "      <td>fig_11_rd_placebo.R</td>\n",
       "      <td>success</td>\n",
       "    </tr>\n",
       "    <tr>\n",
       "      <th>2</th>\n",
       "      <td>doi:10.7910/DVN/BPON3K</td>\n",
       "      <td>fig_12_historical_trend.R</td>\n",
       "      <td>Error in library(data.table) : there is no pac...</td>\n",
       "    </tr>\n",
       "    <tr>\n",
       "      <th>3</th>\n",
       "      <td>doi:10.7910/DVN/BPON3K</td>\n",
       "      <td>fig_13_plot_loyalty_df_pct.R</td>\n",
       "      <td>Error in library(data.table) : there is no pac...</td>\n",
       "    </tr>\n",
       "    <tr>\n",
       "      <th>4</th>\n",
       "      <td>doi:10.7910/DVN/BPON3K</td>\n",
       "      <td>fig_14_effect_on_individual_parties.R</td>\n",
       "      <td>Error in library(data.table) : there is no pac...</td>\n",
       "    </tr>\n",
       "  </tbody>\n",
       "</table>\n",
       "</div>"
      ],
      "text/plain": [
       "                      doi                                   file  \\\n",
       "0  doi:10.7910/DVN/BPON3K      fig_10_effect_of_winning_on_gov.R   \n",
       "1  doi:10.7910/DVN/BPON3K                    fig_11_rd_placebo.R   \n",
       "2  doi:10.7910/DVN/BPON3K              fig_12_historical_trend.R   \n",
       "3  doi:10.7910/DVN/BPON3K           fig_13_plot_loyalty_df_pct.R   \n",
       "4  doi:10.7910/DVN/BPON3K  fig_14_effect_on_individual_parties.R   \n",
       "\n",
       "                                              result  \n",
       "0                                            success  \n",
       "1                                            success  \n",
       "2  Error in library(data.table) : there is no pac...  \n",
       "3  Error in library(data.table) : there is no pac...  \n",
       "4  Error in library(data.table) : there is no pac...  "
      ]
     },
     "execution_count": 3,
     "metadata": {},
     "output_type": "execute_result"
    }
   ],
   "source": [
    "df.head()"
   ]
  },
  {
   "cell_type": "code",
   "execution_count": 4,
   "metadata": {},
   "outputs": [
    {
     "data": {
      "text/plain": [
       "success                                                                                                                                                                                                                                                                                 884\n",
       "time limit exceeded                                                                                                                                                                                                                                                                     631\n",
       "Error in readChar(con, 5L, useBytes = TRUE) : cannot open the connection                                                                                                                                                                                                                266\n",
       "Error in file(file, rt) : cannot open the connection                                                                                                                                                                                                                                    203\n",
       "Error in library(car) : there is no package called 'car'                                                                                                                                                                                                                                145\n",
       "Error in library(Hmisc) : there is no package called 'Hmisc'                                                                                                                                                                                                                            143\n",
       "Error in library(data.table) : there is no package called 'data.table'                                                                                                                                                                                                                  112\n",
       "other error                                                                                                                                                                                                                                                                              68\n",
       "Error in library(Zelig) : there is no package called 'Zelig'                                                                                                                                                                                                                             58\n",
       "Error in library(MCMCpack) : there is no package called 'MCMCpack'                                                                                                                                                                                                                       51\n",
       "Error in library(dplyr) : there is no package called 'dplyr'                                                                                                                                                                                                                             49\n",
       "Error in file(filename, r, encoding = encoding) : [newline]  cannot open the connection                                                                                                                                                                                                  40\n",
       "Error in library(rjags) : there is no package called 'rjags'                                                                                                                                                                                                                             40\n",
       "Error in load(replication_data.RData) : [newline]  bad restore file magic number (file may be corrupted) -- no data loaded                                                                                                                                                               39\n",
       "Error in library(lme4) : there is no package called 'lme4'                                                                                                                                                                                                                               34\n",
       "Error in library(AER) : there is no package called 'AER'                                                                                                                                                                                                                                 33\n",
       "Error in library(rgdal) : there is no package called 'rgdal'                                                                                                                                                                                                                             32\n",
       "Error in library(gplots) : there is no package called 'gplots'                                                                                                                                                                                                                           31\n",
       "Error in library(plyr) : there is no package called 'plyr'                                                                                                                                                                                                                               28\n",
       "Error in loadNamespace(name) : there is no package called 'pacman'                                                                                                                                                                                                                       26\n",
       "Error in library(xlsx) : there is no package called 'xlsx'                                                                                                                                                                                                                               26\n",
       "Error in library(SemiParBIVProbit) : [newline]  there is no package called 'SemiParBIVProbit'                                                                                                                                                                                            25\n",
       "Error in library(spdep) : there is no package called 'spdep'                                                                                                                                                                                                                             24\n",
       "Error in library(rstan) : there is no package called 'rstan'                                                                                                                                                                                                                             23\n",
       "Error in library(arm) : there is no package called 'arm'                                                                                                                                                                                                                                 23\n",
       "Error in library(metafor) : there is no package called 'metafor'                                                                                                                                                                                                                         23\n",
       "Error in library(stm) : there is no package called 'stm'                                                                                                                                                                                                                                 23\n",
       "Error in library(effects) : there is no package called 'effects'                                                                                                                                                                                                                         22\n",
       "Error in library(mvtnorm) : there is no package called 'mvtnorm'                                                                                                                                                                                                                         22\n",
       "Error in library(mc2d) : there is no package called 'mc2d'                                                                                                                                                                                                                               21\n",
       "                                                                                                                                                                                                                                                                                       ... \n",
       "Error in source(r_file) : figures_e5_to_e9.R:3:1: unexpected '<'[newline]2: [newline]3: <[newline]   ^                                                                                                                                                                                    1\n",
       "Error in library(lib, character.only = TRUE) : [newline]  there is no package called 'DataCombine'                                                                                                                                                                                        1\n",
       "Error in source(r_file) : 2-ImageAdContent.R:3:18: unexpected ','[newline]2: [newline]3: {status:ERROR,[newline]                    ^                                                                                                                                                     1\n",
       "Error in table(responses_df$curfew) : object 'responses_df' not found                                                                                                                                                                                                                     1\n",
       "Error in sink(con_log) : cannot open the connection                                                                                                                                                                                                                                       1\n",
       "Error in source(r_file) : corbacho-4.R:3:1: unexpected '<'[newline]2: [newline]3: <[newline]   ^                                                                                                                                                                                          1\n",
       "Error in source(r_file) : Prediction1AJPS.R:54:1: unexpected input[newline]53: for(i in 1:P){[newline]54: �[newline]    ^                                                                                                                                                                 1\n",
       "Error in read.dta(trend2.dta, convert.factors = FALSE, convert.underscore = FALSE) : [newline]  unable to open file: 'No such file or directory'                                                                                                                                          1\n",
       "Error in polr(as.factor(q63) ~ q150 + as.factor(q173) + q166 + dissimyesh *  : [newline]  could not find function polr                                                                                                                                                                    1\n",
       "Error in source(r_file) : ivregs.R:3:1: unexpected '<'[newline]2: [newline]3: <[newline]   ^                                                                                                                                                                                              1\n",
       "Error in read.dta(data_extreme_pessimists_old.dta) : [newline]  unable to open file: 'No such file or directory'                                                                                                                                                                          1\n",
       "Error in source(r_file) : [newline]  22_figure8_priors_heterogeneity_lowess.R:3:1: unexpected '<'[newline]2: [newline]3: <[newline]   ^                                                                                                                                                   1\n",
       "Error in round(h, 3) : non-numeric argument to mathematical function                                                                                                                                                                                                                      1\n",
       "Error in source(r_file) : 02_convert_raw_spss_stata.R:3:1: unexpected '<'[newline]2: [newline]3: <[newline]   ^                                                                                                                                                                           1\n",
       "Error in read.dta(Latinobarometro_2011_esp.dta) : [newline]  unable to open file: 'No such file or directory'                                                                                                                                                                             1\n",
       "Error in eval(lhs, parent, parent) : [newline]  object 'm1.cat.bayes.contact' not found                                                                                                                                                                                                   1\n",
       "Error in read.spss(exitpolls/usmi2006-natelec.por) : [newline]  unable to open file: 'No such file or directory'                                                                                                                                                                          1\n",
       "Error in each(mean, sd, lower.95.bound, upper.95.bound) : [newline]  could not find function each                                                                                                                                                                                         1\n",
       "Error in read.dta(entropycontrast7.dta) : [newline]  unable to open file: 'No such file or directory'                                                                                                                                                                                     1\n",
       "Error in read.dta(./original data/baro_drees_2015_queteletv2.dta) : [newline]  could not find function read.dta                                                                                                                                                                           1\n",
       "Error in gpclibPermit() : could not find function gpclibPermit                                                                                                                                                                                                                            1\n",
       "Error in library(gam) : there is no package called 'gam'                                                                                                                                                                                                                                  1\n",
       "Error in loadNamespace(name) : there is no package called 'plyr'                                                                                                                                                                                                                          1\n",
       "Error in loadNamespace(name) : there is no package called 'renv'                                                                                                                                                                                                                          1\n",
       "Error in eval(ei, envir) : object 'a' not found                                                                                                                                                                                                                                           1\n",
       "Error in source(r_file) : rsr_ehsi_3appendixAnalysis.R:201:1: unexpected input[newline]200: se.dy.dx.ur <- sqrt(cov.ur[occ_gen_uer, occ_gen_uer] + z0.ur^2*cov.ur[I(occ_gen_uer^2), I(occ_gen_uer^2)] + 2*z0.ur*cov.ur[occ_gen_uer, I(occ_gen_uer^2)])[newline]201: �[newline]     ^      1\n",
       "Error in subset(dat, dat$needsinc == TRUE) : object 'dat' not found                                                                                                                                                                                                                       1\n",
       "Error in read.dta(outcome_measures.dta) : [newline]  unable to open file: 'No such file or directory'                                                                                                                                                                                     1\n",
       "Error in source(r_file) : figure_e10.R:3:1: unexpected '<'[newline]2: [newline]3: <[newline]   ^                                                                                                                                                                                          1\n",
       "Error in source(r_file) : [newline]  sample_instagram_by_population.R:235:19: unexpected ')'[newline]234: [newline]235:             sep=)[newline]                       ^                                                                                                                1\n",
       "Name: result, Length: 1782, dtype: int64"
      ]
     },
     "execution_count": 4,
     "metadata": {},
     "output_type": "execute_result"
    }
   ],
   "source": [
    "df['result'].value_counts()"
   ]
  },
  {
   "cell_type": "markdown",
   "metadata": {},
   "source": [
    "# Contain fig or plot in filename"
   ]
  },
  {
   "cell_type": "code",
   "execution_count": 10,
   "metadata": {},
   "outputs": [],
   "source": [
    "def contain_fig(el):\n",
    "    \"checks if filename contains fig or plot\"\n",
    "    temp = el.lower()\n",
    "    if \"fig\" in temp or \"plot\" in temp or \"table\" in temp:\n",
    "        return 1\n",
    "    if \"step\" in temp:\n",
    "        return 2\n",
    "    return 0\n",
    "\n",
    "df['fig']=df[\"file\"].apply(contain_fig)"
   ]
  },
  {
   "cell_type": "code",
   "execution_count": 11,
   "metadata": {
    "scrolled": true
   },
   "outputs": [
    {
     "data": {
      "text/html": [
       "<div>\n",
       "<style scoped>\n",
       "    .dataframe tbody tr th:only-of-type {\n",
       "        vertical-align: middle;\n",
       "    }\n",
       "\n",
       "    .dataframe tbody tr th {\n",
       "        vertical-align: top;\n",
       "    }\n",
       "\n",
       "    .dataframe thead th {\n",
       "        text-align: right;\n",
       "    }\n",
       "</style>\n",
       "<table border=\"1\" class=\"dataframe\">\n",
       "  <thead>\n",
       "    <tr style=\"text-align: right;\">\n",
       "      <th></th>\n",
       "      <th>doi</th>\n",
       "      <th>file</th>\n",
       "      <th>result</th>\n",
       "      <th>fig</th>\n",
       "    </tr>\n",
       "  </thead>\n",
       "  <tbody>\n",
       "    <tr>\n",
       "      <th>0</th>\n",
       "      <td>doi:10.7910/DVN/BPON3K</td>\n",
       "      <td>fig_10_effect_of_winning_on_gov.R</td>\n",
       "      <td>success</td>\n",
       "      <td>1</td>\n",
       "    </tr>\n",
       "    <tr>\n",
       "      <th>1</th>\n",
       "      <td>doi:10.7910/DVN/BPON3K</td>\n",
       "      <td>fig_11_rd_placebo.R</td>\n",
       "      <td>success</td>\n",
       "      <td>1</td>\n",
       "    </tr>\n",
       "    <tr>\n",
       "      <th>2</th>\n",
       "      <td>doi:10.7910/DVN/BPON3K</td>\n",
       "      <td>fig_12_historical_trend.R</td>\n",
       "      <td>Error in library(data.table) : there is no pac...</td>\n",
       "      <td>1</td>\n",
       "    </tr>\n",
       "    <tr>\n",
       "      <th>3</th>\n",
       "      <td>doi:10.7910/DVN/BPON3K</td>\n",
       "      <td>fig_13_plot_loyalty_df_pct.R</td>\n",
       "      <td>Error in library(data.table) : there is no pac...</td>\n",
       "      <td>1</td>\n",
       "    </tr>\n",
       "    <tr>\n",
       "      <th>4</th>\n",
       "      <td>doi:10.7910/DVN/BPON3K</td>\n",
       "      <td>fig_14_effect_on_individual_parties.R</td>\n",
       "      <td>Error in library(data.table) : there is no pac...</td>\n",
       "      <td>1</td>\n",
       "    </tr>\n",
       "  </tbody>\n",
       "</table>\n",
       "</div>"
      ],
      "text/plain": [
       "                      doi                                   file  \\\n",
       "0  doi:10.7910/DVN/BPON3K      fig_10_effect_of_winning_on_gov.R   \n",
       "1  doi:10.7910/DVN/BPON3K                    fig_11_rd_placebo.R   \n",
       "2  doi:10.7910/DVN/BPON3K              fig_12_historical_trend.R   \n",
       "3  doi:10.7910/DVN/BPON3K           fig_13_plot_loyalty_df_pct.R   \n",
       "4  doi:10.7910/DVN/BPON3K  fig_14_effect_on_individual_parties.R   \n",
       "\n",
       "                                              result  fig  \n",
       "0                                            success    1  \n",
       "1                                            success    1  \n",
       "2  Error in library(data.table) : there is no pac...    1  \n",
       "3  Error in library(data.table) : there is no pac...    1  \n",
       "4  Error in library(data.table) : there is no pac...    1  "
      ]
     },
     "execution_count": 11,
     "metadata": {},
     "output_type": "execute_result"
    }
   ],
   "source": [
    "df.head()"
   ]
  },
  {
   "cell_type": "code",
   "execution_count": 8,
   "metadata": {},
   "outputs": [],
   "source": [
    "import numpy as np\n",
    "import matplotlib.pyplot as plt\n",
    "import seaborn as sns\n",
    "from matplotlib import rc\n",
    "import pandas as pd\n",
    "\n",
    "# plot style\n",
    "sns.set_style('whitegrid')\n",
    "sns.set_style({'font.family': 'Times New Roman'})"
   ]
  },
  {
   "cell_type": "code",
   "execution_count": 15,
   "metadata": {},
   "outputs": [
    {
     "data": {
      "image/png": "[encoded data removed]",
      "text/plain": [
       "<Figure size 432x288 with 1 Axes>"
      ]
     },
     "metadata": {},
     "output_type": "display_data"
    }
   ],
   "source": [
    "# Pie chart\n",
    "labels = ['Other name', \"Filename contains 'fig', 'plot' or 'table'\", \"Filename contains 'step'\"]\n",
    "sizes = [(df['fig'] == 0).sum(), (df['fig'] == 1).sum(), (df['fig'] == 2).sum()]\n",
    "#colors = ['#99ff99', '#ff9999']\n",
    " \n",
    "fig1, ax1 = plt.subplots()\n",
    "plt.rcParams['font.size'] = 15\n",
    "ax1.pie(sizes, labels=labels, autopct='%1.1f%%', startangle=110,  textprops={'fontsize': 14}, wedgeprops={'alpha':0.7})\n",
    "\n",
    "#draw circle\n",
    "centre_circle = plt.Circle((0,0),0.70,fc='white')\n",
    "\n",
    "fig = plt.gcf()\n",
    "fig.gca().add_artist(centre_circle)\n",
    "\n",
    "# Equal aspect ratio ensures that pie is drawn as a circle\n",
    "ax1.axis('equal')  \n",
    "plt.title(\"Filename types\", size=18)\n",
    "plt.tight_layout()\n",
    "\n",
    "plt.show()\n",
    "fig.savefig(\"plots/fig.png\", dpi=100)"
   ]
  },
  {
   "cell_type": "markdown",
   "metadata": {},
   "source": [
    "# Success rate"
   ]
  },
  {
   "cell_type": "code",
   "execution_count": 6,
   "metadata": {},
   "outputs": [
    {
     "name": "stdout",
     "output_type": "stream",
     "text": [
      "884 out of 5781 => 0.15291472063656808\n"
     ]
    }
   ],
   "source": [
    "success = (df['result'] == 'success').sum()\n",
    "print str(success)+ \" out of \" + str(total) +\" => \"+ str(success*1.0/total)"
   ]
  },
  {
   "cell_type": "code",
   "execution_count": 7,
   "metadata": {},
   "outputs": [
    {
     "name": "stdout",
     "output_type": "stream",
     "text": [
      "631 out of 5781 => 0.10915066597474485\n"
     ]
    }
   ],
   "source": [
    "til = (df['result'] == 'time limit exceeded').sum()\n",
    "print str(til)+ \" out of \" + str(total) +\" => \"+ str(til*1.0/total)"
   ]
  },
  {
   "cell_type": "code",
   "execution_count": 8,
   "metadata": {},
   "outputs": [
    {
     "name": "stdout",
     "output_type": "stream",
     "text": [
      "4198 out of 5781 => 0.72617194257\n"
     ]
    }
   ],
   "source": [
    "error = len(df[df['result'].str.contains(\"Error\")])\n",
    "print str(error)+ \" out of \" + str(total) +\" => \"+ str(error*1.0/total)"
   ]
  },
  {
   "cell_type": "code",
   "execution_count": 9,
   "metadata": {},
   "outputs": [
    {
     "data": {
      "text/plain": [
       "226"
      ]
     },
     "execution_count": 9,
     "metadata": {},
     "output_type": "execute_result"
    }
   ],
   "source": [
    "155+46+25"
   ]
  },
  {
   "cell_type": "markdown",
   "metadata": {},
   "source": [
    "# Pie"
   ]
  },
  {
   "cell_type": "code",
   "execution_count": 10,
   "metadata": {},
   "outputs": [
    {
     "data": {
      "text/plain": [
       "<Figure size 640x480 with 1 Axes>"
      ]
     },
     "metadata": {},
     "output_type": "display_data"
    }
   ],
   "source": [
    "import matplotlib.pyplot as plt\n",
    "\n",
    "# Pie chart\n",
    "labels = ['Error',  'Success', \"Time Limit Exceeded\"]\n",
    "sizes = [error, success, til]\n",
    " \n",
    "fig1, ax1 = plt.subplots()\n",
    "plt.rcParams['font.size'] = 15\n",
    "ax1.pie(sizes, labels=labels, autopct='%1.1f%%', startangle=80,  textprops={'fontsize': 14})\n",
    "\n",
    "#draw circle\n",
    "centre_circle = plt.Circle((0,0),0.70,fc='white')\n",
    "\n",
    "fig = plt.gcf()\n",
    "fig.gca().add_artist(centre_circle)\n",
    "\n",
    "# Equal aspect ratio ensures that pie is drawn as a circle\n",
    "ax1.axis('equal')  \n",
    "plt.title(\"Total reproducibility rate\", size=18)\n",
    "plt.tight_layout()\n",
    "\n",
    "plt.show()"
   ]
  },
  {
   "cell_type": "code",
   "execution_count": 11,
   "metadata": {},
   "outputs": [
    {
     "data": {
      "image/png": "[encoded data removed]",
      "text/plain": [
       "<Figure size 432x288 with 1 Axes>"
      ]
     },
     "metadata": {},
     "output_type": "display_data"
    }
   ],
   "source": [
    "import matplotlib.pyplot as plt\n",
    "\n",
    "# Pie chart\n",
    "labels = ['Error',  'Success', ]\n",
    "sizes = [error, success]\n",
    " \n",
    "fig1, ax1 = plt.subplots()\n",
    "plt.rcParams['font.size'] = 15\n",
    "ax1.pie(sizes, labels=labels, autopct='%1.1f%%', startangle=80,  textprops={'fontsize': 14})\n",
    "\n",
    "#draw circle\n",
    "centre_circle = plt.Circle((0,0),0.70,fc='white')\n",
    "\n",
    "fig = plt.gcf()\n",
    "fig.gca().add_artist(centre_circle)\n",
    "\n",
    "# Equal aspect ratio ensures that pie is drawn as a circle\n",
    "ax1.axis('equal')  \n",
    "plt.title(\"Total reproducibility rate\", size=18)\n",
    "plt.tight_layout()\n",
    "\n",
    "plt.show()"
   ]
  },
  {
   "cell_type": "code",
   "execution_count": 12,
   "metadata": {},
   "outputs": [],
   "source": [
    "rl_st = pandas.read_csv(\"run_log_st.csv\", delimiter='\\t')"
   ]
  },
  {
   "cell_type": "code",
   "execution_count": 13,
   "metadata": {},
   "outputs": [
    {
     "ename": "KeyError",
     "evalue": "'all_files'",
     "output_type": "error",
     "traceback": [
      "\u001b[0;31m---------------------------------------------------------------------------\u001b[0m",
      "\u001b[0;31mKeyError\u001b[0m                                  Traceback (most recent call last)",
      "\u001b[0;32m<ipython-input-13-ae7c1aad5678>\u001b[0m in \u001b[0;36m<module>\u001b[0;34m()\u001b[0m\n\u001b[1;32m     16\u001b[0m     \u001b[0;32mreturn\u001b[0m \u001b[0;36m0\u001b[0m\u001b[0;34m\u001b[0m\u001b[0m\n\u001b[1;32m     17\u001b[0m \u001b[0;34m\u001b[0m\u001b[0m\n\u001b[0;32m---> 18\u001b[0;31m \u001b[0mrl_st\u001b[0m\u001b[0;34m[\u001b[0m\u001b[0;34m'code'\u001b[0m\u001b[0;34m]\u001b[0m\u001b[0;34m=\u001b[0m\u001b[0mrl_st\u001b[0m\u001b[0;34m[\u001b[0m\u001b[0;34m\"all_files\"\u001b[0m\u001b[0;34m]\u001b[0m\u001b[0;34m.\u001b[0m\u001b[0mapply\u001b[0m\u001b[0;34m(\u001b[0m\u001b[0mcontain_code\u001b[0m\u001b[0;34m)\u001b[0m\u001b[0;34m\u001b[0m\u001b[0m\n\u001b[0m",
      "\u001b[0;32m/Users/anatrisovic/Desktop/aws-dataverse/env/lib/python2.7/site-packages/pandas/core/frame.pyc\u001b[0m in \u001b[0;36m__getitem__\u001b[0;34m(self, key)\u001b[0m\n\u001b[1;32m   2925\u001b[0m             \u001b[0;32mif\u001b[0m \u001b[0mself\u001b[0m\u001b[0;34m.\u001b[0m\u001b[0mcolumns\u001b[0m\u001b[0;34m.\u001b[0m\u001b[0mnlevels\u001b[0m \u001b[0;34m>\u001b[0m \u001b[0;36m1\u001b[0m\u001b[0;34m:\u001b[0m\u001b[0;34m\u001b[0m\u001b[0m\n\u001b[1;32m   2926\u001b[0m                 \u001b[0;32mreturn\u001b[0m \u001b[0mself\u001b[0m\u001b[0;34m.\u001b[0m\u001b[0m_getitem_multilevel\u001b[0m\u001b[0;34m(\u001b[0m\u001b[0mkey\u001b[0m\u001b[0;34m)\u001b[0m\u001b[0;34m\u001b[0m\u001b[0m\n\u001b[0;32m-> 2927\u001b[0;31m             \u001b[0mindexer\u001b[0m \u001b[0;34m=\u001b[0m \u001b[0mself\u001b[0m\u001b[0;34m.\u001b[0m\u001b[0mcolumns\u001b[0m\u001b[0;34m.\u001b[0m\u001b[0mget_loc\u001b[0m\u001b[0;34m(\u001b[0m\u001b[0mkey\u001b[0m\u001b[0;34m)\u001b[0m\u001b[0;34m\u001b[0m\u001b[0m\n\u001b[0m\u001b[1;32m   2928\u001b[0m             \u001b[0;32mif\u001b[0m \u001b[0mis_integer\u001b[0m\u001b[0;34m(\u001b[0m\u001b[0mindexer\u001b[0m\u001b[0;34m)\u001b[0m\u001b[0;34m:\u001b[0m\u001b[0;34m\u001b[0m\u001b[0m\n\u001b[1;32m   2929\u001b[0m                 \u001b[0mindexer\u001b[0m \u001b[0;34m=\u001b[0m \u001b[0;34m[\u001b[0m\u001b[0mindexer\u001b[0m\u001b[0;34m]\u001b[0m\u001b[0;34m\u001b[0m\u001b[0m\n",
      "\u001b[0;32m/Users/anatrisovic/Desktop/aws-dataverse/env/lib/python2.7/site-packages/pandas/core/indexes/base.pyc\u001b[0m in \u001b[0;36mget_loc\u001b[0;34m(self, key, method, tolerance)\u001b[0m\n\u001b[1;32m   2657\u001b[0m                 \u001b[0;32mreturn\u001b[0m \u001b[0mself\u001b[0m\u001b[0;34m.\u001b[0m\u001b[0m_engine\u001b[0m\u001b[0;34m.\u001b[0m\u001b[0mget_loc\u001b[0m\u001b[0;34m(\u001b[0m\u001b[0mkey\u001b[0m\u001b[0;34m)\u001b[0m\u001b[0;34m\u001b[0m\u001b[0m\n\u001b[1;32m   2658\u001b[0m             \u001b[0;32mexcept\u001b[0m \u001b[0mKeyError\u001b[0m\u001b[0;34m:\u001b[0m\u001b[0;34m\u001b[0m\u001b[0m\n\u001b[0;32m-> 2659\u001b[0;31m                 \u001b[0;32mreturn\u001b[0m \u001b[0mself\u001b[0m\u001b[0;34m.\u001b[0m\u001b[0m_engine\u001b[0m\u001b[0;34m.\u001b[0m\u001b[0mget_loc\u001b[0m\u001b[0;34m(\u001b[0m\u001b[0mself\u001b[0m\u001b[0;34m.\u001b[0m\u001b[0m_maybe_cast_indexer\u001b[0m\u001b[0;34m(\u001b[0m\u001b[0mkey\u001b[0m\u001b[0;34m)\u001b[0m\u001b[0;34m)\u001b[0m\u001b[0;34m\u001b[0m\u001b[0m\n\u001b[0m\u001b[1;32m   2660\u001b[0m         \u001b[0mindexer\u001b[0m \u001b[0;34m=\u001b[0m \u001b[0mself\u001b[0m\u001b[0;34m.\u001b[0m\u001b[0mget_indexer\u001b[0m\u001b[0;34m(\u001b[0m\u001b[0;34m[\u001b[0m\u001b[0mkey\u001b[0m\u001b[0;34m]\u001b[0m\u001b[0;34m,\u001b[0m \u001b[0mmethod\u001b[0m\u001b[0;34m=\u001b[0m\u001b[0mmethod\u001b[0m\u001b[0;34m,\u001b[0m \u001b[0mtolerance\u001b[0m\u001b[0;34m=\u001b[0m\u001b[0mtolerance\u001b[0m\u001b[0;34m)\u001b[0m\u001b[0;34m\u001b[0m\u001b[0m\n\u001b[1;32m   2661\u001b[0m         \u001b[0;32mif\u001b[0m \u001b[0mindexer\u001b[0m\u001b[0;34m.\u001b[0m\u001b[0mndim\u001b[0m \u001b[0;34m>\u001b[0m \u001b[0;36m1\u001b[0m \u001b[0;32mor\u001b[0m \u001b[0mindexer\u001b[0m\u001b[0;34m.\u001b[0m\u001b[0msize\u001b[0m \u001b[0;34m>\u001b[0m \u001b[0;36m1\u001b[0m\u001b[0;34m:\u001b[0m\u001b[0;34m\u001b[0m\u001b[0m\n",
      "\u001b[0;32mpandas/_libs/index.pyx\u001b[0m in \u001b[0;36mpandas._libs.index.IndexEngine.get_loc\u001b[0;34m()\u001b[0m\n",
      "\u001b[0;32mpandas/_libs/index.pyx\u001b[0m in \u001b[0;36mpandas._libs.index.IndexEngine.get_loc\u001b[0;34m()\u001b[0m\n",
      "\u001b[0;32mpandas/_libs/hashtable_class_helper.pxi\u001b[0m in \u001b[0;36mpandas._libs.hashtable.PyObjectHashTable.get_item\u001b[0;34m()\u001b[0m\n",
      "\u001b[0;32mpandas/_libs/hashtable_class_helper.pxi\u001b[0m in \u001b[0;36mpandas._libs.hashtable.PyObjectHashTable.get_item\u001b[0;34m()\u001b[0m\n",
      "\u001b[0;31mKeyError\u001b[0m: 'all_files'"
     ]
    }
   ],
   "source": [
    "def contain_code(el):\n",
    "    \"checks if dataset contains other code\"\n",
    "    temp = el.lower()\n",
    "    if \".do\" in temp:\n",
    "        return 1\n",
    "    if \".py\" in temp:\n",
    "        return 1\n",
    "    if \".java\" in temp:\n",
    "        return 1\n",
    "    if \".cpp\" in temp:\n",
    "        return 1\n",
    "    if \".m\" in temp:\n",
    "        return 1\n",
    "    if \".sas\" in temp:\n",
    "        return 1\n",
    "    return 0\n",
    "\n",
    "rl_st['code']=rl_st[\"all_files\"].apply(contain_code)"
   ]
  },
  {
   "cell_type": "code",
   "execution_count": null,
   "metadata": {},
   "outputs": [],
   "source": [
    "rl_st.head()"
   ]
  },
  {
   "cell_type": "code",
   "execution_count": null,
   "metadata": {},
   "outputs": [],
   "source": [
    "len(rl_st)"
   ]
  },
  {
   "cell_type": "code",
   "execution_count": null,
   "metadata": {},
   "outputs": [],
   "source": [
    "df_m = df.merge(rl_st, on=\"doi\", how=\"left\", indicator=True)"
   ]
  },
  {
   "cell_type": "code",
   "execution_count": null,
   "metadata": {},
   "outputs": [],
   "source": [
    "df_m.head()"
   ]
  },
  {
   "cell_type": "code",
   "execution_count": null,
   "metadata": {},
   "outputs": [],
   "source": [
    "df_m = df_m[df_m[\"_merge\"] == \"left_only\"].drop(columns=[\"_merge\"])"
   ]
  },
  {
   "cell_type": "code",
   "execution_count": null,
   "metadata": {},
   "outputs": [],
   "source": [
    "df_m.head()"
   ]
  },
  {
   "cell_type": "code",
   "execution_count": null,
   "metadata": {},
   "outputs": [],
   "source": [
    "df_m = df_m[df_m.code < 1]"
   ]
  },
  {
   "cell_type": "code",
   "execution_count": null,
   "metadata": {},
   "outputs": [],
   "source": [
    "df_m.head()"
   ]
  },
  {
   "cell_type": "code",
   "execution_count": null,
   "metadata": {},
   "outputs": [],
   "source": [
    "success = (df_m['result'] == 'success').sum()\n",
    "til = (df_m['result'] == 'time limit exceeded').sum()\n",
    "error = len(df_m[df_m['result'].str.contains(\"Error\")])\n",
    "\n",
    "\n",
    "import matplotlib.pyplot as plt\n",
    "\n",
    "# Pie chart\n",
    "labels = ['Error',  'Success', \"Time Limit Exceeded\"]\n",
    "sizes = [error, success, til]\n",
    " \n",
    "fig1, ax1 = plt.subplots()\n",
    "plt.rcParams['font.size'] = 15\n",
    "ax1.pie(sizes, labels=labels, autopct='%1.1f%%', startangle=80,  textprops={'fontsize': 14})\n",
    "\n",
    "#draw circle\n",
    "centre_circle = plt.Circle((0,0),0.70,fc='white')\n",
    "\n",
    "fig = plt.gcf()\n",
    "fig.gca().add_artist(centre_circle)\n",
    "\n",
    "# Equal aspect ratio ensures that pie is drawn as a circle\n",
    "ax1.axis('equal')  \n",
    "plt.title(\"Total reproducibility rate\", size=18)\n",
    "plt.tight_layout()\n",
    "\n",
    "plt.show()"
   ]
  },
  {
   "cell_type": "code",
   "execution_count": null,
   "metadata": {},
   "outputs": [],
   "source": []
  }
 ],
 "metadata": {
  "kernelspec": {
   "display_name": "env",
   "language": "python",
   "name": "env"
  },
  "language_info": {
   "codemirror_mode": {
    "name": "ipython",
    "version": 2
   },
   "file_extension": ".py",
   "mimetype": "text/x-python",
   "name": "python",
   "nbconvert_exporter": "python",
   "pygments_lexer": "ipython2",
   "version": "2.7.16"
  }
 },
 "nbformat": 4,
 "nbformat_minor": 2
}
