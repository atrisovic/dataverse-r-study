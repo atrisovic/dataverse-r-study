{
 "cells": [
  {
   "cell_type": "markdown",
   "metadata": {},
   "source": [
    "# Combined re-execution results\n",
    "\n",
    "This dataset combines results from R 3.2, 3.6 and 4.0"
   ]
  },
  {
   "cell_type": "code",
   "execution_count": 1,
   "metadata": {},
   "outputs": [],
   "source": [
    "import numpy as np\n",
    "import matplotlib.pyplot as plt\n",
    "import seaborn as sns\n",
    "from matplotlib import rc\n",
    "import pandas as pd\n",
    "\n",
    "# plot style\n",
    "sns.set_style('whitegrid')\n",
    "sns.set_style({'font.family': 'Times New Roman'})"
   ]
  },
  {
   "cell_type": "code",
   "execution_count": 2,
   "metadata": {},
   "outputs": [],
   "source": [
    "%matplotlib inline"
   ]
  },
  {
   "cell_type": "markdown",
   "metadata": {},
   "source": [
    "## Load success rate data"
   ]
  },
  {
   "cell_type": "code",
   "execution_count": 3,
   "metadata": {},
   "outputs": [],
   "source": [
    "df_32_env = pd.read_csv(\"data/one-hour-run-data/run_log_r32_env.csv\", sep=\"\\t\", names=[\"doi\", \"file\", \"r32\"])\n",
    "df_36_env = pd.read_csv(\"data/one-hour-run-data/run_log_r36_env.csv\", sep=\"\\t\", names=[\"doi\", \"file\", \"r36\"])\n",
    "df_40_env = pd.read_csv(\"data/one-hour-run-data/run_log_r40_env.csv\", sep=\"\\t\", names=[\"doi\", \"file\", \"r40\"])"
   ]
  },
  {
   "cell_type": "code",
   "execution_count": 4,
   "metadata": {},
   "outputs": [
    {
     "data": {
      "text/plain": "5028"
     },
     "execution_count": 4,
     "metadata": {},
     "output_type": "execute_result"
    }
   ],
   "source": [
    "len(df_32_env)"
   ]
  },
  {
   "cell_type": "code",
   "execution_count": 5,
   "metadata": {},
   "outputs": [
    {
     "name": "stdout",
     "output_type": "stream",
     "text": "6226\n"
    }
   ],
   "source": [
    "print(len(df_36_env))"
   ]
  },
  {
   "cell_type": "code",
   "execution_count": 6,
   "metadata": {},
   "outputs": [
    {
     "name": "stdout",
     "output_type": "stream",
     "text": "5288\n"
    }
   ],
   "source": [
    "print(len(df_40_env))"
   ]
  },
  {
   "cell_type": "markdown",
   "metadata": {},
   "source": [
    "## Merge results in one df"
   ]
  },
  {
   "cell_type": "code",
   "execution_count": 7,
   "metadata": {},
   "outputs": [],
   "source": [
    "df = pd.merge(df_32_env,df_36_env,on=['doi','file'], how='outer')"
   ]
  },
  {
   "cell_type": "code",
   "execution_count": 8,
   "metadata": {},
   "outputs": [
    {
     "data": {
      "text/plain": "7129"
     },
     "execution_count": 8,
     "metadata": {},
     "output_type": "execute_result"
    }
   ],
   "source": [
    "len(df)"
   ]
  },
  {
   "cell_type": "code",
   "execution_count": 9,
   "metadata": {},
   "outputs": [],
   "source": [
    "df = pd.merge(df,df_40_env,on=['doi','file'], how='outer')"
   ]
  },
  {
   "cell_type": "code",
   "execution_count": 10,
   "metadata": {},
   "outputs": [
    {
     "data": {
      "text/plain": "7621"
     },
     "execution_count": 10,
     "metadata": {},
     "output_type": "execute_result"
    }
   ],
   "source": [
    "len(df)"
   ]
  },
  {
   "cell_type": "markdown",
   "metadata": {},
   "source": [
    "## Combine results"
   ]
  },
  {
   "cell_type": "code",
   "execution_count": 24,
   "metadata": {},
   "outputs": [],
   "source": [
    "import numpy as np\n",
    "\n",
    "def get_combined_result(r):\n",
    "    if 'success' in [r.r32, r.r36, r.r40]:\n",
    "        return 'success'\n",
    "    if pd.isnull(r.r36) or pd.isnull(r.r32) or pd.isnull(r.r40):\n",
    "        return np.nan\n",
    "    if \"time limit exceeded\" in [r.r32, r.r36, r.r40]:\n",
    "        return np.nan\n",
    "    if \"not authorized\" in [r.r32, r.r36, r.r40]:\n",
    "        return 'auth'\n",
    "    if r.r36:\n",
    "        return r.r36\n",
    "    if r.r40:\n",
    "        return r.r40\n",
    "    if r.r32:\n",
    "        return r.r32\n",
    "\n",
    "df['result'] = df.apply(get_combined_result, axis=1)"
   ]
  },
  {
   "cell_type": "code",
   "execution_count": 25,
   "metadata": {},
   "outputs": [],
   "source": [
    "def get_success(el):\n",
    "    if pd.isna(el):\n",
    "        return el\n",
    "    if el == 'success':\n",
    "        return 1\n",
    "    if el == 'auth':\n",
    "        return -1\n",
    "    if len(str(el))>1:\n",
    "        return 0\n",
    "    else:\n",
    "        el\n",
    "\n",
    "df['success'] = df['result'].apply(get_success)"
   ]
  },
  {
   "cell_type": "code",
   "execution_count": 28,
   "metadata": {},
   "outputs": [
    {
     "data": {
      "text/plain": "NaN    3866\n0.0    2283\n1.0    1472\nName: success, dtype: int64"
     },
     "execution_count": 28,
     "metadata": {},
     "output_type": "execute_result"
    }
   ],
   "source": [
    "df['success'].value_counts(dropna=False)"
   ]
  },
  {
   "cell_type": "code",
   "execution_count": 27,
   "metadata": {},
   "outputs": [
    {
     "data": {
      "text/plain": "7621"
     },
     "execution_count": 27,
     "metadata": {},
     "output_type": "execute_result"
    }
   ],
   "source": [
    "len(df)"
   ]
  },
  {
   "cell_type": "code",
   "execution_count": 29,
   "metadata": {},
   "outputs": [
    {
     "data": {
      "text/plain": "2110"
     },
     "execution_count": 29,
     "metadata": {},
     "output_type": "execute_result"
    }
   ],
   "source": [
    "len(df.doi.unique())"
   ]
  },
  {
   "cell_type": "markdown",
   "metadata": {},
   "source": [
    "# Exclude bad DOIs"
   ]
  },
  {
   "cell_type": "code",
   "execution_count": 30,
   "metadata": {},
   "outputs": [],
   "source": [
    "er_362 = pd.read_csv(\"data/one-hour-run-data/run_log_r36_env_download.csv\", sep=\"\\t\", names=[\"doi\", \"fileid\", \"status\"])\n",
    "er_322 = pd.read_csv(\"data/one-hour-run-data/run_log_r32_env_download.csv\", sep=\"\\t\", names=[\"doi\", \"fileid\", \"status\"])\n",
    "er_402 = pd.read_csv(\"data/one-hour-run-data/run_log_r40_env_download.csv\", sep=\"\\t\", names=[\"doi\", \"fileid\", \"status\"])\n",
    "\n",
    "error_data = [er_322, er_362, er_402]\n",
    "\n",
    "exclude = []\n",
    "for er in error_data:\n",
    "    temp = er[er.status != 'ok']\n",
    "    bad_dois = temp['doi'].unique().tolist()\n",
    "    exclude.append(set(bad_dois))\n",
    "    \n",
    "bad_dois = exclude[0] & exclude[1] & exclude[2] \n",
    "bad_dois = list(bad_dois)"
   ]
  },
  {
   "cell_type": "code",
   "execution_count": 31,
   "metadata": {},
   "outputs": [],
   "source": [
    "df = df.drop(df[df.doi.isin(bad_dois) & (df['result'] != 'success')].index)"
   ]
  },
  {
   "cell_type": "code",
   "execution_count": 32,
   "metadata": {},
   "outputs": [
    {
     "data": {
      "text/html": "<div>\n<style scoped>\n    .dataframe tbody tr th:only-of-type {\n        vertical-align: middle;\n    }\n\n    .dataframe tbody tr th {\n        vertical-align: top;\n    }\n\n    .dataframe thead th {\n        text-align: right;\n    }\n</style>\n<table border=\"1\" class=\"dataframe\">\n  <thead>\n    <tr style=\"text-align: right;\">\n      <th></th>\n      <th>doi</th>\n      <th>file</th>\n      <th>r32</th>\n      <th>r36</th>\n      <th>r40</th>\n      <th>result</th>\n      <th>success</th>\n    </tr>\n  </thead>\n  <tbody>\n    <tr>\n      <th>0</th>\n      <td>doi:10.7910/DVN/XFQZI2</td>\n      <td>Condemnation.R</td>\n      <td>Error in eval(expr, envir, enclos) : could not...</td>\n      <td>Error in read.dta13('Condemnation.dta') :   co...</td>\n      <td>NaN</td>\n      <td>NaN</td>\n      <td>NaN</td>\n    </tr>\n    <tr>\n      <th>1</th>\n      <td>doi:10.7910/DVN/WGPDBS</td>\n      <td>Replication_of_Figures.R</td>\n      <td>success</td>\n      <td>success</td>\n      <td>success</td>\n      <td>success</td>\n      <td>1.0</td>\n    </tr>\n    <tr>\n      <th>2</th>\n      <td>doi:10.7910/DVN/BPON3K</td>\n      <td>fig_10_effect_of_winning_on_gov.R</td>\n      <td>Error in diag(vcovHC(DMareg, type = 'HC3')) : ...</td>\n      <td>Error in vcovHC(DMareg, type = 'HC3') : could ...</td>\n      <td>Error in vcovHC(DMareg, type = 'HC3') : could ...</td>\n      <td>Error in vcovHC(DMareg, type = 'HC3') : could ...</td>\n      <td>0.0</td>\n    </tr>\n    <tr>\n      <th>3</th>\n      <td>doi:10.7910/DVN/BPON3K</td>\n      <td>fig_11_rd_placebo.R</td>\n      <td>Error in ggsave('placebo.pdf', plot = placebo,...</td>\n      <td>success</td>\n      <td>success</td>\n      <td>success</td>\n      <td>1.0</td>\n    </tr>\n    <tr>\n      <th>4</th>\n      <td>doi:10.7910/DVN/BPON3K</td>\n      <td>fig_12_historical_trend.R</td>\n      <td>Error in ggsave('historical_trend.pdf', plot =...</td>\n      <td>success</td>\n      <td>success</td>\n      <td>success</td>\n      <td>1.0</td>\n    </tr>\n  </tbody>\n</table>\n</div>",
      "text/plain": "                      doi                               file  \\\n0  doi:10.7910/DVN/XFQZI2                     Condemnation.R   \n1  doi:10.7910/DVN/WGPDBS           Replication_of_Figures.R   \n2  doi:10.7910/DVN/BPON3K  fig_10_effect_of_winning_on_gov.R   \n3  doi:10.7910/DVN/BPON3K                fig_11_rd_placebo.R   \n4  doi:10.7910/DVN/BPON3K          fig_12_historical_trend.R   \n\n                                                 r32  \\\n0  Error in eval(expr, envir, enclos) : could not...   \n1                                            success   \n2  Error in diag(vcovHC(DMareg, type = 'HC3')) : ...   \n3  Error in ggsave('placebo.pdf', plot = placebo,...   \n4  Error in ggsave('historical_trend.pdf', plot =...   \n\n                                                 r36  \\\n0  Error in read.dta13('Condemnation.dta') :   co...   \n1                                            success   \n2  Error in vcovHC(DMareg, type = 'HC3') : could ...   \n3                                            success   \n4                                            success   \n\n                                                 r40  \\\n0                                                NaN   \n1                                            success   \n2  Error in vcovHC(DMareg, type = 'HC3') : could ...   \n3                                            success   \n4                                            success   \n\n                                              result  success  \n0                                                NaN      NaN  \n1                                            success      1.0  \n2  Error in vcovHC(DMareg, type = 'HC3') : could ...      0.0  \n3                                            success      1.0  \n4                                            success      1.0  "
     },
     "execution_count": 32,
     "metadata": {},
     "output_type": "execute_result"
    }
   ],
   "source": [
    "df.head()"
   ]
  },
  {
   "cell_type": "code",
   "execution_count": 33,
   "metadata": {},
   "outputs": [
    {
     "data": {
      "text/plain": "7414"
     },
     "execution_count": 33,
     "metadata": {},
     "output_type": "execute_result"
    }
   ],
   "source": [
    "len(df)"
   ]
  },
  {
   "cell_type": "code",
   "execution_count": 34,
   "metadata": {},
   "outputs": [
    {
     "data": {
      "text/plain": "2085"
     },
     "execution_count": 34,
     "metadata": {},
     "output_type": "execute_result"
    }
   ],
   "source": [
    "len(df.doi.unique())"
   ]
  },
  {
   "cell_type": "markdown",
   "metadata": {},
   "source": [
    "## Save results"
   ]
  },
  {
   "cell_type": "code",
   "execution_count": 194,
   "metadata": {},
   "outputs": [],
   "source": [
    "df1 = df"
   ]
  },
  {
   "cell_type": "code",
   "execution_count": 195,
   "metadata": {},
   "outputs": [],
   "source": [
    "df.to_csv('aggregate_results_env.csv')"
   ]
  },
  {
   "cell_type": "markdown",
   "metadata": {},
   "source": [
    "# Quick check"
   ]
  },
  {
   "cell_type": "code",
   "execution_count": 196,
   "metadata": {},
   "outputs": [
    {
     "name": "stdout",
     "output_type": "stream",
     "text": [
      "Total number of entries: 3695\n",
      "Total number after bad DOIs are removed: 3695\n",
      "Unique DOIs: 1447\n",
      "Success: 1472 out of 3695 => 0.3983761840324763\n",
      "TIL: 0 out of 3695 => 0.0\n",
      "Error: 2223 out of 3695 => 0.6016238159675237\n"
     ]
    },
    {
     "data": {
      "image/png": "[encoded data removed]",
      "text/plain": [
       "<Figure size 432x288 with 1 Axes>"
      ]
     },
     "metadata": {},
     "output_type": "display_data"
    }
   ],
   "source": [
    "def make_autopct(values):\n",
    "    def my_autopct(pct):\n",
    "        total = sum(values)\n",
    "        val = int(round(pct*total/100.0))\n",
    "        return '{p:.2f}%  ({v:d})'.format(p=pct,v=val)\n",
    "    return my_autopct\n",
    "\n",
    "def get_success_rates(df):\n",
    "    print \"Total number of entries: \"+ str(len(df))\n",
    "    print \"Total number after bad DOIs are removed: \"+ str(len(df))\n",
    "    \n",
    "    print \"Unique DOIs: \"+ str(len(df['doi'].unique()))\n",
    "    \n",
    "    # calculate success\n",
    "    success = (df['result'] == 'success').sum()\n",
    "    print \"Success: \" + str(success)+ \" out of \" + str(len(df)) +\" => \"+ str(success*1.0/len(df))\n",
    "    \n",
    "    til = (df['result'] == 'time limit exceeded').sum()\n",
    "    print \"TIL: \" + str(til)+ \" out of \" + str(len(df)) +\" => \"+ str(til*1.0/len(df))\n",
    "    \n",
    "    error = len(df)-til-success\n",
    "    print \"Error: \" + str(error)+ \" out of \" + str(len(df)) +\" => \"+ str(error*1.0/len(df))\n",
    "    \n",
    "    return [error, success]\n",
    "\n",
    "def plot_code(df, plot_title, plot_name, aggregation=False):\n",
    "    labels = ['Error', 'Success']\n",
    "    if aggregation:\n",
    "        sizes = get_aggregated(df)\n",
    "    else:\n",
    "        sizes = get_success_rates(df)\n",
    "     \n",
    "    fig1, ax1 = plt.subplots()\n",
    "    plt.rcParams['font.size'] = 16\n",
    "    ax1.pie(sizes, labels=labels, autopct=make_autopct(sizes), startangle=40,  \\\n",
    "            textprops={'fontsize': 14},wedgeprops={'alpha':0.6})\n",
    "\n",
    "    #draw circle\n",
    "    centre_circle = plt.Circle((0,0),0.70,fc='white')\n",
    "\n",
    "    fig = plt.gcf()\n",
    "    fig.gca().add_artist(centre_circle)\n",
    "\n",
    "    # Equal aspect ratio ensures that pie is drawn as a circle\n",
    "    ax1.axis('equal')  \n",
    "    plt.title(plot_title, size=20)\n",
    "    plt.tight_layout()\n",
    "\n",
    "    plt.show()\n",
    "    fig1.savefig(\"plots/{}\".format(plot_name), dpi=100)\n",
    "    \n",
    "dfe = df[df.result.notnull()]\n",
    "plot_code(dfe, \"Total re-execution rate per file\", \"aggregated_env.png\")"
   ]
  },
  {
   "cell_type": "code",
   "execution_count": null,
   "metadata": {},
   "outputs": [],
   "source": []
  },
  {
   "cell_type": "markdown",
   "metadata": {},
   "source": [
    "# Same for `no env` data"
   ]
  },
  {
   "cell_type": "code",
   "execution_count": 35,
   "metadata": {},
   "outputs": [],
   "source": [
    "df_32_env = pd.read_csv(\"data/one-hour-run-data/run_log_r32_no_env.csv\", sep=\"\\t\", names=[\"doi\", \"file\", \"r32\"])\n",
    "df_36_env = pd.read_csv(\"data/one-hour-run-data/run_log_r36_no_env.csv\", sep=\"\\t\", names=[\"doi\", \"file\", \"r36\"])\n",
    "df_40_env = pd.read_csv(\"data/one-hour-run-data/run_log_r40_no_env.csv\", sep=\"\\t\", names=[\"doi\", \"file\", \"r40\"])"
   ]
  },
  {
   "cell_type": "code",
   "execution_count": 36,
   "metadata": {},
   "outputs": [
    {
     "data": {
      "text/plain": "7088"
     },
     "execution_count": 36,
     "metadata": {},
     "output_type": "execute_result"
    }
   ],
   "source": [
    "len(df_32_env)"
   ]
  },
  {
   "cell_type": "code",
   "execution_count": 37,
   "metadata": {},
   "outputs": [
    {
     "name": "stdout",
     "output_type": "stream",
     "text": "4042\n"
    }
   ],
   "source": [
    "print(len(df_36_env))"
   ]
  },
  {
   "cell_type": "code",
   "execution_count": 38,
   "metadata": {},
   "outputs": [
    {
     "name": "stdout",
     "output_type": "stream",
     "text": "7149\n"
    }
   ],
   "source": [
    "print(len(df_40_env))"
   ]
  },
  {
   "cell_type": "markdown",
   "metadata": {},
   "source": [
    "## Merge results in one df"
   ]
  },
  {
   "cell_type": "code",
   "execution_count": 39,
   "metadata": {},
   "outputs": [],
   "source": [
    "df = pd.merge(df_32_env,df_36_env,on=['doi','file'], how='outer')"
   ]
  },
  {
   "cell_type": "code",
   "execution_count": 40,
   "metadata": {},
   "outputs": [
    {
     "data": {
      "text/plain": "7310"
     },
     "execution_count": 40,
     "metadata": {},
     "output_type": "execute_result"
    }
   ],
   "source": [
    "len(df)"
   ]
  },
  {
   "cell_type": "code",
   "execution_count": 41,
   "metadata": {},
   "outputs": [],
   "source": [
    "df = pd.merge(df,df_40_env,on=['doi','file'], how='outer')"
   ]
  },
  {
   "cell_type": "code",
   "execution_count": 42,
   "metadata": {},
   "outputs": [
    {
     "data": {
      "text/plain": "7985"
     },
     "execution_count": 42,
     "metadata": {},
     "output_type": "execute_result"
    }
   ],
   "source": [
    "len(df)"
   ]
  },
  {
   "cell_type": "markdown",
   "metadata": {},
   "source": [
    "## Combine results"
   ]
  },
  {
   "cell_type": "code",
   "execution_count": 43,
   "metadata": {},
   "outputs": [],
   "source": [
    "df['result'] = df.apply(get_combined_result, axis=1)\n",
    "df['success'] = df['result'].apply(get_success)"
   ]
  },
  {
   "cell_type": "code",
   "execution_count": 44,
   "metadata": {},
   "outputs": [
    {
     "data": {
      "text/html": "<div>\n<style scoped>\n    .dataframe tbody tr th:only-of-type {\n        vertical-align: middle;\n    }\n\n    .dataframe tbody tr th {\n        vertical-align: top;\n    }\n\n    .dataframe thead th {\n        text-align: right;\n    }\n</style>\n<table border=\"1\" class=\"dataframe\">\n  <thead>\n    <tr style=\"text-align: right;\">\n      <th></th>\n      <th>doi</th>\n      <th>file</th>\n      <th>r32</th>\n      <th>r36</th>\n      <th>r40</th>\n      <th>result</th>\n      <th>success</th>\n    </tr>\n  </thead>\n  <tbody>\n    <tr>\n      <th>0</th>\n      <td>doi:10.7910/DVN/XFQZI2</td>\n      <td>Condemnation.R</td>\n      <td>Error in library(readstata13) : there is no pa...</td>\n      <td>NaN</td>\n      <td>NaN</td>\n      <td>NaN</td>\n      <td>NaN</td>\n    </tr>\n    <tr>\n      <th>1</th>\n      <td>doi:10.7910/DVN/WGPDBS</td>\n      <td>Replication_of_Figures.R</td>\n      <td>success</td>\n      <td>success</td>\n      <td>success</td>\n      <td>success</td>\n      <td>1.0</td>\n    </tr>\n    <tr>\n      <th>2</th>\n      <td>doi:10.7910/DVN/BPON3K</td>\n      <td>fig_10_effect_of_winning_on_gov.R</td>\n      <td>Error in library(gridExtra) : there is no pack...</td>\n      <td>NaN</td>\n      <td>Error in library(gridExtra) : there is no pack...</td>\n      <td>NaN</td>\n      <td>NaN</td>\n    </tr>\n    <tr>\n      <th>3</th>\n      <td>doi:10.7910/DVN/BPON3K</td>\n      <td>fig_11_rd_placebo.R</td>\n      <td>Error in library(gridExtra) : there is no pack...</td>\n      <td>NaN</td>\n      <td>Error in library(gridExtra) : there is no pack...</td>\n      <td>NaN</td>\n      <td>NaN</td>\n    </tr>\n    <tr>\n      <th>4</th>\n      <td>doi:10.7910/DVN/BPON3K</td>\n      <td>fig_12_historical_trend.R</td>\n      <td>Error in library(ggthemes) : there is no packa...</td>\n      <td>NaN</td>\n      <td>Error in library(ggthemes) : there is no packa...</td>\n      <td>NaN</td>\n      <td>NaN</td>\n    </tr>\n    <tr>\n      <th>5</th>\n      <td>doi:10.7910/DVN/BPON3K</td>\n      <td>fig_13_plot_loyalty_df_pct.R</td>\n      <td>Error in library(gridExtra) : there is no pack...</td>\n      <td>NaN</td>\n      <td>Error in library(gridExtra) : there is no pack...</td>\n      <td>NaN</td>\n      <td>NaN</td>\n    </tr>\n    <tr>\n      <th>6</th>\n      <td>doi:10.7910/DVN/BPON3K</td>\n      <td>fig_14_effect_on_individual_parties.R</td>\n      <td>Error in library(gridExtra) : there is no pack...</td>\n      <td>NaN</td>\n      <td>Error in library(gridExtra) : there is no pack...</td>\n      <td>NaN</td>\n      <td>NaN</td>\n    </tr>\n    <tr>\n      <th>7</th>\n      <td>doi:10.7910/DVN/BPON3K</td>\n      <td>fig_2_fig_4_party_switching.R</td>\n      <td>Error in library(gridExtra) : there is no pack...</td>\n      <td>NaN</td>\n      <td>Error in library(gridExtra) : there is no pack...</td>\n      <td>NaN</td>\n      <td>NaN</td>\n    </tr>\n    <tr>\n      <th>8</th>\n      <td>doi:10.7910/DVN/BPON3K</td>\n      <td>fig_3_effect_of_winning_on_federal_congress.R</td>\n      <td>Error in library(gridExtra) : there is no pack...</td>\n      <td>NaN</td>\n      <td>Error in library(gridExtra) : there is no pack...</td>\n      <td>NaN</td>\n      <td>NaN</td>\n    </tr>\n    <tr>\n      <th>9</th>\n      <td>doi:10.7910/DVN/BPON3K</td>\n      <td>fig_5_tab_7_rd_robust_estimations.R</td>\n      <td>Error in library(gridExtra) : there is no pack...</td>\n      <td>NaN</td>\n      <td>Error in library(gridExtra) : there is no pack...</td>\n      <td>NaN</td>\n      <td>NaN</td>\n    </tr>\n  </tbody>\n</table>\n</div>",
      "text/plain": "                      doi                                           file  \\\n0  doi:10.7910/DVN/XFQZI2                                 Condemnation.R   \n1  doi:10.7910/DVN/WGPDBS                       Replication_of_Figures.R   \n2  doi:10.7910/DVN/BPON3K              fig_10_effect_of_winning_on_gov.R   \n3  doi:10.7910/DVN/BPON3K                            fig_11_rd_placebo.R   \n4  doi:10.7910/DVN/BPON3K                      fig_12_historical_trend.R   \n5  doi:10.7910/DVN/BPON3K                   fig_13_plot_loyalty_df_pct.R   \n6  doi:10.7910/DVN/BPON3K          fig_14_effect_on_individual_parties.R   \n7  doi:10.7910/DVN/BPON3K                  fig_2_fig_4_party_switching.R   \n8  doi:10.7910/DVN/BPON3K  fig_3_effect_of_winning_on_federal_congress.R   \n9  doi:10.7910/DVN/BPON3K            fig_5_tab_7_rd_robust_estimations.R   \n\n                                                 r32      r36  \\\n0  Error in library(readstata13) : there is no pa...      NaN   \n1                                            success  success   \n2  Error in library(gridExtra) : there is no pack...      NaN   \n3  Error in library(gridExtra) : there is no pack...      NaN   \n4  Error in library(ggthemes) : there is no packa...      NaN   \n5  Error in library(gridExtra) : there is no pack...      NaN   \n6  Error in library(gridExtra) : there is no pack...      NaN   \n7  Error in library(gridExtra) : there is no pack...      NaN   \n8  Error in library(gridExtra) : there is no pack...      NaN   \n9  Error in library(gridExtra) : there is no pack...      NaN   \n\n                                                 r40   result  success  \n0                                                NaN      NaN      NaN  \n1                                            success  success      1.0  \n2  Error in library(gridExtra) : there is no pack...      NaN      NaN  \n3  Error in library(gridExtra) : there is no pack...      NaN      NaN  \n4  Error in library(ggthemes) : there is no packa...      NaN      NaN  \n5  Error in library(gridExtra) : there is no pack...      NaN      NaN  \n6  Error in library(gridExtra) : there is no pack...      NaN      NaN  \n7  Error in library(gridExtra) : there is no pack...      NaN      NaN  \n8  Error in library(gridExtra) : there is no pack...      NaN      NaN  \n9  Error in library(gridExtra) : there is no pack...      NaN      NaN  "
     },
     "execution_count": 44,
     "metadata": {},
     "output_type": "execute_result"
    }
   ],
   "source": [
    "df.head(10)"
   ]
  },
  {
   "cell_type": "code",
   "execution_count": 45,
   "metadata": {},
   "outputs": [
    {
     "data": {
      "text/plain": "7985"
     },
     "execution_count": 45,
     "metadata": {},
     "output_type": "execute_result"
    }
   ],
   "source": [
    "len(df)"
   ]
  },
  {
   "cell_type": "markdown",
   "metadata": {},
   "source": [
    "# Exclude bad DOIs"
   ]
  },
  {
   "cell_type": "code",
   "execution_count": 46,
   "metadata": {},
   "outputs": [],
   "source": [
    "er_362 = pd.read_csv(\"data/one-hour-run-data/run_log_r36_no_env_download.csv\", sep=\"\\t\", names=[\"doi\", \"fileid\", \"status\"])\n",
    "er_322 = pd.read_csv(\"data/one-hour-run-data/run_log_r32_no_env_download.csv\", sep=\"\\t\", names=[\"doi\", \"fileid\", \"status\"])\n",
    "er_402 = pd.read_csv(\"data/one-hour-run-data/run_log_r40_no_env_download.csv\", sep=\"\\t\", names=[\"doi\", \"fileid\", \"status\"])\n",
    "\n",
    "error_data = [er_322, er_362, er_402]\n",
    "\n",
    "exclude = []\n",
    "for er in error_data:\n",
    "    temp = er[er.status != 'ok']\n",
    "    bad_dois = temp['doi'].unique().tolist()\n",
    "    exclude.append(set(bad_dois))\n",
    "    \n",
    "bad_dois = exclude[0] & exclude[1] & exclude[2] \n",
    "bad_dois = list(bad_dois)"
   ]
  },
  {
   "cell_type": "code",
   "execution_count": 47,
   "metadata": {},
   "outputs": [],
   "source": [
    "df = df.drop(df[df.doi.isin(bad_dois) & (df['result'] != 'success')].index)"
   ]
  },
  {
   "cell_type": "code",
   "execution_count": 48,
   "metadata": {},
   "outputs": [
    {
     "data": {
      "text/html": "<div>\n<style scoped>\n    .dataframe tbody tr th:only-of-type {\n        vertical-align: middle;\n    }\n\n    .dataframe tbody tr th {\n        vertical-align: top;\n    }\n\n    .dataframe thead th {\n        text-align: right;\n    }\n</style>\n<table border=\"1\" class=\"dataframe\">\n  <thead>\n    <tr style=\"text-align: right;\">\n      <th></th>\n      <th>doi</th>\n      <th>file</th>\n      <th>r32</th>\n      <th>r36</th>\n      <th>r40</th>\n      <th>result</th>\n      <th>success</th>\n    </tr>\n  </thead>\n  <tbody>\n    <tr>\n      <th>7980</th>\n      <td>doi:10.7910/DVN/NFXS5Z</td>\n      <td>psrm_supplementary_scriptX.R</td>\n      <td>NaN</td>\n      <td>NaN</td>\n      <td>Error in library(stargazer) : there is no pack...</td>\n      <td>NaN</td>\n      <td>NaN</td>\n    </tr>\n    <tr>\n      <th>7981</th>\n      <td>doi:10.7910/DVN/UMG39H</td>\n      <td>Figures.R</td>\n      <td>NaN</td>\n      <td>NaN</td>\n      <td>Error: unexpected symbol in \\load(directory of\\\"\"</td>\n      <td>NaN</td>\n      <td>NaN</td>\n    </tr>\n    <tr>\n      <th>7982</th>\n      <td>doi:10.7910/DVN/UMG39H</td>\n      <td>Table1.R</td>\n      <td>NaN</td>\n      <td>NaN</td>\n      <td>Error in read.dta('directory') :   unable to o...</td>\n      <td>NaN</td>\n      <td>NaN</td>\n    </tr>\n    <tr>\n      <th>7983</th>\n      <td>doi:10.7910/DVN/UMG39H</td>\n      <td>Table2.R</td>\n      <td>NaN</td>\n      <td>NaN</td>\n      <td>Error in readChar(con, 5L, useBytes = TRUE) : ...</td>\n      <td>NaN</td>\n      <td>NaN</td>\n    </tr>\n    <tr>\n      <th>7984</th>\n      <td>doi:10.7910/DVN/T9WESH</td>\n      <td>unknown</td>\n      <td>NaN</td>\n      <td>NaN</td>\n      <td>download error</td>\n      <td>NaN</td>\n      <td>NaN</td>\n    </tr>\n  </tbody>\n</table>\n</div>",
      "text/plain": "                         doi                          file  r32  r36  \\\n7980  doi:10.7910/DVN/NFXS5Z  psrm_supplementary_scriptX.R  NaN  NaN   \n7981  doi:10.7910/DVN/UMG39H                     Figures.R  NaN  NaN   \n7982  doi:10.7910/DVN/UMG39H                      Table1.R  NaN  NaN   \n7983  doi:10.7910/DVN/UMG39H                      Table2.R  NaN  NaN   \n7984  doi:10.7910/DVN/T9WESH                       unknown  NaN  NaN   \n\n                                                    r40 result  success  \n7980  Error in library(stargazer) : there is no pack...    NaN      NaN  \n7981  Error: unexpected symbol in \\load(directory of\\\"\"    NaN      NaN  \n7982  Error in read.dta('directory') :   unable to o...    NaN      NaN  \n7983  Error in readChar(con, 5L, useBytes = TRUE) : ...    NaN      NaN  \n7984                                     download error    NaN      NaN  "
     },
     "execution_count": 48,
     "metadata": {},
     "output_type": "execute_result"
    }
   ],
   "source": [
    "df.tail()"
   ]
  },
  {
   "cell_type": "code",
   "execution_count": 49,
   "metadata": {},
   "outputs": [
    {
     "data": {
      "text/plain": "7659"
     },
     "execution_count": 49,
     "metadata": {},
     "output_type": "execute_result"
    }
   ],
   "source": [
    "len(df)"
   ]
  },
  {
   "cell_type": "code",
   "execution_count": 50,
   "metadata": {},
   "outputs": [
    {
     "data": {
      "text/plain": "2071"
     },
     "execution_count": 50,
     "metadata": {},
     "output_type": "execute_result"
    }
   ],
   "source": [
    "len(df.doi.unique())"
   ]
  },
  {
   "cell_type": "markdown",
   "metadata": {},
   "source": [
    "## Save results"
   ]
  },
  {
   "cell_type": "code",
   "execution_count": 212,
   "metadata": {},
   "outputs": [],
   "source": [
    "df2 = df"
   ]
  },
  {
   "cell_type": "code",
   "execution_count": 213,
   "metadata": {},
   "outputs": [],
   "source": [
    "df.to_csv('aggregate_results_no_env.csv')"
   ]
  },
  {
   "cell_type": "markdown",
   "metadata": {},
   "source": [
    "# Quick check"
   ]
  },
  {
   "cell_type": "code",
   "execution_count": 214,
   "metadata": {},
   "outputs": [
    {
     "name": "stdout",
     "output_type": "stream",
     "text": [
      "Total number of entries: 3830\n",
      "Total number after bad DOIs are removed: 3830\n",
      "Unique DOIs: 1388\n",
      "Success: 952 out of 3830 => 0.2485639686684073\n",
      "TIL: 0 out of 3830 => 0.0\n",
      "Error: 2878 out of 3830 => 0.7514360313315926\n"
     ]
    },
    {
     "data": {
      "image/png": "[encoded data removed]",
      "text/plain": [
       "<Figure size 432x288 with 1 Axes>"
      ]
     },
     "metadata": {},
     "output_type": "display_data"
    }
   ],
   "source": [
    "def make_autopct(values):\n",
    "    def my_autopct(pct):\n",
    "        total = sum(values)\n",
    "        val = int(round(pct*total/100.0))\n",
    "        return '{p:.2f}%  ({v:d})'.format(p=pct,v=val)\n",
    "    return my_autopct\n",
    "\n",
    "def get_success_rates(df):\n",
    "    print \"Total number of entries: \"+ str(len(df))\n",
    "    print \"Total number after bad DOIs are removed: \"+ str(len(df))\n",
    "    \n",
    "    print \"Unique DOIs: \"+ str(len(df['doi'].unique()))\n",
    "    \n",
    "    # calculate success\n",
    "    success = (df['result'] == 'success').sum()\n",
    "    print \"Success: \" + str(success)+ \" out of \" + str(len(df)) +\" => \"+ str(success*1.0/len(df))\n",
    "    \n",
    "    til = (df['result'] == 'time limit exceeded').sum()\n",
    "    print \"TIL: \" + str(til)+ \" out of \" + str(len(df)) +\" => \"+ str(til*1.0/len(df))\n",
    "    \n",
    "    error = len(df)-til-success\n",
    "    print \"Error: \" + str(error)+ \" out of \" + str(len(df)) +\" => \"+ str(error*1.0/len(df))\n",
    "    \n",
    "    return [error, success]\n",
    "\n",
    "def plot_code(df, plot_title, plot_name, aggregation=False):\n",
    "    labels = ['Error', 'Success']\n",
    "    if aggregation:\n",
    "        sizes = get_aggregated(df)\n",
    "    else:\n",
    "        sizes = get_success_rates(df)\n",
    "     \n",
    "    fig1, ax1 = plt.subplots()\n",
    "    plt.rcParams['font.size'] = 16\n",
    "    ax1.pie(sizes, labels=labels, autopct=make_autopct(sizes), startangle=40,  \\\n",
    "            textprops={'fontsize': 14},wedgeprops={'alpha':0.6})\n",
    "\n",
    "    #draw circle\n",
    "    centre_circle = plt.Circle((0,0),0.70,fc='white')\n",
    "\n",
    "    fig = plt.gcf()\n",
    "    fig.gca().add_artist(centre_circle)\n",
    "\n",
    "    # Equal aspect ratio ensures that pie is drawn as a circle\n",
    "    ax1.axis('equal')  \n",
    "    plt.title(plot_title, size=20)\n",
    "    plt.tight_layout()\n",
    "\n",
    "    plt.show()\n",
    "    fig1.savefig(\"plots/{}\".format(plot_name), dpi=100)\n",
    "    \n",
    "dfe = df[df.result.notnull()]\n",
    "plot_code(dfe, \"Total re-execution rate per file without code cleaning\", \"aggregated_no_env.png\")"
   ]
  },
  {
   "cell_type": "markdown",
   "metadata": {},
   "source": [
    "# Validation test"
   ]
  },
  {
   "cell_type": "code",
   "execution_count": 215,
   "metadata": {},
   "outputs": [],
   "source": [
    "df = pd.merge(df1,df2,on=['doi','file'], how='outer')"
   ]
  },
  {
   "cell_type": "code",
   "execution_count": 216,
   "metadata": {},
   "outputs": [
    {
     "data": {
      "text/html": [
       "<div>\n",
       "<style scoped>\n",
       "    .dataframe tbody tr th:only-of-type {\n",
       "        vertical-align: middle;\n",
       "    }\n",
       "\n",
       "    .dataframe tbody tr th {\n",
       "        vertical-align: top;\n",
       "    }\n",
       "\n",
       "    .dataframe thead th {\n",
       "        text-align: right;\n",
       "    }\n",
       "</style>\n",
       "<table border=\"1\" class=\"dataframe\">\n",
       "  <thead>\n",
       "    <tr style=\"text-align: right;\">\n",
       "      <th></th>\n",
       "      <th>doi</th>\n",
       "      <th>file</th>\n",
       "      <th>r32_x</th>\n",
       "      <th>r36_x</th>\n",
       "      <th>r40_x</th>\n",
       "      <th>result_x</th>\n",
       "      <th>success_x</th>\n",
       "      <th>r32_y</th>\n",
       "      <th>r36_y</th>\n",
       "      <th>r40_y</th>\n",
       "      <th>result_y</th>\n",
       "      <th>success_y</th>\n",
       "    </tr>\n",
       "  </thead>\n",
       "  <tbody>\n",
       "    <tr>\n",
       "      <th>0</th>\n",
       "      <td>doi:10.7910/DVN/XFQZI2</td>\n",
       "      <td>Condemnation.R</td>\n",
       "      <td>Error in eval(expr, envir, enclos) : could not...</td>\n",
       "      <td>Error in read.dta13('Condemnation.dta') :   co...</td>\n",
       "      <td>NaN</td>\n",
       "      <td>NaN</td>\n",
       "      <td>NaN</td>\n",
       "      <td>Error in library(readstata13) : there is no pa...</td>\n",
       "      <td>NaN</td>\n",
       "      <td>NaN</td>\n",
       "      <td>NaN</td>\n",
       "      <td>NaN</td>\n",
       "    </tr>\n",
       "    <tr>\n",
       "      <th>1</th>\n",
       "      <td>doi:10.7910/DVN/WGPDBS</td>\n",
       "      <td>Replication_of_Figures.R</td>\n",
       "      <td>success</td>\n",
       "      <td>success</td>\n",
       "      <td>success</td>\n",
       "      <td>success</td>\n",
       "      <td>1.0</td>\n",
       "      <td>success</td>\n",
       "      <td>success</td>\n",
       "      <td>success</td>\n",
       "      <td>success</td>\n",
       "      <td>1.0</td>\n",
       "    </tr>\n",
       "    <tr>\n",
       "      <th>2</th>\n",
       "      <td>doi:10.7910/DVN/BPON3K</td>\n",
       "      <td>fig_10_effect_of_winning_on_gov.R</td>\n",
       "      <td>Error in diag(vcovHC(DMareg, type = 'HC3')) : ...</td>\n",
       "      <td>Error in vcovHC(DMareg, type = 'HC3') : could ...</td>\n",
       "      <td>Error in vcovHC(DMareg, type = 'HC3') : could ...</td>\n",
       "      <td>Error in vcovHC(DMareg, type = 'HC3') : could ...</td>\n",
       "      <td>0.0</td>\n",
       "      <td>Error in library(gridExtra) : there is no pack...</td>\n",
       "      <td>NaN</td>\n",
       "      <td>Error in library(gridExtra) : there is no pack...</td>\n",
       "      <td>NaN</td>\n",
       "      <td>NaN</td>\n",
       "    </tr>\n",
       "    <tr>\n",
       "      <th>3</th>\n",
       "      <td>doi:10.7910/DVN/BPON3K</td>\n",
       "      <td>fig_11_rd_placebo.R</td>\n",
       "      <td>Error in ggsave('placebo.pdf', plot = placebo,...</td>\n",
       "      <td>success</td>\n",
       "      <td>success</td>\n",
       "      <td>success</td>\n",
       "      <td>1.0</td>\n",
       "      <td>Error in library(gridExtra) : there is no pack...</td>\n",
       "      <td>NaN</td>\n",
       "      <td>Error in library(gridExtra) : there is no pack...</td>\n",
       "      <td>NaN</td>\n",
       "      <td>NaN</td>\n",
       "    </tr>\n",
       "    <tr>\n",
       "      <th>4</th>\n",
       "      <td>doi:10.7910/DVN/BPON3K</td>\n",
       "      <td>fig_12_historical_trend.R</td>\n",
       "      <td>Error in ggsave('historical_trend.pdf', plot =...</td>\n",
       "      <td>success</td>\n",
       "      <td>success</td>\n",
       "      <td>success</td>\n",
       "      <td>1.0</td>\n",
       "      <td>Error in library(ggthemes) : there is no packa...</td>\n",
       "      <td>NaN</td>\n",
       "      <td>Error in library(ggthemes) : there is no packa...</td>\n",
       "      <td>NaN</td>\n",
       "      <td>NaN</td>\n",
       "    </tr>\n",
       "  </tbody>\n",
       "</table>\n",
       "</div>"
      ],
      "text/plain": [
       "                      doi                               file  \\\n",
       "0  doi:10.7910/DVN/XFQZI2                     Condemnation.R   \n",
       "1  doi:10.7910/DVN/WGPDBS           Replication_of_Figures.R   \n",
       "2  doi:10.7910/DVN/BPON3K  fig_10_effect_of_winning_on_gov.R   \n",
       "3  doi:10.7910/DVN/BPON3K                fig_11_rd_placebo.R   \n",
       "4  doi:10.7910/DVN/BPON3K          fig_12_historical_trend.R   \n",
       "\n",
       "                                               r32_x  \\\n",
       "0  Error in eval(expr, envir, enclos) : could not...   \n",
       "1                                            success   \n",
       "2  Error in diag(vcovHC(DMareg, type = 'HC3')) : ...   \n",
       "3  Error in ggsave('placebo.pdf', plot = placebo,...   \n",
       "4  Error in ggsave('historical_trend.pdf', plot =...   \n",
       "\n",
       "                                               r36_x  \\\n",
       "0  Error in read.dta13('Condemnation.dta') :   co...   \n",
       "1                                            success   \n",
       "2  Error in vcovHC(DMareg, type = 'HC3') : could ...   \n",
       "3                                            success   \n",
       "4                                            success   \n",
       "\n",
       "                                               r40_x  \\\n",
       "0                                                NaN   \n",
       "1                                            success   \n",
       "2  Error in vcovHC(DMareg, type = 'HC3') : could ...   \n",
       "3                                            success   \n",
       "4                                            success   \n",
       "\n",
       "                                            result_x  success_x  \\\n",
       "0                                                NaN        NaN   \n",
       "1                                            success        1.0   \n",
       "2  Error in vcovHC(DMareg, type = 'HC3') : could ...        0.0   \n",
       "3                                            success        1.0   \n",
       "4                                            success        1.0   \n",
       "\n",
       "                                               r32_y    r36_y  \\\n",
       "0  Error in library(readstata13) : there is no pa...      NaN   \n",
       "1                                            success  success   \n",
       "2  Error in library(gridExtra) : there is no pack...      NaN   \n",
       "3  Error in library(gridExtra) : there is no pack...      NaN   \n",
       "4  Error in library(ggthemes) : there is no packa...      NaN   \n",
       "\n",
       "                                               r40_y result_y  success_y  \n",
       "0                                                NaN      NaN        NaN  \n",
       "1                                            success  success        1.0  \n",
       "2  Error in library(gridExtra) : there is no pack...      NaN        NaN  \n",
       "3  Error in library(gridExtra) : there is no pack...      NaN        NaN  \n",
       "4  Error in library(ggthemes) : there is no packa...      NaN        NaN  "
      ]
     },
     "execution_count": 216,
     "metadata": {},
     "output_type": "execute_result"
    }
   ],
   "source": [
    "df.head()"
   ]
  },
  {
   "cell_type": "code",
   "execution_count": 220,
   "metadata": {},
   "outputs": [
    {
     "name": "stdout",
     "output_type": "stream",
     "text": [
      "843\n"
     ]
    }
   ],
   "source": [
    "print(len(df[(df['success_x'] == 1) & (df['success_y'] == 1)]))"
   ]
  },
  {
   "cell_type": "code",
   "execution_count": 223,
   "metadata": {},
   "outputs": [
    {
     "data": {
      "text/plain": [
       "4779"
      ]
     },
     "execution_count": 223,
     "metadata": {},
     "output_type": "execute_result"
    }
   ],
   "source": [
    "len(df[(df['success_y'].isnull())])"
   ]
  },
  {
   "cell_type": "code",
   "execution_count": 221,
   "metadata": {},
   "outputs": [
    {
     "data": {
      "text/plain": [
       "8609"
      ]
     },
     "execution_count": 221,
     "metadata": {},
     "output_type": "execute_result"
    }
   ],
   "source": [
    "len(df)"
   ]
  },
  {
   "cell_type": "markdown",
   "metadata": {},
   "source": [
    "# Aggregated per dataset"
   ]
  },
  {
   "cell_type": "code",
   "execution_count": 64,
   "metadata": {},
   "outputs": [],
   "source": [
    "df = pd.read_csv(\"aggregate_results_env.csv\", index_col=0)"
   ]
  },
  {
   "cell_type": "code",
   "execution_count": 65,
   "metadata": {},
   "outputs": [
    {
     "data": {
      "text/html": [
       "<div>\n",
       "<style scoped>\n",
       "    .dataframe tbody tr th:only-of-type {\n",
       "        vertical-align: middle;\n",
       "    }\n",
       "\n",
       "    .dataframe tbody tr th {\n",
       "        vertical-align: top;\n",
       "    }\n",
       "\n",
       "    .dataframe thead th {\n",
       "        text-align: right;\n",
       "    }\n",
       "</style>\n",
       "<table border=\"1\" class=\"dataframe\">\n",
       "  <thead>\n",
       "    <tr style=\"text-align: right;\">\n",
       "      <th></th>\n",
       "      <th>doi</th>\n",
       "      <th>file</th>\n",
       "      <th>r32</th>\n",
       "      <th>r36</th>\n",
       "      <th>r40</th>\n",
       "      <th>result</th>\n",
       "    </tr>\n",
       "  </thead>\n",
       "  <tbody>\n",
       "    <tr>\n",
       "      <th>0</th>\n",
       "      <td>doi:10.7910/DVN/XFQZI2</td>\n",
       "      <td>Condemnation.R</td>\n",
       "      <td>Error in eval(expr, envir, enclos) : could not...</td>\n",
       "      <td>Error in read.dta13('Condemnation.dta') :   co...</td>\n",
       "      <td>NaN</td>\n",
       "      <td>NaN</td>\n",
       "    </tr>\n",
       "    <tr>\n",
       "      <th>1</th>\n",
       "      <td>doi:10.7910/DVN/WGPDBS</td>\n",
       "      <td>Replication_of_Figures.R</td>\n",
       "      <td>success</td>\n",
       "      <td>success</td>\n",
       "      <td>success</td>\n",
       "      <td>success</td>\n",
       "    </tr>\n",
       "    <tr>\n",
       "      <th>2</th>\n",
       "      <td>doi:10.7910/DVN/BPON3K</td>\n",
       "      <td>fig_10_effect_of_winning_on_gov.R</td>\n",
       "      <td>Error in diag(vcovHC(DMareg, type = 'HC3')) : ...</td>\n",
       "      <td>Error in vcovHC(DMareg, type = 'HC3') : could ...</td>\n",
       "      <td>Error in vcovHC(DMareg, type = 'HC3') : could ...</td>\n",
       "      <td>Error in vcovHC(DMareg, type = 'HC3') : could ...</td>\n",
       "    </tr>\n",
       "    <tr>\n",
       "      <th>3</th>\n",
       "      <td>doi:10.7910/DVN/BPON3K</td>\n",
       "      <td>fig_11_rd_placebo.R</td>\n",
       "      <td>Error in ggsave('placebo.pdf', plot = placebo,...</td>\n",
       "      <td>success</td>\n",
       "      <td>success</td>\n",
       "      <td>success</td>\n",
       "    </tr>\n",
       "    <tr>\n",
       "      <th>4</th>\n",
       "      <td>doi:10.7910/DVN/BPON3K</td>\n",
       "      <td>fig_12_historical_trend.R</td>\n",
       "      <td>Error in ggsave('historical_trend.pdf', plot =...</td>\n",
       "      <td>success</td>\n",
       "      <td>success</td>\n",
       "      <td>success</td>\n",
       "    </tr>\n",
       "  </tbody>\n",
       "</table>\n",
       "</div>"
      ],
      "text/plain": [
       "                      doi                               file  \\\n",
       "0  doi:10.7910/DVN/XFQZI2                     Condemnation.R   \n",
       "1  doi:10.7910/DVN/WGPDBS           Replication_of_Figures.R   \n",
       "2  doi:10.7910/DVN/BPON3K  fig_10_effect_of_winning_on_gov.R   \n",
       "3  doi:10.7910/DVN/BPON3K                fig_11_rd_placebo.R   \n",
       "4  doi:10.7910/DVN/BPON3K          fig_12_historical_trend.R   \n",
       "\n",
       "                                                 r32  \\\n",
       "0  Error in eval(expr, envir, enclos) : could not...   \n",
       "1                                            success   \n",
       "2  Error in diag(vcovHC(DMareg, type = 'HC3')) : ...   \n",
       "3  Error in ggsave('placebo.pdf', plot = placebo,...   \n",
       "4  Error in ggsave('historical_trend.pdf', plot =...   \n",
       "\n",
       "                                                 r36  \\\n",
       "0  Error in read.dta13('Condemnation.dta') :   co...   \n",
       "1                                            success   \n",
       "2  Error in vcovHC(DMareg, type = 'HC3') : could ...   \n",
       "3                                            success   \n",
       "4                                            success   \n",
       "\n",
       "                                                 r40  \\\n",
       "0                                                NaN   \n",
       "1                                            success   \n",
       "2  Error in vcovHC(DMareg, type = 'HC3') : could ...   \n",
       "3                                            success   \n",
       "4                                            success   \n",
       "\n",
       "                                              result  \n",
       "0                                                NaN  \n",
       "1                                            success  \n",
       "2  Error in vcovHC(DMareg, type = 'HC3') : could ...  \n",
       "3                                            success  \n",
       "4                                            success  "
      ]
     },
     "execution_count": 65,
     "metadata": {},
     "output_type": "execute_result"
    }
   ],
   "source": [
    "df.head()"
   ]
  },
  {
   "cell_type": "code",
   "execution_count": 73,
   "metadata": {},
   "outputs": [],
   "source": [
    "def plot_code(sizes, plot_title, plot_name):\n",
    "    labels = ['Error', 'Success']\n",
    "   \n",
    "    fig1, ax1 = plt.subplots()\n",
    "    plt.rcParams['font.size'] = 16\n",
    "    ax1.pie(sizes, labels=labels, autopct=make_autopct(sizes), startangle=40,  \\\n",
    "            textprops={'fontsize': 14},wedgeprops={'alpha':0.6})\n",
    "\n",
    "    #draw circle\n",
    "    centre_circle = plt.Circle((0,0),0.70,fc='white')\n",
    "\n",
    "    fig = plt.gcf()\n",
    "    fig.gca().add_artist(centre_circle)\n",
    "\n",
    "    # Equal aspect ratio ensures that pie is drawn as a circle\n",
    "    ax1.axis('equal')  \n",
    "    plt.title(plot_title, size=20)\n",
    "    plt.tight_layout()\n",
    "\n",
    "    plt.show()\n",
    "    fig1.savefig(\"plots/{}\".format(plot_name), dpi=100)"
   ]
  },
  {
   "cell_type": "code",
   "execution_count": 69,
   "metadata": {},
   "outputs": [
    {
     "data": {
      "text/plain": [
       "3695"
      ]
     },
     "execution_count": 69,
     "metadata": {},
     "output_type": "execute_result"
    }
   ],
   "source": [
    "df2 = df.loc[~df['result'].isnull()].copy()\n",
    "len(df2)"
   ]
  },
  {
   "cell_type": "code",
   "execution_count": 70,
   "metadata": {},
   "outputs": [
    {
     "data": {
      "text/html": [
       "<div>\n",
       "<style scoped>\n",
       "    .dataframe tbody tr th:only-of-type {\n",
       "        vertical-align: middle;\n",
       "    }\n",
       "\n",
       "    .dataframe tbody tr th {\n",
       "        vertical-align: top;\n",
       "    }\n",
       "\n",
       "    .dataframe thead th {\n",
       "        text-align: right;\n",
       "    }\n",
       "</style>\n",
       "<table border=\"1\" class=\"dataframe\">\n",
       "  <thead>\n",
       "    <tr style=\"text-align: right;\">\n",
       "      <th></th>\n",
       "      <th>doi</th>\n",
       "      <th>file</th>\n",
       "      <th>r32</th>\n",
       "      <th>r36</th>\n",
       "      <th>r40</th>\n",
       "      <th>result</th>\n",
       "    </tr>\n",
       "  </thead>\n",
       "  <tbody>\n",
       "    <tr>\n",
       "      <th>1</th>\n",
       "      <td>doi:10.7910/DVN/WGPDBS</td>\n",
       "      <td>Replication_of_Figures.R</td>\n",
       "      <td>success</td>\n",
       "      <td>success</td>\n",
       "      <td>success</td>\n",
       "      <td>success</td>\n",
       "    </tr>\n",
       "    <tr>\n",
       "      <th>2</th>\n",
       "      <td>doi:10.7910/DVN/BPON3K</td>\n",
       "      <td>fig_10_effect_of_winning_on_gov.R</td>\n",
       "      <td>Error in diag(vcovHC(DMareg, type = 'HC3')) : ...</td>\n",
       "      <td>Error in vcovHC(DMareg, type = 'HC3') : could ...</td>\n",
       "      <td>Error in vcovHC(DMareg, type = 'HC3') : could ...</td>\n",
       "      <td>Error in vcovHC(DMareg, type = 'HC3') : could ...</td>\n",
       "    </tr>\n",
       "    <tr>\n",
       "      <th>3</th>\n",
       "      <td>doi:10.7910/DVN/BPON3K</td>\n",
       "      <td>fig_11_rd_placebo.R</td>\n",
       "      <td>Error in ggsave('placebo.pdf', plot = placebo,...</td>\n",
       "      <td>success</td>\n",
       "      <td>success</td>\n",
       "      <td>success</td>\n",
       "    </tr>\n",
       "    <tr>\n",
       "      <th>4</th>\n",
       "      <td>doi:10.7910/DVN/BPON3K</td>\n",
       "      <td>fig_12_historical_trend.R</td>\n",
       "      <td>Error in ggsave('historical_trend.pdf', plot =...</td>\n",
       "      <td>success</td>\n",
       "      <td>success</td>\n",
       "      <td>success</td>\n",
       "    </tr>\n",
       "    <tr>\n",
       "      <th>5</th>\n",
       "      <td>doi:10.7910/DVN/BPON3K</td>\n",
       "      <td>fig_13_plot_loyalty_df_pct.R</td>\n",
       "      <td>Error in data.table(x) : object 'x' not found</td>\n",
       "      <td>Error in data.table(x) : object 'x' not found</td>\n",
       "      <td>Error in data.table(x) : object 'x' not found</td>\n",
       "      <td>Error in data.table(x) : object 'x' not found</td>\n",
       "    </tr>\n",
       "  </tbody>\n",
       "</table>\n",
       "</div>"
      ],
      "text/plain": [
       "                      doi                               file  \\\n",
       "1  doi:10.7910/DVN/WGPDBS           Replication_of_Figures.R   \n",
       "2  doi:10.7910/DVN/BPON3K  fig_10_effect_of_winning_on_gov.R   \n",
       "3  doi:10.7910/DVN/BPON3K                fig_11_rd_placebo.R   \n",
       "4  doi:10.7910/DVN/BPON3K          fig_12_historical_trend.R   \n",
       "5  doi:10.7910/DVN/BPON3K       fig_13_plot_loyalty_df_pct.R   \n",
       "\n",
       "                                                 r32  \\\n",
       "1                                            success   \n",
       "2  Error in diag(vcovHC(DMareg, type = 'HC3')) : ...   \n",
       "3  Error in ggsave('placebo.pdf', plot = placebo,...   \n",
       "4  Error in ggsave('historical_trend.pdf', plot =...   \n",
       "5      Error in data.table(x) : object 'x' not found   \n",
       "\n",
       "                                                 r36  \\\n",
       "1                                            success   \n",
       "2  Error in vcovHC(DMareg, type = 'HC3') : could ...   \n",
       "3                                            success   \n",
       "4                                            success   \n",
       "5      Error in data.table(x) : object 'x' not found   \n",
       "\n",
       "                                                 r40  \\\n",
       "1                                            success   \n",
       "2  Error in vcovHC(DMareg, type = 'HC3') : could ...   \n",
       "3                                            success   \n",
       "4                                            success   \n",
       "5      Error in data.table(x) : object 'x' not found   \n",
       "\n",
       "                                              result  \n",
       "1                                            success  \n",
       "2  Error in vcovHC(DMareg, type = 'HC3') : could ...  \n",
       "3                                            success  \n",
       "4                                            success  \n",
       "5      Error in data.table(x) : object 'x' not found  "
      ]
     },
     "execution_count": 70,
     "metadata": {},
     "output_type": "execute_result"
    }
   ],
   "source": [
    "df2.head()"
   ]
  },
  {
   "cell_type": "code",
   "execution_count": 71,
   "metadata": {},
   "outputs": [
    {
     "data": {
      "text/plain": [
       "1447"
      ]
     },
     "execution_count": 71,
     "metadata": {},
     "output_type": "execute_result"
    }
   ],
   "source": [
    "ag_tot = set(df2['doi'].unique().tolist())\n",
    "len(ag_tot)"
   ]
  },
  {
   "cell_type": "code",
   "execution_count": 72,
   "metadata": {},
   "outputs": [
    {
     "data": {
      "text/plain": [
       "648"
      ]
     },
     "execution_count": 72,
     "metadata": {},
     "output_type": "execute_result"
    }
   ],
   "source": [
    "ag_suc = set(df2[df2.result == 'success']['doi'].unique().tolist())\n",
    "len(ag_suc)"
   ]
  },
  {
   "cell_type": "code",
   "execution_count": 74,
   "metadata": {},
   "outputs": [
    {
     "data": {
      "image/png": "[encoded data removed]",
      "text/plain": [
       "<Figure size 432x288 with 1 Axes>"
      ]
     },
     "metadata": {},
     "output_type": "display_data"
    }
   ],
   "source": [
    "sizes = [len(ag_tot)-len(ag_suc), len(ag_suc)]\n",
    "plot_code(sizes, \"Rerun rate per dataset\", \"dataset_rate.png\")"
   ]
  },
  {
   "cell_type": "code",
   "execution_count": null,
   "metadata": {},
   "outputs": [],
   "source": []
  }
 ],
 "metadata": {
  "kernelspec": {
   "display_name": "env",
   "language": "python",
   "name": "env"
  },
  "language_info": {
   "codemirror_mode": {
    "name": "ipython",
    "version": 2
   },
   "file_extension": ".py",
   "mimetype": "text/x-python",
   "name": "python",
   "nbconvert_exporter": "python",
   "pygments_lexer": "ipython2",
   "version": "2.7.16-final"
  }
 },
 "nbformat": 4,
 "nbformat_minor": 2
}