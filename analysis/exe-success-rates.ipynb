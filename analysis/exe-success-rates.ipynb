{
 "cells": [
  {
   "cell_type": "code",
   "execution_count": 1,
   "metadata": {},
   "outputs": [],
   "source": [
    "import pandas as pd\n",
    "import matplotlib.pyplot as plt"
   ]
  },
  {
   "cell_type": "code",
   "execution_count": 2,
   "metadata": {},
   "outputs": [],
   "source": [
    "def make_autopct(values):\n",
    "    def my_autopct(pct):\n",
    "        total = sum(values)\n",
    "        val = int(round(pct*total/100.0))\n",
    "        return '{p:.2f}%  ({v:d})'.format(p=pct,v=val)\n",
    "    return my_autopct"
   ]
  },
  {
   "cell_type": "markdown",
   "metadata": {},
   "source": [
    "# No env success rate"
   ]
  },
  {
   "cell_type": "code",
   "execution_count": 3,
   "metadata": {},
   "outputs": [],
   "source": [
    "dfb = pd.read_csv(\"run_log_no.csv\", sep=\"\\t\", names=[\"doi\", \"file\", \"result\"])"
   ]
  },
  {
   "cell_type": "code",
   "execution_count": 4,
   "metadata": {},
   "outputs": [
    {
     "data": {
      "text/plain": [
       "7199"
      ]
     },
     "execution_count": 4,
     "metadata": {},
     "output_type": "execute_result"
    }
   ],
   "source": [
    "len(dfb['doi'])"
   ]
  },
  {
   "cell_type": "code",
   "execution_count": 6,
   "metadata": {},
   "outputs": [
    {
     "data": {
      "text/plain": [
       "777"
      ]
     },
     "execution_count": 6,
     "metadata": {},
     "output_type": "execute_result"
    }
   ],
   "source": [
    "# take out bad downloads\n",
    "dfb_e = pd.read_csv(\"run_log_ds_no.csv\", sep=\"\\t\", names=[\"doi\", \"status\"])\n",
    "dfb_e = dfb_e[dfb_e.status != 'ok']\n",
    "len(dfb_e)"
   ]
  },
  {
   "cell_type": "code",
   "execution_count": 7,
   "metadata": {},
   "outputs": [
    {
     "data": {
      "text/plain": [
       "106"
      ]
     },
     "execution_count": 7,
     "metadata": {},
     "output_type": "execute_result"
    }
   ],
   "source": [
    "bad = dfb_e['doi'].unique().tolist()\n",
    "len(bad)"
   ]
  },
  {
   "cell_type": "code",
   "execution_count": 8,
   "metadata": {},
   "outputs": [],
   "source": [
    "# take out bad from the list\n",
    "dfb = dfb[~dfb.doi.isin(bad)]"
   ]
  },
  {
   "cell_type": "code",
   "execution_count": 9,
   "metadata": {},
   "outputs": [
    {
     "data": {
      "text/plain": [
       "6754"
      ]
     },
     "execution_count": 9,
     "metadata": {},
     "output_type": "execute_result"
    }
   ],
   "source": [
    "len(dfb)"
   ]
  },
  {
   "cell_type": "code",
   "execution_count": 10,
   "metadata": {},
   "outputs": [
    {
     "name": "stdout",
     "output_type": "stream",
     "text": [
      "700 out of 6754 => 0.1036422860527095\n"
     ]
    }
   ],
   "source": [
    "# calculate success rate\n",
    "success = (dfb['result'] == 'success').sum()\n",
    "print str(success)+ \" out of \" + str(len(dfb)) +\" => \"+ str(success*1.0/len(dfb))"
   ]
  },
  {
   "cell_type": "code",
   "execution_count": 11,
   "metadata": {},
   "outputs": [
    {
     "name": "stdout",
     "output_type": "stream",
     "text": [
      "72 out of 6754 => 0.010660349422564407\n"
     ]
    }
   ],
   "source": [
    "til = (dfb['result'] == 'time limit exceeded').sum()\n",
    "print str(til)+ \" out of \" + str(len(dfb)) +\" => \"+ str(til*1.0/len(dfb))"
   ]
  },
  {
   "cell_type": "code",
   "execution_count": 12,
   "metadata": {},
   "outputs": [],
   "source": [
    "error = len(dfb)-til-success"
   ]
  },
  {
   "cell_type": "code",
   "execution_count": 13,
   "metadata": {},
   "outputs": [
    {
     "data": {
      "image/png": "[encoded data removed]",
      "text/plain": [
       "<Figure size 432x288 with 1 Axes>"
      ]
     },
     "metadata": {},
     "output_type": "display_data"
    }
   ],
   "source": [
    "# Pie chart\n",
    "labels = [\"Time Limit Exceeded\",'Error', 'Success']\n",
    "sizes = [til, error, success]\n",
    " \n",
    "fig1, ax1 = plt.subplots()\n",
    "plt.rcParams['font.size'] = 14\n",
    "ax1.pie(sizes, labels=labels, autopct=make_autopct(sizes), startangle=40,  textprops={'fontsize': 14},wedgeprops={'alpha':0.6})\n",
    "\n",
    "#draw circle\n",
    "centre_circle = plt.Circle((0,0),0.70,fc='white')\n",
    "\n",
    "fig = plt.gcf()\n",
    "fig.gca().add_artist(centre_circle)\n",
    "\n",
    "# Equal aspect ratio ensures that pie is drawn as a circle\n",
    "ax1.axis('equal')  \n",
    "plt.title(\"Total re-execution rate\", size=14)\n",
    "plt.tight_layout()\n",
    "\n",
    "plt.show()\n",
    "fig1.savefig(\"plots/no_env_before.png\")"
   ]
  },
  {
   "cell_type": "markdown",
   "metadata": {},
   "source": [
    "## Aggregate per replication package\n",
    "\n",
    "- If a replication package contains successful code => it is success\n",
    "- If a replication package containes TLE code => it is TLE\n",
    "- Rest is failed"
   ]
  },
  {
   "cell_type": "code",
   "execution_count": 14,
   "metadata": {},
   "outputs": [
    {
     "data": {
      "text/plain": [
       "1889"
      ]
     },
     "execution_count": 14,
     "metadata": {},
     "output_type": "execute_result"
    }
   ],
   "source": [
    "ag_tot = set(dfb['doi'].unique().tolist())\n",
    "len(ag_tot)"
   ]
  },
  {
   "cell_type": "code",
   "execution_count": 15,
   "metadata": {},
   "outputs": [
    {
     "data": {
      "text/plain": [
       "359"
      ]
     },
     "execution_count": 15,
     "metadata": {},
     "output_type": "execute_result"
    }
   ],
   "source": [
    "ag_suc = set(dfb[dfb.result == 'success']['doi'].unique().tolist())\n",
    "len(ag_suc)"
   ]
  },
  {
   "cell_type": "code",
   "execution_count": 16,
   "metadata": {},
   "outputs": [
    {
     "data": {
      "text/plain": [
       "72"
      ]
     },
     "execution_count": 16,
     "metadata": {},
     "output_type": "execute_result"
    }
   ],
   "source": [
    "ag_exc = set(dfb[dfb['result'] == 'time limit exceeded']['doi'].unique().tolist())\n",
    "len(ag_exc)"
   ]
  },
  {
   "cell_type": "code",
   "execution_count": 17,
   "metadata": {},
   "outputs": [
    {
     "data": {
      "text/plain": [
       "59"
      ]
     },
     "execution_count": 17,
     "metadata": {},
     "output_type": "execute_result"
    }
   ],
   "source": [
    "# remove dupicates in ag_exc\n",
    "ag_exc = ag_exc - ag_suc\n",
    "len(ag_exc)"
   ]
  },
  {
   "cell_type": "code",
   "execution_count": 18,
   "metadata": {},
   "outputs": [
    {
     "data": {
      "text/plain": [
       "1471"
      ]
     },
     "execution_count": 18,
     "metadata": {},
     "output_type": "execute_result"
    }
   ],
   "source": [
    "# calculate failed\n",
    "ag_failed = ag_tot - ag_suc - ag_exc\n",
    "len(ag_failed)"
   ]
  },
  {
   "cell_type": "code",
   "execution_count": 21,
   "metadata": {},
   "outputs": [
    {
     "data": {
      "image/png": "[encoded data removed]",
      "text/plain": [
       "<Figure size 432x288 with 1 Axes>"
      ]
     },
     "metadata": {},
     "output_type": "display_data"
    }
   ],
   "source": [
    "labels = [ 'Success', 'Error', 'Time Limit Exceeded']\n",
    "sizes = [ len(ag_suc), len(ag_failed), len(ag_exc)]\n",
    " \n",
    "fig1, ax1 = plt.subplots()\n",
    "plt.rcParams['font.size'] = 14\n",
    "ax1.pie(sizes, labels=labels, autopct=make_autopct(sizes), startangle=-60,  textprops={'fontsize': 14},wedgeprops={'alpha':0.6})\n",
    "\n",
    "#draw circle\n",
    "centre_circle = plt.Circle((0,0),0.70,fc='white')\n",
    "\n",
    "fig = plt.gcf()\n",
    "fig.gca().add_artist(centre_circle)\n",
    "\n",
    "# Equal aspect ratio ensures that pie is drawn as a circle\n",
    "ax1.axis('equal')  \n",
    "plt.title(\"Total re-execution rate\", size=14)\n",
    "plt.tight_layout()\n",
    "\n",
    "plt.show()\n",
    "fig1.savefig(\"plots/before_per_package.png\")"
   ]
  },
  {
   "cell_type": "markdown",
   "metadata": {},
   "source": [
    "# Success rate after"
   ]
  },
  {
   "cell_type": "code",
   "execution_count": 22,
   "metadata": {},
   "outputs": [],
   "source": [
    "sto_e = pd.read_csv(\"run_log_ds_sto1.csv\", sep=\"\\t\", names=[\"doi\", \"status\"])"
   ]
  },
  {
   "cell_type": "code",
   "execution_count": 23,
   "metadata": {},
   "outputs": [
    {
     "data": {
      "text/html": [
       "<div>\n",
       "<style scoped>\n",
       "    .dataframe tbody tr th:only-of-type {\n",
       "        vertical-align: middle;\n",
       "    }\n",
       "\n",
       "    .dataframe tbody tr th {\n",
       "        vertical-align: top;\n",
       "    }\n",
       "\n",
       "    .dataframe thead th {\n",
       "        text-align: right;\n",
       "    }\n",
       "</style>\n",
       "<table border=\"1\" class=\"dataframe\">\n",
       "  <thead>\n",
       "    <tr style=\"text-align: right;\">\n",
       "      <th></th>\n",
       "      <th>doi</th>\n",
       "      <th>status</th>\n",
       "    </tr>\n",
       "  </thead>\n",
       "  <tbody>\n",
       "    <tr>\n",
       "      <th>14</th>\n",
       "      <td>doi:10.7910/DVN/YM7IWP</td>\n",
       "      <td>checksum error</td>\n",
       "    </tr>\n",
       "    <tr>\n",
       "      <th>15</th>\n",
       "      <td>doi:10.7910/DVN/YM7IWP</td>\n",
       "      <td>checksum error</td>\n",
       "    </tr>\n",
       "    <tr>\n",
       "      <th>16</th>\n",
       "      <td>doi:10.7910/DVN/YM7IWP</td>\n",
       "      <td>checksum error</td>\n",
       "    </tr>\n",
       "    <tr>\n",
       "      <th>17</th>\n",
       "      <td>doi:10.7910/DVN/YM7IWP</td>\n",
       "      <td>checksum error</td>\n",
       "    </tr>\n",
       "    <tr>\n",
       "      <th>18</th>\n",
       "      <td>doi:10.7910/DVN/YM7IWP</td>\n",
       "      <td>checksum error</td>\n",
       "    </tr>\n",
       "  </tbody>\n",
       "</table>\n",
       "</div>"
      ],
      "text/plain": [
       "                       doi          status\n",
       "14  doi:10.7910/DVN/YM7IWP  checksum error\n",
       "15  doi:10.7910/DVN/YM7IWP  checksum error\n",
       "16  doi:10.7910/DVN/YM7IWP  checksum error\n",
       "17  doi:10.7910/DVN/YM7IWP  checksum error\n",
       "18  doi:10.7910/DVN/YM7IWP  checksum error"
      ]
     },
     "execution_count": 23,
     "metadata": {},
     "output_type": "execute_result"
    }
   ],
   "source": [
    "sto_e = sto_e[sto_e.status != 'ok']\n",
    "sto_e.head()"
   ]
  },
  {
   "cell_type": "code",
   "execution_count": 24,
   "metadata": {},
   "outputs": [
    {
     "data": {
      "text/plain": [
       "119"
      ]
     },
     "execution_count": 24,
     "metadata": {},
     "output_type": "execute_result"
    }
   ],
   "source": [
    "bad=sto_e['doi'].unique().tolist()\n",
    "len(bad)"
   ]
  },
  {
   "cell_type": "code",
   "execution_count": 25,
   "metadata": {},
   "outputs": [],
   "source": [
    "sto = pd.read_csv(\"run_log_sto1.csv\", sep=\"\\t\", names=[\"doi\", \"file\", \"result\"])"
   ]
  },
  {
   "cell_type": "code",
   "execution_count": 26,
   "metadata": {},
   "outputs": [
    {
     "data": {
      "text/plain": [
       "5061"
      ]
     },
     "execution_count": 26,
     "metadata": {},
     "output_type": "execute_result"
    }
   ],
   "source": [
    "len(sto)"
   ]
  },
  {
   "cell_type": "code",
   "execution_count": 27,
   "metadata": {},
   "outputs": [
    {
     "name": "stdout",
     "output_type": "stream",
     "text": [
      "822 out of 5061 => 0.16241849436870184\n"
     ]
    }
   ],
   "source": [
    "success = (sto['result'] == 'success').sum()\n",
    "print str(success)+ \" out of \" + str(len(sto)) +\" => \"+ str(success*1.0/len(sto))"
   ]
  },
  {
   "cell_type": "code",
   "execution_count": 28,
   "metadata": {},
   "outputs": [
    {
     "name": "stdout",
     "output_type": "stream",
     "text": [
      "753 out of 5061 => 0.14878482513337285\n"
     ]
    }
   ],
   "source": [
    "til = (sto['result'] == 'time limit exceeded').sum()\n",
    "print str(til)+ \" out of \" + str(len(sto)) +\" => \"+ str(til*1.0/len(sto))"
   ]
  },
  {
   "cell_type": "code",
   "execution_count": 29,
   "metadata": {},
   "outputs": [],
   "source": [
    "error = len(sto)-til-success"
   ]
  },
  {
   "cell_type": "code",
   "execution_count": 31,
   "metadata": {},
   "outputs": [
    {
     "data": {
      "image/png": "[encoded data removed]",
      "text/plain": [
       "<Figure size 432x288 with 1 Axes>"
      ]
     },
     "metadata": {},
     "output_type": "display_data"
    }
   ],
   "source": [
    "# Pie chart\n",
    "labels = [\"Time Limit Exceeded\",'Error', 'Success']\n",
    "sizes = [til, error, success]\n",
    " \n",
    "fig1, ax1 = plt.subplots()\n",
    "plt.rcParams['font.size'] = 14\n",
    "ax1.pie(sizes, labels=labels, autopct=make_autopct(sizes), startangle=30,  textprops={'fontsize': 12}, wedgeprops={'alpha':0.6})\n",
    "\n",
    "#draw circle\n",
    "centre_circle = plt.Circle((0,0),0.70,fc='white')\n",
    "\n",
    "fig = plt.gcf()\n",
    "fig.gca().add_artist(centre_circle)\n",
    "\n",
    "# Equal aspect ratio ensures that pie is drawn as a circle\n",
    "ax1.axis('equal')  \n",
    "plt.title(\"Re-execution rate after revision\", size=14)\n",
    "plt.tight_layout()\n",
    "\n",
    "plt.show()\n",
    "fig1.savefig(\"plots/sto_after.png\")"
   ]
  },
  {
   "cell_type": "markdown",
   "metadata": {},
   "source": [
    "## Aggregated"
   ]
  },
  {
   "cell_type": "code",
   "execution_count": 32,
   "metadata": {},
   "outputs": [
    {
     "data": {
      "image/png": "[encoded data removed]",
      "text/plain": [
       "<Figure size 432x288 with 1 Axes>"
      ]
     },
     "metadata": {},
     "output_type": "display_data"
    }
   ],
   "source": [
    "ag_tot = set(sto['doi'].unique().tolist())\n",
    "ag_exc = set(sto[sto.result == 'time limit exceeded']['doi'].unique().tolist())\n",
    "ag_suc = set(sto[sto.result == 'success']['doi'].unique().tolist())\n",
    "\n",
    "ag_exc = ag_exc - ag_suc\n",
    "ag_failed = ag_tot - ag_suc - ag_exc\n",
    "\n",
    "labels = [ 'Success', 'Error', 'Time Limit Exceeded']\n",
    "sizes = [ len(ag_suc), len(ag_failed), len(ag_exc)]\n",
    " \n",
    "fig1, ax1 = plt.subplots()\n",
    "plt.rcParams['font.size'] = 14\n",
    "ax1.pie(sizes, labels=labels, autopct=make_autopct(sizes), startangle=20,  textprops={'fontsize': 14},wedgeprops={'alpha':0.6})\n",
    "\n",
    "#draw circle\n",
    "centre_circle = plt.Circle((0,0),0.70,fc='white')\n",
    "\n",
    "fig = plt.gcf()\n",
    "fig.gca().add_artist(centre_circle)\n",
    "\n",
    "# Equal aspect ratio ensures that pie is drawn as a circle\n",
    "ax1.axis('equal')  \n",
    "plt.title(\"Total re-execution rate\", size=14)\n",
    "plt.tight_layout()\n",
    "\n",
    "plt.show()\n",
    "fig1.savefig(\"plots/agg_after.png\")"
   ]
  },
  {
   "cell_type": "code",
   "execution_count": null,
   "metadata": {},
   "outputs": [],
   "source": []
  }
 ],
 "metadata": {
  "kernelspec": {
   "display_name": "env",
   "language": "python",
   "name": "env"
  },
  "language_info": {
   "codemirror_mode": {
    "name": "ipython",
    "version": 2
   },
   "file_extension": ".py",
   "mimetype": "text/x-python",
   "name": "python",
   "nbconvert_exporter": "python",
   "pygments_lexer": "ipython2",
   "version": "2.7.16"
  }
 },
 "nbformat": 4,
 "nbformat_minor": 2
}
