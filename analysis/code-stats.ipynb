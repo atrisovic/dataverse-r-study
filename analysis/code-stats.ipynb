{
 "cells": [
  {
   "cell_type": "code",
   "execution_count": 66,
   "metadata": {},
   "outputs": [],
   "source": [
    "import numpy as np\n",
    "import matplotlib.pyplot as plt\n",
    "import seaborn as sns\n",
    "from matplotlib import rc\n",
    "import pandas as pd"
   ]
  },
  {
   "cell_type": "code",
   "execution_count": 67,
   "metadata": {},
   "outputs": [],
   "source": [
    "df = pd.read_csv(\"run_log_st11.csv\", delimiter='\\t', names=[\"doi\", 'filename', 'comm_no', 'dep_no', 'encoding', 'total_lines'])"
   ]
  },
  {
   "cell_type": "code",
   "execution_count": 68,
   "metadata": {},
   "outputs": [
    {
     "data": {
      "text/html": [
       "<div>\n",
       "<style scoped>\n",
       "    .dataframe tbody tr th:only-of-type {\n",
       "        vertical-align: middle;\n",
       "    }\n",
       "\n",
       "    .dataframe tbody tr th {\n",
       "        vertical-align: top;\n",
       "    }\n",
       "\n",
       "    .dataframe thead th {\n",
       "        text-align: right;\n",
       "    }\n",
       "</style>\n",
       "<table border=\"1\" class=\"dataframe\">\n",
       "  <thead>\n",
       "    <tr style=\"text-align: right;\">\n",
       "      <th></th>\n",
       "      <th>doi</th>\n",
       "      <th>filename</th>\n",
       "      <th>comm_no</th>\n",
       "      <th>dep_no</th>\n",
       "      <th>encoding</th>\n",
       "      <th>total_lines</th>\n",
       "    </tr>\n",
       "  </thead>\n",
       "  <tbody>\n",
       "    <tr>\n",
       "      <th>0</th>\n",
       "      <td>doi:10.7910/DVN/BPON3K</td>\n",
       "      <td>fig_10_effect_of_winning_on_gov.R</td>\n",
       "      <td>13</td>\n",
       "      <td>4</td>\n",
       "      <td>Windows-1252</td>\n",
       "      <td>188</td>\n",
       "    </tr>\n",
       "    <tr>\n",
       "      <th>1</th>\n",
       "      <td>doi:10.7910/DVN/BPON3K</td>\n",
       "      <td>fig_11_rd_placebo.R</td>\n",
       "      <td>8</td>\n",
       "      <td>4</td>\n",
       "      <td>Windows-1252</td>\n",
       "      <td>153</td>\n",
       "    </tr>\n",
       "    <tr>\n",
       "      <th>2</th>\n",
       "      <td>doi:10.7910/DVN/BPON3K</td>\n",
       "      <td>fig_12_historical_trend.R</td>\n",
       "      <td>4</td>\n",
       "      <td>3</td>\n",
       "      <td>Windows-1252</td>\n",
       "      <td>37</td>\n",
       "    </tr>\n",
       "  </tbody>\n",
       "</table>\n",
       "</div>"
      ],
      "text/plain": [
       "                      doi                           filename comm_no dep_no  \\\n",
       "0  doi:10.7910/DVN/BPON3K  fig_10_effect_of_winning_on_gov.R      13      4   \n",
       "1  doi:10.7910/DVN/BPON3K                fig_11_rd_placebo.R       8      4   \n",
       "2  doi:10.7910/DVN/BPON3K          fig_12_historical_trend.R       4      3   \n",
       "\n",
       "       encoding total_lines  \n",
       "0  Windows-1252         188  \n",
       "1  Windows-1252         153  \n",
       "2  Windows-1252          37  "
      ]
     },
     "execution_count": 68,
     "metadata": {},
     "output_type": "execute_result"
    }
   ],
   "source": [
    "df.head(3)"
   ]
  },
  {
   "cell_type": "markdown",
   "metadata": {},
   "source": [
    "# Convert to numbers ..."
   ]
  },
  {
   "cell_type": "code",
   "execution_count": 69,
   "metadata": {},
   "outputs": [
    {
     "name": "stdout",
     "output_type": "stream",
     "text": [
      "simple slopes\n",
      "13 state south.R\n",
      "OA3\n",
      "2 and 3.R\n"
     ]
    }
   ],
   "source": [
    "def column_to_int(el):\n",
    "    el = el.strip()\n",
    "    \n",
    "    if el.isdigit():\n",
    "        return float(el.split()[0])\n",
    "    else:\n",
    "        print(el)  \n",
    "        return np.nan\n",
    "    \n",
    "df['total_lines_int']=df[\"total_lines\"].apply(column_to_int)"
   ]
  },
  {
   "cell_type": "code",
   "execution_count": 70,
   "metadata": {},
   "outputs": [
    {
     "name": "stdout",
     "output_type": "stream",
     "text": [
      "and main effects.R\n",
      "OA4\n"
     ]
    }
   ],
   "source": [
    "df['comm_to_int']=df[\"comm_no\"].apply(column_to_int)"
   ]
  },
  {
   "cell_type": "code",
   "execution_count": 71,
   "metadata": {},
   "outputs": [
    {
     "name": "stdout",
     "output_type": "stream",
     "text": [
      "OA5\n"
     ]
    }
   ],
   "source": [
    "df['dep_to_int']=df[\"dep_no\"].apply(column_to_int)"
   ]
  },
  {
   "cell_type": "markdown",
   "metadata": {},
   "source": [
    "# Relative no of comments"
   ]
  },
  {
   "cell_type": "code",
   "execution_count": 72,
   "metadata": {},
   "outputs": [
    {
     "data": {
      "text/html": [
       "<div>\n",
       "<style scoped>\n",
       "    .dataframe tbody tr th:only-of-type {\n",
       "        vertical-align: middle;\n",
       "    }\n",
       "\n",
       "    .dataframe tbody tr th {\n",
       "        vertical-align: top;\n",
       "    }\n",
       "\n",
       "    .dataframe thead th {\n",
       "        text-align: right;\n",
       "    }\n",
       "</style>\n",
       "<table border=\"1\" class=\"dataframe\">\n",
       "  <thead>\n",
       "    <tr style=\"text-align: right;\">\n",
       "      <th></th>\n",
       "      <th>doi</th>\n",
       "      <th>filename</th>\n",
       "      <th>comm_no</th>\n",
       "      <th>dep_no</th>\n",
       "      <th>encoding</th>\n",
       "      <th>total_lines</th>\n",
       "      <th>total_lines_int</th>\n",
       "      <th>comm_to_int</th>\n",
       "      <th>dep_to_int</th>\n",
       "    </tr>\n",
       "  </thead>\n",
       "  <tbody>\n",
       "    <tr>\n",
       "      <th>0</th>\n",
       "      <td>doi:10.7910/DVN/BPON3K</td>\n",
       "      <td>fig_10_effect_of_winning_on_gov.R</td>\n",
       "      <td>13</td>\n",
       "      <td>4</td>\n",
       "      <td>Windows-1252</td>\n",
       "      <td>188</td>\n",
       "      <td>188.0</td>\n",
       "      <td>13.0</td>\n",
       "      <td>4.0</td>\n",
       "    </tr>\n",
       "    <tr>\n",
       "      <th>1</th>\n",
       "      <td>doi:10.7910/DVN/BPON3K</td>\n",
       "      <td>fig_11_rd_placebo.R</td>\n",
       "      <td>8</td>\n",
       "      <td>4</td>\n",
       "      <td>Windows-1252</td>\n",
       "      <td>153</td>\n",
       "      <td>153.0</td>\n",
       "      <td>8.0</td>\n",
       "      <td>4.0</td>\n",
       "    </tr>\n",
       "    <tr>\n",
       "      <th>2</th>\n",
       "      <td>doi:10.7910/DVN/BPON3K</td>\n",
       "      <td>fig_12_historical_trend.R</td>\n",
       "      <td>4</td>\n",
       "      <td>3</td>\n",
       "      <td>Windows-1252</td>\n",
       "      <td>37</td>\n",
       "      <td>37.0</td>\n",
       "      <td>4.0</td>\n",
       "      <td>3.0</td>\n",
       "    </tr>\n",
       "    <tr>\n",
       "      <th>3</th>\n",
       "      <td>doi:10.7910/DVN/BPON3K</td>\n",
       "      <td>fig_13_plot_loyalty_df_pct.R</td>\n",
       "      <td>3</td>\n",
       "      <td>5</td>\n",
       "      <td>ascii</td>\n",
       "      <td>27</td>\n",
       "      <td>27.0</td>\n",
       "      <td>3.0</td>\n",
       "      <td>5.0</td>\n",
       "    </tr>\n",
       "    <tr>\n",
       "      <th>4</th>\n",
       "      <td>doi:10.7910/DVN/BPON3K</td>\n",
       "      <td>fig_14_effect_on_individual_parties.R</td>\n",
       "      <td>1</td>\n",
       "      <td>0</td>\n",
       "      <td>ascii</td>\n",
       "      <td>1</td>\n",
       "      <td>1.0</td>\n",
       "      <td>1.0</td>\n",
       "      <td>0.0</td>\n",
       "    </tr>\n",
       "  </tbody>\n",
       "</table>\n",
       "</div>"
      ],
      "text/plain": [
       "                      doi                               filename comm_no  \\\n",
       "0  doi:10.7910/DVN/BPON3K      fig_10_effect_of_winning_on_gov.R      13   \n",
       "1  doi:10.7910/DVN/BPON3K                    fig_11_rd_placebo.R       8   \n",
       "2  doi:10.7910/DVN/BPON3K              fig_12_historical_trend.R       4   \n",
       "3  doi:10.7910/DVN/BPON3K           fig_13_plot_loyalty_df_pct.R       3   \n",
       "4  doi:10.7910/DVN/BPON3K  fig_14_effect_on_individual_parties.R       1   \n",
       "\n",
       "  dep_no      encoding total_lines  total_lines_int  comm_to_int  dep_to_int  \n",
       "0      4  Windows-1252         188            188.0         13.0         4.0  \n",
       "1      4  Windows-1252         153            153.0          8.0         4.0  \n",
       "2      3  Windows-1252          37             37.0          4.0         3.0  \n",
       "3      5         ascii          27             27.0          3.0         5.0  \n",
       "4      0         ascii           1              1.0          1.0         0.0  "
      ]
     },
     "execution_count": 72,
     "metadata": {},
     "output_type": "execute_result"
    }
   ],
   "source": [
    "df.head()"
   ]
  },
  {
   "cell_type": "code",
   "execution_count": 73,
   "metadata": {},
   "outputs": [],
   "source": [
    "# ( total lines - no of comments ) / no of comments\n",
    "df['comm_rel']=(df['total_lines_int']-df['comm_to_int'])/df['comm_to_int']\n",
    "df['comm_rel']=df['comm_rel'].round(2)\n",
    "df=df.replace([np.inf, -np.inf], np.nan)"
   ]
  },
  {
   "cell_type": "code",
   "execution_count": 74,
   "metadata": {},
   "outputs": [
    {
     "data": {
      "image/png": "[encoded data removed]",
      "text/plain": [
       "<Figure size 432x288 with 2 Axes>"
      ]
     },
     "metadata": {
      "needs_background": "light"
     },
     "output_type": "display_data"
    }
   ],
   "source": [
    "# Cut the window in 2 parts\n",
    "f, (ax_box, ax_hist) = plt.subplots(2, sharex=True, gridspec_kw={\"height_ratios\": (.15, .85)})\n",
    " \n",
    "# Add a graph in each part\n",
    "sns.boxplot(df[\"comm_rel\"], ax=ax_box)\n",
    "sns.distplot(df[\"comm_rel\"].dropna(), ax=ax_hist, kde=False, bins=800)\n",
    " \n",
    "# Remove x axis name for the boxplot\n",
    "ax_box.set(xlabel='')\n",
    "ax_box.set(title='Number of lines of code per number of comments in an R file')\n",
    "ax_hist.set(xlabel=\"lines of code / lines of comments\")\n",
    "#plt.xscale('log')\n",
    "plt.xlim(0, 30)\n",
    "plt.show()\n",
    "\n",
    "f.tight_layout()\n",
    "f.savefig(\"plots/rel_comments.png\", dpi=100)"
   ]
  },
  {
   "cell_type": "markdown",
   "metadata": {},
   "source": [
    "# Relative no of dependencies"
   ]
  },
  {
   "cell_type": "code",
   "execution_count": 75,
   "metadata": {},
   "outputs": [],
   "source": [
    "# ( total lines - no of comments ) / no of comments\n",
    "df['dep_rel']=(df['total_lines_int']-df['dep_to_int'])/df['dep_to_int']\n",
    "df['dep_rel']=df['dep_rel'].round(2)\n",
    "df=df.replace([np.inf, -np.inf], np.nan)"
   ]
  },
  {
   "cell_type": "code",
   "execution_count": 76,
   "metadata": {},
   "outputs": [
    {
     "data": {
      "image/png": "[encoded data removed]",
      "text/plain": [
       "<Figure size 432x288 with 2 Axes>"
      ]
     },
     "metadata": {
      "needs_background": "light"
     },
     "output_type": "display_data"
    }
   ],
   "source": [
    "# Cut the window in 2 parts\n",
    "f, (ax_box, ax_hist) = plt.subplots(2, sharex=True, gridspec_kw={\"height_ratios\": (.15, .85)})\n",
    " \n",
    "# Add a graph in each part\n",
    "sns.boxplot(df[\"dep_rel\"], color='g', ax=ax_box)\n",
    "sns.distplot(df[\"dep_rel\"].dropna(), color='g', ax=ax_hist, kde=False, bins=900)\n",
    " \n",
    "# Remove x axis name for the boxplot\n",
    "ax_box.set(xlabel='')\n",
    "ax_box.set(title='Number of lines of code per number of dependencies in an R file')\n",
    "ax_hist.set(xlabel=\"lines of code / number of dependencies\")\n",
    "#plt.xscale('log')\n",
    "plt.xlim(0, 400)\n",
    "plt.show()\n",
    "\n",
    "f.tight_layout()\n",
    "f.savefig(\"plots/rel_dep.png\", dpi=100)"
   ]
  },
  {
   "cell_type": "markdown",
   "metadata": {},
   "source": [
    "# Encoding"
   ]
  },
  {
   "cell_type": "code",
   "execution_count": 77,
   "metadata": {},
   "outputs": [],
   "source": [
    "temo = df.encoding.value_counts().reset_index().head(4)"
   ]
  },
  {
   "cell_type": "code",
   "execution_count": 78,
   "metadata": {},
   "outputs": [],
   "source": [
    "labels = temo['index']\n",
    "labels = labels.append(pd.Series('other'))"
   ]
  },
  {
   "cell_type": "code",
   "execution_count": 79,
   "metadata": {},
   "outputs": [],
   "source": [
    "sizes = temo['encoding']\n",
    "sizes = sizes.append(pd.Series(64))"
   ]
  },
  {
   "cell_type": "code",
   "execution_count": 80,
   "metadata": {},
   "outputs": [
    {
     "data": {
      "text/plain": [
       "0           ascii\n",
       "1           utf-8\n",
       "2      ISO-8859-1\n",
       "3    Windows-1252\n",
       "0           other\n",
       "dtype: object"
      ]
     },
     "execution_count": 80,
     "metadata": {},
     "output_type": "execute_result"
    }
   ],
   "source": [
    "labels"
   ]
  },
  {
   "cell_type": "code",
   "execution_count": 81,
   "metadata": {},
   "outputs": [
    {
     "data": {
      "image/png": "[encoded data removed]",
      "text/plain": [
       "<Figure size 432x288 with 1 Axes>"
      ]
     },
     "metadata": {},
     "output_type": "display_data"
    }
   ],
   "source": [
    "# Pie chart\n",
    "#labels = ['Yes',  'No']\n",
    "#sizes = [(df['docs'] == 1).sum(), (df['docs'] == 0).sum()]\n",
    " \n",
    "fig1, ax1 = plt.subplots()\n",
    "plt.rcParams['font.size'] = 15\n",
    "pie = ax1.pie(sizes,   startangle=10, \\\n",
    "        textprops={'fontsize': 12},wedgeprops={'alpha':0.7})\n",
    "\n",
    "#draw circle\n",
    "centre_circle = plt.Circle((0,0),0.70,fc='white')\n",
    "\n",
    "fig = plt.gcf()\n",
    "fig.gca().add_artist(centre_circle)\n",
    "\n",
    "# Equal aspect ratio ensures that pie is drawn as a circle\n",
    "ax1.axis('equal')  \n",
    "plt.title(\"Code file (script) encoding\", size=18)\n",
    "plt.tight_layout()\n",
    "\n",
    "#ax2 = fig.add_subplot(212)\n",
    "#ax2.axis(\"off\") \n",
    "#ax2.legend(pie[0],labels, loc=\"center\")\n",
    "total = sizes.sum()\n",
    "plt.legend(\n",
    "    pie[0],labels=['%s, %1.1f %%' % (l, s*100.0/total) for l, s in zip(labels, sizes)], \\\n",
    "    bbox_to_anchor=(1.35,0.3), loc=\"lower right\", \\\n",
    "    bbox_transform=plt.gcf().transFigure)\n",
    "\n",
    "plt.show()\n",
    "fig.savefig(\"plots/encoding.png\", bbox_inches=\"tight\")"
   ]
  },
  {
   "cell_type": "code",
   "execution_count": null,
   "metadata": {},
   "outputs": [],
   "source": []
  }
 ],
 "metadata": {
  "kernelspec": {
   "display_name": "env",
   "language": "python",
   "name": "env"
  },
  "language_info": {
   "codemirror_mode": {
    "name": "ipython",
    "version": 2
   },
   "file_extension": ".py",
   "mimetype": "text/x-python",
   "name": "python",
   "nbconvert_exporter": "python",
   "pygments_lexer": "ipython2",
   "version": "2.7.16"
  }
 },
 "nbformat": 4,
 "nbformat_minor": 2
}
