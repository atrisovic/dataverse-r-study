{
 "cells": [
  {
   "cell_type": "markdown",
   "metadata": {},
   "source": [
    "# Analysis of effects of code cleaning"
   ]
  },
  {
   "cell_type": "code",
   "execution_count": 223,
   "metadata": {},
   "outputs": [],
   "source": [
    "def make_autopct(values):\n",
    "    def my_autopct(pct):\n",
    "        total = sum(values)\n",
    "        val = int(round(pct*total/100.0))\n",
    "        return '{p:.2f}%  ({v:d})'.format(p=pct,v=val)\n",
    "    return my_autopct"
   ]
  },
  {
   "cell_type": "code",
   "execution_count": 224,
   "metadata": {},
   "outputs": [],
   "source": [
    "import numpy as np\n",
    "import matplotlib.pyplot as plt\n",
    "import seaborn as sns\n",
    "from matplotlib import rc\n",
    "import pandas as pd\n",
    "\n",
    "# plot style\n",
    "sns.set_style('whitegrid')\n",
    "sns.set_style({'font.family': 'Times New Roman'})"
   ]
  },
  {
   "cell_type": "markdown",
   "metadata": {},
   "source": [
    "# Load data"
   ]
  },
  {
   "cell_type": "code",
   "execution_count": 225,
   "metadata": {},
   "outputs": [],
   "source": [
    "df_32_noenv = pd.read_csv(\"data/one-hour-run-data/run_log_r32_no_env.csv\", sep=\"\\t\", names=[\"doi\", \"file\", \"result\"])\n",
    "df_32_env = pd.read_csv(\"data/one-hour-run-data/run_log_r32_env.csv\", sep=\"\\t\", names=[\"doi\", \"file\", \"result\"])\n",
    "df_36_noenv = pd.read_csv(\"data/one-hour-run-data/run_log_r36_no_env.csv\", sep=\"\\t\", names=[\"doi\", \"file\", \"result\"])\n",
    "df_36_env = pd.read_csv(\"data/one-hour-run-data/run_log_r36_env.csv\", sep=\"\\t\", names=[\"doi\", \"file\", \"result\"])\n",
    "df_40_noenv = pd.read_csv(\"data/one-hour-run-data/run_log_r40_no_env.csv\", sep=\"\\t\", names=[\"doi\", \"file\", \"result\"])\n",
    "df_40_env = pd.read_csv(\"data/one-hour-run-data/run_log_r40_env.csv\", sep=\"\\t\", names=[\"doi\", \"file\", \"result\"])"
   ]
  },
  {
   "cell_type": "markdown",
   "metadata": {},
   "source": [
    "## Merging before and after datasets"
   ]
  },
  {
   "cell_type": "code",
   "execution_count": 226,
   "metadata": {},
   "outputs": [],
   "source": [
    "df_36 = pd.merge(df_36_noenv, df_36_env,on=['doi','file'], how='inner')"
   ]
  },
  {
   "cell_type": "code",
   "execution_count": 227,
   "metadata": {},
   "outputs": [],
   "source": [
    "df_32 = pd.merge(df_32_noenv, df_32_env,on=['doi','file'], how='inner')"
   ]
  },
  {
   "cell_type": "code",
   "execution_count": 228,
   "metadata": {},
   "outputs": [],
   "source": [
    "df_40 = pd.merge(df_40_noenv, df_40_env,on=['doi','file'], how='inner')"
   ]
  },
  {
   "cell_type": "markdown",
   "metadata": {},
   "source": [
    "## Remove NAN"
   ]
  },
  {
   "cell_type": "code",
   "execution_count": 229,
   "metadata": {},
   "outputs": [
    {
     "data": {
      "text/plain": [
       "0"
      ]
     },
     "execution_count": 229,
     "metadata": {},
     "output_type": "execute_result"
    }
   ],
   "source": [
    "df_36.result_y.isna().sum()"
   ]
  },
  {
   "cell_type": "code",
   "execution_count": 230,
   "metadata": {},
   "outputs": [
    {
     "data": {
      "text/plain": [
       "0"
      ]
     },
     "execution_count": 230,
     "metadata": {},
     "output_type": "execute_result"
    }
   ],
   "source": [
    "df_40.result_y.isna().sum()"
   ]
  },
  {
   "cell_type": "code",
   "execution_count": 231,
   "metadata": {},
   "outputs": [],
   "source": [
    "df_32= df_32.drop(\n",
    "    df_32[(df_32.result_x == 'time limit exceeded') | (df_32.result_y == 'time limit exceeded')].index)"
   ]
  },
  {
   "cell_type": "code",
   "execution_count": 232,
   "metadata": {},
   "outputs": [],
   "source": [
    "df_36= df_36.drop(\n",
    "    df_36[(df_36.result_x == 'time limit exceeded') | (df_36.result_y == 'time limit exceeded')].index)"
   ]
  },
  {
   "cell_type": "code",
   "execution_count": 233,
   "metadata": {},
   "outputs": [],
   "source": [
    "df_40= df_40.drop(\n",
    "    df_40[(df_40.result_x == 'time limit exceeded') | (df_40.result_y == 'time limit exceeded')].index)"
   ]
  },
  {
   "cell_type": "markdown",
   "metadata": {},
   "source": [
    "## Count success"
   ]
  },
  {
   "cell_type": "code",
   "execution_count": 234,
   "metadata": {},
   "outputs": [],
   "source": [
    "def success(el):\n",
    "    if \"success\" in el:\n",
    "        return 1\n",
    "    return 0\n",
    "\n",
    "df_32['before']=df_32[\"result_x\"].apply(success)\n",
    "df_32['after']=df_32[\"result_y\"].apply(success)\n",
    "df_36['before']=df_36[\"result_x\"].apply(success)\n",
    "df_36['after']=df_36[\"result_y\"].apply(success)\n",
    "df_40['before']=df_40[\"result_x\"].apply(success)\n",
    "df_40['after']=df_40[\"result_y\"].apply(success)"
   ]
  },
  {
   "cell_type": "markdown",
   "metadata": {},
   "source": [
    "## Bad code cleaning\n",
    "\n",
    "A check if there are cases where code cleaning caused error (ie where the code was successful before and had error after)."
   ]
  },
  {
   "cell_type": "code",
   "execution_count": 289,
   "metadata": {},
   "outputs": [
    {
     "name": "stdout",
     "output_type": "stream",
     "text": [
      "4\n",
      "5\n",
      "16\n"
     ]
    }
   ],
   "source": [
    "print(len(df_32[(df_32['before'] == 1) & (df_32['after'] == 0)]))\n",
    "print(len(df_36[(df_36['before'] == 1) & (df_36['after'] == 0)]))\n",
    "print(len(df_40[(df_40['before'] == 1) & (df_40['after'] == 0)]))"
   ]
  },
  {
   "cell_type": "markdown",
   "metadata": {},
   "source": [
    "## Temp table"
   ]
  },
  {
   "cell_type": "code",
   "execution_count": 235,
   "metadata": {},
   "outputs": [
    {
     "data": {
      "text/plain": [
       "[12.709251101321586, 16.424822476072862, 14.843188891548959]"
      ]
     },
     "execution_count": 235,
     "metadata": {},
     "output_type": "execute_result"
    }
   ],
   "source": [
    "bars1 = [\n",
    "    df_32.before.sum()*100./len(df_32),\n",
    "    df_36.before.sum()*100./len(df_36),\n",
    "    df_40.before.sum()*100./len(df_40)\n",
    "]\n",
    "bars1"
   ]
  },
  {
   "cell_type": "code",
   "execution_count": 236,
   "metadata": {},
   "outputs": [
    {
     "data": {
      "text/plain": [
       "[18.303964757709252, 24.51373880827416, 22.59995211874551]"
      ]
     },
     "execution_count": 236,
     "metadata": {},
     "output_type": "execute_result"
    }
   ],
   "source": [
    "bars2 = [\n",
    "    df_32.after.sum()*100./len(df_32),\n",
    "    df_36.after.sum()*100./len(df_36),\n",
    "    df_40.after.sum()*100./len(df_40)\n",
    "]\n",
    "bars2"
   ]
  },
  {
   "cell_type": "markdown",
   "metadata": {},
   "source": [
    "## Plotting"
   ]
  },
  {
   "cell_type": "code",
   "execution_count": 237,
   "metadata": {},
   "outputs": [
    {
     "data": {
      "image/png": "[encoded data removed]",
      "text/plain": [
       "<Figure size 432x288 with 1 Axes>"
      ]
     },
     "metadata": {},
     "output_type": "display_data"
    }
   ],
   "source": [
    "barWidth = 0.3\n",
    "\n",
    "# The x position of bars\n",
    "r1 = np.arange(len(bars1))\n",
    "r2 = [x + barWidth for x in r1]\n",
    " \n",
    "# Create blue bars\n",
    "plt.bar(r1, bars1, width = barWidth, color = 'blue', edgecolor = 'black', capsize=7, label='before code cleaning')\n",
    " \n",
    "# Create cyan bars\n",
    "plt.bar(r2, bars2, width = barWidth, color = 'cyan', edgecolor = 'black', capsize=7, label='after code cleaning')\n",
    " \n",
    "# general layout\n",
    "plt.title(\"Success rate before and after code cleaning\")\n",
    "plt.xticks([r + barWidth/2 for r in range(len(bars1))], ['R 3.2', 'R 3.6', 'R 4.0'])\n",
    "plt.ylabel('Percentage (%)')\n",
    "plt.legend()\n",
    " \n",
    "# Show graphic\n",
    "plt.savefig('plots/before_after_code_cleaning.png', bbox_inches = \"tight\")\n",
    "plt.show()"
   ]
  },
  {
   "cell_type": "markdown",
   "metadata": {},
   "source": [
    "# Aggregate results from these"
   ]
  },
  {
   "cell_type": "code",
   "execution_count": 272,
   "metadata": {},
   "outputs": [
    {
     "data": {
      "text/plain": [
       "1781"
      ]
     },
     "execution_count": 272,
     "metadata": {},
     "output_type": "execute_result"
    }
   ],
   "source": [
    "temp = pd.merge(df_32, df_36, on=['doi','file'])\n",
    "temp = pd.merge(temp, df_40, on=['doi','file'])\n",
    "len(temp)"
   ]
  },
  {
   "cell_type": "code",
   "execution_count": 273,
   "metadata": {},
   "outputs": [],
   "source": [
    "temp['before_ag'] = temp[['before_x','before_y','before']].max(axis=1)\n",
    "temp['after_ag'] = temp[['after_x','after_y','after']].max(axis=1)"
   ]
  },
  {
   "cell_type": "code",
   "execution_count": 274,
   "metadata": {},
   "outputs": [
    {
     "data": {
      "text/plain": [
       "359"
      ]
     },
     "execution_count": 274,
     "metadata": {},
     "output_type": "execute_result"
    }
   ],
   "source": [
    "sum(temp['before_ag'])"
   ]
  },
  {
   "cell_type": "code",
   "execution_count": 275,
   "metadata": {},
   "outputs": [
    {
     "data": {
      "text/plain": [
       "491"
      ]
     },
     "execution_count": 275,
     "metadata": {},
     "output_type": "execute_result"
    }
   ],
   "source": [
    "sum(temp['after_ag'])"
   ]
  },
  {
   "cell_type": "markdown",
   "metadata": {},
   "source": [
    "# Before and after code cleaning for aggregate results"
   ]
  },
  {
   "cell_type": "code",
   "execution_count": 292,
   "metadata": {},
   "outputs": [
    {
     "data": {
      "text/plain": [
       "7414"
      ]
     },
     "execution_count": 292,
     "metadata": {},
     "output_type": "execute_result"
    }
   ],
   "source": [
    "df1 = pd.read_csv(\"aggregate_results_env.csv\", index_col=0)\n",
    "len(df1)"
   ]
  },
  {
   "cell_type": "code",
   "execution_count": 293,
   "metadata": {},
   "outputs": [
    {
     "data": {
      "text/plain": [
       "7659"
      ]
     },
     "execution_count": 293,
     "metadata": {},
     "output_type": "execute_result"
    }
   ],
   "source": [
    "df2 = pd.read_csv(\"aggregate_results_no_env.csv\", index_col=0)\n",
    "len(df2)"
   ]
  },
  {
   "cell_type": "code",
   "execution_count": 294,
   "metadata": {},
   "outputs": [
    {
     "data": {
      "text/html": [
       "<div>\n",
       "<style scoped>\n",
       "    .dataframe tbody tr th:only-of-type {\n",
       "        vertical-align: middle;\n",
       "    }\n",
       "\n",
       "    .dataframe tbody tr th {\n",
       "        vertical-align: top;\n",
       "    }\n",
       "\n",
       "    .dataframe thead th {\n",
       "        text-align: right;\n",
       "    }\n",
       "</style>\n",
       "<table border=\"1\" class=\"dataframe\">\n",
       "  <thead>\n",
       "    <tr style=\"text-align: right;\">\n",
       "      <th></th>\n",
       "      <th>doi</th>\n",
       "      <th>file</th>\n",
       "      <th>r32</th>\n",
       "      <th>r36</th>\n",
       "      <th>r40</th>\n",
       "      <th>result</th>\n",
       "      <th>success</th>\n",
       "    </tr>\n",
       "  </thead>\n",
       "  <tbody>\n",
       "    <tr>\n",
       "      <th>0</th>\n",
       "      <td>doi:10.7910/DVN/XFQZI2</td>\n",
       "      <td>Condemnation.R</td>\n",
       "      <td>Error in library(readstata13) : there is no pa...</td>\n",
       "      <td>NaN</td>\n",
       "      <td>NaN</td>\n",
       "      <td>NaN</td>\n",
       "      <td>NaN</td>\n",
       "    </tr>\n",
       "    <tr>\n",
       "      <th>1</th>\n",
       "      <td>doi:10.7910/DVN/WGPDBS</td>\n",
       "      <td>Replication_of_Figures.R</td>\n",
       "      <td>success</td>\n",
       "      <td>success</td>\n",
       "      <td>success</td>\n",
       "      <td>success</td>\n",
       "      <td>1.0</td>\n",
       "    </tr>\n",
       "    <tr>\n",
       "      <th>2</th>\n",
       "      <td>doi:10.7910/DVN/BPON3K</td>\n",
       "      <td>fig_10_effect_of_winning_on_gov.R</td>\n",
       "      <td>Error in library(gridExtra) : there is no pack...</td>\n",
       "      <td>NaN</td>\n",
       "      <td>Error in library(gridExtra) : there is no pack...</td>\n",
       "      <td>NaN</td>\n",
       "      <td>NaN</td>\n",
       "    </tr>\n",
       "    <tr>\n",
       "      <th>3</th>\n",
       "      <td>doi:10.7910/DVN/BPON3K</td>\n",
       "      <td>fig_11_rd_placebo.R</td>\n",
       "      <td>Error in library(gridExtra) : there is no pack...</td>\n",
       "      <td>NaN</td>\n",
       "      <td>Error in library(gridExtra) : there is no pack...</td>\n",
       "      <td>NaN</td>\n",
       "      <td>NaN</td>\n",
       "    </tr>\n",
       "    <tr>\n",
       "      <th>4</th>\n",
       "      <td>doi:10.7910/DVN/BPON3K</td>\n",
       "      <td>fig_12_historical_trend.R</td>\n",
       "      <td>Error in library(ggthemes) : there is no packa...</td>\n",
       "      <td>NaN</td>\n",
       "      <td>Error in library(ggthemes) : there is no packa...</td>\n",
       "      <td>NaN</td>\n",
       "      <td>NaN</td>\n",
       "    </tr>\n",
       "  </tbody>\n",
       "</table>\n",
       "</div>"
      ],
      "text/plain": [
       "                      doi                               file  \\\n",
       "0  doi:10.7910/DVN/XFQZI2                     Condemnation.R   \n",
       "1  doi:10.7910/DVN/WGPDBS           Replication_of_Figures.R   \n",
       "2  doi:10.7910/DVN/BPON3K  fig_10_effect_of_winning_on_gov.R   \n",
       "3  doi:10.7910/DVN/BPON3K                fig_11_rd_placebo.R   \n",
       "4  doi:10.7910/DVN/BPON3K          fig_12_historical_trend.R   \n",
       "\n",
       "                                                 r32      r36  \\\n",
       "0  Error in library(readstata13) : there is no pa...      NaN   \n",
       "1                                            success  success   \n",
       "2  Error in library(gridExtra) : there is no pack...      NaN   \n",
       "3  Error in library(gridExtra) : there is no pack...      NaN   \n",
       "4  Error in library(ggthemes) : there is no packa...      NaN   \n",
       "\n",
       "                                                 r40   result  success  \n",
       "0                                                NaN      NaN      NaN  \n",
       "1                                            success  success      1.0  \n",
       "2  Error in library(gridExtra) : there is no pack...      NaN      NaN  \n",
       "3  Error in library(gridExtra) : there is no pack...      NaN      NaN  \n",
       "4  Error in library(ggthemes) : there is no packa...      NaN      NaN  "
      ]
     },
     "execution_count": 294,
     "metadata": {},
     "output_type": "execute_result"
    }
   ],
   "source": [
    "df2.head()"
   ]
  },
  {
   "cell_type": "code",
   "execution_count": 295,
   "metadata": {},
   "outputs": [],
   "source": [
    "df_merged = pd.merge(df1, df2,on=['doi','file'], how='inner')"
   ]
  },
  {
   "cell_type": "code",
   "execution_count": 296,
   "metadata": {},
   "outputs": [
    {
     "data": {
      "text/plain": [
       "6464"
      ]
     },
     "execution_count": 296,
     "metadata": {},
     "output_type": "execute_result"
    }
   ],
   "source": [
    "len(df_merged)"
   ]
  },
  {
   "cell_type": "code",
   "execution_count": 297,
   "metadata": {},
   "outputs": [
    {
     "data": {
      "text/html": [
       "<div>\n",
       "<style scoped>\n",
       "    .dataframe tbody tr th:only-of-type {\n",
       "        vertical-align: middle;\n",
       "    }\n",
       "\n",
       "    .dataframe tbody tr th {\n",
       "        vertical-align: top;\n",
       "    }\n",
       "\n",
       "    .dataframe thead th {\n",
       "        text-align: right;\n",
       "    }\n",
       "</style>\n",
       "<table border=\"1\" class=\"dataframe\">\n",
       "  <thead>\n",
       "    <tr style=\"text-align: right;\">\n",
       "      <th></th>\n",
       "      <th>doi</th>\n",
       "      <th>file</th>\n",
       "      <th>r32_x</th>\n",
       "      <th>r36_x</th>\n",
       "      <th>r40_x</th>\n",
       "      <th>result_x</th>\n",
       "      <th>success_x</th>\n",
       "      <th>r32_y</th>\n",
       "      <th>r36_y</th>\n",
       "      <th>r40_y</th>\n",
       "      <th>result_y</th>\n",
       "      <th>success_y</th>\n",
       "    </tr>\n",
       "  </thead>\n",
       "  <tbody>\n",
       "    <tr>\n",
       "      <th>0</th>\n",
       "      <td>doi:10.7910/DVN/XFQZI2</td>\n",
       "      <td>Condemnation.R</td>\n",
       "      <td>Error in eval(expr, envir, enclos) : could not...</td>\n",
       "      <td>Error in read.dta13('Condemnation.dta') :   co...</td>\n",
       "      <td>NaN</td>\n",
       "      <td>NaN</td>\n",
       "      <td>NaN</td>\n",
       "      <td>Error in library(readstata13) : there is no pa...</td>\n",
       "      <td>NaN</td>\n",
       "      <td>NaN</td>\n",
       "      <td>NaN</td>\n",
       "      <td>NaN</td>\n",
       "    </tr>\n",
       "    <tr>\n",
       "      <th>1</th>\n",
       "      <td>doi:10.7910/DVN/WGPDBS</td>\n",
       "      <td>Replication_of_Figures.R</td>\n",
       "      <td>success</td>\n",
       "      <td>success</td>\n",
       "      <td>success</td>\n",
       "      <td>success</td>\n",
       "      <td>1.0</td>\n",
       "      <td>success</td>\n",
       "      <td>success</td>\n",
       "      <td>success</td>\n",
       "      <td>success</td>\n",
       "      <td>1.0</td>\n",
       "    </tr>\n",
       "    <tr>\n",
       "      <th>2</th>\n",
       "      <td>doi:10.7910/DVN/BPON3K</td>\n",
       "      <td>fig_10_effect_of_winning_on_gov.R</td>\n",
       "      <td>Error in diag(vcovHC(DMareg, type = 'HC3')) : ...</td>\n",
       "      <td>Error in vcovHC(DMareg, type = 'HC3') : could ...</td>\n",
       "      <td>Error in vcovHC(DMareg, type = 'HC3') : could ...</td>\n",
       "      <td>Error in vcovHC(DMareg, type = 'HC3') : could ...</td>\n",
       "      <td>0.0</td>\n",
       "      <td>Error in library(gridExtra) : there is no pack...</td>\n",
       "      <td>NaN</td>\n",
       "      <td>Error in library(gridExtra) : there is no pack...</td>\n",
       "      <td>NaN</td>\n",
       "      <td>NaN</td>\n",
       "    </tr>\n",
       "    <tr>\n",
       "      <th>3</th>\n",
       "      <td>doi:10.7910/DVN/BPON3K</td>\n",
       "      <td>fig_11_rd_placebo.R</td>\n",
       "      <td>Error in ggsave('placebo.pdf', plot = placebo,...</td>\n",
       "      <td>success</td>\n",
       "      <td>success</td>\n",
       "      <td>success</td>\n",
       "      <td>1.0</td>\n",
       "      <td>Error in library(gridExtra) : there is no pack...</td>\n",
       "      <td>NaN</td>\n",
       "      <td>Error in library(gridExtra) : there is no pack...</td>\n",
       "      <td>NaN</td>\n",
       "      <td>NaN</td>\n",
       "    </tr>\n",
       "    <tr>\n",
       "      <th>4</th>\n",
       "      <td>doi:10.7910/DVN/BPON3K</td>\n",
       "      <td>fig_12_historical_trend.R</td>\n",
       "      <td>Error in ggsave('historical_trend.pdf', plot =...</td>\n",
       "      <td>success</td>\n",
       "      <td>success</td>\n",
       "      <td>success</td>\n",
       "      <td>1.0</td>\n",
       "      <td>Error in library(ggthemes) : there is no packa...</td>\n",
       "      <td>NaN</td>\n",
       "      <td>Error in library(ggthemes) : there is no packa...</td>\n",
       "      <td>NaN</td>\n",
       "      <td>NaN</td>\n",
       "    </tr>\n",
       "  </tbody>\n",
       "</table>\n",
       "</div>"
      ],
      "text/plain": [
       "                      doi                               file  \\\n",
       "0  doi:10.7910/DVN/XFQZI2                     Condemnation.R   \n",
       "1  doi:10.7910/DVN/WGPDBS           Replication_of_Figures.R   \n",
       "2  doi:10.7910/DVN/BPON3K  fig_10_effect_of_winning_on_gov.R   \n",
       "3  doi:10.7910/DVN/BPON3K                fig_11_rd_placebo.R   \n",
       "4  doi:10.7910/DVN/BPON3K          fig_12_historical_trend.R   \n",
       "\n",
       "                                               r32_x  \\\n",
       "0  Error in eval(expr, envir, enclos) : could not...   \n",
       "1                                            success   \n",
       "2  Error in diag(vcovHC(DMareg, type = 'HC3')) : ...   \n",
       "3  Error in ggsave('placebo.pdf', plot = placebo,...   \n",
       "4  Error in ggsave('historical_trend.pdf', plot =...   \n",
       "\n",
       "                                               r36_x  \\\n",
       "0  Error in read.dta13('Condemnation.dta') :   co...   \n",
       "1                                            success   \n",
       "2  Error in vcovHC(DMareg, type = 'HC3') : could ...   \n",
       "3                                            success   \n",
       "4                                            success   \n",
       "\n",
       "                                               r40_x  \\\n",
       "0                                                NaN   \n",
       "1                                            success   \n",
       "2  Error in vcovHC(DMareg, type = 'HC3') : could ...   \n",
       "3                                            success   \n",
       "4                                            success   \n",
       "\n",
       "                                            result_x  success_x  \\\n",
       "0                                                NaN        NaN   \n",
       "1                                            success        1.0   \n",
       "2  Error in vcovHC(DMareg, type = 'HC3') : could ...        0.0   \n",
       "3                                            success        1.0   \n",
       "4                                            success        1.0   \n",
       "\n",
       "                                               r32_y    r36_y  \\\n",
       "0  Error in library(readstata13) : there is no pa...      NaN   \n",
       "1                                            success  success   \n",
       "2  Error in library(gridExtra) : there is no pack...      NaN   \n",
       "3  Error in library(gridExtra) : there is no pack...      NaN   \n",
       "4  Error in library(ggthemes) : there is no packa...      NaN   \n",
       "\n",
       "                                               r40_y result_y  success_y  \n",
       "0                                                NaN      NaN        NaN  \n",
       "1                                            success  success        1.0  \n",
       "2  Error in library(gridExtra) : there is no pack...      NaN        NaN  \n",
       "3  Error in library(gridExtra) : there is no pack...      NaN        NaN  \n",
       "4  Error in library(ggthemes) : there is no packa...      NaN        NaN  "
      ]
     },
     "execution_count": 297,
     "metadata": {},
     "output_type": "execute_result"
    }
   ],
   "source": [
    "df_merged.head()"
   ]
  },
  {
   "cell_type": "code",
   "execution_count": 298,
   "metadata": {},
   "outputs": [],
   "source": [
    "df_merged= df_merged.drop(\n",
    "    df_merged[(df_merged.result_x == 'time limit exceeded') | (df_merged.result_y == 'time limit exceeded')].index)"
   ]
  },
  {
   "cell_type": "code",
   "execution_count": 299,
   "metadata": {},
   "outputs": [],
   "source": [
    "df_merged= df_merged.drop(\n",
    "    df_merged[(df_merged.result_x.isna()) | (df_merged.result_y.isna())].index)"
   ]
  },
  {
   "cell_type": "code",
   "execution_count": 300,
   "metadata": {},
   "outputs": [
    {
     "data": {
      "text/plain": [
       "2335"
      ]
     },
     "execution_count": 300,
     "metadata": {},
     "output_type": "execute_result"
    }
   ],
   "source": [
    "len(df_merged)"
   ]
  },
  {
   "cell_type": "code",
   "execution_count": 311,
   "metadata": {},
   "outputs": [
    {
     "name": "stdout",
     "output_type": "stream",
     "text": [
      "0\n"
     ]
    }
   ],
   "source": [
    "# * bad code cleaning\n",
    "print(len(df_merged[(df_merged['success_x'] == 0) & (df_merged['success_y'] == 1)]))"
   ]
  },
  {
   "cell_type": "code",
   "execution_count": 304,
   "metadata": {},
   "outputs": [
    {
     "data": {
      "text/plain": [
       "2335"
      ]
     },
     "execution_count": 304,
     "metadata": {},
     "output_type": "execute_result"
    }
   ],
   "source": [
    "len(df_merged)"
   ]
  },
  {
   "cell_type": "code",
   "execution_count": 247,
   "metadata": {},
   "outputs": [
    {
     "data": {
      "text/plain": [
       "[12.709251101321586,\n",
       " 16.424822476072862,\n",
       " 14.843188891548959,\n",
       " 36.102783725910065]"
      ]
     },
     "execution_count": 247,
     "metadata": {},
     "output_type": "execute_result"
    }
   ],
   "source": [
    "bars1 = [\n",
    "    df_32.before.sum()*100./len(df_32),\n",
    "    df_36.before.sum()*100./len(df_36),\n",
    "    df_40.before.sum()*100./len(df_40),\n",
    "    (df_merged['result_y'] == 'success').sum()*100./len(df_merged)\n",
    "]\n",
    "bars1"
   ]
  },
  {
   "cell_type": "code",
   "execution_count": 248,
   "metadata": {},
   "outputs": [
    {
     "data": {
      "text/plain": [
       "[18.303964757709252, 24.51373880827416, 22.59995211874551, 46.980728051391864]"
      ]
     },
     "execution_count": 248,
     "metadata": {},
     "output_type": "execute_result"
    }
   ],
   "source": [
    "bars2 = [\n",
    "    df_32.after.sum()*100./len(df_32),\n",
    "    df_36.after.sum()*100./len(df_36),\n",
    "    df_40.after.sum()*100./len(df_40),\n",
    "    (df_merged['result_x'] == 'success').sum()*100./len(df_merged)\n",
    "]\n",
    "bars2"
   ]
  },
  {
   "cell_type": "code",
   "execution_count": 249,
   "metadata": {},
   "outputs": [],
   "source": [
    "totals = [len(df_32), len(df_36), len(df_40), len(df_merged)]"
   ]
  },
  {
   "cell_type": "code",
   "execution_count": 250,
   "metadata": {},
   "outputs": [
    {
     "data": {
      "image/png": "[encoded data removed]",
      "text/plain": [
       "<Figure size 864x360 with 1 Axes>"
      ]
     },
     "metadata": {},
     "output_type": "display_data"
    }
   ],
   "source": [
    "barWidth = 0.3\n",
    "\n",
    "plt.figure(figsize=(12,5))\n",
    "\n",
    "# The x position of bars\n",
    "r1 = np.arange(len(bars1))\n",
    "r2 = [x + barWidth for x in r1]\n",
    " \n",
    "# Create blue bars\n",
    "plt.bar(r1, bars1, width = barWidth, color = 'blue', edgecolor = 'black', capsize=7, label='before code cleaning')\n",
    " \n",
    "# Create cyan bars\n",
    "plt.bar(r2, bars2, width = barWidth, color = 'cyan', edgecolor = 'black', capsize=7, label='after code cleaning')\n",
    "\n",
    "bbox_props = dict(boxstyle=\"square,pad=0.3\", fc=\"w\", ec=\"k\", lw=1)\n",
    "for i in range(len(totals)):\n",
    "    plt.annotate(\"(\"+str(int(totals[i]))+\")\", xy=(i+0.05, 2), bbox=bbox_props, rotation=0, color=\"black\", size=12)\n",
    "\n",
    "# general layout\n",
    "plt.title(\"Success rate before and after code cleaning\", fontsize=20)\n",
    "plt.xticks([r + barWidth/2 for r in range(len(bars1))], ['R 3.2', 'R 3.6', 'R 4.0', 'Combined'], fontsize=16)\n",
    "plt.ylabel('Percentage (%)', fontsize=16)\n",
    "plt.legend(fontsize=16)\n",
    " \n",
    "# Show graphic\n",
    "plt.savefig('plots/before_after_code_cleaning2.png', bbox_inches = \"tight\")\n",
    "plt.show()"
   ]
  },
  {
   "cell_type": "code",
   "execution_count": null,
   "metadata": {},
   "outputs": [],
   "source": [
    "# count success values\n",
    "\n",
    "success3 = (df['result3'] == 'success').sum()\n",
    "success2 = (df['result2'] == 'success').sum()\n",
    "success = (df['result'] == 'success').sum()\n",
    "total3 = df['result3'].count()\n",
    "total2 = df['result2'].count()\n",
    "total = df['result'].count()\n",
    "\n",
    "agg_df = df.groupby(['doi']).max()\n",
    "agg_success = agg_df['agg'].sum()\n",
    "agg_total = agg_df['agg'].count()\n",
    "\n",
    "values = [\n",
    "    success2*1. / total2,\n",
    "    success3*1. / total3,\n",
    "    success*1. /total,\n",
    "    agg_success*1. / agg_total\n",
    "]\n",
    "values = [(i*100).round(2) for i in values]\n",
    "\n",
    "totals = [\n",
    "    total2, total3, total, agg_total\n",
    "]\n",
    "\n",
    "labels = [\n",
    "    \"Python 2.7\\n\\n(a)\",\n",
    "    \"Python 3.5\\n\\n(b)\",\n",
    "    \"Combined \\n(best of two)\\n(c)\",\n",
    "    \"Aggregated \\nper dataset\\n(d)\"\n",
    "]"
   ]
  },
  {
   "cell_type": "code",
   "execution_count": 339,
   "metadata": {},
   "outputs": [],
   "source": [
    "import numpy as np\n",
    "import matplotlib.pyplot as plt\n",
    "import seaborn as sns\n",
    "from matplotlib import rc\n",
    "import pandas as pd\n",
    "# plot styles\n",
    "sns.set_style('whitegrid')\n",
    "sns.set_style({'font.family': 'Arial Unicode MS'})"
   ]
  },
  {
   "cell_type": "code",
   "execution_count": 340,
   "metadata": {},
   "outputs": [
    {
     "data": {
      "text/html": [
       "<div>\n",
       "<style scoped>\n",
       "    .dataframe tbody tr th:only-of-type {\n",
       "        vertical-align: middle;\n",
       "    }\n",
       "\n",
       "    .dataframe tbody tr th {\n",
       "        vertical-align: top;\n",
       "    }\n",
       "\n",
       "    .dataframe thead th {\n",
       "        text-align: right;\n",
       "    }\n",
       "</style>\n",
       "<table border=\"1\" class=\"dataframe\">\n",
       "  <thead>\n",
       "    <tr style=\"text-align: right;\">\n",
       "      <th></th>\n",
       "      <th>totals</th>\n",
       "      <th>values</th>\n",
       "      <th>fail</th>\n",
       "    </tr>\n",
       "  </thead>\n",
       "  <tbody>\n",
       "    <tr>\n",
       "      <th>0</th>\n",
       "      <td>4540</td>\n",
       "      <td>18.303965</td>\n",
       "      <td>81.696035</td>\n",
       "    </tr>\n",
       "    <tr>\n",
       "      <th>1</th>\n",
       "      <td>3239</td>\n",
       "      <td>24.513739</td>\n",
       "      <td>75.486261</td>\n",
       "    </tr>\n",
       "    <tr>\n",
       "      <th>2</th>\n",
       "      <td>4177</td>\n",
       "      <td>22.599952</td>\n",
       "      <td>77.400048</td>\n",
       "    </tr>\n",
       "    <tr>\n",
       "      <th>3</th>\n",
       "      <td>2335</td>\n",
       "      <td>46.980728</td>\n",
       "      <td>53.019272</td>\n",
       "    </tr>\n",
       "  </tbody>\n",
       "</table>\n",
       "</div>"
      ],
      "text/plain": [
       "   totals     values       fail\n",
       "0    4540  18.303965  81.696035\n",
       "1    3239  24.513739  75.486261\n",
       "2    4177  22.599952  77.400048\n",
       "3    2335  46.980728  53.019272"
      ]
     },
     "execution_count": 340,
     "metadata": {},
     "output_type": "execute_result"
    }
   ],
   "source": [
    "temp_df = pd.DataFrame ({'values':bars2,'totals':totals})\n",
    "temp_df['fail'] = 100. - temp_df['values']\n",
    "temp_df"
   ]
  },
  {
   "cell_type": "code",
   "execution_count": 343,
   "metadata": {},
   "outputs": [
    {
     "data": {
      "image/png": "[encoded data removed]",
      "text/plain": [
       "<Figure size 720x360 with 1 Axes>"
      ]
     },
     "metadata": {},
     "output_type": "display_data"
    }
   ],
   "source": [
    "values = [a.round(2) for a in bars2]\n",
    "labels = [\n",
    "    'R 3.2', 'R 3.6', 'R 4.0', \n",
    "    \"Combined (best of three)\"\n",
    "]\n",
    "\n",
    "bins = range(0,len(bars2))\n",
    "\n",
    "plt.figure(figsize=(10,5))\n",
    "sns_plot = sns.barplot(x=bins, y=values, palette=\"husl\", data=temp_df)\n",
    "\n",
    "plt.xticks(bins, labels, rotation=0, fontsize=16)\n",
    "\n",
    "for v, rect in zip(values, sns_plot.patches):\n",
    "    height = rect.get_height()\n",
    "    plt.annotate(\n",
    "        str(v)+\"%\", xy=(\n",
    "            rect.get_x()+rect.get_width()/2-0.1, height+1), rotation=0, color=\"black\", size=14, weight='bold')\n",
    "    \n",
    "for t, rect in zip(totals, ax.patches):\n",
    "    height = rect.get_height()\n",
    "    plt.annotate(\n",
    "        \"(\"+str(t)+\")\", xy=(\n",
    "            rect.get_x()+rect.get_width()/2-0.1, 1.5), rotation=0, color=\"black\", size=14, weight='bold')   \n",
    "\n",
    "plt.ylim(0,55)\n",
    "plt.xlabel(\"Type of run\", size=15)\n",
    "#plt.ylabel(\"Success rate (%)\", size=15)\n",
    "#plt.title(\"Execution success rate of datasets with Python code from Harvard Dataverse\", size=20)\n",
    "\n",
    "\n",
    "# general layout\n",
    "plt.title(\"Execution success rate of datasets with R code from Harvard Dataverse\", fontsize=18)\n",
    "#plt.xticks([r + barWidth/2 for r in range(len(bars1))], ['R 3.2', 'R 3.6', 'R 4.0', 'Combined\\n(best of three)'], fontsize=16)\n",
    "plt.ylabel('Success rate (%)', fontsize=16)\n",
    "#plt.legend(fontsize=16)\n",
    "\n",
    "#plt.tight_layout()\n",
    "plt.savefig(\"all_success_rate.png\", dpi=100)"
   ]
  },
  {
   "cell_type": "code",
   "execution_count": null,
   "metadata": {},
   "outputs": [],
   "source": []
  }
 ],
 "metadata": {
  "kernelspec": {
   "display_name": "env",
   "language": "python",
   "name": "env"
  },
  "language_info": {
   "codemirror_mode": {
    "name": "ipython",
    "version": 2
   },
   "file_extension": ".py",
   "mimetype": "text/x-python",
   "name": "python",
   "nbconvert_exporter": "python",
   "pygments_lexer": "ipython2",
   "version": "2.7.16"
  }
 },
 "nbformat": 4,
 "nbformat_minor": 2
}
