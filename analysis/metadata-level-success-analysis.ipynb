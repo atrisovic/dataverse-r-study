{
 "cells": [
  {
   "cell_type": "markdown",
   "metadata": {},
   "source": [
    "# Metadata level success analysis"
   ]
  },
  {
   "cell_type": "code",
   "execution_count": 270,
   "metadata": {},
   "outputs": [],
   "source": [
    "import numpy as np\n",
    "import matplotlib.pyplot as plt\n",
    "import seaborn as sns\n",
    "from matplotlib import rc\n",
    "import pandas as pd\n",
    "\n",
    "# plot style\n",
    "sns.set_style('whitegrid')\n",
    "sns.set_style({'font.family': 'Times New Roman'})"
   ]
  },
  {
   "cell_type": "markdown",
   "metadata": {},
   "source": [
    "## Load metadata"
   ]
  },
  {
   "cell_type": "code",
   "execution_count": 271,
   "metadata": {},
   "outputs": [],
   "source": [
    "metadata = pd.read_csv(\"metadata_merged.csv\", index_col=0)"
   ]
  },
  {
   "cell_type": "code",
   "execution_count": 272,
   "metadata": {},
   "outputs": [
    {
     "data": {
      "text/html": [
       "<div>\n",
       "<style scoped>\n",
       "    .dataframe tbody tr th:only-of-type {\n",
       "        vertical-align: middle;\n",
       "    }\n",
       "\n",
       "    .dataframe tbody tr th {\n",
       "        vertical-align: top;\n",
       "    }\n",
       "\n",
       "    .dataframe thead th {\n",
       "        text-align: right;\n",
       "    }\n",
       "</style>\n",
       "<table border=\"1\" class=\"dataframe\">\n",
       "  <thead>\n",
       "    <tr style=\"text-align: right;\">\n",
       "      <th></th>\n",
       "      <th>doi</th>\n",
       "      <th>publicationDate</th>\n",
       "      <th>publisher</th>\n",
       "      <th>subject</th>\n",
       "      <th>type</th>\n",
       "      <th>name</th>\n",
       "    </tr>\n",
       "  </thead>\n",
       "  <tbody>\n",
       "    <tr>\n",
       "      <th>0</th>\n",
       "      <td>doi:10.7910/DVN/U3QJQZ</td>\n",
       "      <td>2020</td>\n",
       "      <td>harvard</td>\n",
       "      <td>Medicine; Health and Life Sciences</td>\n",
       "      <td>ORGANIZATIONS_INSTITUTIONS</td>\n",
       "      <td>Harvard Dataverse</td>\n",
       "    </tr>\n",
       "    <tr>\n",
       "      <th>1</th>\n",
       "      <td>doi:10.7910/DVN/6KEXM7</td>\n",
       "      <td>2020</td>\n",
       "      <td>harvard</td>\n",
       "      <td>Social Sciences</td>\n",
       "      <td>ORGANIZATIONS_INSTITUTIONS</td>\n",
       "      <td>Harvard Dataverse</td>\n",
       "    </tr>\n",
       "    <tr>\n",
       "      <th>2</th>\n",
       "      <td>doi:10.7910/DVN/EEUTHP</td>\n",
       "      <td>2019</td>\n",
       "      <td>harvard</td>\n",
       "      <td>Social Sciences</td>\n",
       "      <td>ORGANIZATIONS_INSTITUTIONS</td>\n",
       "      <td>Harvard Dataverse</td>\n",
       "    </tr>\n",
       "    <tr>\n",
       "      <th>3</th>\n",
       "      <td>doi:10.7910/DVN/WBI9RT</td>\n",
       "      <td>2015</td>\n",
       "      <td>harvard</td>\n",
       "      <td>Social Sciences</td>\n",
       "      <td>ORGANIZATIONS_INSTITUTIONS</td>\n",
       "      <td>Harvard Dataverse</td>\n",
       "    </tr>\n",
       "    <tr>\n",
       "      <th>4</th>\n",
       "      <td>doi:10.7910/DVN/N0PBQ9</td>\n",
       "      <td>2015</td>\n",
       "      <td>harvard</td>\n",
       "      <td>Social Sciences</td>\n",
       "      <td>ORGANIZATIONS_INSTITUTIONS</td>\n",
       "      <td>Harvard Dataverse</td>\n",
       "    </tr>\n",
       "  </tbody>\n",
       "</table>\n",
       "</div>"
      ],
      "text/plain": [
       "                      doi  publicationDate publisher  \\\n",
       "0  doi:10.7910/DVN/U3QJQZ             2020   harvard   \n",
       "1  doi:10.7910/DVN/6KEXM7             2020   harvard   \n",
       "2  doi:10.7910/DVN/EEUTHP             2019   harvard   \n",
       "3  doi:10.7910/DVN/WBI9RT             2015   harvard   \n",
       "4  doi:10.7910/DVN/N0PBQ9             2015   harvard   \n",
       "\n",
       "                              subject                        type  \\\n",
       "0  Medicine; Health and Life Sciences  ORGANIZATIONS_INSTITUTIONS   \n",
       "1                     Social Sciences  ORGANIZATIONS_INSTITUTIONS   \n",
       "2                     Social Sciences  ORGANIZATIONS_INSTITUTIONS   \n",
       "3                     Social Sciences  ORGANIZATIONS_INSTITUTIONS   \n",
       "4                     Social Sciences  ORGANIZATIONS_INSTITUTIONS   \n",
       "\n",
       "                name  \n",
       "0  Harvard Dataverse  \n",
       "1  Harvard Dataverse  \n",
       "2  Harvard Dataverse  \n",
       "3  Harvard Dataverse  \n",
       "4  Harvard Dataverse  "
      ]
     },
     "execution_count": 272,
     "metadata": {},
     "output_type": "execute_result"
    }
   ],
   "source": [
    "metadata.head()"
   ]
  },
  {
   "cell_type": "markdown",
   "metadata": {},
   "source": [
    "## Load success rate data"
   ]
  },
  {
   "cell_type": "code",
   "execution_count": 273,
   "metadata": {},
   "outputs": [],
   "source": [
    "df = pd.read_csv(\"aggregate_results_env.csv\", index_col=0)"
   ]
  },
  {
   "cell_type": "code",
   "execution_count": 274,
   "metadata": {},
   "outputs": [
    {
     "data": {
      "text/plain": [
       "2085"
      ]
     },
     "execution_count": 274,
     "metadata": {},
     "output_type": "execute_result"
    }
   ],
   "source": [
    "len(df.doi.unique())"
   ]
  },
  {
   "cell_type": "code",
   "execution_count": 275,
   "metadata": {},
   "outputs": [
    {
     "data": {
      "text/html": [
       "<div>\n",
       "<style scoped>\n",
       "    .dataframe tbody tr th:only-of-type {\n",
       "        vertical-align: middle;\n",
       "    }\n",
       "\n",
       "    .dataframe tbody tr th {\n",
       "        vertical-align: top;\n",
       "    }\n",
       "\n",
       "    .dataframe thead th {\n",
       "        text-align: right;\n",
       "    }\n",
       "</style>\n",
       "<table border=\"1\" class=\"dataframe\">\n",
       "  <thead>\n",
       "    <tr style=\"text-align: right;\">\n",
       "      <th></th>\n",
       "      <th>doi</th>\n",
       "      <th>file</th>\n",
       "      <th>r32</th>\n",
       "      <th>r36</th>\n",
       "      <th>r40</th>\n",
       "      <th>result</th>\n",
       "      <th>success</th>\n",
       "    </tr>\n",
       "  </thead>\n",
       "  <tbody>\n",
       "    <tr>\n",
       "      <th>0</th>\n",
       "      <td>doi:10.7910/DVN/XFQZI2</td>\n",
       "      <td>Condemnation.R</td>\n",
       "      <td>Error in eval(expr, envir, enclos) : could not...</td>\n",
       "      <td>Error in read.dta13('Condemnation.dta') :   co...</td>\n",
       "      <td>NaN</td>\n",
       "      <td>NaN</td>\n",
       "      <td>NaN</td>\n",
       "    </tr>\n",
       "    <tr>\n",
       "      <th>1</th>\n",
       "      <td>doi:10.7910/DVN/WGPDBS</td>\n",
       "      <td>Replication_of_Figures.R</td>\n",
       "      <td>success</td>\n",
       "      <td>success</td>\n",
       "      <td>success</td>\n",
       "      <td>success</td>\n",
       "      <td>1.0</td>\n",
       "    </tr>\n",
       "    <tr>\n",
       "      <th>2</th>\n",
       "      <td>doi:10.7910/DVN/BPON3K</td>\n",
       "      <td>fig_10_effect_of_winning_on_gov.R</td>\n",
       "      <td>Error in diag(vcovHC(DMareg, type = 'HC3')) : ...</td>\n",
       "      <td>Error in vcovHC(DMareg, type = 'HC3') : could ...</td>\n",
       "      <td>Error in vcovHC(DMareg, type = 'HC3') : could ...</td>\n",
       "      <td>Error in vcovHC(DMareg, type = 'HC3') : could ...</td>\n",
       "      <td>0.0</td>\n",
       "    </tr>\n",
       "    <tr>\n",
       "      <th>3</th>\n",
       "      <td>doi:10.7910/DVN/BPON3K</td>\n",
       "      <td>fig_11_rd_placebo.R</td>\n",
       "      <td>Error in ggsave('placebo.pdf', plot = placebo,...</td>\n",
       "      <td>success</td>\n",
       "      <td>success</td>\n",
       "      <td>success</td>\n",
       "      <td>1.0</td>\n",
       "    </tr>\n",
       "    <tr>\n",
       "      <th>4</th>\n",
       "      <td>doi:10.7910/DVN/BPON3K</td>\n",
       "      <td>fig_12_historical_trend.R</td>\n",
       "      <td>Error in ggsave('historical_trend.pdf', plot =...</td>\n",
       "      <td>success</td>\n",
       "      <td>success</td>\n",
       "      <td>success</td>\n",
       "      <td>1.0</td>\n",
       "    </tr>\n",
       "  </tbody>\n",
       "</table>\n",
       "</div>"
      ],
      "text/plain": [
       "                      doi                               file  \\\n",
       "0  doi:10.7910/DVN/XFQZI2                     Condemnation.R   \n",
       "1  doi:10.7910/DVN/WGPDBS           Replication_of_Figures.R   \n",
       "2  doi:10.7910/DVN/BPON3K  fig_10_effect_of_winning_on_gov.R   \n",
       "3  doi:10.7910/DVN/BPON3K                fig_11_rd_placebo.R   \n",
       "4  doi:10.7910/DVN/BPON3K          fig_12_historical_trend.R   \n",
       "\n",
       "                                                 r32  \\\n",
       "0  Error in eval(expr, envir, enclos) : could not...   \n",
       "1                                            success   \n",
       "2  Error in diag(vcovHC(DMareg, type = 'HC3')) : ...   \n",
       "3  Error in ggsave('placebo.pdf', plot = placebo,...   \n",
       "4  Error in ggsave('historical_trend.pdf', plot =...   \n",
       "\n",
       "                                                 r36  \\\n",
       "0  Error in read.dta13('Condemnation.dta') :   co...   \n",
       "1                                            success   \n",
       "2  Error in vcovHC(DMareg, type = 'HC3') : could ...   \n",
       "3                                            success   \n",
       "4                                            success   \n",
       "\n",
       "                                                 r40  \\\n",
       "0                                                NaN   \n",
       "1                                            success   \n",
       "2  Error in vcovHC(DMareg, type = 'HC3') : could ...   \n",
       "3                                            success   \n",
       "4                                            success   \n",
       "\n",
       "                                              result  success  \n",
       "0                                                NaN      NaN  \n",
       "1                                            success      1.0  \n",
       "2  Error in vcovHC(DMareg, type = 'HC3') : could ...      0.0  \n",
       "3                                            success      1.0  \n",
       "4                                            success      1.0  "
      ]
     },
     "execution_count": 275,
     "metadata": {},
     "output_type": "execute_result"
    }
   ],
   "source": [
    "df.head()"
   ]
  },
  {
   "cell_type": "code",
   "execution_count": 276,
   "metadata": {},
   "outputs": [
    {
     "name": "stdout",
     "output_type": "stream",
     "text": [
      "Total number of entries: 3695\n",
      "Total number after bad DOIs are removed: 3695\n",
      "Unique DOIs: 1447\n",
      "Success: 1472 out of 3695 => 0.3983761840324763\n",
      "TIL: 0 out of 3695 => 0.0\n",
      "Error: 2223 out of 3695 => 0.6016238159675237\n"
     ]
    },
    {
     "data": {
      "image/png": "[encoded data removed]",
      "text/plain": [
       "<Figure size 432x288 with 1 Axes>"
      ]
     },
     "metadata": {},
     "output_type": "display_data"
    }
   ],
   "source": [
    "def make_autopct(values):\n",
    "    def my_autopct(pct):\n",
    "        total = sum(values)\n",
    "        val = int(round(pct*total/100.0))\n",
    "        return '{p:.2f}%  ({v:d})'.format(p=pct,v=val)\n",
    "    return my_autopct\n",
    "\n",
    "def get_success_rates(df):\n",
    "    print \"Total number of entries: \"+ str(len(df))\n",
    "    print \"Total number after bad DOIs are removed: \"+ str(len(df))\n",
    "    \n",
    "    print \"Unique DOIs: \"+ str(len(df['doi'].unique()))\n",
    "    \n",
    "    # calculate success\n",
    "    success = (df['result'] == 'success').sum()\n",
    "    print \"Success: \" + str(success)+ \" out of \" + str(len(df)) +\" => \"+ str(success*1.0/len(df))\n",
    "    \n",
    "    til = (df['result'] == 'time limit exceeded').sum()\n",
    "    print \"TIL: \" + str(til)+ \" out of \" + str(len(df)) +\" => \"+ str(til*1.0/len(df))\n",
    "    \n",
    "    error = len(df)-til-success\n",
    "    print \"Error: \" + str(error)+ \" out of \" + str(len(df)) +\" => \"+ str(error*1.0/len(df))\n",
    "    \n",
    "    return [til, error, success]\n",
    "\n",
    "def plot_code(df, plot_title, plot_name, aggregation=False):\n",
    "    labels = [\"Time Limit Exceeded\",'Error', 'Success']\n",
    "    if aggregation:\n",
    "        sizes = get_aggregated(df)\n",
    "    else:\n",
    "        sizes = get_success_rates(df)\n",
    "     \n",
    "    fig1, ax1 = plt.subplots()\n",
    "    plt.rcParams['font.size'] = 16\n",
    "    ax1.pie(sizes, labels=labels, autopct=make_autopct(sizes), startangle=40,  \\\n",
    "            textprops={'fontsize': 14},wedgeprops={'alpha':0.6})\n",
    "\n",
    "    #draw circle\n",
    "    centre_circle = plt.Circle((0,0),0.70,fc='white')\n",
    "\n",
    "    fig = plt.gcf()\n",
    "    fig.gca().add_artist(centre_circle)\n",
    "\n",
    "    # Equal aspect ratio ensures that pie is drawn as a circle\n",
    "    ax1.axis('equal')  \n",
    "    plt.title(plot_title, size=20)\n",
    "    plt.tight_layout()\n",
    "\n",
    "    plt.show()\n",
    "    fig1.savefig(\"plots/{}\".format(plot_name), dpi=100)\n",
    "    \n",
    "dfe = df[df.result.notnull()]\n",
    "plot_code(dfe, \"Analysis result\", \"fin_result2.png\")"
   ]
  },
  {
   "cell_type": "markdown",
   "metadata": {},
   "source": [
    "## Merge the datasets"
   ]
  },
  {
   "cell_type": "code",
   "execution_count": 286,
   "metadata": {},
   "outputs": [],
   "source": [
    "total = pd.merge(df,metadata,on='doi')"
   ]
  },
  {
   "cell_type": "code",
   "execution_count": 287,
   "metadata": {},
   "outputs": [
    {
     "data": {
      "text/plain": [
       "6832"
      ]
     },
     "execution_count": 287,
     "metadata": {},
     "output_type": "execute_result"
    }
   ],
   "source": [
    "len(total)"
   ]
  },
  {
   "cell_type": "markdown",
   "metadata": {},
   "source": [
    "## Merge aggrigated"
   ]
  },
  {
   "cell_type": "code",
   "execution_count": 288,
   "metadata": {},
   "outputs": [],
   "source": [
    "agg = total.groupby(['doi']).success.max().reset_index()"
   ]
  },
  {
   "cell_type": "code",
   "execution_count": 289,
   "metadata": {},
   "outputs": [
    {
     "data": {
      "text/html": [
       "<div>\n",
       "<style scoped>\n",
       "    .dataframe tbody tr th:only-of-type {\n",
       "        vertical-align: middle;\n",
       "    }\n",
       "\n",
       "    .dataframe tbody tr th {\n",
       "        vertical-align: top;\n",
       "    }\n",
       "\n",
       "    .dataframe thead th {\n",
       "        text-align: right;\n",
       "    }\n",
       "</style>\n",
       "<table border=\"1\" class=\"dataframe\">\n",
       "  <thead>\n",
       "    <tr style=\"text-align: right;\">\n",
       "      <th></th>\n",
       "      <th>doi</th>\n",
       "      <th>success</th>\n",
       "    </tr>\n",
       "  </thead>\n",
       "  <tbody>\n",
       "    <tr>\n",
       "      <th>0</th>\n",
       "      <td>doi:10.7910/DVN/03CDTK</td>\n",
       "      <td>NaN</td>\n",
       "    </tr>\n",
       "    <tr>\n",
       "      <th>1</th>\n",
       "      <td>doi:10.7910/DVN/05BSPP</td>\n",
       "      <td>0.0</td>\n",
       "    </tr>\n",
       "    <tr>\n",
       "      <th>2</th>\n",
       "      <td>doi:10.7910/DVN/0BFF0K</td>\n",
       "      <td>1.0</td>\n",
       "    </tr>\n",
       "    <tr>\n",
       "      <th>3</th>\n",
       "      <td>doi:10.7910/DVN/0BPVCH</td>\n",
       "      <td>NaN</td>\n",
       "    </tr>\n",
       "    <tr>\n",
       "      <th>4</th>\n",
       "      <td>doi:10.7910/DVN/0DE35E</td>\n",
       "      <td>1.0</td>\n",
       "    </tr>\n",
       "  </tbody>\n",
       "</table>\n",
       "</div>"
      ],
      "text/plain": [
       "                      doi  success\n",
       "0  doi:10.7910/DVN/03CDTK      NaN\n",
       "1  doi:10.7910/DVN/05BSPP      0.0\n",
       "2  doi:10.7910/DVN/0BFF0K      1.0\n",
       "3  doi:10.7910/DVN/0BPVCH      NaN\n",
       "4  doi:10.7910/DVN/0DE35E      1.0"
      ]
     },
     "execution_count": 289,
     "metadata": {},
     "output_type": "execute_result"
    }
   ],
   "source": [
    "agg.head()"
   ]
  },
  {
   "cell_type": "code",
   "execution_count": 290,
   "metadata": {},
   "outputs": [
    {
     "data": {
      "text/plain": [
       "1923"
      ]
     },
     "execution_count": 290,
     "metadata": {},
     "output_type": "execute_result"
    }
   ],
   "source": [
    "len(agg)"
   ]
  },
  {
   "cell_type": "code",
   "execution_count": 291,
   "metadata": {},
   "outputs": [],
   "source": [
    "agg_total = pd.merge(agg, metadata, on='doi')"
   ]
  },
  {
   "cell_type": "code",
   "execution_count": 292,
   "metadata": {},
   "outputs": [
    {
     "data": {
      "text/plain": [
       "1923"
      ]
     },
     "execution_count": 292,
     "metadata": {},
     "output_type": "execute_result"
    }
   ],
   "source": [
    "len(agg_total)"
   ]
  },
  {
   "cell_type": "markdown",
   "metadata": {},
   "source": [
    "## Analysis"
   ]
  },
  {
   "cell_type": "markdown",
   "metadata": {},
   "source": [
    "- Drop if NaN or TLE"
   ]
  },
  {
   "cell_type": "code",
   "execution_count": 293,
   "metadata": {},
   "outputs": [],
   "source": [
    "df = total\n",
    "df_temp = df.drop(df[df.result.isnull() | (df['result'] == 'time limit exceeded')].index)"
   ]
  },
  {
   "cell_type": "code",
   "execution_count": 294,
   "metadata": {},
   "outputs": [
    {
     "data": {
      "text/plain": [
       "0"
      ]
     },
     "execution_count": 294,
     "metadata": {},
     "output_type": "execute_result"
    }
   ],
   "source": [
    "df_temp.result.isna().sum()"
   ]
  },
  {
   "cell_type": "code",
   "execution_count": 295,
   "metadata": {},
   "outputs": [],
   "source": [
    "total = df_temp"
   ]
  },
  {
   "cell_type": "code",
   "execution_count": 296,
   "metadata": {},
   "outputs": [],
   "source": [
    "def success(el):\n",
    "    if pd.isna(el):\n",
    "        return el\n",
    "    if el == 'success':\n",
    "        return 1\n",
    "    if len(str(el))>1:\n",
    "        return 0\n",
    "    else:\n",
    "        el\n",
    "\n",
    "total['success']=total[\"result\"].apply(success)"
   ]
  },
  {
   "cell_type": "markdown",
   "metadata": {},
   "source": [
    "## Journal "
   ]
  },
  {
   "cell_type": "code",
   "execution_count": 310,
   "metadata": {},
   "outputs": [],
   "source": [
    "journals = total[total['type']==\"JOURNALS\"]"
   ]
  },
  {
   "cell_type": "code",
   "execution_count": 311,
   "metadata": {},
   "outputs": [
    {
     "name": "stdout",
     "output_type": "stream",
     "text": [
      "All journals' success rate: 0.42024253731343286\n"
     ]
    }
   ],
   "source": [
    "print(\"All journals' success rate: \"+ str(journals.success.sum()*1./len(journals)))"
   ]
  },
  {
   "cell_type": "code",
   "execution_count": 312,
   "metadata": {},
   "outputs": [],
   "source": [
    "def fix_name(el):\n",
    "    return el.split('Dataverse')[0].strip()\n",
    "\n",
    "journals.name = journals.name.apply(fix_name)"
   ]
  },
  {
   "cell_type": "code",
   "execution_count": 313,
   "metadata": {},
   "outputs": [],
   "source": [
    "journals.name = journals.name.apply(\n",
    "    lambda x: 'International Interactions (II)' if 'International Interactions (II)' in x else x)\n",
    "journals.name = journals.name.apply(\n",
    "    lambda x: 'American Journal of Political\\nScience (AJPS)' if 'American Journal of Political Science (AJPS)' in x else x)\n",
    "journals.name = journals.name.apply(\n",
    "    lambda x: 'British Journal of\\nPolitical Science' if 'British Journal of Political Science' in x else x)\n",
    "journals.name = journals.name.apply(\n",
    "    lambda x: 'American Political\\nScience Review' if 'American Political Science Review' in x else x)\n",
    "journals.name = journals.name.apply(\n",
    "    lambda x: 'Review of Economics\\nand Statistics' if 'Review of Economics and Statistics' in x else x)\n",
    "journals.name = journals.name.apply(\n",
    "    lambda x: 'Political Science Research\\nand Methods (PSRM)' if 'Political Science Research and Methods (PSRM)' in x else x)"
   ]
  },
  {
   "cell_type": "code",
   "execution_count": 314,
   "metadata": {},
   "outputs": [
    {
     "data": {
      "text/html": [
       "<div>\n",
       "<style scoped>\n",
       "    .dataframe tbody tr th:only-of-type {\n",
       "        vertical-align: middle;\n",
       "    }\n",
       "\n",
       "    .dataframe tbody tr th {\n",
       "        vertical-align: top;\n",
       "    }\n",
       "\n",
       "    .dataframe thead th {\n",
       "        text-align: right;\n",
       "    }\n",
       "</style>\n",
       "<table border=\"1\" class=\"dataframe\">\n",
       "  <thead>\n",
       "    <tr style=\"text-align: right;\">\n",
       "      <th></th>\n",
       "      <th>doi</th>\n",
       "      <th>file</th>\n",
       "      <th>r32</th>\n",
       "      <th>r36</th>\n",
       "      <th>r40</th>\n",
       "      <th>result</th>\n",
       "      <th>success</th>\n",
       "      <th>publicationDate</th>\n",
       "      <th>publisher</th>\n",
       "      <th>subject</th>\n",
       "      <th>type</th>\n",
       "      <th>name</th>\n",
       "    </tr>\n",
       "  </thead>\n",
       "  <tbody>\n",
       "    <tr>\n",
       "      <th>0</th>\n",
       "      <td>doi:10.7910/DVN/BPON3K</td>\n",
       "      <td>fig_10_effect_of_winning_on_gov.R</td>\n",
       "      <td>Error in diag(vcovHC(DMareg, type = 'HC3')) : ...</td>\n",
       "      <td>Error in vcovHC(DMareg, type = 'HC3') : could ...</td>\n",
       "      <td>Error in vcovHC(DMareg, type = 'HC3') : could ...</td>\n",
       "      <td>Error in vcovHC(DMareg, type = 'HC3') : could ...</td>\n",
       "      <td>0</td>\n",
       "      <td>2017</td>\n",
       "      <td>ajps</td>\n",
       "      <td>Social Sciences</td>\n",
       "      <td>JOURNALS</td>\n",
       "      <td>American Journal of Political\\nScience (AJPS)</td>\n",
       "    </tr>\n",
       "    <tr>\n",
       "      <th>1</th>\n",
       "      <td>doi:10.7910/DVN/BPON3K</td>\n",
       "      <td>fig_11_rd_placebo.R</td>\n",
       "      <td>Error in ggsave('placebo.pdf', plot = placebo,...</td>\n",
       "      <td>success</td>\n",
       "      <td>success</td>\n",
       "      <td>success</td>\n",
       "      <td>1</td>\n",
       "      <td>2017</td>\n",
       "      <td>ajps</td>\n",
       "      <td>Social Sciences</td>\n",
       "      <td>JOURNALS</td>\n",
       "      <td>American Journal of Political\\nScience (AJPS)</td>\n",
       "    </tr>\n",
       "    <tr>\n",
       "      <th>2</th>\n",
       "      <td>doi:10.7910/DVN/BPON3K</td>\n",
       "      <td>fig_12_historical_trend.R</td>\n",
       "      <td>Error in ggsave('historical_trend.pdf', plot =...</td>\n",
       "      <td>success</td>\n",
       "      <td>success</td>\n",
       "      <td>success</td>\n",
       "      <td>1</td>\n",
       "      <td>2017</td>\n",
       "      <td>ajps</td>\n",
       "      <td>Social Sciences</td>\n",
       "      <td>JOURNALS</td>\n",
       "      <td>American Journal of Political\\nScience (AJPS)</td>\n",
       "    </tr>\n",
       "    <tr>\n",
       "      <th>3</th>\n",
       "      <td>doi:10.7910/DVN/BPON3K</td>\n",
       "      <td>fig_13_plot_loyalty_df_pct.R</td>\n",
       "      <td>Error in data.table(x) : object 'x' not found</td>\n",
       "      <td>Error in data.table(x) : object 'x' not found</td>\n",
       "      <td>Error in data.table(x) : object 'x' not found</td>\n",
       "      <td>Error in data.table(x) : object 'x' not found</td>\n",
       "      <td>0</td>\n",
       "      <td>2017</td>\n",
       "      <td>ajps</td>\n",
       "      <td>Social Sciences</td>\n",
       "      <td>JOURNALS</td>\n",
       "      <td>American Journal of Political\\nScience (AJPS)</td>\n",
       "    </tr>\n",
       "    <tr>\n",
       "      <th>4</th>\n",
       "      <td>doi:10.7910/DVN/BPON3K</td>\n",
       "      <td>fig_14_effect_on_individual_parties.R</td>\n",
       "      <td>Error in eval(expr, envir, enclos) :   could n...</td>\n",
       "      <td>success</td>\n",
       "      <td>success</td>\n",
       "      <td>success</td>\n",
       "      <td>1</td>\n",
       "      <td>2017</td>\n",
       "      <td>ajps</td>\n",
       "      <td>Social Sciences</td>\n",
       "      <td>JOURNALS</td>\n",
       "      <td>American Journal of Political\\nScience (AJPS)</td>\n",
       "    </tr>\n",
       "  </tbody>\n",
       "</table>\n",
       "</div>"
      ],
      "text/plain": [
       "                      doi                                   file  \\\n",
       "0  doi:10.7910/DVN/BPON3K      fig_10_effect_of_winning_on_gov.R   \n",
       "1  doi:10.7910/DVN/BPON3K                    fig_11_rd_placebo.R   \n",
       "2  doi:10.7910/DVN/BPON3K              fig_12_historical_trend.R   \n",
       "3  doi:10.7910/DVN/BPON3K           fig_13_plot_loyalty_df_pct.R   \n",
       "4  doi:10.7910/DVN/BPON3K  fig_14_effect_on_individual_parties.R   \n",
       "\n",
       "                                                 r32  \\\n",
       "0  Error in diag(vcovHC(DMareg, type = 'HC3')) : ...   \n",
       "1  Error in ggsave('placebo.pdf', plot = placebo,...   \n",
       "2  Error in ggsave('historical_trend.pdf', plot =...   \n",
       "3      Error in data.table(x) : object 'x' not found   \n",
       "4  Error in eval(expr, envir, enclos) :   could n...   \n",
       "\n",
       "                                                 r36  \\\n",
       "0  Error in vcovHC(DMareg, type = 'HC3') : could ...   \n",
       "1                                            success   \n",
       "2                                            success   \n",
       "3      Error in data.table(x) : object 'x' not found   \n",
       "4                                            success   \n",
       "\n",
       "                                                 r40  \\\n",
       "0  Error in vcovHC(DMareg, type = 'HC3') : could ...   \n",
       "1                                            success   \n",
       "2                                            success   \n",
       "3      Error in data.table(x) : object 'x' not found   \n",
       "4                                            success   \n",
       "\n",
       "                                              result  success  \\\n",
       "0  Error in vcovHC(DMareg, type = 'HC3') : could ...        0   \n",
       "1                                            success        1   \n",
       "2                                            success        1   \n",
       "3      Error in data.table(x) : object 'x' not found        0   \n",
       "4                                            success        1   \n",
       "\n",
       "   publicationDate publisher          subject      type  \\\n",
       "0             2017      ajps  Social Sciences  JOURNALS   \n",
       "1             2017      ajps  Social Sciences  JOURNALS   \n",
       "2             2017      ajps  Social Sciences  JOURNALS   \n",
       "3             2017      ajps  Social Sciences  JOURNALS   \n",
       "4             2017      ajps  Social Sciences  JOURNALS   \n",
       "\n",
       "                                            name  \n",
       "0  American Journal of Political\\nScience (AJPS)  \n",
       "1  American Journal of Political\\nScience (AJPS)  \n",
       "2  American Journal of Political\\nScience (AJPS)  \n",
       "3  American Journal of Political\\nScience (AJPS)  \n",
       "4  American Journal of Political\\nScience (AJPS)  "
      ]
     },
     "execution_count": 314,
     "metadata": {},
     "output_type": "execute_result"
    }
   ],
   "source": [
    "journals.head()"
   ]
  },
  {
   "cell_type": "code",
   "execution_count": 315,
   "metadata": {},
   "outputs": [],
   "source": [
    "temp = journals.groupby(\n",
    "    ['success', 'name']).size().reset_index().pivot(columns='success', index='name', values=0)\n",
    "\n",
    "temp.fillna(0.0, inplace=True)\n",
    "temp['total'] = [i+j for i,j in zip(temp[1],temp[0])]\n",
    "#temp['total'] = [i+j for i,j in zip(temp[2],temp['total'])]\n",
    "\n",
    "temp['s'] = [i / j * 100 for i,j in zip(temp[1], temp['total'])]\n",
    "temp['f'] = [i / j * 100 for i,j in zip(temp[0], temp['total'])]\n",
    "#temp['t'] = [i / j * 100 for i,j in zip(temp[2], temp['total'])]\n",
    "\n",
    "temp = temp.sort_values(by=['total'], ascending=False).head(11)"
   ]
  },
  {
   "cell_type": "code",
   "execution_count": 316,
   "metadata": {},
   "outputs": [
    {
     "data": {
      "text/html": [
       "<div>\n",
       "<style scoped>\n",
       "    .dataframe tbody tr th:only-of-type {\n",
       "        vertical-align: middle;\n",
       "    }\n",
       "\n",
       "    .dataframe tbody tr th {\n",
       "        vertical-align: top;\n",
       "    }\n",
       "\n",
       "    .dataframe thead th {\n",
       "        text-align: right;\n",
       "    }\n",
       "</style>\n",
       "<table border=\"1\" class=\"dataframe\">\n",
       "  <thead>\n",
       "    <tr style=\"text-align: right;\">\n",
       "      <th>success</th>\n",
       "      <th>0</th>\n",
       "      <th>1</th>\n",
       "      <th>total</th>\n",
       "      <th>s</th>\n",
       "      <th>f</th>\n",
       "    </tr>\n",
       "    <tr>\n",
       "      <th>name</th>\n",
       "      <th></th>\n",
       "      <th></th>\n",
       "      <th></th>\n",
       "      <th></th>\n",
       "      <th></th>\n",
       "    </tr>\n",
       "  </thead>\n",
       "  <tbody>\n",
       "    <tr>\n",
       "      <th>The Journal of Politics</th>\n",
       "      <td>246.0</td>\n",
       "      <td>133.0</td>\n",
       "      <td>379.0</td>\n",
       "      <td>35.092348</td>\n",
       "      <td>64.907652</td>\n",
       "    </tr>\n",
       "    <tr>\n",
       "      <th>American Journal of Political\\nScience (AJPS)</th>\n",
       "      <td>121.0</td>\n",
       "      <td>195.0</td>\n",
       "      <td>316.0</td>\n",
       "      <td>61.708861</td>\n",
       "      <td>38.291139</td>\n",
       "    </tr>\n",
       "    <tr>\n",
       "      <th>British Journal of\\nPolitical Science</th>\n",
       "      <td>155.0</td>\n",
       "      <td>84.0</td>\n",
       "      <td>239.0</td>\n",
       "      <td>35.146444</td>\n",
       "      <td>64.853556</td>\n",
       "    </tr>\n",
       "    <tr>\n",
       "      <th>Political Analysis</th>\n",
       "      <td>108.0</td>\n",
       "      <td>109.0</td>\n",
       "      <td>217.0</td>\n",
       "      <td>50.230415</td>\n",
       "      <td>49.769585</td>\n",
       "    </tr>\n",
       "    <tr>\n",
       "      <th>American Political\\nScience Review</th>\n",
       "      <td>120.0</td>\n",
       "      <td>76.0</td>\n",
       "      <td>196.0</td>\n",
       "      <td>38.775510</td>\n",
       "      <td>61.224490</td>\n",
       "    </tr>\n",
       "    <tr>\n",
       "      <th>Political Science Research\\nand Methods (PSRM)</th>\n",
       "      <td>85.0</td>\n",
       "      <td>59.0</td>\n",
       "      <td>144.0</td>\n",
       "      <td>40.972222</td>\n",
       "      <td>59.027778</td>\n",
       "    </tr>\n",
       "    <tr>\n",
       "      <th>Political Behavior</th>\n",
       "      <td>70.0</td>\n",
       "      <td>73.0</td>\n",
       "      <td>143.0</td>\n",
       "      <td>51.048951</td>\n",
       "      <td>48.951049</td>\n",
       "    </tr>\n",
       "    <tr>\n",
       "      <th>International Studies Quarterly</th>\n",
       "      <td>65.0</td>\n",
       "      <td>40.0</td>\n",
       "      <td>105.0</td>\n",
       "      <td>38.095238</td>\n",
       "      <td>61.904762</td>\n",
       "    </tr>\n",
       "    <tr>\n",
       "      <th>Review of Economics\\nand Statistics</th>\n",
       "      <td>40.0</td>\n",
       "      <td>32.0</td>\n",
       "      <td>72.0</td>\n",
       "      <td>44.444444</td>\n",
       "      <td>55.555556</td>\n",
       "    </tr>\n",
       "    <tr>\n",
       "      <th>Research &amp; Politics</th>\n",
       "      <td>44.0</td>\n",
       "      <td>18.0</td>\n",
       "      <td>62.0</td>\n",
       "      <td>29.032258</td>\n",
       "      <td>70.967742</td>\n",
       "    </tr>\n",
       "    <tr>\n",
       "      <th>International Interactions (II)</th>\n",
       "      <td>48.0</td>\n",
       "      <td>14.0</td>\n",
       "      <td>62.0</td>\n",
       "      <td>22.580645</td>\n",
       "      <td>77.419355</td>\n",
       "    </tr>\n",
       "  </tbody>\n",
       "</table>\n",
       "</div>"
      ],
      "text/plain": [
       "success                                             0      1  total  \\\n",
       "name                                                                  \n",
       "The Journal of Politics                         246.0  133.0  379.0   \n",
       "American Journal of Political\\nScience (AJPS)   121.0  195.0  316.0   \n",
       "British Journal of\\nPolitical Science           155.0   84.0  239.0   \n",
       "Political Analysis                              108.0  109.0  217.0   \n",
       "American Political\\nScience Review              120.0   76.0  196.0   \n",
       "Political Science Research\\nand Methods (PSRM)   85.0   59.0  144.0   \n",
       "Political Behavior                               70.0   73.0  143.0   \n",
       "International Studies Quarterly                  65.0   40.0  105.0   \n",
       "Review of Economics\\nand Statistics              40.0   32.0   72.0   \n",
       "Research & Politics                              44.0   18.0   62.0   \n",
       "International Interactions (II)                  48.0   14.0   62.0   \n",
       "\n",
       "success                                                 s          f  \n",
       "name                                                                  \n",
       "The Journal of Politics                         35.092348  64.907652  \n",
       "American Journal of Political\\nScience (AJPS)   61.708861  38.291139  \n",
       "British Journal of\\nPolitical Science           35.146444  64.853556  \n",
       "Political Analysis                              50.230415  49.769585  \n",
       "American Political\\nScience Review              38.775510  61.224490  \n",
       "Political Science Research\\nand Methods (PSRM)  40.972222  59.027778  \n",
       "Political Behavior                              51.048951  48.951049  \n",
       "International Studies Quarterly                 38.095238  61.904762  \n",
       "Review of Economics\\nand Statistics             44.444444  55.555556  \n",
       "Research & Politics                             29.032258  70.967742  \n",
       "International Interactions (II)                 22.580645  77.419355  "
      ]
     },
     "execution_count": 316,
     "metadata": {},
     "output_type": "execute_result"
    }
   ],
   "source": [
    "temp"
   ]
  },
  {
   "cell_type": "code",
   "execution_count": 317,
   "metadata": {},
   "outputs": [],
   "source": [
    "names = list(temp.index)\n",
    "r= range(0,len(temp['s']))"
   ]
  },
  {
   "cell_type": "code",
   "execution_count": 318,
   "metadata": {},
   "outputs": [],
   "source": [
    "import seaborn as sns\n",
    "sns.set_style(\"whitegrid\")\n",
    "# plot\n",
    "barWidth = 0.8"
   ]
  },
  {
   "cell_type": "code",
   "execution_count": 321,
   "metadata": {},
   "outputs": [
    {
     "data": {
      "image/png": "[encoded data removed]",
      "text/plain": [
       "<Figure size 864x360 with 1 Axes>"
      ]
     },
     "metadata": {},
     "output_type": "display_data"
    }
   ],
   "source": [
    "plt.figure(figsize=(12,5))\n",
    "\n",
    "plt.bar(r, temp['s'], color=sns.color_palette(\"pastel\")[2], edgecolor='black', width=barWidth, label=\"Success\")\n",
    "plt.bar(r, temp['f'], bottom=temp['s'], color=sns.color_palette(\"pastel\")[1], edgecolor='black', width=barWidth, label=\"Error\")\n",
    "\n",
    "plt.xticks(r, names, rotation=90, fontsize=14)\n",
    "plt.xlabel(\"Journal\", size=15)\n",
    "\n",
    "plt.legend(loc='best', ncol=1,prop={'size': 15})\n",
    "\n",
    "temp['names'] = temp.index\n",
    "temp = temp.reset_index(drop=True)\n",
    "\n",
    "temp.s = temp.s.round(1)\n",
    "temp.total = temp.total.astype(int)\n",
    "\n",
    "for i, rows in temp.iterrows():\n",
    "    plt.annotate(\n",
    "        str(rows[\"s\"])+\"%\", xy=(i-0.3, rows[\"s\"]+2), rotation=0, color=\"black\", size=12, weight='bold')\n",
    "    plt.annotate(\n",
    "        \"(\"+str(int(rows[\"total\"]))+\")\", xy=(i-0.3, 3), rotation=0, color=\"black\", size=12)\n",
    "\n",
    "\n",
    "#plt.annotate(\"IQSS preliminary\", xy=(8, 101), color=\"grey\", size=12)    \n",
    "\n",
    "plt.title(\"Success rate per journal dataverse\", size=20)\n",
    "\n",
    "#plt.tight_layout()\n",
    "#plt.savefig(\"publisher.png\")\n",
    "plt.savefig('plots/journals_rate.png', bbox_inches = \"tight\")\n",
    "plt.show()"
   ]
  },
  {
   "cell_type": "markdown",
   "metadata": {},
   "source": [
    "## Aggregated journals"
   ]
  },
  {
   "cell_type": "code",
   "execution_count": 355,
   "metadata": {},
   "outputs": [],
   "source": [
    "journals = agg_total[agg_total['type']==\"JOURNALS\"]\n",
    "journals = journals.drop(journals[journals.success.isnull()].index)"
   ]
  },
  {
   "cell_type": "code",
   "execution_count": 356,
   "metadata": {},
   "outputs": [
    {
     "data": {
      "text/html": [
       "<div>\n",
       "<style scoped>\n",
       "    .dataframe tbody tr th:only-of-type {\n",
       "        vertical-align: middle;\n",
       "    }\n",
       "\n",
       "    .dataframe tbody tr th {\n",
       "        vertical-align: top;\n",
       "    }\n",
       "\n",
       "    .dataframe thead th {\n",
       "        text-align: right;\n",
       "    }\n",
       "</style>\n",
       "<table border=\"1\" class=\"dataframe\">\n",
       "  <thead>\n",
       "    <tr style=\"text-align: right;\">\n",
       "      <th></th>\n",
       "      <th>doi</th>\n",
       "      <th>success</th>\n",
       "      <th>publicationDate</th>\n",
       "      <th>publisher</th>\n",
       "      <th>subject</th>\n",
       "      <th>type</th>\n",
       "      <th>name</th>\n",
       "    </tr>\n",
       "  </thead>\n",
       "  <tbody>\n",
       "    <tr>\n",
       "      <th>2</th>\n",
       "      <td>doi:10.7910/DVN/0BFF0K</td>\n",
       "      <td>1.0</td>\n",
       "      <td>2019</td>\n",
       "      <td>BJPolS</td>\n",
       "      <td>Social Sciences</td>\n",
       "      <td>JOURNALS</td>\n",
       "      <td>British Journal of Political Science Dataverse</td>\n",
       "    </tr>\n",
       "    <tr>\n",
       "      <th>4</th>\n",
       "      <td>doi:10.7910/DVN/0DE35E</td>\n",
       "      <td>1.0</td>\n",
       "      <td>2018</td>\n",
       "      <td>xps</td>\n",
       "      <td>Social Sciences</td>\n",
       "      <td>JOURNALS</td>\n",
       "      <td>Journal of Experimental Political Science</td>\n",
       "    </tr>\n",
       "    <tr>\n",
       "      <th>5</th>\n",
       "      <td>doi:10.7910/DVN/0DLNBL</td>\n",
       "      <td>1.0</td>\n",
       "      <td>2018</td>\n",
       "      <td>jop</td>\n",
       "      <td>Social Sciences</td>\n",
       "      <td>JOURNALS</td>\n",
       "      <td>The Journal of Politics Dataverse</td>\n",
       "    </tr>\n",
       "    <tr>\n",
       "      <th>7</th>\n",
       "      <td>doi:10.7910/DVN/0E9KON</td>\n",
       "      <td>1.0</td>\n",
       "      <td>2016</td>\n",
       "      <td>jop</td>\n",
       "      <td>Social Sciences</td>\n",
       "      <td>JOURNALS</td>\n",
       "      <td>The Journal of Politics Dataverse</td>\n",
       "    </tr>\n",
       "    <tr>\n",
       "      <th>8</th>\n",
       "      <td>doi:10.7910/DVN/0EIQXL</td>\n",
       "      <td>1.0</td>\n",
       "      <td>2020</td>\n",
       "      <td>ajps</td>\n",
       "      <td>Social Sciences</td>\n",
       "      <td>JOURNALS</td>\n",
       "      <td>American Journal of Political Science (AJPS) D...</td>\n",
       "    </tr>\n",
       "  </tbody>\n",
       "</table>\n",
       "</div>"
      ],
      "text/plain": [
       "                      doi  success  publicationDate publisher  \\\n",
       "2  doi:10.7910/DVN/0BFF0K      1.0             2019    BJPolS   \n",
       "4  doi:10.7910/DVN/0DE35E      1.0             2018       xps   \n",
       "5  doi:10.7910/DVN/0DLNBL      1.0             2018       jop   \n",
       "7  doi:10.7910/DVN/0E9KON      1.0             2016       jop   \n",
       "8  doi:10.7910/DVN/0EIQXL      1.0             2020      ajps   \n",
       "\n",
       "           subject      type  \\\n",
       "2  Social Sciences  JOURNALS   \n",
       "4  Social Sciences  JOURNALS   \n",
       "5  Social Sciences  JOURNALS   \n",
       "7  Social Sciences  JOURNALS   \n",
       "8  Social Sciences  JOURNALS   \n",
       "\n",
       "                                                name  \n",
       "2     British Journal of Political Science Dataverse  \n",
       "4          Journal of Experimental Political Science  \n",
       "5                  The Journal of Politics Dataverse  \n",
       "7                  The Journal of Politics Dataverse  \n",
       "8  American Journal of Political Science (AJPS) D...  "
      ]
     },
     "execution_count": 356,
     "metadata": {},
     "output_type": "execute_result"
    }
   ],
   "source": [
    "journals.head()"
   ]
  },
  {
   "cell_type": "code",
   "execution_count": 357,
   "metadata": {},
   "outputs": [
    {
     "name": "stdout",
     "output_type": "stream",
     "text": [
      "Aggregated all journals' success rate: 0.4729381443298969\n"
     ]
    }
   ],
   "source": [
    "print(\"Aggregated all journals' success rate: \"+ str(journals.success.sum()/len(journals)))"
   ]
  },
  {
   "cell_type": "code",
   "execution_count": 358,
   "metadata": {},
   "outputs": [],
   "source": [
    "def fix_name(el):\n",
    "    return el.split('Dataverse')[0].strip()\n",
    "\n",
    "journals.name = journals.name.apply(fix_name)\n",
    "\n",
    "journals.name = journals.name.apply(\n",
    "    lambda x: 'International\\nInteractions (II)' if 'International Interactions (II)' in x else x)\n",
    "journals.name = journals.name.apply(\n",
    "    lambda x: 'American Journal of Political\\nScience (AJPS)' if 'American Journal of Political Science (AJPS)' in x else x)\n",
    "journals.name = journals.name.apply(\n",
    "    lambda x: 'British Journal of\\nPolitical Science' if 'British Journal of Political Science' in x else x)\n",
    "journals.name = journals.name.apply(\n",
    "    lambda x: 'American Political\\nScience Review' if 'American Political Science Review' in x else x)\n",
    "journals.name = journals.name.apply(\n",
    "    lambda x: 'Review of Economics\\nand Statistics' if 'Review of Economics and Statistics' in x else x)\n",
    "journals.name = journals.name.apply(\n",
    "    lambda x: 'Political Science Research\\nand Methods (PSRM)' if 'Political Science Research and Methods (PSRM)' in x else x)\n",
    "journals.name = journals.name.apply(\n",
    "    lambda x: 'Journal of Experimental\\nPolitical Science' if 'Journal of Experimental Political Science' in x else x)\n",
    "journals.name = journals.name.apply(\n",
    "    lambda x: 'International\\nStudies Quarterly' if 'International Studies Quarterly' in x else x)\n"
   ]
  },
  {
   "cell_type": "code",
   "execution_count": 359,
   "metadata": {},
   "outputs": [],
   "source": [
    "temp = journals.groupby(\n",
    "    ['success', 'name']).size().reset_index().pivot(columns='success', index='name', values=0)\n",
    "\n",
    "temp.fillna(0.0, inplace=True)\n",
    "temp['total'] = [i+j for i,j in zip(temp[1],temp[0])]\n",
    "#temp['total'] = [i+j for i,j in zip(temp[2],temp['total'])]\n",
    "\n",
    "temp['s'] = [i / j * 100 for i,j in zip(temp[1], temp['total'])]\n",
    "temp['f'] = [i / j * 100 for i,j in zip(temp[0], temp['total'])]\n",
    "#temp['t'] = [i / j * 100 for i,j in zip(temp[2], temp['total'])]\n",
    "\n",
    "temp = temp.sort_values(by=['total'], ascending=False).head(12)"
   ]
  },
  {
   "cell_type": "code",
   "execution_count": 360,
   "metadata": {},
   "outputs": [
    {
     "data": {
      "text/html": [
       "<div>\n",
       "<style scoped>\n",
       "    .dataframe tbody tr th:only-of-type {\n",
       "        vertical-align: middle;\n",
       "    }\n",
       "\n",
       "    .dataframe tbody tr th {\n",
       "        vertical-align: top;\n",
       "    }\n",
       "\n",
       "    .dataframe thead th {\n",
       "        text-align: right;\n",
       "    }\n",
       "</style>\n",
       "<table border=\"1\" class=\"dataframe\">\n",
       "  <thead>\n",
       "    <tr style=\"text-align: right;\">\n",
       "      <th>success</th>\n",
       "      <th>0.0</th>\n",
       "      <th>1.0</th>\n",
       "      <th>total</th>\n",
       "      <th>s</th>\n",
       "      <th>f</th>\n",
       "    </tr>\n",
       "    <tr>\n",
       "      <th>name</th>\n",
       "      <th></th>\n",
       "      <th></th>\n",
       "      <th></th>\n",
       "      <th></th>\n",
       "      <th></th>\n",
       "    </tr>\n",
       "  </thead>\n",
       "  <tbody>\n",
       "    <tr>\n",
       "      <th>The Journal of Politics</th>\n",
       "      <td>82.0</td>\n",
       "      <td>63.0</td>\n",
       "      <td>145.0</td>\n",
       "      <td>43.448276</td>\n",
       "      <td>56.551724</td>\n",
       "    </tr>\n",
       "    <tr>\n",
       "      <th>American Journal of Political\\nScience (AJPS)</th>\n",
       "      <td>40.0</td>\n",
       "      <td>61.0</td>\n",
       "      <td>101.0</td>\n",
       "      <td>60.396040</td>\n",
       "      <td>39.603960</td>\n",
       "    </tr>\n",
       "    <tr>\n",
       "      <th>Political Science Research\\nand Methods (PSRM)</th>\n",
       "      <td>28.0</td>\n",
       "      <td>38.0</td>\n",
       "      <td>66.0</td>\n",
       "      <td>57.575758</td>\n",
       "      <td>42.424242</td>\n",
       "    </tr>\n",
       "    <tr>\n",
       "      <th>British Journal of\\nPolitical Science</th>\n",
       "      <td>37.0</td>\n",
       "      <td>27.0</td>\n",
       "      <td>64.0</td>\n",
       "      <td>42.187500</td>\n",
       "      <td>57.812500</td>\n",
       "    </tr>\n",
       "    <tr>\n",
       "      <th>Political Analysis</th>\n",
       "      <td>22.0</td>\n",
       "      <td>39.0</td>\n",
       "      <td>61.0</td>\n",
       "      <td>63.934426</td>\n",
       "      <td>36.065574</td>\n",
       "    </tr>\n",
       "    <tr>\n",
       "      <th>International\\nStudies Quarterly</th>\n",
       "      <td>35.0</td>\n",
       "      <td>20.0</td>\n",
       "      <td>55.0</td>\n",
       "      <td>36.363636</td>\n",
       "      <td>63.636364</td>\n",
       "    </tr>\n",
       "    <tr>\n",
       "      <th>American Political\\nScience Review</th>\n",
       "      <td>26.0</td>\n",
       "      <td>25.0</td>\n",
       "      <td>51.0</td>\n",
       "      <td>49.019608</td>\n",
       "      <td>50.980392</td>\n",
       "    </tr>\n",
       "    <tr>\n",
       "      <th>Political Behavior</th>\n",
       "      <td>18.0</td>\n",
       "      <td>21.0</td>\n",
       "      <td>39.0</td>\n",
       "      <td>53.846154</td>\n",
       "      <td>46.153846</td>\n",
       "    </tr>\n",
       "    <tr>\n",
       "      <th>International\\nInteractions (II)</th>\n",
       "      <td>28.0</td>\n",
       "      <td>8.0</td>\n",
       "      <td>36.0</td>\n",
       "      <td>22.222222</td>\n",
       "      <td>77.777778</td>\n",
       "    </tr>\n",
       "    <tr>\n",
       "      <th>Research &amp; Politics</th>\n",
       "      <td>16.0</td>\n",
       "      <td>13.0</td>\n",
       "      <td>29.0</td>\n",
       "      <td>44.827586</td>\n",
       "      <td>55.172414</td>\n",
       "    </tr>\n",
       "    <tr>\n",
       "      <th>Journal of Experimental\\nPolitical Science</th>\n",
       "      <td>14.0</td>\n",
       "      <td>7.0</td>\n",
       "      <td>21.0</td>\n",
       "      <td>33.333333</td>\n",
       "      <td>66.666667</td>\n",
       "    </tr>\n",
       "    <tr>\n",
       "      <th>Review of Economics\\nand Statistics</th>\n",
       "      <td>6.0</td>\n",
       "      <td>14.0</td>\n",
       "      <td>20.0</td>\n",
       "      <td>70.000000</td>\n",
       "      <td>30.000000</td>\n",
       "    </tr>\n",
       "  </tbody>\n",
       "</table>\n",
       "</div>"
      ],
      "text/plain": [
       "success                                          0.0   1.0  total          s  \\\n",
       "name                                                                           \n",
       "The Journal of Politics                         82.0  63.0  145.0  43.448276   \n",
       "American Journal of Political\\nScience (AJPS)   40.0  61.0  101.0  60.396040   \n",
       "Political Science Research\\nand Methods (PSRM)  28.0  38.0   66.0  57.575758   \n",
       "British Journal of\\nPolitical Science           37.0  27.0   64.0  42.187500   \n",
       "Political Analysis                              22.0  39.0   61.0  63.934426   \n",
       "International\\nStudies Quarterly                35.0  20.0   55.0  36.363636   \n",
       "American Political\\nScience Review              26.0  25.0   51.0  49.019608   \n",
       "Political Behavior                              18.0  21.0   39.0  53.846154   \n",
       "International\\nInteractions (II)                28.0   8.0   36.0  22.222222   \n",
       "Research & Politics                             16.0  13.0   29.0  44.827586   \n",
       "Journal of Experimental\\nPolitical Science      14.0   7.0   21.0  33.333333   \n",
       "Review of Economics\\nand Statistics              6.0  14.0   20.0  70.000000   \n",
       "\n",
       "success                                                 f  \n",
       "name                                                       \n",
       "The Journal of Politics                         56.551724  \n",
       "American Journal of Political\\nScience (AJPS)   39.603960  \n",
       "Political Science Research\\nand Methods (PSRM)  42.424242  \n",
       "British Journal of\\nPolitical Science           57.812500  \n",
       "Political Analysis                              36.065574  \n",
       "International\\nStudies Quarterly                63.636364  \n",
       "American Political\\nScience Review              50.980392  \n",
       "Political Behavior                              46.153846  \n",
       "International\\nInteractions (II)                77.777778  \n",
       "Research & Politics                             55.172414  \n",
       "Journal of Experimental\\nPolitical Science      66.666667  \n",
       "Review of Economics\\nand Statistics             30.000000  "
      ]
     },
     "execution_count": 360,
     "metadata": {},
     "output_type": "execute_result"
    }
   ],
   "source": [
    "temp"
   ]
  },
  {
   "cell_type": "code",
   "execution_count": 361,
   "metadata": {},
   "outputs": [],
   "source": [
    "names = list(temp.index)\n",
    "r= range(0,len(temp['s']))"
   ]
  },
  {
   "cell_type": "code",
   "execution_count": 362,
   "metadata": {},
   "outputs": [
    {
     "data": {
      "image/png": "[encoded data removed]",
      "text/plain": [
       "<Figure size 864x360 with 1 Axes>"
      ]
     },
     "metadata": {},
     "output_type": "display_data"
    }
   ],
   "source": [
    "plt.figure(figsize=(12,5))\n",
    "\n",
    "plt.bar(r, temp['s'], color=sns.color_palette(\"pastel\")[2], edgecolor='black', width=barWidth, label=\"Success\")\n",
    "plt.bar(r, temp['f'], bottom=temp['s'], color=sns.color_palette(\"pastel\")[1], edgecolor='black', width=barWidth, label=\"Error\")\n",
    "\n",
    "plt.xticks(r, names, rotation=90, fontsize=14)\n",
    "plt.xlabel(\"Journal\", size=15)\n",
    "\n",
    "plt.legend(loc='best', ncol=1,prop={'size': 15})\n",
    "\n",
    "temp['names'] = temp.index\n",
    "temp = temp.reset_index(drop=True)\n",
    "\n",
    "temp.s = temp.s.round(1)\n",
    "temp.total = temp.total.astype(int)\n",
    "\n",
    "for i, rows in temp.iterrows():\n",
    "    plt.annotate(\n",
    "        str(rows[\"s\"])+\"%\", xy=(i-0.3, rows[\"s\"]+2), rotation=0, color=\"black\", size=12, weight='bold')\n",
    "    plt.annotate(\n",
    "        \"(\"+str(int(rows[\"total\"]))+\")\", xy=(i-0.3, 3), rotation=0, color=\"black\", size=12)\n",
    "\n",
    "\n",
    "#plt.annotate(\"IQSS preliminary\", xy=(8, 101), color=\"grey\", size=12)    \n",
    "\n",
    "plt.title(\"Aggregated success rate per journal dataverse\", size=20)\n",
    "\n",
    "#plt.tight_layout()\n",
    "#plt.savefig(\"publisher.png\")\n",
    "plt.savefig('plots/agg_journals_rate.png', bbox_inches = \"tight\")\n",
    "plt.show()"
   ]
  },
  {
   "cell_type": "markdown",
   "metadata": {},
   "source": [
    "# Journal per year"
   ]
  },
  {
   "cell_type": "code",
   "execution_count": 160,
   "metadata": {},
   "outputs": [
    {
     "data": {
      "text/plain": [
       "array(['BJPolS', 'xps', 'jop', 'ajps', 'lsq', 'PSRM', 'polbehavior',\n",
       "       'restat', 'JPublicPolicy', 'perspectives', 'pan', 'the_review',\n",
       "       'researchandpolitics', 'isq', 'culturalanalytics',\n",
       "       'internationalinteractions', 'JAERE', 'IOJ', 'economics', 'FPA',\n",
       "       'isec', 'LAPS', 'world-politics', 'ipsr-risp', 'tpmnewsletter',\n",
       "       'cjip', 'ps', 'jhr', 'JJPS', 'jlc', 'palcomms', 'bpsr', 'qje'],\n",
       "      dtype=object)"
      ]
     },
     "execution_count": 160,
     "metadata": {},
     "output_type": "execute_result"
    }
   ],
   "source": [
    "journals.publisher.unique()"
   ]
  },
  {
   "cell_type": "code",
   "execution_count": 161,
   "metadata": {},
   "outputs": [],
   "source": [
    "top = ['jop', 'ajps', 'PSRM', 'BJPolS', 'pan', 'isq']"
   ]
  },
  {
   "cell_type": "code",
   "execution_count": 162,
   "metadata": {},
   "outputs": [],
   "source": [
    "journals = journals.drop(journals[~journals.publisher.isin(top)].index)"
   ]
  },
  {
   "cell_type": "code",
   "execution_count": 163,
   "metadata": {},
   "outputs": [
    {
     "data": {
      "text/plain": [
       "array(['British Journal of Political Science', 'The Journal of Politics',\n",
       "       'American Journal of Political\\nScience (AJPS)',\n",
       "       'Political Science Research\\nand Methods (PSRM)',\n",
       "       'Political Analysis', 'International Studies Quarterly'],\n",
       "      dtype=object)"
      ]
     },
     "execution_count": 163,
     "metadata": {},
     "output_type": "execute_result"
    }
   ],
   "source": [
    "journals.name.unique()"
   ]
  },
  {
   "cell_type": "code",
   "execution_count": 164,
   "metadata": {},
   "outputs": [],
   "source": [
    "temp = journals.groupby(\n",
    "    ['success', 'name', 'publicationDate']) .size().reset_index()"
   ]
  },
  {
   "cell_type": "code",
   "execution_count": 165,
   "metadata": {},
   "outputs": [],
   "source": [
    "temp = temp.pivot_table(index=['name', 'publicationDate'], columns=['success']).reset_index()"
   ]
  },
  {
   "cell_type": "code",
   "execution_count": 166,
   "metadata": {},
   "outputs": [
    {
     "data": {
      "text/html": [
       "<div>\n",
       "<style scoped>\n",
       "    .dataframe tbody tr th:only-of-type {\n",
       "        vertical-align: middle;\n",
       "    }\n",
       "\n",
       "    .dataframe tbody tr th {\n",
       "        vertical-align: top;\n",
       "    }\n",
       "\n",
       "    .dataframe thead tr th {\n",
       "        text-align: left;\n",
       "    }\n",
       "</style>\n",
       "<table border=\"1\" class=\"dataframe\">\n",
       "  <thead>\n",
       "    <tr>\n",
       "      <th></th>\n",
       "      <th>name</th>\n",
       "      <th>publicationDate</th>\n",
       "      <th colspan=\"2\" halign=\"left\">0</th>\n",
       "    </tr>\n",
       "    <tr>\n",
       "      <th>success</th>\n",
       "      <th></th>\n",
       "      <th></th>\n",
       "      <th>0.0</th>\n",
       "      <th>1.0</th>\n",
       "    </tr>\n",
       "  </thead>\n",
       "  <tbody>\n",
       "    <tr>\n",
       "      <th>0</th>\n",
       "      <td>American Journal of Political\\nScience (AJPS)</td>\n",
       "      <td>2015</td>\n",
       "      <td>1.0</td>\n",
       "      <td>3.0</td>\n",
       "    </tr>\n",
       "    <tr>\n",
       "      <th>1</th>\n",
       "      <td>American Journal of Political\\nScience (AJPS)</td>\n",
       "      <td>2016</td>\n",
       "      <td>5.0</td>\n",
       "      <td>8.0</td>\n",
       "    </tr>\n",
       "    <tr>\n",
       "      <th>2</th>\n",
       "      <td>American Journal of Political\\nScience (AJPS)</td>\n",
       "      <td>2017</td>\n",
       "      <td>7.0</td>\n",
       "      <td>12.0</td>\n",
       "    </tr>\n",
       "    <tr>\n",
       "      <th>3</th>\n",
       "      <td>American Journal of Political\\nScience (AJPS)</td>\n",
       "      <td>2018</td>\n",
       "      <td>9.0</td>\n",
       "      <td>14.0</td>\n",
       "    </tr>\n",
       "    <tr>\n",
       "      <th>4</th>\n",
       "      <td>American Journal of Political\\nScience (AJPS)</td>\n",
       "      <td>2019</td>\n",
       "      <td>9.0</td>\n",
       "      <td>19.0</td>\n",
       "    </tr>\n",
       "  </tbody>\n",
       "</table>\n",
       "</div>"
      ],
      "text/plain": [
       "                                                  name publicationDate    0  \\\n",
       "success                                                                 0.0   \n",
       "0        American Journal of Political\\nScience (AJPS)            2015  1.0   \n",
       "1        American Journal of Political\\nScience (AJPS)            2016  5.0   \n",
       "2        American Journal of Political\\nScience (AJPS)            2017  7.0   \n",
       "3        American Journal of Political\\nScience (AJPS)            2018  9.0   \n",
       "4        American Journal of Political\\nScience (AJPS)            2019  9.0   \n",
       "\n",
       "               \n",
       "success   1.0  \n",
       "0         3.0  \n",
       "1         8.0  \n",
       "2        12.0  \n",
       "3        14.0  \n",
       "4        19.0  "
      ]
     },
     "execution_count": 166,
     "metadata": {},
     "output_type": "execute_result"
    }
   ],
   "source": [
    "temp.head()"
   ]
  },
  {
   "cell_type": "code",
   "execution_count": 167,
   "metadata": {},
   "outputs": [],
   "source": [
    "temp.fillna(0.0, inplace=True)\n",
    "temp['total'] = [i+j for i,j in zip(temp[0][1],temp[0][0])]\n",
    "\n",
    "temp['s'] = [i / j * 100 for i,j in zip(temp[0][1], temp['total'])]\n",
    "temp['f'] = [i / j * 100 for i,j in zip(temp[0][0], temp['total'])]"
   ]
  },
  {
   "cell_type": "code",
   "execution_count": 168,
   "metadata": {},
   "outputs": [
    {
     "data": {
      "text/html": [
       "<div>\n",
       "<style scoped>\n",
       "    .dataframe tbody tr th:only-of-type {\n",
       "        vertical-align: middle;\n",
       "    }\n",
       "\n",
       "    .dataframe tbody tr th {\n",
       "        vertical-align: top;\n",
       "    }\n",
       "\n",
       "    .dataframe thead tr th {\n",
       "        text-align: left;\n",
       "    }\n",
       "</style>\n",
       "<table border=\"1\" class=\"dataframe\">\n",
       "  <thead>\n",
       "    <tr>\n",
       "      <th></th>\n",
       "      <th>name</th>\n",
       "      <th>publicationDate</th>\n",
       "      <th colspan=\"2\" halign=\"left\">0</th>\n",
       "      <th>total</th>\n",
       "      <th>s</th>\n",
       "      <th>f</th>\n",
       "    </tr>\n",
       "    <tr>\n",
       "      <th>success</th>\n",
       "      <th></th>\n",
       "      <th></th>\n",
       "      <th>0.0</th>\n",
       "      <th>1.0</th>\n",
       "      <th></th>\n",
       "      <th></th>\n",
       "      <th></th>\n",
       "    </tr>\n",
       "  </thead>\n",
       "  <tbody>\n",
       "    <tr>\n",
       "      <th>0</th>\n",
       "      <td>American Journal of Political\\nScience (AJPS)</td>\n",
       "      <td>2015</td>\n",
       "      <td>1.0</td>\n",
       "      <td>3.0</td>\n",
       "      <td>4.0</td>\n",
       "      <td>75.000000</td>\n",
       "      <td>25.000000</td>\n",
       "    </tr>\n",
       "    <tr>\n",
       "      <th>1</th>\n",
       "      <td>American Journal of Political\\nScience (AJPS)</td>\n",
       "      <td>2016</td>\n",
       "      <td>5.0</td>\n",
       "      <td>8.0</td>\n",
       "      <td>13.0</td>\n",
       "      <td>61.538462</td>\n",
       "      <td>38.461538</td>\n",
       "    </tr>\n",
       "    <tr>\n",
       "      <th>2</th>\n",
       "      <td>American Journal of Political\\nScience (AJPS)</td>\n",
       "      <td>2017</td>\n",
       "      <td>7.0</td>\n",
       "      <td>12.0</td>\n",
       "      <td>19.0</td>\n",
       "      <td>63.157895</td>\n",
       "      <td>36.842105</td>\n",
       "    </tr>\n",
       "    <tr>\n",
       "      <th>3</th>\n",
       "      <td>American Journal of Political\\nScience (AJPS)</td>\n",
       "      <td>2018</td>\n",
       "      <td>9.0</td>\n",
       "      <td>14.0</td>\n",
       "      <td>23.0</td>\n",
       "      <td>60.869565</td>\n",
       "      <td>39.130435</td>\n",
       "    </tr>\n",
       "    <tr>\n",
       "      <th>4</th>\n",
       "      <td>American Journal of Political\\nScience (AJPS)</td>\n",
       "      <td>2019</td>\n",
       "      <td>9.0</td>\n",
       "      <td>19.0</td>\n",
       "      <td>28.0</td>\n",
       "      <td>67.857143</td>\n",
       "      <td>32.142857</td>\n",
       "    </tr>\n",
       "  </tbody>\n",
       "</table>\n",
       "</div>"
      ],
      "text/plain": [
       "                                                  name publicationDate    0  \\\n",
       "success                                                                 0.0   \n",
       "0        American Journal of Political\\nScience (AJPS)            2015  1.0   \n",
       "1        American Journal of Political\\nScience (AJPS)            2016  5.0   \n",
       "2        American Journal of Political\\nScience (AJPS)            2017  7.0   \n",
       "3        American Journal of Political\\nScience (AJPS)            2018  9.0   \n",
       "4        American Journal of Political\\nScience (AJPS)            2019  9.0   \n",
       "\n",
       "              total          s          f  \n",
       "success   1.0                              \n",
       "0         3.0   4.0  75.000000  25.000000  \n",
       "1         8.0  13.0  61.538462  38.461538  \n",
       "2        12.0  19.0  63.157895  36.842105  \n",
       "3        14.0  23.0  60.869565  39.130435  \n",
       "4        19.0  28.0  67.857143  32.142857  "
      ]
     },
     "execution_count": 168,
     "metadata": {},
     "output_type": "execute_result"
    }
   ],
   "source": [
    "temp.head()"
   ]
  },
  {
   "cell_type": "code",
   "execution_count": null,
   "metadata": {},
   "outputs": [],
   "source": [
    "temp.iterrows()\n",
    "\n",
    "fig, ax = plt.subplots()\n",
    "    sb.regplot(x='round', y='money', data=firm, ax=ax)\n",
    "    ax2 = ax.twinx()\n",
    "    sb.regplot(x='round', y='dead', data=firm, ax=ax2, color='r')"
   ]
  },
  {
   "cell_type": "code",
   "execution_count": null,
   "metadata": {},
   "outputs": [],
   "source": [
    "def f(x,y,z, **kwargs):\n",
    "    fig, ax = plt.subplots()\n",
    "    ax = sns.barplot(x, y, color=\"#99ffcc\", width=0.5)\n",
    "    ax2 = ax.twinx()\n",
    "    sns.barplot(x, z, ax=ax2, **kwargs)\n",
    "    #for i, rows in temp.iterrows():\n",
    "    #    ax.annotate(\"(\"+str(int(rows[\"total\"]))+\")\", xy=(i-0.2, 3), rotation=0, color=\"black\", size=12)\n",
    "\n",
    "g = sns.FacetGrid(temp, col=\"name\", col_wrap=2, height=5)\n",
    "g.map(f, \"publicationDate\", \"total\", 's')\n",
    "\n",
    "g.set_axis_labels(\"Year\", \"Success rate (%)\")\n",
    "#g.set(xticks=[10, 30, 50], yticks=[2, 6, 10])"
   ]
  },
  {
   "cell_type": "code",
   "execution_count": null,
   "metadata": {},
   "outputs": [],
   "source": [
    "#for ax in g.axes.ravel():\n",
    "#    for p in ax.patches:\n",
    "#        ax.annotate(format(p.get_height(), '.2f'), (p.get_x() + p.get_width() / 2., p.get_height()), ha = 'center', va = 'center', xytext = (0, 10), textcoords = 'offset points')\n",
    "    \n",
    "\n",
    "\n",
    "\n",
    "temp.fillna(0.0, inplace=True)\n",
    "temp['total'] = [i+j for i,j in zip(temp[1],temp[0])]\n",
    "#temp['total'] = [i+j for i,j in zip(temp[2],temp['total'])]\n",
    "\n",
    "temp['s'] = [i / j * 100 for i,j in zip(temp[1], temp['total'])]\n",
    "temp['f'] = [i / j * 100 for i,j in zip(temp[0], temp['total'])]\n",
    "#temp['t'] = [i / j * 100 for i,j in zip(temp[2], temp['total'])]\n",
    "\n",
    "#temp = temp.sort_values(by=['total'], ascending=False).head(12)"
   ]
  },
  {
   "cell_type": "markdown",
   "metadata": {},
   "source": [
    "# Re-execution rate per publication year"
   ]
  },
  {
   "cell_type": "code",
   "execution_count": 232,
   "metadata": {},
   "outputs": [],
   "source": [
    "# plot style\n",
    "sns.set_style('whitegrid')\n",
    "sns.set_style({'font.family': 'Times New Roman'})\n",
    "\n",
    "def plot_func(temp, ptitle, pname):\n",
    "    temp.fillna(0.0, inplace=True)\n",
    "    temp['total'] = [i+j for i,j in zip(temp[1],temp[0])]\n",
    "\n",
    "    temp['s'] = [i* 100./ j  for i,j in zip(temp[1], temp['total'])]\n",
    "    temp['f'] = [i* 100./ j  for i,j in zip(temp[0], temp['total'])]\n",
    "    #temp['t'] = [i / j * 100 for i,j in zip(temp[2], temp['total'])]\n",
    "\n",
    "    names = list(temp.index)\n",
    "    r= range(0,len(temp['s']))\n",
    "\n",
    "    plt.figure(figsize=(6,5))\n",
    "\n",
    "    barWidth = 0.8\n",
    "    \n",
    "    sns.barplot(x=r, y=\"s\", data=temp,  color=sns.color_palette(\"Set2\")[0], label=\"Success\")\n",
    "    sns.barplot(x=r, y=\"f\", data=temp, bottom=temp['s'], color=sns.color_palette(\"Set2\")[1], label=\"Error\")\n",
    "    \n",
    "    #plt.bar(r, temp['s'], color='#b5ffb9', edgecolor='black', width=barWidth, label=\"Success\")\n",
    "    #plt.bar(r, temp['f'], color='#cce6ff', bottom=temp['s'], edgecolor='black', width=barWidth, label=\"Error\")\n",
    "\n",
    "    plt.xticks(r, names, rotation=90, fontsize=15)\n",
    "    plt.xlabel(\"Year\", size=15)\n",
    "    plt.ylabel(\"Success rate (%)\", size=15)\n",
    "\n",
    "    plt.legend(loc='best', ncol=1,prop={'size': 12})\n",
    "\n",
    "    temp['year'] = temp.index\n",
    "    #temp['names'] =temp['names'].apply(fix_name)\n",
    "    temp = temp.reset_index(drop=True)\n",
    "\n",
    "    #temp.s = temp.s+temp.t\n",
    "    temp.s = temp.s.round(1)\n",
    "    temp.total = temp.total.astype(int)\n",
    "\n",
    "    for i, rows in temp.iterrows():\n",
    "        if rows[\"s\"]<=0:\n",
    "            plt.annotate(\n",
    "                str(rows[\"s\"])+\"%\", xy=(i-0.3, rows[\"s\"]+10), rotation=0, color=\"black\", size=12, weight='bold')\n",
    "            plt.annotate(\n",
    "                \"(\"+str(int(rows[\"total\"]))+\")\", xy=(i-0.3, 3), rotation=0, color=\"black\", size=12)\n",
    "        elif rows[\"s\"]>95:\n",
    "            plt.annotate(\n",
    "                str(rows[\"s\"])+\"%\", xy=(i-0.3, rows[\"s\"]-5), rotation=0, color=\"black\", size=12, weight='bold')\n",
    "            plt.annotate(\n",
    "                \"(\"+str(int(rows[\"total\"]))+\")\", xy=(i-0.3, 3), rotation=0, color=\"black\", size=12)\n",
    "        else:\n",
    "            plt.annotate(\n",
    "                str(rows[\"s\"])+\"%\", xy=(i-0.3, rows[\"s\"]+2), rotation=0, color=\"black\", size=12, weight='bold')\n",
    "            plt.annotate(\n",
    "                \"(\"+str(int(rows[\"total\"]))+\")\", xy=(i-0.3, 3), rotation=0, color=\"black\", size=12)\n",
    "\n",
    "\n",
    "    plt.title(ptitle, size=20)\n",
    "\n",
    "    plt.savefig(\"plots/{}.png\".format(pname), bbox_inches = \"tight\")\n",
    "    plt.show()"
   ]
  },
  {
   "cell_type": "code",
   "execution_count": 233,
   "metadata": {},
   "outputs": [],
   "source": [
    "total = total[total['publicationDate'] > 2014]"
   ]
  },
  {
   "cell_type": "code",
   "execution_count": 234,
   "metadata": {},
   "outputs": [
    {
     "data": {
      "image/png": "[encoded data removed]",
      "text/plain": [
       "<Figure size 432x360 with 1 Axes>"
      ]
     },
     "metadata": {},
     "output_type": "display_data"
    }
   ],
   "source": [
    "temp = total.groupby(\n",
    "    ['success', 'publicationDate']).size().reset_index().pivot(\n",
    "    columns='success', index='publicationDate', values=0)\n",
    "plot_func(temp, ptitle=\"Success rate per year\", pname=\"per_year\")"
   ]
  },
  {
   "cell_type": "code",
   "execution_count": 235,
   "metadata": {},
   "outputs": [],
   "source": [
    "total['r32_success']=total[\"r32\"].apply(success)\n",
    "total['r36_success']=total[\"r36\"].apply(success)\n",
    "total['r40_success']=total[\"r40\"].apply(success)"
   ]
  },
  {
   "cell_type": "code",
   "execution_count": 236,
   "metadata": {},
   "outputs": [
    {
     "data": {
      "image/png": "[encoded data removed]",
      "text/plain": [
       "<Figure size 432x360 with 1 Axes>"
      ]
     },
     "metadata": {},
     "output_type": "display_data"
    }
   ],
   "source": [
    "temp = total.groupby(\n",
    "    ['r32_success', 'publicationDate']).size().reset_index().pivot(\n",
    "    columns='r32_success', index='publicationDate', values=0)\n",
    "plot_func(temp, ptitle=\"Success rate per year for R 3.2\", pname=\"per_year_r32\")"
   ]
  },
  {
   "cell_type": "code",
   "execution_count": 237,
   "metadata": {},
   "outputs": [
    {
     "data": {
      "image/png": "[encoded data removed]",
      "text/plain": [
       "<Figure size 432x360 with 1 Axes>"
      ]
     },
     "metadata": {},
     "output_type": "display_data"
    }
   ],
   "source": [
    "temp = total.groupby(\n",
    "    ['r36_success', 'publicationDate']).size().reset_index().pivot(\n",
    "    columns='r36_success', index='publicationDate', values=0)\n",
    "plot_func(temp, ptitle=\"Success rate per year for R 3.6\", pname=\"per_year_r36\")"
   ]
  },
  {
   "cell_type": "code",
   "execution_count": 238,
   "metadata": {},
   "outputs": [
    {
     "data": {
      "image/png": "[encoded data removed]",
      "text/plain": [
       "<Figure size 432x360 with 1 Axes>"
      ]
     },
     "metadata": {},
     "output_type": "display_data"
    }
   ],
   "source": [
    "temp = total.groupby(\n",
    "    ['r40_success', 'publicationDate']).size().reset_index().pivot(\n",
    "    columns='r40_success', index='publicationDate', values=0)\n",
    "plot_func(temp, ptitle=\"Success rate per year for R 4.0\", pname=\"per_year_r40\")"
   ]
  },
  {
   "cell_type": "code",
   "execution_count": 239,
   "metadata": {},
   "outputs": [
    {
     "data": {
      "text/html": [
       "<div>\n",
       "<style scoped>\n",
       "    .dataframe tbody tr th:only-of-type {\n",
       "        vertical-align: middle;\n",
       "    }\n",
       "\n",
       "    .dataframe tbody tr th {\n",
       "        vertical-align: top;\n",
       "    }\n",
       "\n",
       "    .dataframe thead th {\n",
       "        text-align: right;\n",
       "    }\n",
       "</style>\n",
       "<table border=\"1\" class=\"dataframe\">\n",
       "  <thead>\n",
       "    <tr style=\"text-align: right;\">\n",
       "      <th>r40_success</th>\n",
       "      <th>0.0</th>\n",
       "      <th>1.0</th>\n",
       "      <th>total</th>\n",
       "      <th>s</th>\n",
       "      <th>f</th>\n",
       "      <th>year</th>\n",
       "    </tr>\n",
       "    <tr>\n",
       "      <th>publicationDate</th>\n",
       "      <th></th>\n",
       "      <th></th>\n",
       "      <th></th>\n",
       "      <th></th>\n",
       "      <th></th>\n",
       "      <th></th>\n",
       "    </tr>\n",
       "  </thead>\n",
       "  <tbody>\n",
       "    <tr>\n",
       "      <th>2015</th>\n",
       "      <td>96</td>\n",
       "      <td>35</td>\n",
       "      <td>131</td>\n",
       "      <td>26.717557</td>\n",
       "      <td>73.282443</td>\n",
       "      <td>2015</td>\n",
       "    </tr>\n",
       "    <tr>\n",
       "      <th>2016</th>\n",
       "      <td>305</td>\n",
       "      <td>199</td>\n",
       "      <td>504</td>\n",
       "      <td>39.484127</td>\n",
       "      <td>60.515873</td>\n",
       "      <td>2016</td>\n",
       "    </tr>\n",
       "    <tr>\n",
       "      <th>2017</th>\n",
       "      <td>408</td>\n",
       "      <td>240</td>\n",
       "      <td>648</td>\n",
       "      <td>37.037037</td>\n",
       "      <td>62.962963</td>\n",
       "      <td>2017</td>\n",
       "    </tr>\n",
       "    <tr>\n",
       "      <th>2018</th>\n",
       "      <td>569</td>\n",
       "      <td>172</td>\n",
       "      <td>741</td>\n",
       "      <td>23.211876</td>\n",
       "      <td>76.788124</td>\n",
       "      <td>2018</td>\n",
       "    </tr>\n",
       "    <tr>\n",
       "      <th>2019</th>\n",
       "      <td>465</td>\n",
       "      <td>219</td>\n",
       "      <td>684</td>\n",
       "      <td>32.017544</td>\n",
       "      <td>67.982456</td>\n",
       "      <td>2019</td>\n",
       "    </tr>\n",
       "    <tr>\n",
       "      <th>2020</th>\n",
       "      <td>238</td>\n",
       "      <td>88</td>\n",
       "      <td>326</td>\n",
       "      <td>26.993865</td>\n",
       "      <td>73.006135</td>\n",
       "      <td>2020</td>\n",
       "    </tr>\n",
       "  </tbody>\n",
       "</table>\n",
       "</div>"
      ],
      "text/plain": [
       "r40_success      0.0  1.0  total          s          f  year\n",
       "publicationDate                                             \n",
       "2015              96   35    131  26.717557  73.282443  2015\n",
       "2016             305  199    504  39.484127  60.515873  2016\n",
       "2017             408  240    648  37.037037  62.962963  2017\n",
       "2018             569  172    741  23.211876  76.788124  2018\n",
       "2019             465  219    684  32.017544  67.982456  2019\n",
       "2020             238   88    326  26.993865  73.006135  2020"
      ]
     },
     "execution_count": 239,
     "metadata": {},
     "output_type": "execute_result"
    }
   ],
   "source": [
    "temp"
   ]
  },
  {
   "cell_type": "markdown",
   "metadata": {},
   "source": [
    "# Re-execution rate per subject"
   ]
  },
  {
   "cell_type": "code",
   "execution_count": 279,
   "metadata": {},
   "outputs": [
    {
     "data": {
      "text/plain": [
       "subject\n",
       "Social Sciences                                                                              6079\n",
       "Earth and Environmental Sciences                                                              102\n",
       "Medicine; Health and Life Sciences                                                             95\n",
       "Law                                                                                            84\n",
       "Business and Management                                                                        73\n",
       "Computer and Information Science                                                               62\n",
       "Arts and Humanities                                                                            55\n",
       "Earth and Environmental Sciences;Mathematical Sciences;Medicine; Health and Life Sciences      47\n",
       "Other                                                                                          39\n",
       "Mathematical Sciences                                                                          25\n",
       "dtype: int64"
      ]
     },
     "execution_count": 279,
     "metadata": {},
     "output_type": "execute_result"
    }
   ],
   "source": [
    "total['subject'] = total.subject.str.replace(';Social Sciences', '')\n",
    "total.groupby(['subject']).size().nlargest(10)"
   ]
  },
  {
   "cell_type": "code",
   "execution_count": 280,
   "metadata": {},
   "outputs": [],
   "source": [
    "total.subject = total.subject.apply(lambda x: 'Physics' if 'Physics' in x else x)\n",
    "total.subject = total.subject.apply(lambda x: 'Health and\\nLife Sciences' if 'Health and Life Sciences' in x else x)\n",
    "total.subject = total.subject.apply(lambda x: 'Earth and\\nEnvironmental Sciences' if 'Earth and Environmental Sciences' in x else x)\n",
    "total.subject = total.subject.apply(lambda x: 'Law' if 'Law' in x else x)\n",
    "total.subject = total.subject.apply(lambda x: 'Computer and\\nInformation Science' if 'Computer and Information Science' in x else x)\n",
    "total.subject = total.subject.apply(lambda x: 'Agricultural Sciences' if 'Agricultural Sciences' in x else x)\n",
    "total.subject = total.subject.apply(lambda x: 'Business and\\nManagement' if 'Business and Management' in x else x)"
   ]
  },
  {
   "cell_type": "code",
   "execution_count": 281,
   "metadata": {},
   "outputs": [
    {
     "data": {
      "text/plain": [
       "subject\n",
       "Agricultural Sciences                  22\n",
       "Arts and Humanities                    55\n",
       "Business and\\nManagement               74\n",
       "Computer and\\nInformation Science     100\n",
       "Earth and\\nEnvironmental Sciences     130\n",
       "Health and\\nLife Sciences             176\n",
       "Law                                   109\n",
       "Mathematical Sciences                  25\n",
       "Other                                  39\n",
       "Physics                                23\n",
       "Social Sciences                      6079\n",
       "dtype: int64"
      ]
     },
     "execution_count": 281,
     "metadata": {},
     "output_type": "execute_result"
    }
   ],
   "source": [
    "total.groupby(['subject']).size()"
   ]
  },
  {
   "cell_type": "code",
   "execution_count": 282,
   "metadata": {},
   "outputs": [
    {
     "data": {
      "text/html": [
       "<div>\n",
       "<style scoped>\n",
       "    .dataframe tbody tr th:only-of-type {\n",
       "        vertical-align: middle;\n",
       "    }\n",
       "\n",
       "    .dataframe tbody tr th {\n",
       "        vertical-align: top;\n",
       "    }\n",
       "\n",
       "    .dataframe thead th {\n",
       "        text-align: right;\n",
       "    }\n",
       "</style>\n",
       "<table border=\"1\" class=\"dataframe\">\n",
       "  <thead>\n",
       "    <tr style=\"text-align: right;\">\n",
       "      <th>success</th>\n",
       "      <th>0.0</th>\n",
       "      <th>1.0</th>\n",
       "    </tr>\n",
       "    <tr>\n",
       "      <th>subject</th>\n",
       "      <th></th>\n",
       "      <th></th>\n",
       "    </tr>\n",
       "  </thead>\n",
       "  <tbody>\n",
       "    <tr>\n",
       "      <th>Agricultural Sciences</th>\n",
       "      <td>18</td>\n",
       "      <td>3</td>\n",
       "    </tr>\n",
       "    <tr>\n",
       "      <th>Arts and Humanities</th>\n",
       "      <td>31</td>\n",
       "      <td>5</td>\n",
       "    </tr>\n",
       "    <tr>\n",
       "      <th>Business and\\nManagement</th>\n",
       "      <td>35</td>\n",
       "      <td>25</td>\n",
       "    </tr>\n",
       "    <tr>\n",
       "      <th>Computer and\\nInformation Science</th>\n",
       "      <td>25</td>\n",
       "      <td>20</td>\n",
       "    </tr>\n",
       "    <tr>\n",
       "      <th>Earth and\\nEnvironmental Sciences</th>\n",
       "      <td>48</td>\n",
       "      <td>29</td>\n",
       "    </tr>\n",
       "    <tr>\n",
       "      <th>Health and\\nLife Sciences</th>\n",
       "      <td>54</td>\n",
       "      <td>79</td>\n",
       "    </tr>\n",
       "    <tr>\n",
       "      <th>Law</th>\n",
       "      <td>31</td>\n",
       "      <td>34</td>\n",
       "    </tr>\n",
       "    <tr>\n",
       "      <th>Mathematical Sciences</th>\n",
       "      <td>10</td>\n",
       "      <td>4</td>\n",
       "    </tr>\n",
       "    <tr>\n",
       "      <th>Other</th>\n",
       "      <td>13</td>\n",
       "      <td>15</td>\n",
       "    </tr>\n",
       "    <tr>\n",
       "      <th>Physics</th>\n",
       "      <td>18</td>\n",
       "      <td>1</td>\n",
       "    </tr>\n",
       "    <tr>\n",
       "      <th>Social Sciences</th>\n",
       "      <td>1759</td>\n",
       "      <td>1184</td>\n",
       "    </tr>\n",
       "  </tbody>\n",
       "</table>\n",
       "</div>"
      ],
      "text/plain": [
       "success                             0.0   1.0\n",
       "subject                                      \n",
       "Agricultural Sciences                18     3\n",
       "Arts and Humanities                  31     5\n",
       "Business and\\nManagement             35    25\n",
       "Computer and\\nInformation Science    25    20\n",
       "Earth and\\nEnvironmental Sciences    48    29\n",
       "Health and\\nLife Sciences            54    79\n",
       "Law                                  31    34\n",
       "Mathematical Sciences                10     4\n",
       "Other                                13    15\n",
       "Physics                              18     1\n",
       "Social Sciences                    1759  1184"
      ]
     },
     "execution_count": 282,
     "metadata": {},
     "output_type": "execute_result"
    }
   ],
   "source": [
    "temp = total.groupby(\n",
    "    ['success', 'subject']).size().reset_index().pivot(columns='success', index='subject', values=0)\n",
    "temp"
   ]
  },
  {
   "cell_type": "code",
   "execution_count": 283,
   "metadata": {},
   "outputs": [
    {
     "data": {
      "text/html": [
       "<div>\n",
       "<style scoped>\n",
       "    .dataframe tbody tr th:only-of-type {\n",
       "        vertical-align: middle;\n",
       "    }\n",
       "\n",
       "    .dataframe tbody tr th {\n",
       "        vertical-align: top;\n",
       "    }\n",
       "\n",
       "    .dataframe thead th {\n",
       "        text-align: right;\n",
       "    }\n",
       "</style>\n",
       "<table border=\"1\" class=\"dataframe\">\n",
       "  <thead>\n",
       "    <tr style=\"text-align: right;\">\n",
       "      <th>success</th>\n",
       "      <th>0.0</th>\n",
       "      <th>1.0</th>\n",
       "      <th>total</th>\n",
       "      <th>s</th>\n",
       "      <th>f</th>\n",
       "    </tr>\n",
       "    <tr>\n",
       "      <th>subject</th>\n",
       "      <th></th>\n",
       "      <th></th>\n",
       "      <th></th>\n",
       "      <th></th>\n",
       "      <th></th>\n",
       "    </tr>\n",
       "  </thead>\n",
       "  <tbody>\n",
       "    <tr>\n",
       "      <th>Health and\\nLife Sciences</th>\n",
       "      <td>54</td>\n",
       "      <td>79</td>\n",
       "      <td>133</td>\n",
       "      <td>59.398496</td>\n",
       "      <td>40.601504</td>\n",
       "    </tr>\n",
       "    <tr>\n",
       "      <th>Other</th>\n",
       "      <td>13</td>\n",
       "      <td>15</td>\n",
       "      <td>28</td>\n",
       "      <td>53.571429</td>\n",
       "      <td>46.428571</td>\n",
       "    </tr>\n",
       "    <tr>\n",
       "      <th>Law</th>\n",
       "      <td>31</td>\n",
       "      <td>34</td>\n",
       "      <td>65</td>\n",
       "      <td>52.307692</td>\n",
       "      <td>47.692308</td>\n",
       "    </tr>\n",
       "    <tr>\n",
       "      <th>Computer and\\nInformation Science</th>\n",
       "      <td>25</td>\n",
       "      <td>20</td>\n",
       "      <td>45</td>\n",
       "      <td>44.444444</td>\n",
       "      <td>55.555556</td>\n",
       "    </tr>\n",
       "    <tr>\n",
       "      <th>Business and\\nManagement</th>\n",
       "      <td>35</td>\n",
       "      <td>25</td>\n",
       "      <td>60</td>\n",
       "      <td>41.666667</td>\n",
       "      <td>58.333333</td>\n",
       "    </tr>\n",
       "    <tr>\n",
       "      <th>Social Sciences</th>\n",
       "      <td>1759</td>\n",
       "      <td>1184</td>\n",
       "      <td>2943</td>\n",
       "      <td>40.231057</td>\n",
       "      <td>59.768943</td>\n",
       "    </tr>\n",
       "    <tr>\n",
       "      <th>Earth and\\nEnvironmental Sciences</th>\n",
       "      <td>48</td>\n",
       "      <td>29</td>\n",
       "      <td>77</td>\n",
       "      <td>37.662338</td>\n",
       "      <td>62.337662</td>\n",
       "    </tr>\n",
       "    <tr>\n",
       "      <th>Mathematical Sciences</th>\n",
       "      <td>10</td>\n",
       "      <td>4</td>\n",
       "      <td>14</td>\n",
       "      <td>28.571429</td>\n",
       "      <td>71.428571</td>\n",
       "    </tr>\n",
       "    <tr>\n",
       "      <th>Agricultural Sciences</th>\n",
       "      <td>18</td>\n",
       "      <td>3</td>\n",
       "      <td>21</td>\n",
       "      <td>14.285714</td>\n",
       "      <td>85.714286</td>\n",
       "    </tr>\n",
       "    <tr>\n",
       "      <th>Arts and Humanities</th>\n",
       "      <td>31</td>\n",
       "      <td>5</td>\n",
       "      <td>36</td>\n",
       "      <td>13.888889</td>\n",
       "      <td>86.111111</td>\n",
       "    </tr>\n",
       "    <tr>\n",
       "      <th>Physics</th>\n",
       "      <td>18</td>\n",
       "      <td>1</td>\n",
       "      <td>19</td>\n",
       "      <td>5.263158</td>\n",
       "      <td>94.736842</td>\n",
       "    </tr>\n",
       "  </tbody>\n",
       "</table>\n",
       "</div>"
      ],
      "text/plain": [
       "success                             0.0   1.0  total          s          f\n",
       "subject                                                                   \n",
       "Health and\\nLife Sciences            54    79    133  59.398496  40.601504\n",
       "Other                                13    15     28  53.571429  46.428571\n",
       "Law                                  31    34     65  52.307692  47.692308\n",
       "Computer and\\nInformation Science    25    20     45  44.444444  55.555556\n",
       "Business and\\nManagement             35    25     60  41.666667  58.333333\n",
       "Social Sciences                    1759  1184   2943  40.231057  59.768943\n",
       "Earth and\\nEnvironmental Sciences    48    29     77  37.662338  62.337662\n",
       "Mathematical Sciences                10     4     14  28.571429  71.428571\n",
       "Agricultural Sciences                18     3     21  14.285714  85.714286\n",
       "Arts and Humanities                  31     5     36  13.888889  86.111111\n",
       "Physics                              18     1     19   5.263158  94.736842"
      ]
     },
     "execution_count": 283,
     "metadata": {},
     "output_type": "execute_result"
    }
   ],
   "source": [
    "#temp.fillna(0.0, inplace=True)\n",
    "temp['total'] = [i+j for i,j in zip(temp[1],temp[0])]\n",
    "#temp['total'] = [i+j for i,j in zip(temp[2],temp['total'])]\n",
    "\n",
    "temp['s'] = [(i*1./j) * 100 for i,j in zip(temp[1], temp['total'])]\n",
    "temp['f'] = [(i*1./j) * 100 for i,j in zip(temp[0], temp['total'])]\n",
    "\n",
    "#temp['sortby'] = [i+j for i,j in zip(temp['s'], temp['t'])]\n",
    "\n",
    "temp = temp.sort_values(by=['s'], ascending=False).head(11)\n",
    "temp"
   ]
  },
  {
   "cell_type": "code",
   "execution_count": 284,
   "metadata": {},
   "outputs": [],
   "source": [
    "names = list(temp.index)\n",
    "r= range(0,len(temp['s']))"
   ]
  },
  {
   "cell_type": "code",
   "execution_count": 285,
   "metadata": {},
   "outputs": [
    {
     "data": {
      "image/png": "[encoded data removed]",
      "text/plain": [
       "<Figure size 864x360 with 1 Axes>"
      ]
     },
     "metadata": {},
     "output_type": "display_data"
    }
   ],
   "source": [
    "plt.figure(figsize=(12,5))\n",
    "\n",
    "plt.bar(r, temp['s'], color=sns.color_palette(\"Set2\")[6], edgecolor='black', width=barWidth, label=\"Success\")\n",
    "#plt.bar(r, temp['t'], bottom=temp['s'], color='#fFF842', edgecolor='black', width=barWidth, label=\"TLE\")\n",
    "plt.bar(r, temp['f'], bottom=temp['s'], color=sns.color_palette(\"Set2\")[7], edgecolor='black', width=barWidth, label=\"Error\")\n",
    "\n",
    "plt.xticks(r, names, rotation=90, fontsize=15)\n",
    "plt.xlabel(\"Subject\", size=15)\n",
    "\n",
    "plt.legend(loc='best', ncol=1,prop={'size': 15})\n",
    "\n",
    "temp['year'] = temp.index\n",
    "temp = temp.reset_index(drop=True)\n",
    "\n",
    "#temp.s = temp.s+temp.t\n",
    "temp.s = temp.s.round(1)\n",
    "temp.total = temp.total.astype(int)\n",
    "\n",
    "for i, rows in temp.iterrows():\n",
    "    if rows[\"s\"]<=0:\n",
    "        plt.annotate(\n",
    "            str(rows[\"s\"])+\"%\", xy=(i-0.3, rows[\"s\"]+10), rotation=0, color=\"black\", size=12, weight='bold')\n",
    "        plt.annotate(\n",
    "            \"(\"+str(int(rows[\"total\"]))+\")\", xy=(i-0.25, 2), rotation=0, color=\"black\", size=12)\n",
    "    else:\n",
    "        plt.annotate(\n",
    "            str(rows[\"s\"])+\"%\", xy=(i-0.3, rows[\"s\"]+2), rotation=0, color=\"black\", size=12, weight='bold')\n",
    "        plt.annotate(\n",
    "            \"(\"+str(int(rows[\"total\"]))+\")\", xy=(i-0.25, 2), rotation=0, color=\"black\", size=12)\n",
    "\n",
    "\n",
    "plt.title(\"Re-execution rate per field of study\", size=20)\n",
    "\n",
    "plt.savefig(\"plots/subject_new2.png\", bbox_inches = \"tight\")\n",
    "plt.show()"
   ]
  },
  {
   "cell_type": "code",
   "execution_count": null,
   "metadata": {},
   "outputs": [],
   "source": []
  }
 ],
 "metadata": {
  "kernelspec": {
   "display_name": "env",
   "language": "python",
   "name": "env"
  },
  "language_info": {
   "codemirror_mode": {
    "name": "ipython",
    "version": 2
   },
   "file_extension": ".py",
   "mimetype": "text/x-python",
   "name": "python",
   "nbconvert_exporter": "python",
   "pygments_lexer": "ipython2",
   "version": "2.7.16"
  }
 },
 "nbformat": 4,
 "nbformat_minor": 2
}
