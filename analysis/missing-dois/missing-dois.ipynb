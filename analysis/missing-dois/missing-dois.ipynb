{
 "cells": [
  {
   "cell_type": "code",
   "execution_count": 20,
   "metadata": {},
   "outputs": [],
   "source": [
    "import numpy as np\n",
    "import matplotlib.pyplot as plt\n",
    "import seaborn as sns\n",
    "from matplotlib import rc\n",
    "import pandas as pd\n",
    "\n",
    "# plot style\n",
    "sns.set_style('whitegrid')\n",
    "sns.set_style({'font.family': 'Times New Roman'})"
   ]
  },
  {
   "cell_type": "code",
   "execution_count": 21,
   "metadata": {},
   "outputs": [],
   "source": [
    "base = \"../analysis/data/one-hour-run-data/\"\n",
    "run_log_32_no_env = \"run_log_32_1h_and_5h_no_env.csv\"\n",
    "run_log_32_no_env_ds = \"run_log_32_ds_1h_and_5h_no_env.csv\"\n",
    "run_log_32 = \"run_log_32_1h_and_5h.csv\"\n",
    "run_log_32_ds = \"run_log_32_ds_1h_and_5h.csv\"\n",
    "\n",
    "run_log_36_no_env = \"run_log_36_1h_no_env.csv\"\n",
    "run_log_36_no_env_ds = \"run_log_36_ds_1h_no_env.csv\"\n",
    "run_log_36 = \"run_log_36_1h.csv\"\n",
    "run_log_36_ds = \"run_log_36_ds_1h.csv\"\n",
    "\n",
    "run_log_40_no_env = \"run_log_40_1h_no_env.csv\"\n",
    "run_log_40_no_env_ds = \"run_log_40_ds_1h_no_env.csv\"\n",
    "run_log_40 = \"run_log_40_1h_and_5h.csv\"\n",
    "run_log_40_ds = \"run_log_40_ds_1h_and_5h.csv\""
   ]
  },
  {
   "cell_type": "code",
   "execution_count": 22,
   "metadata": {},
   "outputs": [],
   "source": [
    "df = pd.read_csv(base+run_log_36, sep=\"\\t\", names=[\"doi\", \"file\", \"result\"])"
   ]
  },
  {
   "cell_type": "code",
   "execution_count": 23,
   "metadata": {},
   "outputs": [
    {
     "data": {
      "text/html": [
       "<div>\n",
       "<style scoped>\n",
       "    .dataframe tbody tr th:only-of-type {\n",
       "        vertical-align: middle;\n",
       "    }\n",
       "\n",
       "    .dataframe tbody tr th {\n",
       "        vertical-align: top;\n",
       "    }\n",
       "\n",
       "    .dataframe thead th {\n",
       "        text-align: right;\n",
       "    }\n",
       "</style>\n",
       "<table border=\"1\" class=\"dataframe\">\n",
       "  <thead>\n",
       "    <tr style=\"text-align: right;\">\n",
       "      <th></th>\n",
       "      <th>doi</th>\n",
       "      <th>file</th>\n",
       "      <th>result</th>\n",
       "    </tr>\n",
       "  </thead>\n",
       "  <tbody>\n",
       "    <tr>\n",
       "      <th>0</th>\n",
       "      <td>doi:10.7910/DVN/XFQZI2</td>\n",
       "      <td>Condemnation.R</td>\n",
       "      <td>Error in read.dta13('Condemnation.dta') :   co...</td>\n",
       "    </tr>\n",
       "    <tr>\n",
       "      <th>1</th>\n",
       "      <td>doi:10.7910/DVN/WGPDBS</td>\n",
       "      <td>Replication_of_Figures.R</td>\n",
       "      <td>success</td>\n",
       "    </tr>\n",
       "    <tr>\n",
       "      <th>2</th>\n",
       "      <td>doi:10.7910/DVN/BPON3K</td>\n",
       "      <td>fig_10_effect_of_winning_on_gov.R</td>\n",
       "      <td>Error in vcovHC(DMareg, type = 'HC3') : could ...</td>\n",
       "    </tr>\n",
       "    <tr>\n",
       "      <th>3</th>\n",
       "      <td>doi:10.7910/DVN/BPON3K</td>\n",
       "      <td>fig_11_rd_placebo.R</td>\n",
       "      <td>success</td>\n",
       "    </tr>\n",
       "    <tr>\n",
       "      <th>4</th>\n",
       "      <td>doi:10.7910/DVN/BPON3K</td>\n",
       "      <td>fig_12_historical_trend.R</td>\n",
       "      <td>success</td>\n",
       "    </tr>\n",
       "  </tbody>\n",
       "</table>\n",
       "</div>"
      ],
      "text/plain": [
       "                      doi                               file  \\\n",
       "0  doi:10.7910/DVN/XFQZI2                     Condemnation.R   \n",
       "1  doi:10.7910/DVN/WGPDBS           Replication_of_Figures.R   \n",
       "2  doi:10.7910/DVN/BPON3K  fig_10_effect_of_winning_on_gov.R   \n",
       "3  doi:10.7910/DVN/BPON3K                fig_11_rd_placebo.R   \n",
       "4  doi:10.7910/DVN/BPON3K          fig_12_historical_trend.R   \n",
       "\n",
       "                                              result  \n",
       "0  Error in read.dta13('Condemnation.dta') :   co...  \n",
       "1                                            success  \n",
       "2  Error in vcovHC(DMareg, type = 'HC3') : could ...  \n",
       "3                                            success  \n",
       "4                                            success  "
      ]
     },
     "execution_count": 23,
     "metadata": {},
     "output_type": "execute_result"
    }
   ],
   "source": [
    "df.head()"
   ]
  },
  {
   "cell_type": "code",
   "execution_count": 24,
   "metadata": {},
   "outputs": [],
   "source": [
    "dfds = pd.read_csv(base+run_log_36_ds, sep=\"\\t\", names=[\"doi\", \"a\", \"b\"])"
   ]
  },
  {
   "cell_type": "code",
   "execution_count": 25,
   "metadata": {},
   "outputs": [
    {
     "data": {
      "text/html": [
       "<div>\n",
       "<style scoped>\n",
       "    .dataframe tbody tr th:only-of-type {\n",
       "        vertical-align: middle;\n",
       "    }\n",
       "\n",
       "    .dataframe tbody tr th {\n",
       "        vertical-align: top;\n",
       "    }\n",
       "\n",
       "    .dataframe thead th {\n",
       "        text-align: right;\n",
       "    }\n",
       "</style>\n",
       "<table border=\"1\" class=\"dataframe\">\n",
       "  <thead>\n",
       "    <tr style=\"text-align: right;\">\n",
       "      <th></th>\n",
       "      <th>doi</th>\n",
       "      <th>a</th>\n",
       "      <th>b</th>\n",
       "    </tr>\n",
       "  </thead>\n",
       "  <tbody>\n",
       "    <tr>\n",
       "      <th>0</th>\n",
       "      <td>doi:10.7910/DVN/XFQZI2</td>\n",
       "      <td>all</td>\n",
       "      <td>ok</td>\n",
       "    </tr>\n",
       "    <tr>\n",
       "      <th>1</th>\n",
       "      <td>doi:10.7910/DVN/WGPDBS</td>\n",
       "      <td>all</td>\n",
       "      <td>ok</td>\n",
       "    </tr>\n",
       "    <tr>\n",
       "      <th>2</th>\n",
       "      <td>doi:10.7910/DVN/BPON3K</td>\n",
       "      <td>all</td>\n",
       "      <td>ok</td>\n",
       "    </tr>\n",
       "    <tr>\n",
       "      <th>3</th>\n",
       "      <td>doi:10.7910/DVN/ZWAGXZ</td>\n",
       "      <td>all</td>\n",
       "      <td>ok</td>\n",
       "    </tr>\n",
       "    <tr>\n",
       "      <th>4</th>\n",
       "      <td>doi:10.7910/DVN/JXXNDO</td>\n",
       "      <td>all</td>\n",
       "      <td>ok</td>\n",
       "    </tr>\n",
       "  </tbody>\n",
       "</table>\n",
       "</div>"
      ],
      "text/plain": [
       "                      doi    a   b\n",
       "0  doi:10.7910/DVN/XFQZI2  all  ok\n",
       "1  doi:10.7910/DVN/WGPDBS  all  ok\n",
       "2  doi:10.7910/DVN/BPON3K  all  ok\n",
       "3  doi:10.7910/DVN/ZWAGXZ  all  ok\n",
       "4  doi:10.7910/DVN/JXXNDO  all  ok"
      ]
     },
     "execution_count": 25,
     "metadata": {},
     "output_type": "execute_result"
    }
   ],
   "source": [
    "dfds.head()"
   ]
  },
  {
   "cell_type": "code",
   "execution_count": 26,
   "metadata": {},
   "outputs": [],
   "source": [
    "done = df.doi.append(dfds.doi)"
   ]
  },
  {
   "cell_type": "code",
   "execution_count": 27,
   "metadata": {},
   "outputs": [
    {
     "data": {
      "text/plain": [
       "0    doi:10.7910/DVN/XFQZI2\n",
       "1    doi:10.7910/DVN/WGPDBS\n",
       "2    doi:10.7910/DVN/BPON3K\n",
       "3    doi:10.7910/DVN/BPON3K\n",
       "4    doi:10.7910/DVN/BPON3K\n",
       "Name: doi, dtype: object"
      ]
     },
     "execution_count": 27,
     "metadata": {},
     "output_type": "execute_result"
    }
   ],
   "source": [
    "done.head()"
   ]
  },
  {
   "cell_type": "code",
   "execution_count": 28,
   "metadata": {},
   "outputs": [
    {
     "data": {
      "text/plain": [
       "9120"
      ]
     },
     "execution_count": 28,
     "metadata": {},
     "output_type": "execute_result"
    }
   ],
   "source": [
    "len(done)"
   ]
  },
  {
   "cell_type": "code",
   "execution_count": 29,
   "metadata": {},
   "outputs": [
    {
     "data": {
      "text/plain": [
       "2894"
      ]
     },
     "execution_count": 29,
     "metadata": {},
     "output_type": "execute_result"
    }
   ],
   "source": [
    "len(dfds)"
   ]
  },
  {
   "cell_type": "code",
   "execution_count": 30,
   "metadata": {},
   "outputs": [],
   "source": [
    "done = set(done)"
   ]
  },
  {
   "cell_type": "code",
   "execution_count": 31,
   "metadata": {},
   "outputs": [
    {
     "data": {
      "text/plain": [
       "2130"
      ]
     },
     "execution_count": 31,
     "metadata": {},
     "output_type": "execute_result"
    }
   ],
   "source": [
    "len(done)"
   ]
  },
  {
   "cell_type": "code",
   "execution_count": 32,
   "metadata": {},
   "outputs": [],
   "source": [
    "df1 = pd.read_csv(\"../get-dois/dataset_dois.txt\", sep=\"\\t\", names=[\"doi\"])"
   ]
  },
  {
   "cell_type": "code",
   "execution_count": 33,
   "metadata": {},
   "outputs": [
    {
     "data": {
      "text/html": [
       "<div>\n",
       "<style scoped>\n",
       "    .dataframe tbody tr th:only-of-type {\n",
       "        vertical-align: middle;\n",
       "    }\n",
       "\n",
       "    .dataframe tbody tr th {\n",
       "        vertical-align: top;\n",
       "    }\n",
       "\n",
       "    .dataframe thead th {\n",
       "        text-align: right;\n",
       "    }\n",
       "</style>\n",
       "<table border=\"1\" class=\"dataframe\">\n",
       "  <thead>\n",
       "    <tr style=\"text-align: right;\">\n",
       "      <th></th>\n",
       "      <th>doi</th>\n",
       "    </tr>\n",
       "  </thead>\n",
       "  <tbody>\n",
       "    <tr>\n",
       "      <th>0</th>\n",
       "      <td>doi:10.7910/DVN/U3QJQZ</td>\n",
       "    </tr>\n",
       "    <tr>\n",
       "      <th>1</th>\n",
       "      <td>doi:10.7910/DVN/Z7H44N</td>\n",
       "    </tr>\n",
       "    <tr>\n",
       "      <th>2</th>\n",
       "      <td>doi:10.7910/DVN/HRLHA4</td>\n",
       "    </tr>\n",
       "    <tr>\n",
       "      <th>3</th>\n",
       "      <td>doi:10.7910/DVN/RJWU7A</td>\n",
       "    </tr>\n",
       "    <tr>\n",
       "      <th>4</th>\n",
       "      <td>doi:10.7910/DVN/FAAMAX</td>\n",
       "    </tr>\n",
       "  </tbody>\n",
       "</table>\n",
       "</div>"
      ],
      "text/plain": [
       "                      doi\n",
       "0  doi:10.7910/DVN/U3QJQZ\n",
       "1  doi:10.7910/DVN/Z7H44N\n",
       "2  doi:10.7910/DVN/HRLHA4\n",
       "3  doi:10.7910/DVN/RJWU7A\n",
       "4  doi:10.7910/DVN/FAAMAX"
      ]
     },
     "execution_count": 33,
     "metadata": {},
     "output_type": "execute_result"
    }
   ],
   "source": [
    "df1.head()"
   ]
  },
  {
   "cell_type": "code",
   "execution_count": 34,
   "metadata": {},
   "outputs": [],
   "source": [
    "notdone = set(df1.doi)"
   ]
  },
  {
   "cell_type": "code",
   "execution_count": 35,
   "metadata": {},
   "outputs": [
    {
     "data": {
      "text/plain": [
       "2170"
      ]
     },
     "execution_count": 35,
     "metadata": {},
     "output_type": "execute_result"
    }
   ],
   "source": [
    "len(notdone)"
   ]
  },
  {
   "cell_type": "code",
   "execution_count": 36,
   "metadata": {},
   "outputs": [],
   "source": [
    "notdone = notdone - done"
   ]
  },
  {
   "cell_type": "code",
   "execution_count": 37,
   "metadata": {},
   "outputs": [
    {
     "data": {
      "text/plain": [
       "40"
      ]
     },
     "execution_count": 37,
     "metadata": {},
     "output_type": "execute_result"
    }
   ],
   "source": [
    "len(notdone)"
   ]
  },
  {
   "cell_type": "code",
   "execution_count": 38,
   "metadata": {},
   "outputs": [
    {
     "data": {
      "text/plain": [
       "{'doi:10.7910/DVN/3LOR3R',\n",
       " 'doi:10.7910/DVN/6YNZTE',\n",
       " 'doi:10.7910/DVN/82CULX',\n",
       " 'doi:10.7910/DVN/8QLBSA',\n",
       " 'doi:10.7910/DVN/9SAX3K',\n",
       " 'doi:10.7910/DVN/ABT3OE',\n",
       " 'doi:10.7910/DVN/AGUVBE',\n",
       " 'doi:10.7910/DVN/AIP0V8',\n",
       " 'doi:10.7910/DVN/BIZFP2',\n",
       " 'doi:10.7910/DVN/BJNAPD',\n",
       " 'doi:10.7910/DVN/BSUNGB',\n",
       " 'doi:10.7910/DVN/BWU4M5',\n",
       " 'doi:10.7910/DVN/DJKH4H',\n",
       " 'doi:10.7910/DVN/EB8DD8',\n",
       " 'doi:10.7910/DVN/FYGHFO',\n",
       " 'doi:10.7910/DVN/GFRHAK',\n",
       " 'doi:10.7910/DVN/HFIV1A',\n",
       " 'doi:10.7910/DVN/HHOIA4',\n",
       " 'doi:10.7910/DVN/HTMX3K',\n",
       " 'doi:10.7910/DVN/IDJAWT',\n",
       " 'doi:10.7910/DVN/JYLWH1',\n",
       " 'doi:10.7910/DVN/L8N4TR',\n",
       " 'doi:10.7910/DVN/LNMEXL',\n",
       " 'doi:10.7910/DVN/MCWFCS',\n",
       " 'doi:10.7910/DVN/POGK8L',\n",
       " 'doi:10.7910/DVN/Q0OHLV',\n",
       " 'doi:10.7910/DVN/S9G9XS',\n",
       " 'doi:10.7910/DVN/SK7JVV',\n",
       " 'doi:10.7910/DVN/SKPPLH',\n",
       " 'doi:10.7910/DVN/STH14F',\n",
       " 'doi:10.7910/DVN/TCYTEO',\n",
       " 'doi:10.7910/DVN/TPZPIO',\n",
       " 'doi:10.7910/DVN/TVNVN3',\n",
       " 'doi:10.7910/DVN/UO5XSW',\n",
       " 'doi:10.7910/DVN/V3LLLE',\n",
       " 'doi:10.7910/DVN/VCFMBI',\n",
       " 'doi:10.7910/DVN/VLS3XL',\n",
       " 'doi:10.7910/DVN/Y3VPIG',\n",
       " 'doi:10.7910/DVN/YUUXKU',\n",
       " 'doi:10.7910/DVN/ZPC0D3'}"
      ]
     },
     "execution_count": 38,
     "metadata": {},
     "output_type": "execute_result"
    }
   ],
   "source": [
    "notdone"
   ]
  },
  {
   "cell_type": "markdown",
   "metadata": {},
   "source": [
    "# Conclustion: 40 (2%) is OK"
   ]
  },
  {
   "cell_type": "code",
   "execution_count": null,
   "metadata": {},
   "outputs": [],
   "source": []
  }
 ],
 "metadata": {
  "kernelspec": {
   "display_name": "env",
   "language": "python",
   "name": "env"
  },
  "language_info": {
   "codemirror_mode": {
    "name": "ipython",
    "version": 2
   },
   "file_extension": ".py",
   "mimetype": "text/x-python",
   "name": "python",
   "nbconvert_exporter": "python",
   "pygments_lexer": "ipython2",
   "version": "2.7.16"
  }
 },
 "nbformat": 4,
 "nbformat_minor": 2
}
