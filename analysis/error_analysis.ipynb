{
 "cells": [
  {
   "cell_type": "markdown",
   "metadata": {},
   "source": [
    "# Error analysis"
   ]
  },
  {
   "cell_type": "code",
   "execution_count": 169,
   "metadata": {},
   "outputs": [],
   "source": [
    "import numpy as np\n",
    "import matplotlib.pyplot as plt\n",
    "import seaborn as sns\n",
    "from matplotlib import rc\n",
    "import pandas as pd\n",
    "\n",
    "# plot style\n",
    "sns.set_style('whitegrid')\n",
    "sns.set_style({'font.family': 'Times New Roman'})"
   ]
  },
  {
   "cell_type": "markdown",
   "metadata": {},
   "source": [
    "# Load success data"
   ]
  },
  {
   "cell_type": "code",
   "execution_count": 170,
   "metadata": {},
   "outputs": [],
   "source": [
    "df1 = pd.read_csv(\"aggregate_results_env.csv\", index_col=0)\n",
    "df2 = pd.read_csv(\"aggregate_results_no_env.csv\", index_col=0)"
   ]
  },
  {
   "cell_type": "markdown",
   "metadata": {},
   "source": [
    "# Run result frequency"
   ]
  },
  {
   "cell_type": "code",
   "execution_count": 171,
   "metadata": {},
   "outputs": [
    {
     "data": {
      "text/plain": [
       "success                                                                                                                                                           1472\n",
       "Error in readChar(con, 5L, useBytes = TRUE) : cannot open the connection                                                                                           296\n",
       "Error in file(file, 'rt') : cannot open the connection                                                                                                             237\n",
       "Error in file(filename, 'r', encoding = encoding) :   cannot open the connection                                                                                    67\n",
       "Error in makeRestartList(...) : reached elapsed time limit                                                                                                          65\n",
       "Error in eval(m$data, parent.frame()) : object 'poets' not found                                                                                                    17\n",
       "Error in library(Bullock, lib.loc = c(.libPaths(), 'packageLibrary')) :   there is no package called 'Bullock'                                                      16\n",
       "Error in estfun(fm) : could not find function 'estfun'                                                                                                              15\n",
       "Error in gam(tr.eq, data = examp.data, binomial(link = 'logit')) :   could not find function 'gam'                                                                  13\n",
       "Error in gzfile(file, 'rb') : cannot open the connection                                                                                                            13\n",
       "Error in file(file, ifelse(append, 'a', 'w')) :   cannot open the connection                                                                                        12\n",
       "Error in read.dta(file.choose()) :   unable to open file: 'No such file or directory'                                                                               11\n",
       "Error in rmvnorm(n, mean = rep(0, k), sigma = M) :   could not find function 'rmvnorm'                                                                              10\n",
       "Error in library(maxLik, lib.loc = libLoc) :   there is no package called 'maxLik'                                                                                   9\n",
       "Error in genperms(money.dat$treatment.assignment, blockvar = money.dat$Block.ID) :   could not find function 'genperms'                                              9\n",
       "Error in eval(ei, envir) : object 'dat.uo' not found                                                                                                                 8\n",
       "Error in paste(wd, '/Figures/Figures_Output/', sep = '') :   object 'wd' not found                                                                                   8\n",
       "Error in jags.model(file = 'MLV2.bug', inits = inits, data = forJags,  :   could not find function 'jags.model'                                                      8\n",
       "Error : RStudio not running                                                                                                                                          6\n",
       "Error in file(file, if (append) 'a' else 'w') :   cannot open the connection                                                                                         6\n",
       "Error in loadNamespace(name) : there is no package called 'pacman'                                                                                                   6\n",
       "Error in library(here) : there is no package called 'here'                                                                                                           6\n",
       "Error in plot.new() : figure margins too large                                                                                                                       6\n",
       "Error in dev.off() : cannot shut down device 1 (the null device)                                                                                                     5\n",
       "Error in read.dta('') : unable to open file: 'No such file or directory'                                                                                             5\n",
       "Error in loadNamespace(name) : there is no package called 'devtools'                                                                                                 5\n",
       "Error in read.dta('anes.dta') :   unable to open file: 'No such file or directory'                                                                                   5\n",
       "Error in as.data.table(.) : could not find function 'as.data.table'                                                                                                  5\n",
       "Error in eval(ei, envir) : object 'simN' not found                                                                                                                   5\n",
       "Error in loadNamespace(name) : there is no package called 'car'                                                                                                      4\n",
       "                                                                                                                                                                  ... \n",
       "Error in basename(file = '/Users/bizhao/R/CAT analysis/LA_CAT_reference.csv') :   unused argument (file = '/Users/bizhao/R/CAT analysis/LA_CAT_reference.csv')       1\n",
       "Error in data[data$t < 0, ] : incorrect number of dimensions                                                                                                         1\n",
       "Error in subset(dat, dat$tdec != dat$tincarg) : object 'dat' not found                                                                                               1\n",
       "Error in coeftest(regression, vcov = vcovHC(regression, 'HC1')) :   could not find function 'coeftest'                                                               1\n",
       "Error in type.convert.default(data[[i]], as.is = as.is[i], dec = dec,  :   invalid multibyte string at '<aa> DP'                                                     1\n",
       "Error in run.jags(method = 'parallel', model = 'idmodel.txt', inits = list(taustarO3 = taustarO3,  :   could not find function 'run.jags'                            1\n",
       "Error in read.dta('Recoded-CCESTurnoutData.dta') :   unable to open file: 'No such file or directory'                                                                1\n",
       "Error in registerDoMC(cores = 8) : could not find function 'registerDoMC'                                                                                            1\n",
       "Error in read.dta('./original data/baro_drees_2015_queteletv2.dta') :   could not find function 'read.dta'                                                           1\n",
       "Error in cmpfun(euclidean.distancer) : could not find function 'cmpfun'                                                                                              1\n",
       "Error in paste(wd, '/Appendix_A2/A_output/', sep = '') :   object 'wd' not found                                                                                     1\n",
       "Error in sandwich(i) : could not find function 'sandwich'                                                                                                            1\n",
       "Error in eval(ei, envir) : object 'dfCan2015' not found                                                                                                              1\n",
       "Error in data$vote08 : object of type 'closure' is not subsettable                                                                                                   1\n",
       "Error in clmm(as.factor(Resp_attribution) ~ Prime_minister + Cabinet +  :   could not find function 'clmm'                                                           1\n",
       "Error : `path` does not exist: 'ses_data.xlsx'                                                                                                                       1\n",
       "Error in polywog(kenyatta ~ reg_1 + reg_2 + reg_4 + reg_5 + reg_6 + reg_7 +  :   could not find function 'polywog'                                                   1\n",
       "Error in read.dta13('sub1.dta') : could not find function 'read.dta13'                                                                                               1\n",
       "Error in eval(ei, envir) : object 'Final_Chemicalq' not found                                                                                                        1\n",
       "Error in pdf(file = 'Output/figure_2.pdf', width = 7.3, height = 5.5,  :   cannot open file 'Output/figure_2.pdf'                                                    1\n",
       "Error in transMat(list(c(2, 3), c(), c()), names = c('democracy', 'exogenous',  :   could not find function 'transMat'                                               1\n",
       "Error in data$cat08 : object of type 'closure' is not subsettable                                                                                                    1\n",
       "Error in convertRC(rc.all) : could not find function 'convertRC'                                                                                                     1\n",
       "Error in principal(cbind(fight_dem, fight_sect, fight_foreign, fight_rel,  :   could not find function 'principal'                                                   1\n",
       "Error in multiplot(pr.plot, pr.score.plot, cl.plot, cl.score.plot, cols = 2) :   could not find function 'multiplot'                                                 1\n",
       "Error in read.dta('for densities2.dta') :   unable to open file: 'No such file or directory'                                                                         1\n",
       "Error in rdrobust(y = df_m$living_day_imp_post, x = df_m$margin_pct_1) :   could not find function 'rdrobust'                                                        1\n",
       "Error in felm(Y ~ Mayor | Mun + Election | 0 | Mun, data = sub) :   could not find function 'felm'                                                                   1\n",
       "Error in df[, varList] : object of type 'closure' is not subsettable                                                                                                 1\n",
       "Error in rcorr(cbind(data$cmidif, data$prop_attendance), type = 'pearson') :   could not find function 'rcorr'                                                       1\n",
       "Name: result, Length: 1220, dtype: int64"
      ]
     },
     "execution_count": 171,
     "metadata": {},
     "output_type": "execute_result"
    }
   ],
   "source": [
    "df1['result'].value_counts()"
   ]
  },
  {
   "cell_type": "code",
   "execution_count": 172,
   "metadata": {},
   "outputs": [
    {
     "data": {
      "text/plain": [
       "success                                                                                                                                                                             952\n",
       "Error in file(file, 'rt') : cannot open the connection                                                                                                                              128\n",
       "Error in readChar(con, 5L, useBytes = TRUE) : cannot open the connection                                                                                                            125\n",
       "Error in library(stargazer) : there is no package called 'stargazer'                                                                                                                 71\n",
       "Error in library(car) : there is no package called 'car'                                                                                                                             60\n",
       "Error in library(Hmisc) : there is no package called 'Hmisc'                                                                                                                         60\n",
       "Error in file(filename, 'r', encoding = encoding) :   cannot open the connection                                                                                                     57\n",
       "Error in library(pscl) : there is no package called 'pscl'                                                                                                                           49\n",
       "Error in library(gridExtra) : there is no package called 'gridExtra'                                                                                                                 47\n",
       "Error in setwd('') : cannot change working directory                                                                                                                                 45\n",
       "Error in library(readstata13) : there is no package called 'readstata13'                                                                                                             45\n",
       "Error in library(lme4) : there is no package called 'lme4'                                                                                                                           40\n",
       "Error in loadNamespace(name) : there is no package called 'rio'                                                                                                                      37\n",
       "Error in library(MCMCpack) : there is no package called 'MCMCpack'                                                                                                                   34\n",
       "Error in library(reshape) : there is no package called 'reshape'                                                                                                                     31\n",
       "Error in library(Bullock, lib.loc = c(.libPaths(), 'packageLibrary')) :   there is no package called 'Bullock'                                                                       29\n",
       "Error in library(lmtest) : there is no package called 'lmtest'                                                                                                                       25\n",
       "Error in library(texreg) : there is no package called 'texreg'                                                                                                                       23\n",
       "Error in library(rio) : there is no package called 'rio'                                                                                                                             22\n",
       "Error in library(rjags) : there is no package called 'rjags'                                                                                                                         21\n",
       "Error in library(here) : there is no package called 'here'                                                                                                                           21\n",
       "Error in library(sandwich) : there is no package called 'sandwich'                                                                                                                   20\n",
       "Error in library(Matching) : there is no package called 'Matching'                                                                                                                   20\n",
       "Error in library(arm) : there is no package called 'arm'                                                                                                                             20\n",
       "Error in library(Zelig) : there is no package called 'Zelig'                                                                                                                         19\n",
       "Error in library(doParallel) : there is no package called 'doParallel'                                                                                                               18\n",
       "Error in library(effects) : there is no package called 'effects'                                                                                                                     18\n",
       "Error in library(maptools) : there is no package called 'maptools'                                                                                                                   16\n",
       "Error in library(countrycode) : there is no package called 'countrycode'                                                                                                             15\n",
       "Error in library(extrafont) : there is no package called 'extrafont'                                                                                                                 15\n",
       "                                                                                                                                                                                   ... \n",
       "Error in pdf(file = file.path(SAVEDIR, sprintf('fig1_intution.pdf')),  :   cannot open file 'doi:10.7910/DVN/8TB7GO/fig1_intution.pdf'                                                1\n",
       "Error in loadNamespace(name) : there is no package called 'psych'                                                                                                                     1\n",
       "Error in setwd('<<Set as appropriate>>') :   cannot change working directory                                                                                                          1\n",
       "Error in eval(lhs, parent, parent) :   object 'm1.cat.bayes.contact' not found                                                                                                        1\n",
       "Error in setwd('/Users/Gautam/Dropbox/Yale/Other Activities/Global_Inequality_Redistribution/TESS/Data_Analysis/Nair_JOP_Replication_Files') :   cannot change working directory      1\n",
       "Error in library(epiR) : there is no package called 'epiR'                                                                                                                            1\n",
       "Error in estfun(fm) : could not find function 'estfun'                                                                                                                                1\n",
       "Error in eval(ei, envir) : object 'net' not found                                                                                                                                     1\n",
       "Error in library(viridis) : there is no package called 'viridis'                                                                                                                      1\n",
       "Error in mean(study1$CB_FED_SQ[study1$CB_FED_TREAT == 0 & study1$CONDITION ==  :   object 'study1' not found                                                                          1\n",
       "Error in library('network') : there is no package called 'network'                                                                                                                    1\n",
       "Error in library(RDS) : there is no package called 'RDS'                                                                                                                              1\n",
       "Error in setwd('/home/leizhu/platform2') :   cannot change working directory                                                                                                          1\n",
       "Error in read.dta('circuit_judges_by_year_party_only.dta', convert.underscore = T) :   could not find function 'read.dta'                                                             1\n",
       "Error in setwd('C:/Users/matiav/Documents/Conference and Publications/Research and Politics 1/1R&R/sequence analysis') :   cannot change working directory                            1\n",
       "Error in setwd('~/Dropbox/Information and Predictions/STM') :   cannot change working directory                                                                                       1\n",
       "Error in library(ei) : there is no package called 'ei'                                                                                                                                1\n",
       "Error : '/Users/cheng/OneDrive/Desktop/character/character/5_build_author_models/Figure5Data.csv' does not exist.                                                                     1\n",
       "Error in library('mediation') : there is no package called 'mediation'                                                                                                                1\n",
       "Error in Cs(migs.take.jobs, migs.more.terror, closed.immigrants, hurt.standing.refugee,  :   could not find function 'Cs'                                                             1\n",
       "Error in cmpfun(euclidean.distancer) : could not find function 'cmpfun'                                                                                                               1\n",
       "Error in setwd('data replication') : cannot change working directory                                                                                                                  1\n",
       "Error in library(gpirt) : there is no package called 'gpirt'                                                                                                                          1\n",
       "Error in setwd('/Users/samharper/Dropbox/mva/replication') :   cannot change working directory                                                                                        1\n",
       "Error in setwd('~/Dropbox/research/crime') :   cannot change working directory                                                                                                        1\n",
       "Error in setwd(pathDATA) : object 'pathDATA' not found                                                                                                                                1\n",
       "Error in source(r_file) :   invalid multibyte character in parser at line 176                                                                                                         1\n",
       "Error in source(r_file) :   invalid multibyte character in parser at line 174                                                                                                         1\n",
       "Error in mean(study2_mi$PROP2_SQ[study2_mi$PROP2_TREAT == 0 & study2_mi$PARTISAN ==  :   object 'study2_mi' not found                                                                 1\n",
       "Error in head(con.data) : object 'con.data' not found                                                                                                                                 1\n",
       "Name: result, Length: 944, dtype: int64"
      ]
     },
     "execution_count": 172,
     "metadata": {},
     "output_type": "execute_result"
    }
   ],
   "source": [
    "df2['result'].value_counts()"
   ]
  },
  {
   "cell_type": "markdown",
   "metadata": {},
   "source": [
    "# Constructing Sankey"
   ]
  },
  {
   "cell_type": "code",
   "execution_count": 177,
   "metadata": {},
   "outputs": [],
   "source": [
    "df = pd.merge(df1, df2, on=['doi','file'], how='outer')"
   ]
  },
  {
   "cell_type": "code",
   "execution_count": 180,
   "metadata": {},
   "outputs": [],
   "source": [
    "df = df[df['result_x'].notna()]\n",
    "df = df[df['result_y'].notna()]"
   ]
  },
  {
   "cell_type": "code",
   "execution_count": 181,
   "metadata": {},
   "outputs": [
    {
     "data": {
      "text/plain": [
       "2335"
      ]
     },
     "execution_count": 181,
     "metadata": {},
     "output_type": "execute_result"
    }
   ],
   "source": [
    "len(df)"
   ]
  },
  {
   "cell_type": "code",
   "execution_count": 186,
   "metadata": {},
   "outputs": [],
   "source": [
    "df['type_x'] = df['result_x'].apply(error_type)\n",
    "df['type_y'] = df['result_y'].apply(error_type)"
   ]
  },
  {
   "cell_type": "code",
   "execution_count": 190,
   "metadata": {},
   "outputs": [
    {
     "data": {
      "text/plain": [
       "843"
      ]
     },
     "execution_count": 190,
     "metadata": {},
     "output_type": "execute_result"
    }
   ],
   "source": [
    "len(df[(df['success_y'] == 1)])"
   ]
  },
  {
   "cell_type": "code",
   "execution_count": 191,
   "metadata": {},
   "outputs": [
    {
     "data": {
      "text/plain": [
       "library                 850\n",
       "success                 843\n",
       "file, path or output    229\n",
       "setwd                   221\n",
       "R object not found      136\n",
       "other                    53\n",
       "reached time limit        3\n",
       "Name: type_y, dtype: int64"
      ]
     },
     "execution_count": 191,
     "metadata": {},
     "output_type": "execute_result"
    }
   ],
   "source": [
    "df['type_y'].value_counts()"
   ]
  },
  {
   "cell_type": "code",
   "execution_count": 199,
   "metadata": {},
   "outputs": [
    {
     "data": {
      "text/plain": [
       "other                   39\n",
       "library                  4\n",
       "file, path or output     4\n",
       "reached time limit       2\n",
       "R object not found       2\n",
       "success                  2\n",
       "Name: type_x, dtype: int64"
      ]
     },
     "execution_count": 199,
     "metadata": {},
     "output_type": "execute_result"
    }
   ],
   "source": [
    "df[(df['type_y'] == 'other')]['type_x'].value_counts()"
   ]
  },
  {
   "cell_type": "markdown",
   "metadata": {},
   "source": [
    "## Sanky result\n",
    "\n",
    "To be plotted at: http://sankeymatic.com/build/\n",
    "\n",
    "```\n",
    "R files [843] Success #00CC00\n",
    "R files [850] Library Error #0033cc\n",
    "R files [221] SetWD #cc00cc\n",
    "R files [229] File, Path or Output Error #cc0033\n",
    "R files [136] R Object Not Found #cccc00\n",
    "R files [56] Other Error #cc6600\n",
    "\n",
    "Library Error [170] Success #00CC00\n",
    "Library Error [429] Library  Error #0033cc\n",
    "Library Error [175] File, Path or Output  Error #cc0033\n",
    "Library Error [20] R Object Not  Found #cccc00\n",
    "Library Error [56] Other  Error #cc6600\n",
    "\n",
    "File, Path or Output Error [4] Success #00CC00\n",
    "File, Path or Output Error [218] File, Path or Output  Error #cc0033\n",
    "File, Path or Output Error [3] Library  Error #0033cc\n",
    "File, Path or Output Error [1] R Object Not  Found #cccc00\n",
    "File, Path or Output Error [3] Other  Error #cc6600\n",
    "\n",
    "R Object Not Found  [15] Success #00CC00\n",
    "R Object Not Found [1] Library  Error #0033cc\n",
    "R Object Not Found [1] File, Path or Output  Error #cc0033\n",
    "R Object Not Found [118] R Object Not  Found #cccc00\n",
    "R Object Not Found [1] Other  Error #cc6600\n",
    "\n",
    "Other Error [3] Success #00CC00\n",
    "Other Error [4] Library  Error #0033cc\n",
    "Other Error [4] File, Path or Output  Error #cc0033\n",
    "Other Error [2] R Object Not  Found #cccc00\n",
    "Other Error [43] Other  Error #cc6600\n",
    "\n",
    "SetWD [62] Success #00CC00\n",
    "SetWD [59] Library  Error #0033cc\n",
    "SetWD [72] File, Path or Output  Error #cc0033\n",
    "SetWD [10] R Object Not  Found #cccc00\n",
    "SetWD [18] Other  Error #cc6600\n",
    "```"
   ]
  },
  {
   "cell_type": "markdown",
   "metadata": {},
   "source": [
    "# Error analysis"
   ]
  },
  {
   "cell_type": "code",
   "execution_count": 141,
   "metadata": {},
   "outputs": [],
   "source": [
    "df1 = df1[df1['result'].notna()]\n",
    "df2 = df2[df2['result'].notna()]"
   ]
  },
  {
   "cell_type": "code",
   "execution_count": 142,
   "metadata": {},
   "outputs": [],
   "source": [
    "df1 = df1[df1['result']!='success']\n",
    "df2 = df2[df2['result']!='success']"
   ]
  },
  {
   "cell_type": "code",
   "execution_count": 143,
   "metadata": {},
   "outputs": [
    {
     "data": {
      "text/plain": [
       "5"
      ]
     },
     "execution_count": 143,
     "metadata": {},
     "output_type": "execute_result"
    }
   ],
   "source": [
    "df1.result.str.contains(\"Error in source(r_file)\", regex=False).sum()"
   ]
  },
  {
   "cell_type": "code",
   "execution_count": 144,
   "metadata": {},
   "outputs": [
    {
     "data": {
      "text/plain": [
       "2223"
      ]
     },
     "execution_count": 144,
     "metadata": {},
     "output_type": "execute_result"
    }
   ],
   "source": [
    "len(df1)"
   ]
  },
  {
   "cell_type": "code",
   "execution_count": 145,
   "metadata": {},
   "outputs": [],
   "source": [
    "df1 = df1[~df1.result.str.contains(\"Error in source(r_file)\", regex=False)]\n",
    "df2 = df2[~df2.result.str.contains(\"Error in source(r_file)\", regex=False)]"
   ]
  },
  {
   "cell_type": "code",
   "execution_count": 146,
   "metadata": {},
   "outputs": [
    {
     "data": {
      "text/plain": [
       "2218"
      ]
     },
     "execution_count": 146,
     "metadata": {},
     "output_type": "execute_result"
    }
   ],
   "source": [
    "len(df1)"
   ]
  },
  {
   "cell_type": "markdown",
   "metadata": {},
   "source": [
    "# Error type"
   ]
  },
  {
   "cell_type": "code",
   "execution_count": 185,
   "metadata": {},
   "outputs": [],
   "source": [
    "def error_type(el):\n",
    "    if 'success' in el:\n",
    "        return 'success'\n",
    "    if 'setwd' in el:\n",
    "        return 'setwd'\n",
    "    \n",
    "    # library\n",
    "    if 'there is no package' in el:\n",
    "        return 'library'\n",
    "    if 'no packages called' in el:\n",
    "        return 'library'\n",
    "    if 'could not find function' in el:\n",
    "        return 'library'\n",
    "    if 'no library trees found' in el:\n",
    "        return 'library'\n",
    "    if 'install.packages' in el:\n",
    "        return 'library'\n",
    "    \n",
    "    #if \"unexpected\" in el or 'unrecognized' in el:\n",
    "    #    return 'syntax'\n",
    "    #if 'RStudio' in el or 'Stata' in el:\n",
    "    #    return 'RStudio or Stata'\n",
    "    \n",
    "\n",
    "    # file, path or output\n",
    "    if 'cannot open the connection' in el:\n",
    "        return 'file, path or output'\n",
    "    if 'does not exist' in el:\n",
    "        return 'file, path or output'\n",
    "    if 'No such file or directory' in el:\n",
    "        return 'file, path or output'\n",
    "    if 'must already exist' in el:\n",
    "        return 'file, path or output'\n",
    "    if 'basename' in el:\n",
    "        return 'file, path or output'\n",
    "    if 'cannot open file' in el or 'no device to print' in el:\n",
    "        return 'file, path or output'\n",
    "    if 'figure margins' in el or '.pdf' in el:\n",
    "        return 'file, path or output'\n",
    "    \n",
    "    if \"object\" in el and \"not found\" in el:\n",
    "        return \"R object not found\"\n",
    "    \n",
    "    if 'reached elapsed time limit' in el:\n",
    "        return 'reached time limit'\n",
    "    else:\n",
    "        #print el\n",
    "        return 'other'"
   ]
  },
  {
   "cell_type": "code",
   "execution_count": null,
   "metadata": {},
   "outputs": [],
   "source": [
    "df1['error_type']=df1['result'].apply(error_type)\n",
    "df2['error_type']=df2['result'].apply(error_type)"
   ]
  },
  {
   "cell_type": "code",
   "execution_count": 148,
   "metadata": {},
   "outputs": [
    {
     "data": {
      "text/plain": [
       "library                 1846\n",
       "file, path or output     386\n",
       "setwd                    361\n",
       "R object not found       184\n",
       "other                     54\n",
       "reached time limit        10\n",
       "Name: error_type, dtype: int64"
      ]
     },
     "execution_count": 148,
     "metadata": {},
     "output_type": "execute_result"
    }
   ],
   "source": [
    "df2['error_type'].value_counts()"
   ]
  },
  {
   "cell_type": "markdown",
   "metadata": {},
   "source": [
    "# Error percentages "
   ]
  },
  {
   "cell_type": "code",
   "execution_count": 168,
   "metadata": {},
   "outputs": [
    {
     "name": "stdout",
     "output_type": "stream",
     "text": [
      "R object not found      10.01\n",
      "file, path or output    41.84\n",
      "library                 38.19\n",
      "other                    6.45\n",
      "reached time limit       3.52\n",
      "Name: error_type, dtype: float64\n"
     ]
    }
   ],
   "source": [
    "(df1['error_type'].value_counts(normalize=True) * 100).round(2).sort_index()"
   ]
  },
  {
   "cell_type": "code",
   "execution_count": 150,
   "metadata": {},
   "outputs": [
    {
     "data": {
      "text/plain": [
       "2218"
      ]
     },
     "execution_count": 150,
     "metadata": {},
     "output_type": "execute_result"
    }
   ],
   "source": [
    "len(df1)"
   ]
  },
  {
   "cell_type": "code",
   "execution_count": 167,
   "metadata": {},
   "outputs": [
    {
     "data": {
      "text/plain": [
       "R object not found       6.48\n",
       "file, path or output    13.59\n",
       "library                 64.98\n",
       "other                    1.90\n",
       "reached time limit       0.35\n",
       "setwd                   12.71\n",
       "Name: error_type, dtype: float64"
      ]
     },
     "execution_count": 167,
     "metadata": {},
     "output_type": "execute_result"
    }
   ],
   "source": [
    "(df2['error_type'].value_counts(normalize=True) * 100).round(2).sort_index()"
   ]
  },
  {
   "cell_type": "code",
   "execution_count": 152,
   "metadata": {},
   "outputs": [
    {
     "data": {
      "text/plain": [
       "2841"
      ]
     },
     "execution_count": 152,
     "metadata": {},
     "output_type": "execute_result"
    }
   ],
   "source": [
    "len(df2)"
   ]
  },
  {
   "cell_type": "markdown",
   "metadata": {},
   "source": [
    "# Bar plot"
   ]
  },
  {
   "cell_type": "code",
   "execution_count": 153,
   "metadata": {},
   "outputs": [
    {
     "data": {
      "text/plain": [
       "[Text(0,0,'library'),\n",
       " Text(0,0,'R object not found'),\n",
       " Text(0,0,'file, path or output'),\n",
       " Text(0,0,'other'),\n",
       " Text(0,0,'reached time limit')]"
      ]
     },
     "execution_count": 153,
     "metadata": {},
     "output_type": "execute_result"
    },
    {
     "data": {
      "image/png": "[encoded data removed]",
      "text/plain": [
       "<Figure size 432x288 with 1 Axes>"
      ]
     },
     "metadata": {},
     "output_type": "display_data"
    }
   ],
   "source": [
    "ax = sns.countplot(x=\"error_type\", data=df1)\n",
    "ax.set_xticklabels(ax.get_xticklabels(), rotation=90)"
   ]
  },
  {
   "cell_type": "code",
   "execution_count": 154,
   "metadata": {},
   "outputs": [
    {
     "data": {
      "text/plain": [
       "[Text(0,0,'setwd'),\n",
       " Text(0,0,'library'),\n",
       " Text(0,0,'file, path or output'),\n",
       " Text(0,0,'R object not found'),\n",
       " Text(0,0,'other'),\n",
       " Text(0,0,'reached time limit')]"
      ]
     },
     "execution_count": 154,
     "metadata": {},
     "output_type": "execute_result"
    },
    {
     "data": {
      "image/png": "[encoded data removed]",
      "text/plain": [
       "<Figure size 432x288 with 1 Axes>"
      ]
     },
     "metadata": {},
     "output_type": "display_data"
    }
   ],
   "source": [
    "ax = sns.countplot(x=\"error_type\", data=df2)\n",
    "ax.set_xticklabels(ax.get_xticklabels(), rotation=90)"
   ]
  },
  {
   "cell_type": "markdown",
   "metadata": {},
   "source": [
    "# Compare"
   ]
  },
  {
   "cell_type": "code",
   "execution_count": 155,
   "metadata": {},
   "outputs": [],
   "source": [
    "# new temp dataframe\n",
    "d = {'error_type': df1['error_type']}\n",
    "df = pd.DataFrame(data=d)"
   ]
  },
  {
   "cell_type": "code",
   "execution_count": 156,
   "metadata": {},
   "outputs": [
    {
     "data": {
      "text/html": [
       "<div>\n",
       "<style scoped>\n",
       "    .dataframe tbody tr th:only-of-type {\n",
       "        vertical-align: middle;\n",
       "    }\n",
       "\n",
       "    .dataframe tbody tr th {\n",
       "        vertical-align: top;\n",
       "    }\n",
       "\n",
       "    .dataframe thead th {\n",
       "        text-align: right;\n",
       "    }\n",
       "</style>\n",
       "<table border=\"1\" class=\"dataframe\">\n",
       "  <thead>\n",
       "    <tr style=\"text-align: right;\">\n",
       "      <th></th>\n",
       "      <th>error_type</th>\n",
       "      <th>origin</th>\n",
       "    </tr>\n",
       "  </thead>\n",
       "  <tbody>\n",
       "    <tr>\n",
       "      <th>2</th>\n",
       "      <td>library</td>\n",
       "      <td>after code cleaning</td>\n",
       "    </tr>\n",
       "    <tr>\n",
       "      <th>5</th>\n",
       "      <td>R object not found</td>\n",
       "      <td>after code cleaning</td>\n",
       "    </tr>\n",
       "    <tr>\n",
       "      <th>8</th>\n",
       "      <td>file, path or output</td>\n",
       "      <td>after code cleaning</td>\n",
       "    </tr>\n",
       "    <tr>\n",
       "      <th>9</th>\n",
       "      <td>library</td>\n",
       "      <td>after code cleaning</td>\n",
       "    </tr>\n",
       "    <tr>\n",
       "      <th>10</th>\n",
       "      <td>library</td>\n",
       "      <td>after code cleaning</td>\n",
       "    </tr>\n",
       "  </tbody>\n",
       "</table>\n",
       "</div>"
      ],
      "text/plain": [
       "              error_type               origin\n",
       "2                library  after code cleaning\n",
       "5     R object not found  after code cleaning\n",
       "8   file, path or output  after code cleaning\n",
       "9                library  after code cleaning\n",
       "10               library  after code cleaning"
      ]
     },
     "execution_count": 156,
     "metadata": {},
     "output_type": "execute_result"
    }
   ],
   "source": [
    "df['origin']='after code cleaning'\n",
    "df.head()"
   ]
  },
  {
   "cell_type": "code",
   "execution_count": 157,
   "metadata": {},
   "outputs": [
    {
     "data": {
      "text/html": [
       "<div>\n",
       "<style scoped>\n",
       "    .dataframe tbody tr th:only-of-type {\n",
       "        vertical-align: middle;\n",
       "    }\n",
       "\n",
       "    .dataframe tbody tr th {\n",
       "        vertical-align: top;\n",
       "    }\n",
       "\n",
       "    .dataframe thead th {\n",
       "        text-align: right;\n",
       "    }\n",
       "</style>\n",
       "<table border=\"1\" class=\"dataframe\">\n",
       "  <thead>\n",
       "    <tr style=\"text-align: right;\">\n",
       "      <th></th>\n",
       "      <th>error_type</th>\n",
       "      <th>origin</th>\n",
       "    </tr>\n",
       "  </thead>\n",
       "  <tbody>\n",
       "    <tr>\n",
       "      <th>45</th>\n",
       "      <td>setwd</td>\n",
       "      <td>before code cleaning</td>\n",
       "    </tr>\n",
       "    <tr>\n",
       "      <th>46</th>\n",
       "      <td>library</td>\n",
       "      <td>before code cleaning</td>\n",
       "    </tr>\n",
       "    <tr>\n",
       "      <th>47</th>\n",
       "      <td>file, path or output</td>\n",
       "      <td>before code cleaning</td>\n",
       "    </tr>\n",
       "    <tr>\n",
       "      <th>48</th>\n",
       "      <td>file, path or output</td>\n",
       "      <td>before code cleaning</td>\n",
       "    </tr>\n",
       "    <tr>\n",
       "      <th>49</th>\n",
       "      <td>file, path or output</td>\n",
       "      <td>before code cleaning</td>\n",
       "    </tr>\n",
       "  </tbody>\n",
       "</table>\n",
       "</div>"
      ],
      "text/plain": [
       "              error_type                origin\n",
       "45                 setwd  before code cleaning\n",
       "46               library  before code cleaning\n",
       "47  file, path or output  before code cleaning\n",
       "48  file, path or output  before code cleaning\n",
       "49  file, path or output  before code cleaning"
      ]
     },
     "execution_count": 157,
     "metadata": {},
     "output_type": "execute_result"
    }
   ],
   "source": [
    "temp = pd.DataFrame(data={'error_type': df2['error_type']})\n",
    "temp['origin']='before code cleaning'\n",
    "temp.head()"
   ]
  },
  {
   "cell_type": "code",
   "execution_count": 158,
   "metadata": {},
   "outputs": [],
   "source": [
    "df = temp.append(df)"
   ]
  },
  {
   "cell_type": "code",
   "execution_count": 159,
   "metadata": {},
   "outputs": [
    {
     "data": {
      "image/png": "[encoded data removed]",
      "text/plain": [
       "<Figure size 864x360 with 1 Axes>"
      ]
     },
     "metadata": {},
     "output_type": "display_data"
    }
   ],
   "source": [
    "plt.figure(figsize=(12,5))\n",
    "\n",
    "ax = sns.countplot(x=\"error_type\", hue='origin', data=df, palette=\"Set1\")\n",
    "ax.set_xticklabels(ax.get_xticklabels(), fontsize=12, rotation=0)\n",
    "ax.set_title(\"Most frequent error types before and after code cleaning\", fontsize=16)\n",
    "ax.set_xlabel(\"Error types\", fontsize=14)\n",
    "\n",
    "plt.legend(title='')\n",
    "\n",
    "plt.savefig('plots/error_types.png', bbox_inches = \"tight\")"
   ]
  },
  {
   "cell_type": "code",
   "execution_count": null,
   "metadata": {},
   "outputs": [],
   "source": []
  }
 ],
 "metadata": {
  "kernelspec": {
   "display_name": "env",
   "language": "python",
   "name": "env"
  },
  "language_info": {
   "codemirror_mode": {
    "name": "ipython",
    "version": 2
   },
   "file_extension": ".py",
   "mimetype": "text/x-python",
   "name": "python",
   "nbconvert_exporter": "python",
   "pygments_lexer": "ipython2",
   "version": "2.7.16"
  }
 },
 "nbformat": 4,
 "nbformat_minor": 2
}
