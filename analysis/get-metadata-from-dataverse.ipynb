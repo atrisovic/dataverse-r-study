{
 "cells": [
  {
   "cell_type": "code",
   "execution_count": 25,
   "metadata": {},
   "outputs": [],
   "source": [
    "import requests as req\n",
    "import json\n",
    "import math\n",
    "import os\n",
    "\n",
    "import matplotlib.pyplot as plt\n",
    "import seaborn as sns"
   ]
  },
  {
   "cell_type": "markdown",
   "metadata": {},
   "source": [
    "# Get metadata from Dataverse for each DOI"
   ]
  },
  {
   "cell_type": "code",
   "execution_count": 26,
   "metadata": {},
   "outputs": [],
   "source": [
    "from string import Template\n",
    "query_base=Template('https://dataverse.harvard.edu/api/search?q=\"${doi}\"&show_facets=true')"
   ]
  },
  {
   "cell_type": "code",
   "execution_count": 27,
   "metadata": {},
   "outputs": [],
   "source": [
    "import pandas\n",
    "unique_dois = pandas.read_csv(\"../get-dois/dataset_dois.txt\", names=['DOI'])"
   ]
  },
  {
   "cell_type": "code",
   "execution_count": 28,
   "metadata": {},
   "outputs": [
    {
     "data": {
      "text/html": [
       "<div>\n",
       "<style scoped>\n",
       "    .dataframe tbody tr th:only-of-type {\n",
       "        vertical-align: middle;\n",
       "    }\n",
       "\n",
       "    .dataframe tbody tr th {\n",
       "        vertical-align: top;\n",
       "    }\n",
       "\n",
       "    .dataframe thead th {\n",
       "        text-align: right;\n",
       "    }\n",
       "</style>\n",
       "<table border=\"1\" class=\"dataframe\">\n",
       "  <thead>\n",
       "    <tr style=\"text-align: right;\">\n",
       "      <th></th>\n",
       "      <th>DOI</th>\n",
       "    </tr>\n",
       "  </thead>\n",
       "  <tbody>\n",
       "    <tr>\n",
       "      <th>0</th>\n",
       "      <td>doi:10.7910/DVN/U3QJQZ</td>\n",
       "    </tr>\n",
       "    <tr>\n",
       "      <th>1</th>\n",
       "      <td>doi:10.7910/DVN/Z7H44N</td>\n",
       "    </tr>\n",
       "    <tr>\n",
       "      <th>2</th>\n",
       "      <td>doi:10.7910/DVN/HRLHA4</td>\n",
       "    </tr>\n",
       "    <tr>\n",
       "      <th>3</th>\n",
       "      <td>doi:10.7910/DVN/RJWU7A</td>\n",
       "    </tr>\n",
       "    <tr>\n",
       "      <th>4</th>\n",
       "      <td>doi:10.7910/DVN/FAAMAX</td>\n",
       "    </tr>\n",
       "  </tbody>\n",
       "</table>\n",
       "</div>"
      ],
      "text/plain": [
       "                      DOI\n",
       "0  doi:10.7910/DVN/U3QJQZ\n",
       "1  doi:10.7910/DVN/Z7H44N\n",
       "2  doi:10.7910/DVN/HRLHA4\n",
       "3  doi:10.7910/DVN/RJWU7A\n",
       "4  doi:10.7910/DVN/FAAMAX"
      ]
     },
     "execution_count": 28,
     "metadata": {},
     "output_type": "execute_result"
    }
   ],
   "source": [
    "unique_dois.head()"
   ]
  },
  {
   "cell_type": "code",
   "execution_count": 29,
   "metadata": {},
   "outputs": [],
   "source": [
    "unique_dois = unique_dois['DOI'].values.tolist()"
   ]
  },
  {
   "cell_type": "code",
   "execution_count": 30,
   "metadata": {},
   "outputs": [
    {
     "data": {
      "text/plain": [
       "2170"
      ]
     },
     "execution_count": 30,
     "metadata": {},
     "output_type": "execute_result"
    }
   ],
   "source": [
    "len(unique_dois)"
   ]
  },
  {
   "cell_type": "code",
   "execution_count": 31,
   "metadata": {},
   "outputs": [],
   "source": [
    "query = query_base.substitute(doi = unique_dois[0])\n",
    "res = req.get(query)\n",
    "res_dict = json.loads(res.text)"
   ]
  },
  {
   "cell_type": "code",
   "execution_count": 32,
   "metadata": {},
   "outputs": [
    {
     "data": {
      "text/plain": [
       "'2020'"
      ]
     },
     "execution_count": 32,
     "metadata": {},
     "output_type": "execute_result"
    }
   ],
   "source": [
    "time = str(res_dict['data']['items'][0]['published_at'][:4])\n",
    "time"
   ]
  },
  {
   "cell_type": "code",
   "execution_count": 36,
   "metadata": {},
   "outputs": [
    {
     "name": "stdout",
     "output_type": "stream",
     "text": [
      "doi:10.7910/DVN/Y3VPIG\n",
      "{u'spelling_alternatives': {}, u'total_count': 2, u'facets': [{u'fileTypeGroupFacet': {u'labels': [{u'Tabular Data': 1}], u'friendly': u'File Type'}, u'authorAffiliation_ss': {u'labels': [{u'ETH Zurich': 1}, {u'FORTH and University of Crete': 1}, {u'University of Konstanz': 1}, {u'University of Konstanz /  University of Santiago de Compostela': 1}], u'friendly': u'Author Affiliation'}, u'publicationDate': {u'labels': [{u'2016': 1}, {u'2020': 1}], u'friendly': u'Publication Year'}, u'subject_ss': {u'labels': [{u'Computer and Information Science': 1}, {u'Social Sciences': 1}], u'friendly': u'Subject'}, u'authorName_ss': {u'labels': [{u'Benitez-Baleato, Suso': 1}, {u'Dimitropoulos, Xenofontas': 1}, {u'Glatz, Eduard': 1}, {u'Hunziker, Philipp': 1}, {u'Weidmann, Nils': 1}], u'friendly': u'Author Name'}, u'fileAccess': {u'labels': [{u'Public': 1}], u'friendly': u'Access'}, u'fileTag': {u'labels': [{u'Data': 1}], u'friendly': u'File Tag'}}], u'q': u'\"doi:10.7910/DVN/Y3VPIG\"', u'start': 0, u'count_in_response': 2, u'items': [{u'description': u'CSV file containing a random 5% subset of the geolocated Internet connections referred in the paper. This file was produced taking as input the random subset of 5% of the routed subnetworks made available at http://doi:10.7910/DVN/Y3VPIG/I3AMM3 and computed as described in https://doi.org/10.1007/978-3-319-15509-8_17, removing unnecessary columns and reordering them consistently with the RWorld package requirements, and randomly assigning a semester (2 or 8). Geospatial coordinates were rounded to the first decimal. #### TO DOWNLOAD PLEASE CHOOSE \"ORIGINAL FILE FORMAT (COMMA SEPARATED VALUES)\" IN THE DROPDOWN BOX ####', u'url': u'https://dataverse.harvard.edu/api/access/datafile/4029105', u'checksum': {u'type': u'MD5', u'value': u'd29d69730a55ec4adc78da1cf3a51f46'}, u'file_content_type': u'text/tab-separated-values', u'dataset_citation': u'Benitez-Baleato, Suso; Honaker, James; Crosas, Merc\\xe8, 2020, \"Reproducible Privacy: Using Differential Privacy to Share Sensitive Research Data. Supplementary Materials.\", https://doi.org/10.7910/DVN/SIWEYD, Harvard Dataverse, V4, UNF:6:xd1tAeRePiVal8SDX+I2wg== [fileUNF]', u'dataset_persistent_id': u'doi:10.7910/DVN/SIWEYD', u'file_persistent_id': u'doi:10.7910/DVN/SIWEYD/AJKH00', u'file_type': u'Tab-Delimited', u'published_at': u'2020-08-20T00:42:57Z', u'file_id': u'4029105', u'unf': u'UNF:6:CvonFKXjzqGynZ2e8aAm5w==', u'dataset_id': u'4028303', u'md5': u'd29d69730a55ec4adc78da1cf3a51f46', u'type': u'file', u'size_in_bytes': 55914021, u'dataset_name': u'Reproducible Privacy: Using Differential Privacy to Share Sensitive Research Data. Supplementary Materials.', u'name': u'routed_sample_semesters.tab'}, {u'minorVersion': 1, u'citation': u'Weidmann, Nils; Benitez-Baleato, Suso; Hunziker, Philipp; Glatz, Eduard; Dimitropoulos, Xenofontas, 2016, \"Replication Data for: Digital Discrimination: Political Bias in Internet Service Provision across Ethnic Groups\", https://doi.org/10.7910/DVN/Y3VPIG, Harvard Dataverse, V3, UNF:6:Zz/b3G6blOX/fQCFdHUyBA== [fileUNF]', u'published_at': u'2016-07-26T09:50:52Z', u'updatedAt': u'2016-07-26T09:57:39Z', u'createdAt': u'2016-07-25T10:06:27Z', u'contacts': [{u'affiliation': u'University of Konstanz', u'name': u'Weidmann, Nils'}], u'name_of_dataverse': u'Nils Weidmann Dataverse', u'subjects': [u'Computer and Information Science', u'Social Sciences'], u'type': u'dataset', u'majorVersion': 3, u'description': u'Replication data', u'identifier_of_dataverse': u'nilsw', u'versionId': 86242, u'authors': [u'Weidmann, Nils', u'Benitez-Baleato, Suso', u'Hunziker, Philipp', u'Glatz, Eduard', u'Dimitropoulos, Xenofontas'], u'publisher': u'Nils Weidmann Dataverse', u'name': u'Replication Data for: Digital Discrimination: Political Bias in Internet Service Provision across Ethnic Groups', u'url': u'https://doi.org/10.7910/DVN/Y3VPIG', u'global_id': u'doi:10.7910/DVN/Y3VPIG', u'versionState': u'RELEASED', u'citationHtml': u'Weidmann, Nils; Benitez-Baleato, Suso; Hunziker, Philipp; Glatz, Eduard; Dimitropoulos, Xenofontas, 2016, \"Replication Data for: Digital Discrimination: Political Bias in Internet Service Provision across Ethnic Groups\", <a href=\"https://doi.org/10.7910/DVN/Y3VPIG\" target=\"_blank\">https://doi.org/10.7910/DVN/Y3VPIG</a>, Harvard Dataverse, V3, UNF:6:Zz/b3G6blOX/fQCFdHUyBA== [fileUNF]', u'fileCount': 8, u'storageIdentifier': u's3://dvn-cloud:10.7910/DVN/Y3VPIG'}]}\n"
     ]
    }
   ],
   "source": [
    "all_metadata=\"\"\n",
    "all_metadata = ','.join([\"DOI\",\"publicationDate\",\"publisher\",\"subject\"]) + os.linesep\n",
    "for i,doi in enumerate(unique_dois):\n",
    "        query = query_base.substitute(doi = doi)\n",
    "\n",
    "        res = req.get(query)\n",
    "        res_dict = json.loads(res.text)\n",
    "        try:\n",
    "            time = res_dict['data']['items'][0]['published_at'][:4]\n",
    "        except IndexError:\n",
    "            print res_dict['data']['items']\n",
    "            \n",
    "        try:\n",
    "            subs = res_dict['data']['facets'][0]['subject_ss']['labels']\n",
    "            subject = \";\".join(str(s.keys()[0]) for s in subs)\n",
    "        except KeyError:\n",
    "            subs = \"NA\"\n",
    "        \n",
    "        try:\n",
    "            publisher = res_dict['data']['items'][0]['identifier_of_dataverse']\n",
    "        except:\n",
    "            print doi\n",
    "            print res_dict['data']\n",
    "            \n",
    "        metadata_line = ','.join([doi.strip(), time, publisher.replace(\",\",\";\"), subject.replace(\",\",\";\")])\n",
    "        #print metadata_line\n",
    "        all_metadata += metadata_line + os.linesep"
   ]
  },
  {
   "cell_type": "code",
   "execution_count": 34,
   "metadata": {},
   "outputs": [
    {
     "data": {
      "text/html": [
       "<div>\n",
       "<style scoped>\n",
       "    .dataframe tbody tr th:only-of-type {\n",
       "        vertical-align: middle;\n",
       "    }\n",
       "\n",
       "    .dataframe tbody tr th {\n",
       "        vertical-align: top;\n",
       "    }\n",
       "\n",
       "    .dataframe thead th {\n",
       "        text-align: right;\n",
       "    }\n",
       "</style>\n",
       "<table border=\"1\" class=\"dataframe\">\n",
       "  <thead>\n",
       "    <tr style=\"text-align: right;\">\n",
       "      <th></th>\n",
       "      <th>DOI</th>\n",
       "      <th>publicationDate</th>\n",
       "      <th>publisher</th>\n",
       "      <th>subject</th>\n",
       "    </tr>\n",
       "  </thead>\n",
       "  <tbody>\n",
       "    <tr>\n",
       "      <th>0</th>\n",
       "      <td>doi:10.7910/DVN/U3QJQZ</td>\n",
       "      <td>2020</td>\n",
       "      <td>harvard</td>\n",
       "      <td>Medicine; Health and Life Sciences</td>\n",
       "    </tr>\n",
       "    <tr>\n",
       "      <th>1</th>\n",
       "      <td>doi:10.7910/DVN/Z7H44N</td>\n",
       "      <td>2017</td>\n",
       "      <td>PSRM</td>\n",
       "      <td>Social Sciences</td>\n",
       "    </tr>\n",
       "    <tr>\n",
       "      <th>2</th>\n",
       "      <td>doi:10.7910/DVN/HRLHA4</td>\n",
       "      <td>2016</td>\n",
       "      <td>pan</td>\n",
       "      <td>Mathematical Sciences;Social Sciences</td>\n",
       "    </tr>\n",
       "    <tr>\n",
       "      <th>3</th>\n",
       "      <td>doi:10.7910/DVN/RJWU7A</td>\n",
       "      <td>2015</td>\n",
       "      <td>intertransferuschina</td>\n",
       "      <td>Social Sciences</td>\n",
       "    </tr>\n",
       "    <tr>\n",
       "      <th>4</th>\n",
       "      <td>doi:10.7910/DVN/FAAMAX</td>\n",
       "      <td>2018</td>\n",
       "      <td>BLS-PNAS</td>\n",
       "      <td>Social Sciences</td>\n",
       "    </tr>\n",
       "  </tbody>\n",
       "</table>\n",
       "</div>"
      ],
      "text/plain": [
       "                      DOI  publicationDate             publisher  \\\n",
       "0  doi:10.7910/DVN/U3QJQZ             2020               harvard   \n",
       "1  doi:10.7910/DVN/Z7H44N             2017                  PSRM   \n",
       "2  doi:10.7910/DVN/HRLHA4             2016                   pan   \n",
       "3  doi:10.7910/DVN/RJWU7A             2015  intertransferuschina   \n",
       "4  doi:10.7910/DVN/FAAMAX             2018              BLS-PNAS   \n",
       "\n",
       "                                 subject  \n",
       "0     Medicine; Health and Life Sciences  \n",
       "1                        Social Sciences  \n",
       "2  Mathematical Sciences;Social Sciences  \n",
       "3                        Social Sciences  \n",
       "4                        Social Sciences  "
      ]
     },
     "execution_count": 34,
     "metadata": {},
     "output_type": "execute_result"
    }
   ],
   "source": [
    "import pandas as pd \n",
    "from StringIO import StringIO\n",
    "\n",
    "df = pd.read_csv(StringIO(all_metadata))\n",
    "#df = pd.read_csv(StringIO(all_metadata), delimiter=',')\n",
    "df.head()"
   ]
  },
  {
   "cell_type": "code",
   "execution_count": 35,
   "metadata": {},
   "outputs": [
    {
     "data": {
      "text/plain": [
       "285"
      ]
     },
     "execution_count": 35,
     "metadata": {},
     "output_type": "execute_result"
    }
   ],
   "source": [
    "len(df)"
   ]
  },
  {
   "cell_type": "code",
   "execution_count": null,
   "metadata": {},
   "outputs": [],
   "source": [
    "with open('all_metadata_sept.txt','w') as f:\n",
    "    f.write(all_metadata.encode('utf8'))"
   ]
  },
  {
   "cell_type": "markdown",
   "metadata": {},
   "source": [
    "# Get publisher metadata from Dataverse"
   ]
  },
  {
   "cell_type": "code",
   "execution_count": null,
   "metadata": {},
   "outputs": [],
   "source": [
    "import pandas as pd\n",
    "metadata = pd.read_csv(\"all_metadata_sept.txt\")\n",
    "metadata.head()"
   ]
  },
  {
   "cell_type": "code",
   "execution_count": null,
   "metadata": {},
   "outputs": [],
   "source": [
    "unique = metadata['publisher'].unique()\n",
    "unique[:10]"
   ]
  },
  {
   "cell_type": "code",
   "execution_count": null,
   "metadata": {},
   "outputs": [],
   "source": [
    "from string import Template\n",
    "import requests as req\n",
    "import json\n",
    "import os\n",
    "\n",
    "qbase=Template('https://dataverse.harvard.edu/api/dataverses/${iddv}')\n",
    "\n",
    "all_journals = \"\"\n",
    "for i,iddv in enumerate(unique):\n",
    "    query = qbase.substitute(iddv = iddv)\n",
    "    res = req.get(query)\n",
    "    res_dict = json.loads(res.text)\n",
    "    \n",
    "    try:\n",
    "        name = res_dict['data']['name']\n",
    "        dvtype = res_dict['data']['dataverseType']\n",
    "        \n",
    "        metadata_line = '\\t'.join([iddv.strip(), dvtype, name])\n",
    "        #print metadata_line\n",
    "        all_journals += metadata_line + os.linesep\n",
    "    except:\n",
    "        print res_dict"
   ]
  },
  {
   "cell_type": "code",
   "execution_count": null,
   "metadata": {},
   "outputs": [],
   "source": [
    "from StringIO import StringIO\n",
    "dj = pd.read_csv(StringIO(all_journals), sep='\\t', names=['publisher', 'type', 'name'])\n",
    "\n",
    "dj.head()"
   ]
  },
  {
   "cell_type": "code",
   "execution_count": null,
   "metadata": {},
   "outputs": [],
   "source": [
    "len(metadata)"
   ]
  },
  {
   "cell_type": "code",
   "execution_count": null,
   "metadata": {},
   "outputs": [],
   "source": [
    "len(dj)"
   ]
  },
  {
   "cell_type": "code",
   "execution_count": null,
   "metadata": {},
   "outputs": [],
   "source": [
    "merged = pd.merge(metadata, dj, on='publisher')"
   ]
  },
  {
   "cell_type": "code",
   "execution_count": null,
   "metadata": {},
   "outputs": [],
   "source": [
    "len(merged)"
   ]
  },
  {
   "cell_type": "code",
   "execution_count": null,
   "metadata": {},
   "outputs": [],
   "source": [
    "merged.head()"
   ]
  },
  {
   "cell_type": "code",
   "execution_count": null,
   "metadata": {},
   "outputs": [],
   "source": [
    "merged.to_csv('metadata_merged.csv')"
   ]
  },
  {
   "cell_type": "code",
   "execution_count": null,
   "metadata": {},
   "outputs": [],
   "source": []
  }
 ],
 "metadata": {
  "kernelspec": {
   "display_name": "env",
   "language": "python",
   "name": "env"
  },
  "language_info": {
   "codemirror_mode": {
    "name": "ipython",
    "version": 2
   },
   "file_extension": ".py",
   "mimetype": "text/x-python",
   "name": "python",
   "nbconvert_exporter": "python",
   "pygments_lexer": "ipython2",
   "version": "2.7.16"
  }
 },
 "nbformat": 4,
 "nbformat_minor": 2
}
