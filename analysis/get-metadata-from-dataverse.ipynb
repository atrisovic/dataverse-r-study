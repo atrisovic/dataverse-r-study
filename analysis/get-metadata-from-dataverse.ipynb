{
 "cells": [
  {
   "cell_type": "code",
   "execution_count": null,
   "metadata": {},
   "outputs": [],
   "source": [
    "import requests as req\n",
    "import json\n",
    "import math\n",
    "import os\n",
    "\n",
    "import matplotlib.pyplot as plt\n",
    "import seaborn as sns"
   ]
  },
  {
   "cell_type": "markdown",
   "metadata": {},
   "source": [
    "# Get metadata from Dataverse for each DOI"
   ]
  },
  {
   "cell_type": "code",
   "execution_count": null,
   "metadata": {},
   "outputs": [],
   "source": [
    "from string import Template\n",
    "query_base=Template('https://dataverse.harvard.edu/api/search?q=\"${doi}\"&show_facets=true')"
   ]
  },
  {
   "cell_type": "code",
   "execution_count": null,
   "metadata": {},
   "outputs": [],
   "source": [
    "import pandas\n",
    "unique_dois = pandas.read_csv(\"../get-dois/dataset_dois.txt\", names=['DOI'])"
   ]
  },
  {
   "cell_type": "code",
   "execution_count": null,
   "metadata": {},
   "outputs": [],
   "source": [
    "unique_dois.head()"
   ]
  },
  {
   "cell_type": "code",
   "execution_count": null,
   "metadata": {},
   "outputs": [],
   "source": [
    "unique_dois = unique_dois['DOI'].values.tolist()"
   ]
  },
  {
   "cell_type": "code",
   "execution_count": null,
   "metadata": {},
   "outputs": [],
   "source": [
    "len(unique_dois)"
   ]
  },
  {
   "cell_type": "code",
   "execution_count": null,
   "metadata": {},
   "outputs": [],
   "source": [
    "query = query_base.substitute(doi = unique_dois[0])\n",
    "res = req.get(query)\n",
    "res_dict = json.loads(res.text)"
   ]
  },
  {
   "cell_type": "code",
   "execution_count": null,
   "metadata": {},
   "outputs": [],
   "source": [
    "time = str(res_dict['data']['items'][0]['published_at'][:4])\n",
    "time"
   ]
  },
  {
   "cell_type": "code",
   "execution_count": null,
   "metadata": {},
   "outputs": [],
   "source": [
    "all_metadata=\"\"\n",
    "all_metadata = ','.join([\"DOI\",\"publicationDate\",\"publisher\",\"subject\"]) + os.linesep\n",
    "for i,doi in enumerate(unique_dois):\n",
    "        query = query_base.substitute(doi = doi)\n",
    "\n",
    "        res = req.get(query)\n",
    "        res_dict = json.loads(res.text)\n",
    "        try:\n",
    "            time = res_dict['data']['items'][0]['published_at'][:4]\n",
    "        except IndexError:\n",
    "            print res_dict['data']['items']\n",
    "            \n",
    "        try:\n",
    "            subs = res_dict['data']['facets'][0]['subject_ss']['labels']\n",
    "            subject = \";\".join(str(s.keys()[0]) for s in subs)\n",
    "        except KeyError:\n",
    "            subs = \"NA\"\n",
    "        \n",
    "        try:\n",
    "            publisher = res_dict['data']['items'][0]['identifier_of_dataverse']\n",
    "        except:\n",
    "            print doi\n",
    "            print res_dict['data']\n",
    "            \n",
    "        metadata_line = ','.join([doi.strip(), time, publisher.replace(\",\",\";\"), subject.replace(\",\",\";\")])\n",
    "        #print metadata_line\n",
    "        all_metadata += metadata_line + os.linesep"
   ]
  },
  {
   "cell_type": "code",
   "execution_count": null,
   "metadata": {},
   "outputs": [],
   "source": [
    "import pandas as pd \n",
    "from StringIO import StringIO\n",
    "\n",
    "df = pd.read_csv(StringIO(all_metadata))\n",
    "#df = pd.read_csv(StringIO(all_metadata), delimiter=',')\n",
    "df.head()"
   ]
  },
  {
   "cell_type": "code",
   "execution_count": null,
   "metadata": {},
   "outputs": [],
   "source": [
    "len(df)"
   ]
  },
  {
   "cell_type": "code",
   "execution_count": null,
   "metadata": {},
   "outputs": [],
   "source": [
    "with open('all_metadata_sept.txt','w') as f:\n",
    "    f.write(all_metadata.encode('utf8'))"
   ]
  },
  {
   "cell_type": "markdown",
   "metadata": {},
   "source": [
    "# Get publisher metadata from Dataverse"
   ]
  },
  {
   "cell_type": "code",
   "execution_count": null,
   "metadata": {},
   "outputs": [],
   "source": [
    "import pandas as pd\n",
    "metadata = pd.read_csv(\"all_metadata_sept.txt\")\n",
    "metadata.head()"
   ]
  },
  {
   "cell_type": "code",
   "execution_count": null,
   "metadata": {},
   "outputs": [],
   "source": [
    "unique = metadata['publisher'].unique()\n",
    "unique[:10]"
   ]
  },
  {
   "cell_type": "code",
   "execution_count": null,
   "metadata": {},
   "outputs": [],
   "source": [
    "from string import Template\n",
    "import requests as req\n",
    "import json\n",
    "import os\n",
    "\n",
    "qbase=Template('https://dataverse.harvard.edu/api/dataverses/${iddv}')\n",
    "\n",
    "all_journals = \"\"\n",
    "for i,iddv in enumerate(unique):\n",
    "    query = qbase.substitute(iddv = iddv)\n",
    "    res = req.get(query)\n",
    "    res_dict = json.loads(res.text)\n",
    "    \n",
    "    try:\n",
    "        name = res_dict['data']['name']\n",
    "        dvtype = res_dict['data']['dataverseType']\n",
    "        \n",
    "        metadata_line = '\\t'.join([iddv.strip(), dvtype, name])\n",
    "        #print metadata_line\n",
    "        all_journals += metadata_line + os.linesep\n",
    "    except:\n",
    "        print res_dict"
   ]
  },
  {
   "cell_type": "code",
   "execution_count": null,
   "metadata": {},
   "outputs": [],
   "source": [
    "from StringIO import StringIO\n",
    "dj = pd.read_csv(StringIO(all_journals), sep='\\t', names=['publisher', 'type', 'name'])\n",
    "\n",
    "dj.head()"
   ]
  },
  {
   "cell_type": "code",
   "execution_count": null,
   "metadata": {},
   "outputs": [],
   "source": [
    "len(metadata)"
   ]
  },
  {
   "cell_type": "code",
   "execution_count": null,
   "metadata": {},
   "outputs": [],
   "source": [
    "len(dj)"
   ]
  },
  {
   "cell_type": "code",
   "execution_count": null,
   "metadata": {},
   "outputs": [],
   "source": [
    "merged = pd.merge(metadata, dj, on='publisher')"
   ]
  },
  {
   "cell_type": "code",
   "execution_count": null,
   "metadata": {},
   "outputs": [],
   "source": [
    "len(merged)"
   ]
  },
  {
   "cell_type": "code",
   "execution_count": null,
   "metadata": {},
   "outputs": [],
   "source": [
    "merged.head()"
   ]
  },
  {
   "cell_type": "code",
   "execution_count": null,
   "metadata": {},
   "outputs": [],
   "source": [
    "merged.to_csv('metadata_merged.csv')"
   ]
  },
  {
   "cell_type": "code",
   "execution_count": null,
   "metadata": {},
   "outputs": [],
   "source": []
  }
 ],
 "metadata": {
  "kernelspec": {
   "display_name": "env",
   "language": "python",
   "name": "env"
  },
  "language_info": {
   "codemirror_mode": {
    "name": "ipython",
    "version": 2
   },
   "file_extension": ".py",
   "mimetype": "text/x-python",
   "name": "python",
   "nbconvert_exporter": "python",
   "pygments_lexer": "ipython2",
   "version": "2.7.16"
  }
 },
 "nbformat": 4,
 "nbformat_minor": 2
}
